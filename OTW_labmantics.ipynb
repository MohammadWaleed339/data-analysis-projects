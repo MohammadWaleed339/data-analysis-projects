{
  "nbformat": 4,
  "nbformat_minor": 0,
  "metadata": {
    "colab": {
      "provenance": [],
      "gpuType": "T4",
      "include_colab_link": true
    },
    "kernelspec": {
      "name": "python3",
      "display_name": "Python 3"
    },
    "language_info": {
      "name": "python"
    },
    "accelerator": "GPU"
  },
  "cells": [
    {
      "cell_type": "markdown",
      "metadata": {
        "id": "view-in-github",
        "colab_type": "text"
      },
      "source": [
        "<a href=\"https://colab.research.google.com/github/MohammadWaleed339/internship_collab_file/blob/main/OTW_labmantics.ipynb\" target=\"_parent\"><img src=\"https://colab.research.google.com/assets/colab-badge.svg\" alt=\"Open In Colab\"/></a>"
      ]
    },
    {
      "cell_type": "markdown",
      "source": [
        "# **Glassdoor Jobs Salary Analysis: A Data-Driven Approach**\n",
        "### **Project Type** - Exploratory Data Analysis\n",
        "**Contribution -** Team\n",
        "\n",
        "- **Team Member 1** - Mohd Tabrej Khan\n",
        "- **Team Member 2** - Mohammad Waleed\n",
        "- **Team Member 3** - Owais Khan"
      ],
      "metadata": {
        "id": "0upsed6apXJm"
      }
    },
    {
      "cell_type": "markdown",
      "source": [
        "#**Project Summary**\n",
        "\n",
        "## **Introduction**  \n",
        "Understanding salary trends is crucial for job seekers, employers, analysts, and recruiters. Salary variations depend on several factors, including job roles, company size, location, and industry experience. This project aims to analyze salary trends across different roles and locations and build a predictive model that estimates salary ranges based on job attributes.  \n",
        "\n",
        "## **Business Objectives**  \n",
        "1. **For Job Seekers**: Provide insights into salary expectations for different job roles, helping professionals make informed career decisions.  \n",
        "2. **For Employers**: Assist companies in setting competitive salary benchmarks to attract and retain top talent.  \n",
        "3. **For Analysts & Researchers**: Offer data-driven insights into salary trends based on geography, experience, and industry.  \n",
        "4. **For Recruiters**: Aid in salary benchmarking and ensuring fair compensation practices across various job sectors.  \n",
        "\n",
        "## **Problem Statement**  \n",
        "The project focuses on answering key questions regarding salary variations:  \n",
        "- How does salary differ by job position (e.g., Data Scientist, Software Engineer, DevOps Engineer)?  \n",
        "- What impact does company size have on salary levels?  \n",
        "- How do salaries vary across different locations (e.g., San Francisco vs. Austin vs. New York)?  \n",
        "- Can we develop a predictive model that estimates salaries based on job attributes?  \n",
        "\n",
        "## **Methodology**  \n",
        "### **1. Data Collection & Preprocessing**  \n",
        "- Collecting structured salary data from multiple sources, such as job portals, industry reports, and salary surveys. Here we have used the __Glassdoor Jobs Dataset__.\n",
        "- Cleaning the dataset by handling missing values, removing duplicates, and normalizing job titles.  \n",
        "- Performing exploratory data analysis (EDA) to understand patterns, trends, and distributions in salary data.  \n",
        "\n",
        "### **2. Feature Engineering**  \n",
        "- Creating relevant features, including job role, experience level, location, company size, industry, and job type (remote, hybrid, in-office).  \n",
        "- Encoding categorical variables for effective machine learning model training.  \n",
        "\n",
        "### **3. Data Analysis & Insights**  \n",
        "- Identifying salary distributions for different job roles.  \n",
        "- Analyzing the impact of experience, company size, and location on salary variations.  \n",
        "- Visualizing salary trends using statistical and graphical techniques such as histograms, box plots, and scatter plots.  \n",
        "\n",
        "### **4. Predictive Modeling**  \n",
        "- Building regression models (e.g., Linear Regression, Decision Trees, Random Forest, Gradient Boosting) to predict salary ranges based on job attributes.  \n",
        "- Evaluating models using metrics like Mean Absolute Error (MAE) and Root Mean Squared Error (RMSE).  \n",
        "- Fine-tuning hyperparameters to improve predictive accuracy.  \n",
        "\n",
        "## **Expected Outcomes**  \n",
        "- A detailed salary analysis dashboard providing insights for job seekers, employers, and recruiters.  \n",
        "- A salary prediction model that estimates salary ranges based on job attributes.  \n",
        "- Identification of key factors influencing salary variations.  "
      ],
      "metadata": {
        "id": "PsWgHs57pWzS"
      }
    },
    {
      "cell_type": "markdown",
      "source": [
        "# **Github links**\n",
        "- **Mohd Tabrej Khan:**\n",
        "- **Owais Khan:**\n",
        "-  **Mohammad Waleed:**"
      ],
      "metadata": {
        "id": "gJ3bvtVMPLq2"
      }
    },
    {
      "cell_type": "markdown",
      "source": [
        "# **General guideline**\n",
        "\n",
        "## Employee Perspective: Analysis of Salary and Company Type Trends\n",
        "\n",
        "### **1. Code Structure and Documentation**\n",
        "As an employee analyzing salary and company trends, I have ensured that the code is **well-structured**, formatted, and documented with **clear comments** explaining each logic. I followed **PEP8 guidelines** for Python code formatting and used **meaningful variable and function names** for better readability.\n",
        "\n",
        "### **2. Exception Handling and Production-Grade Code**\n",
        "- Implemented **robust exception handling** using `try-except` blocks to prevent unexpected errors wherever necessary.\n",
        "- The code is **modular**, ensuring efficiency and maintainability.\n",
        "- The entire `.ipynb` notebook is **deployment-ready**, meaning it can be executed **in one go without any errors**.\n",
        "\n",
        "### **3. Proper Commenting and Documentation**\n",
        "- Every function and logic block has **detailed comments** explaining its purpose and implementation.\n",
        "- **Docstrings (`''' '''`)** are used for function definitions to improve clarity.\n",
        "- A **README file** is included to guide users on executing the project.\n",
        "\n",
        "### **4. Data Visualization and Chart Guidelines**\n",
        "As part of the analysis, multiple charts have been generated to provide insights into salary distribution, ratings, and company type trends.\n",
        "For each **chart or visualization**, the following details have been documented:\n",
        "\n",
        " - **Chart Title:**\n",
        "Each visualization includes a clear and descriptive **title** for better understanding.\n",
        "\n",
        "- **Purpose of the Chart:**\n",
        "The reason for including the chart and its relevance to the analysis is explained.\n",
        "\n",
        "- **Insights Derived from the Chart:**\n",
        "Key takeaways, observed patterns, and significant trends are noted.\n"
      ],
      "metadata": {
        "id": "AdXeonLNvHRS"
      }
    },
    {
      "cell_type": "markdown",
      "source": [
        "# **Let's begin**"
      ],
      "metadata": {
        "id": "ugkx8doXVdiE"
      }
    },
    {
      "cell_type": "code",
      "execution_count": null,
      "metadata": {
        "id": "Figg44T0lwxe"
      },
      "outputs": [],
      "source": [
        "import pandas as pd\n",
        "import numpy as np\n",
        "import matplotlib.pyplot as plt\n",
        "import seaborn as sns\n",
        "from sklearn.model_selection import train_test_split\n",
        "from sklearn.metrics import mean_squared_error, r2_score, mean_absolute_error\n",
        "from sklearn.model_selection import cross_val_score\n",
        "from sklearn.linear_model import LinearRegression\n"
      ]
    },
    {
      "cell_type": "markdown",
      "source": [
        "##_**1. Know Your data**_"
      ],
      "metadata": {
        "id": "hGz__GWLSa9t"
      }
    },
    {
      "cell_type": "code",
      "source": [
        "from google.colab import drive\n",
        "drive.mount('/content/drive')"
      ],
      "metadata": {
        "id": "gPVLVrWtW-3X",
        "colab": {
          "base_uri": "https://localhost:8080/"
        },
        "outputId": "494d6949-a179-4db9-b4ca-ed507443762b"
      },
      "execution_count": null,
      "outputs": [
        {
          "output_type": "stream",
          "name": "stdout",
          "text": [
            "Drive already mounted at /content/drive; to attempt to forcibly remount, call drive.mount(\"/content/drive\", force_remount=True).\n"
          ]
        }
      ]
    },
    {
      "cell_type": "code",
      "source": [
        "jobs = pd.read_csv('/content/drive/MyDrive/Glassdoor Project/glassdoor_jobs.csv')"
      ],
      "metadata": {
        "id": "4O33eWlsVXs4"
      },
      "execution_count": null,
      "outputs": []
    },
    {
      "cell_type": "markdown",
      "source": [
        "#### First view of our data:\n",
        "Before diving into analysis, it's important to take an initial look at the dataset to understand its structure, data types, and any potential issues."
      ],
      "metadata": {
        "id": "vZ9fqpS-xWvy"
      }
    },
    {
      "cell_type": "code",
      "source": [
        "jobs.columns"
      ],
      "metadata": {
        "colab": {
          "base_uri": "https://localhost:8080/"
        },
        "id": "B2dzPwmjHUMT",
        "outputId": "1bbbefaf-15af-42b3-9361-8b394dd7ba3a"
      },
      "execution_count": null,
      "outputs": [
        {
          "output_type": "execute_result",
          "data": {
            "text/plain": [
              "Index(['Unnamed: 0', 'Job Title', 'Salary Estimate', 'Job Description',\n",
              "       'Rating', 'Company Name', 'Location', 'Headquarters', 'Size', 'Founded',\n",
              "       'Type of ownership', 'Industry', 'Sector', 'Revenue', 'Competitors'],\n",
              "      dtype='object')"
            ]
          },
          "metadata": {},
          "execution_count": 4
        }
      ]
    },
    {
      "cell_type": "code",
      "source": [
        "# first view of the dataset\n",
        "jobs"
      ],
      "metadata": {
        "colab": {
          "base_uri": "https://localhost:8080/",
          "height": 667
        },
        "id": "n_TSUoHgxQAr",
        "outputId": "64fec9c0-d8c3-48bd-d7d6-b5323d5f0ecb",
        "collapsed": true
      },
      "execution_count": null,
      "outputs": [
        {
          "output_type": "execute_result",
          "data": {
            "text/plain": [
              "     Unnamed: 0                                          Job Title  \\\n",
              "0             0                                     Data Scientist   \n",
              "1             1                          Healthcare Data Scientist   \n",
              "2             2                                     Data Scientist   \n",
              "3             3                                     Data Scientist   \n",
              "4             4                                     Data Scientist   \n",
              "..          ...                                                ...   \n",
              "951         951                               Senior Data Engineer   \n",
              "952         952  Project Scientist - Auton Lab, Robotics Institute   \n",
              "953         953                               Data Science Manager   \n",
              "954         954                                      Data Engineer   \n",
              "955         955          Research Scientist – Security and Privacy   \n",
              "\n",
              "                 Salary Estimate  \\\n",
              "0     $53K-$91K (Glassdoor est.)   \n",
              "1    $63K-$112K (Glassdoor est.)   \n",
              "2     $80K-$90K (Glassdoor est.)   \n",
              "3     $56K-$97K (Glassdoor est.)   \n",
              "4    $86K-$143K (Glassdoor est.)   \n",
              "..                           ...   \n",
              "951  $72K-$133K (Glassdoor est.)   \n",
              "952   $56K-$91K (Glassdoor est.)   \n",
              "953  $95K-$160K (Glassdoor est.)   \n",
              "954                           -1   \n",
              "955  $61K-$126K (Glassdoor est.)   \n",
              "\n",
              "                                       Job Description  Rating  \\\n",
              "0    Data Scientist\\nLocation: Albuquerque, NM\\nEdu...     3.8   \n",
              "1    What You Will Do:\\n\\nI. General Summary\\n\\nThe...     3.4   \n",
              "2    KnowBe4, Inc. is a high growth information sec...     4.8   \n",
              "3    *Organization and Job ID**\\nJob ID: 310709\\n\\n...     3.8   \n",
              "4    Data Scientist\\nAffinity Solutions / Marketing...     2.9   \n",
              "..                                                 ...     ...   \n",
              "951  THE CHALLENGE\\nEventbrite has a world-class da...     4.4   \n",
              "952  The Auton Lab at Carnegie Mellon University is...     2.6   \n",
              "953  Data Science ManagerResponsibilities:\\n\\nOvers...     3.2   \n",
              "954  Loading...\\n\\nTitle: Data Engineer\\n\\nLocation...     4.8   \n",
              "955  Returning Candidate? Log back in to the Career...     3.6   \n",
              "\n",
              "                                   Company Name         Location  \\\n",
              "0                        Tecolote Research\\n3.8  Albuquerque, NM   \n",
              "1    University of Maryland Medical System\\n3.4    Linthicum, MD   \n",
              "2                                  KnowBe4\\n4.8   Clearwater, FL   \n",
              "3                                     PNNL\\n3.8     Richland, WA   \n",
              "4                       Affinity Solutions\\n2.9     New York, NY   \n",
              "..                                          ...              ...   \n",
              "951                             Eventbrite\\n4.4    Nashville, TN   \n",
              "952         Software Engineering Institute\\n2.6   Pittsburgh, PA   \n",
              "953                           Numeric, LLC\\n3.2    Allentown, PA   \n",
              "954                                   IGNW\\n4.8       Austin, TX   \n",
              "955           Riverside Research Institute\\n3.6  Beavercreek, OH   \n",
              "\n",
              "          Headquarters                    Size  Founded  \\\n",
              "0           Goleta, CA   501 to 1000 employees     1973   \n",
              "1        Baltimore, MD        10000+ employees     1984   \n",
              "2       Clearwater, FL   501 to 1000 employees     2010   \n",
              "3         Richland, WA  1001 to 5000 employees     1965   \n",
              "4         New York, NY     51 to 200 employees     1998   \n",
              "..                 ...                     ...      ...   \n",
              "951  San Francisco, CA  1001 to 5000 employees     2006   \n",
              "952     Pittsburgh, PA   501 to 1000 employees     1984   \n",
              "953    Chadds Ford, PA       1 to 50 employees       -1   \n",
              "954       Portland, OR    201 to 500 employees     2015   \n",
              "955      Arlington, VA   501 to 1000 employees     1967   \n",
              "\n",
              "          Type of ownership                          Industry  \\\n",
              "0         Company - Private               Aerospace & Defense   \n",
              "1        Other Organization  Health Care Services & Hospitals   \n",
              "2         Company - Private                 Security Services   \n",
              "3                Government                            Energy   \n",
              "4         Company - Private           Advertising & Marketing   \n",
              "..                      ...                               ...   \n",
              "951        Company - Public                          Internet   \n",
              "952    College / University           Colleges & Universities   \n",
              "953       Company - Private            Staffing & Outsourcing   \n",
              "954       Company - Private                       IT Services   \n",
              "955  Nonprofit Organization                  Federal Agencies   \n",
              "\n",
              "                           Sector                           Revenue  \\\n",
              "0             Aerospace & Defense         $50 to $100 million (USD)   \n",
              "1                     Health Care            $2 to $5 billion (USD)   \n",
              "2               Business Services        $100 to $500 million (USD)   \n",
              "3    Oil, Gas, Energy & Utilities  $500 million to $1 billion (USD)   \n",
              "4               Business Services          Unknown / Non-Applicable   \n",
              "..                            ...                               ...   \n",
              "951        Information Technology        $100 to $500 million (USD)   \n",
              "952                     Education          Unknown / Non-Applicable   \n",
              "953             Business Services           $5 to $10 million (USD)   \n",
              "954        Information Technology          $25 to $50 million (USD)   \n",
              "955                    Government         $50 to $100 million (USD)   \n",
              "\n",
              "                                           Competitors  \n",
              "0                                                   -1  \n",
              "1                                                   -1  \n",
              "2                                                   -1  \n",
              "3    Oak Ridge National Laboratory, National Renewa...  \n",
              "4                 Commerce Signals, Cardlytics, Yodlee  \n",
              "..                                                 ...  \n",
              "951                    See Tickets, TicketWeb, Vendini  \n",
              "952                                                 -1  \n",
              "953                                                 -1  \n",
              "954                                             Slalom  \n",
              "955                                                 -1  \n",
              "\n",
              "[956 rows x 15 columns]"
            ],
            "text/html": [
              "\n",
              "  <div id=\"df-acc0fa18-077d-4fa3-98c9-7119fb1c1c28\" class=\"colab-df-container\">\n",
              "    <div>\n",
              "<style scoped>\n",
              "    .dataframe tbody tr th:only-of-type {\n",
              "        vertical-align: middle;\n",
              "    }\n",
              "\n",
              "    .dataframe tbody tr th {\n",
              "        vertical-align: top;\n",
              "    }\n",
              "\n",
              "    .dataframe thead th {\n",
              "        text-align: right;\n",
              "    }\n",
              "</style>\n",
              "<table border=\"1\" class=\"dataframe\">\n",
              "  <thead>\n",
              "    <tr style=\"text-align: right;\">\n",
              "      <th></th>\n",
              "      <th>Unnamed: 0</th>\n",
              "      <th>Job Title</th>\n",
              "      <th>Salary Estimate</th>\n",
              "      <th>Job Description</th>\n",
              "      <th>Rating</th>\n",
              "      <th>Company Name</th>\n",
              "      <th>Location</th>\n",
              "      <th>Headquarters</th>\n",
              "      <th>Size</th>\n",
              "      <th>Founded</th>\n",
              "      <th>Type of ownership</th>\n",
              "      <th>Industry</th>\n",
              "      <th>Sector</th>\n",
              "      <th>Revenue</th>\n",
              "      <th>Competitors</th>\n",
              "    </tr>\n",
              "  </thead>\n",
              "  <tbody>\n",
              "    <tr>\n",
              "      <th>0</th>\n",
              "      <td>0</td>\n",
              "      <td>Data Scientist</td>\n",
              "      <td>$53K-$91K (Glassdoor est.)</td>\n",
              "      <td>Data Scientist\\nLocation: Albuquerque, NM\\nEdu...</td>\n",
              "      <td>3.8</td>\n",
              "      <td>Tecolote Research\\n3.8</td>\n",
              "      <td>Albuquerque, NM</td>\n",
              "      <td>Goleta, CA</td>\n",
              "      <td>501 to 1000 employees</td>\n",
              "      <td>1973</td>\n",
              "      <td>Company - Private</td>\n",
              "      <td>Aerospace &amp; Defense</td>\n",
              "      <td>Aerospace &amp; Defense</td>\n",
              "      <td>$50 to $100 million (USD)</td>\n",
              "      <td>-1</td>\n",
              "    </tr>\n",
              "    <tr>\n",
              "      <th>1</th>\n",
              "      <td>1</td>\n",
              "      <td>Healthcare Data Scientist</td>\n",
              "      <td>$63K-$112K (Glassdoor est.)</td>\n",
              "      <td>What You Will Do:\\n\\nI. General Summary\\n\\nThe...</td>\n",
              "      <td>3.4</td>\n",
              "      <td>University of Maryland Medical System\\n3.4</td>\n",
              "      <td>Linthicum, MD</td>\n",
              "      <td>Baltimore, MD</td>\n",
              "      <td>10000+ employees</td>\n",
              "      <td>1984</td>\n",
              "      <td>Other Organization</td>\n",
              "      <td>Health Care Services &amp; Hospitals</td>\n",
              "      <td>Health Care</td>\n",
              "      <td>$2 to $5 billion (USD)</td>\n",
              "      <td>-1</td>\n",
              "    </tr>\n",
              "    <tr>\n",
              "      <th>2</th>\n",
              "      <td>2</td>\n",
              "      <td>Data Scientist</td>\n",
              "      <td>$80K-$90K (Glassdoor est.)</td>\n",
              "      <td>KnowBe4, Inc. is a high growth information sec...</td>\n",
              "      <td>4.8</td>\n",
              "      <td>KnowBe4\\n4.8</td>\n",
              "      <td>Clearwater, FL</td>\n",
              "      <td>Clearwater, FL</td>\n",
              "      <td>501 to 1000 employees</td>\n",
              "      <td>2010</td>\n",
              "      <td>Company - Private</td>\n",
              "      <td>Security Services</td>\n",
              "      <td>Business Services</td>\n",
              "      <td>$100 to $500 million (USD)</td>\n",
              "      <td>-1</td>\n",
              "    </tr>\n",
              "    <tr>\n",
              "      <th>3</th>\n",
              "      <td>3</td>\n",
              "      <td>Data Scientist</td>\n",
              "      <td>$56K-$97K (Glassdoor est.)</td>\n",
              "      <td>*Organization and Job ID**\\nJob ID: 310709\\n\\n...</td>\n",
              "      <td>3.8</td>\n",
              "      <td>PNNL\\n3.8</td>\n",
              "      <td>Richland, WA</td>\n",
              "      <td>Richland, WA</td>\n",
              "      <td>1001 to 5000 employees</td>\n",
              "      <td>1965</td>\n",
              "      <td>Government</td>\n",
              "      <td>Energy</td>\n",
              "      <td>Oil, Gas, Energy &amp; Utilities</td>\n",
              "      <td>$500 million to $1 billion (USD)</td>\n",
              "      <td>Oak Ridge National Laboratory, National Renewa...</td>\n",
              "    </tr>\n",
              "    <tr>\n",
              "      <th>4</th>\n",
              "      <td>4</td>\n",
              "      <td>Data Scientist</td>\n",
              "      <td>$86K-$143K (Glassdoor est.)</td>\n",
              "      <td>Data Scientist\\nAffinity Solutions / Marketing...</td>\n",
              "      <td>2.9</td>\n",
              "      <td>Affinity Solutions\\n2.9</td>\n",
              "      <td>New York, NY</td>\n",
              "      <td>New York, NY</td>\n",
              "      <td>51 to 200 employees</td>\n",
              "      <td>1998</td>\n",
              "      <td>Company - Private</td>\n",
              "      <td>Advertising &amp; Marketing</td>\n",
              "      <td>Business Services</td>\n",
              "      <td>Unknown / Non-Applicable</td>\n",
              "      <td>Commerce Signals, Cardlytics, Yodlee</td>\n",
              "    </tr>\n",
              "    <tr>\n",
              "      <th>...</th>\n",
              "      <td>...</td>\n",
              "      <td>...</td>\n",
              "      <td>...</td>\n",
              "      <td>...</td>\n",
              "      <td>...</td>\n",
              "      <td>...</td>\n",
              "      <td>...</td>\n",
              "      <td>...</td>\n",
              "      <td>...</td>\n",
              "      <td>...</td>\n",
              "      <td>...</td>\n",
              "      <td>...</td>\n",
              "      <td>...</td>\n",
              "      <td>...</td>\n",
              "      <td>...</td>\n",
              "    </tr>\n",
              "    <tr>\n",
              "      <th>951</th>\n",
              "      <td>951</td>\n",
              "      <td>Senior Data Engineer</td>\n",
              "      <td>$72K-$133K (Glassdoor est.)</td>\n",
              "      <td>THE CHALLENGE\\nEventbrite has a world-class da...</td>\n",
              "      <td>4.4</td>\n",
              "      <td>Eventbrite\\n4.4</td>\n",
              "      <td>Nashville, TN</td>\n",
              "      <td>San Francisco, CA</td>\n",
              "      <td>1001 to 5000 employees</td>\n",
              "      <td>2006</td>\n",
              "      <td>Company - Public</td>\n",
              "      <td>Internet</td>\n",
              "      <td>Information Technology</td>\n",
              "      <td>$100 to $500 million (USD)</td>\n",
              "      <td>See Tickets, TicketWeb, Vendini</td>\n",
              "    </tr>\n",
              "    <tr>\n",
              "      <th>952</th>\n",
              "      <td>952</td>\n",
              "      <td>Project Scientist - Auton Lab, Robotics Institute</td>\n",
              "      <td>$56K-$91K (Glassdoor est.)</td>\n",
              "      <td>The Auton Lab at Carnegie Mellon University is...</td>\n",
              "      <td>2.6</td>\n",
              "      <td>Software Engineering Institute\\n2.6</td>\n",
              "      <td>Pittsburgh, PA</td>\n",
              "      <td>Pittsburgh, PA</td>\n",
              "      <td>501 to 1000 employees</td>\n",
              "      <td>1984</td>\n",
              "      <td>College / University</td>\n",
              "      <td>Colleges &amp; Universities</td>\n",
              "      <td>Education</td>\n",
              "      <td>Unknown / Non-Applicable</td>\n",
              "      <td>-1</td>\n",
              "    </tr>\n",
              "    <tr>\n",
              "      <th>953</th>\n",
              "      <td>953</td>\n",
              "      <td>Data Science Manager</td>\n",
              "      <td>$95K-$160K (Glassdoor est.)</td>\n",
              "      <td>Data Science ManagerResponsibilities:\\n\\nOvers...</td>\n",
              "      <td>3.2</td>\n",
              "      <td>Numeric, LLC\\n3.2</td>\n",
              "      <td>Allentown, PA</td>\n",
              "      <td>Chadds Ford, PA</td>\n",
              "      <td>1 to 50 employees</td>\n",
              "      <td>-1</td>\n",
              "      <td>Company - Private</td>\n",
              "      <td>Staffing &amp; Outsourcing</td>\n",
              "      <td>Business Services</td>\n",
              "      <td>$5 to $10 million (USD)</td>\n",
              "      <td>-1</td>\n",
              "    </tr>\n",
              "    <tr>\n",
              "      <th>954</th>\n",
              "      <td>954</td>\n",
              "      <td>Data Engineer</td>\n",
              "      <td>-1</td>\n",
              "      <td>Loading...\\n\\nTitle: Data Engineer\\n\\nLocation...</td>\n",
              "      <td>4.8</td>\n",
              "      <td>IGNW\\n4.8</td>\n",
              "      <td>Austin, TX</td>\n",
              "      <td>Portland, OR</td>\n",
              "      <td>201 to 500 employees</td>\n",
              "      <td>2015</td>\n",
              "      <td>Company - Private</td>\n",
              "      <td>IT Services</td>\n",
              "      <td>Information Technology</td>\n",
              "      <td>$25 to $50 million (USD)</td>\n",
              "      <td>Slalom</td>\n",
              "    </tr>\n",
              "    <tr>\n",
              "      <th>955</th>\n",
              "      <td>955</td>\n",
              "      <td>Research Scientist – Security and Privacy</td>\n",
              "      <td>$61K-$126K (Glassdoor est.)</td>\n",
              "      <td>Returning Candidate? Log back in to the Career...</td>\n",
              "      <td>3.6</td>\n",
              "      <td>Riverside Research Institute\\n3.6</td>\n",
              "      <td>Beavercreek, OH</td>\n",
              "      <td>Arlington, VA</td>\n",
              "      <td>501 to 1000 employees</td>\n",
              "      <td>1967</td>\n",
              "      <td>Nonprofit Organization</td>\n",
              "      <td>Federal Agencies</td>\n",
              "      <td>Government</td>\n",
              "      <td>$50 to $100 million (USD)</td>\n",
              "      <td>-1</td>\n",
              "    </tr>\n",
              "  </tbody>\n",
              "</table>\n",
              "<p>956 rows × 15 columns</p>\n",
              "</div>\n",
              "    <div class=\"colab-df-buttons\">\n",
              "\n",
              "  <div class=\"colab-df-container\">\n",
              "    <button class=\"colab-df-convert\" onclick=\"convertToInteractive('df-acc0fa18-077d-4fa3-98c9-7119fb1c1c28')\"\n",
              "            title=\"Convert this dataframe to an interactive table.\"\n",
              "            style=\"display:none;\">\n",
              "\n",
              "  <svg xmlns=\"http://www.w3.org/2000/svg\" height=\"24px\" viewBox=\"0 -960 960 960\">\n",
              "    <path d=\"M120-120v-720h720v720H120Zm60-500h600v-160H180v160Zm220 220h160v-160H400v160Zm0 220h160v-160H400v160ZM180-400h160v-160H180v160Zm440 0h160v-160H620v160ZM180-180h160v-160H180v160Zm440 0h160v-160H620v160Z\"/>\n",
              "  </svg>\n",
              "    </button>\n",
              "\n",
              "  <style>\n",
              "    .colab-df-container {\n",
              "      display:flex;\n",
              "      gap: 12px;\n",
              "    }\n",
              "\n",
              "    .colab-df-convert {\n",
              "      background-color: #E8F0FE;\n",
              "      border: none;\n",
              "      border-radius: 50%;\n",
              "      cursor: pointer;\n",
              "      display: none;\n",
              "      fill: #1967D2;\n",
              "      height: 32px;\n",
              "      padding: 0 0 0 0;\n",
              "      width: 32px;\n",
              "    }\n",
              "\n",
              "    .colab-df-convert:hover {\n",
              "      background-color: #E2EBFA;\n",
              "      box-shadow: 0px 1px 2px rgba(60, 64, 67, 0.3), 0px 1px 3px 1px rgba(60, 64, 67, 0.15);\n",
              "      fill: #174EA6;\n",
              "    }\n",
              "\n",
              "    .colab-df-buttons div {\n",
              "      margin-bottom: 4px;\n",
              "    }\n",
              "\n",
              "    [theme=dark] .colab-df-convert {\n",
              "      background-color: #3B4455;\n",
              "      fill: #D2E3FC;\n",
              "    }\n",
              "\n",
              "    [theme=dark] .colab-df-convert:hover {\n",
              "      background-color: #434B5C;\n",
              "      box-shadow: 0px 1px 3px 1px rgba(0, 0, 0, 0.15);\n",
              "      filter: drop-shadow(0px 1px 2px rgba(0, 0, 0, 0.3));\n",
              "      fill: #FFFFFF;\n",
              "    }\n",
              "  </style>\n",
              "\n",
              "    <script>\n",
              "      const buttonEl =\n",
              "        document.querySelector('#df-acc0fa18-077d-4fa3-98c9-7119fb1c1c28 button.colab-df-convert');\n",
              "      buttonEl.style.display =\n",
              "        google.colab.kernel.accessAllowed ? 'block' : 'none';\n",
              "\n",
              "      async function convertToInteractive(key) {\n",
              "        const element = document.querySelector('#df-acc0fa18-077d-4fa3-98c9-7119fb1c1c28');\n",
              "        const dataTable =\n",
              "          await google.colab.kernel.invokeFunction('convertToInteractive',\n",
              "                                                    [key], {});\n",
              "        if (!dataTable) return;\n",
              "\n",
              "        const docLinkHtml = 'Like what you see? Visit the ' +\n",
              "          '<a target=\"_blank\" href=https://colab.research.google.com/notebooks/data_table.ipynb>data table notebook</a>'\n",
              "          + ' to learn more about interactive tables.';\n",
              "        element.innerHTML = '';\n",
              "        dataTable['output_type'] = 'display_data';\n",
              "        await google.colab.output.renderOutput(dataTable, element);\n",
              "        const docLink = document.createElement('div');\n",
              "        docLink.innerHTML = docLinkHtml;\n",
              "        element.appendChild(docLink);\n",
              "      }\n",
              "    </script>\n",
              "  </div>\n",
              "\n",
              "\n",
              "<div id=\"df-ec63dd4a-c324-4966-b8ac-29e83da5a4dc\">\n",
              "  <button class=\"colab-df-quickchart\" onclick=\"quickchart('df-ec63dd4a-c324-4966-b8ac-29e83da5a4dc')\"\n",
              "            title=\"Suggest charts\"\n",
              "            style=\"display:none;\">\n",
              "\n",
              "<svg xmlns=\"http://www.w3.org/2000/svg\" height=\"24px\"viewBox=\"0 0 24 24\"\n",
              "     width=\"24px\">\n",
              "    <g>\n",
              "        <path d=\"M19 3H5c-1.1 0-2 .9-2 2v14c0 1.1.9 2 2 2h14c1.1 0 2-.9 2-2V5c0-1.1-.9-2-2-2zM9 17H7v-7h2v7zm4 0h-2V7h2v10zm4 0h-2v-4h2v4z\"/>\n",
              "    </g>\n",
              "</svg>\n",
              "  </button>\n",
              "\n",
              "<style>\n",
              "  .colab-df-quickchart {\n",
              "      --bg-color: #E8F0FE;\n",
              "      --fill-color: #1967D2;\n",
              "      --hover-bg-color: #E2EBFA;\n",
              "      --hover-fill-color: #174EA6;\n",
              "      --disabled-fill-color: #AAA;\n",
              "      --disabled-bg-color: #DDD;\n",
              "  }\n",
              "\n",
              "  [theme=dark] .colab-df-quickchart {\n",
              "      --bg-color: #3B4455;\n",
              "      --fill-color: #D2E3FC;\n",
              "      --hover-bg-color: #434B5C;\n",
              "      --hover-fill-color: #FFFFFF;\n",
              "      --disabled-bg-color: #3B4455;\n",
              "      --disabled-fill-color: #666;\n",
              "  }\n",
              "\n",
              "  .colab-df-quickchart {\n",
              "    background-color: var(--bg-color);\n",
              "    border: none;\n",
              "    border-radius: 50%;\n",
              "    cursor: pointer;\n",
              "    display: none;\n",
              "    fill: var(--fill-color);\n",
              "    height: 32px;\n",
              "    padding: 0;\n",
              "    width: 32px;\n",
              "  }\n",
              "\n",
              "  .colab-df-quickchart:hover {\n",
              "    background-color: var(--hover-bg-color);\n",
              "    box-shadow: 0 1px 2px rgba(60, 64, 67, 0.3), 0 1px 3px 1px rgba(60, 64, 67, 0.15);\n",
              "    fill: var(--button-hover-fill-color);\n",
              "  }\n",
              "\n",
              "  .colab-df-quickchart-complete:disabled,\n",
              "  .colab-df-quickchart-complete:disabled:hover {\n",
              "    background-color: var(--disabled-bg-color);\n",
              "    fill: var(--disabled-fill-color);\n",
              "    box-shadow: none;\n",
              "  }\n",
              "\n",
              "  .colab-df-spinner {\n",
              "    border: 2px solid var(--fill-color);\n",
              "    border-color: transparent;\n",
              "    border-bottom-color: var(--fill-color);\n",
              "    animation:\n",
              "      spin 1s steps(1) infinite;\n",
              "  }\n",
              "\n",
              "  @keyframes spin {\n",
              "    0% {\n",
              "      border-color: transparent;\n",
              "      border-bottom-color: var(--fill-color);\n",
              "      border-left-color: var(--fill-color);\n",
              "    }\n",
              "    20% {\n",
              "      border-color: transparent;\n",
              "      border-left-color: var(--fill-color);\n",
              "      border-top-color: var(--fill-color);\n",
              "    }\n",
              "    30% {\n",
              "      border-color: transparent;\n",
              "      border-left-color: var(--fill-color);\n",
              "      border-top-color: var(--fill-color);\n",
              "      border-right-color: var(--fill-color);\n",
              "    }\n",
              "    40% {\n",
              "      border-color: transparent;\n",
              "      border-right-color: var(--fill-color);\n",
              "      border-top-color: var(--fill-color);\n",
              "    }\n",
              "    60% {\n",
              "      border-color: transparent;\n",
              "      border-right-color: var(--fill-color);\n",
              "    }\n",
              "    80% {\n",
              "      border-color: transparent;\n",
              "      border-right-color: var(--fill-color);\n",
              "      border-bottom-color: var(--fill-color);\n",
              "    }\n",
              "    90% {\n",
              "      border-color: transparent;\n",
              "      border-bottom-color: var(--fill-color);\n",
              "    }\n",
              "  }\n",
              "</style>\n",
              "\n",
              "  <script>\n",
              "    async function quickchart(key) {\n",
              "      const quickchartButtonEl =\n",
              "        document.querySelector('#' + key + ' button');\n",
              "      quickchartButtonEl.disabled = true;  // To prevent multiple clicks.\n",
              "      quickchartButtonEl.classList.add('colab-df-spinner');\n",
              "      try {\n",
              "        const charts = await google.colab.kernel.invokeFunction(\n",
              "            'suggestCharts', [key], {});\n",
              "      } catch (error) {\n",
              "        console.error('Error during call to suggestCharts:', error);\n",
              "      }\n",
              "      quickchartButtonEl.classList.remove('colab-df-spinner');\n",
              "      quickchartButtonEl.classList.add('colab-df-quickchart-complete');\n",
              "    }\n",
              "    (() => {\n",
              "      let quickchartButtonEl =\n",
              "        document.querySelector('#df-ec63dd4a-c324-4966-b8ac-29e83da5a4dc button');\n",
              "      quickchartButtonEl.style.display =\n",
              "        google.colab.kernel.accessAllowed ? 'block' : 'none';\n",
              "    })();\n",
              "  </script>\n",
              "</div>\n",
              "\n",
              "  <div id=\"id_1ca6626c-7255-401c-af1c-4349291f08a2\">\n",
              "    <style>\n",
              "      .colab-df-generate {\n",
              "        background-color: #E8F0FE;\n",
              "        border: none;\n",
              "        border-radius: 50%;\n",
              "        cursor: pointer;\n",
              "        display: none;\n",
              "        fill: #1967D2;\n",
              "        height: 32px;\n",
              "        padding: 0 0 0 0;\n",
              "        width: 32px;\n",
              "      }\n",
              "\n",
              "      .colab-df-generate:hover {\n",
              "        background-color: #E2EBFA;\n",
              "        box-shadow: 0px 1px 2px rgba(60, 64, 67, 0.3), 0px 1px 3px 1px rgba(60, 64, 67, 0.15);\n",
              "        fill: #174EA6;\n",
              "      }\n",
              "\n",
              "      [theme=dark] .colab-df-generate {\n",
              "        background-color: #3B4455;\n",
              "        fill: #D2E3FC;\n",
              "      }\n",
              "\n",
              "      [theme=dark] .colab-df-generate:hover {\n",
              "        background-color: #434B5C;\n",
              "        box-shadow: 0px 1px 3px 1px rgba(0, 0, 0, 0.15);\n",
              "        filter: drop-shadow(0px 1px 2px rgba(0, 0, 0, 0.3));\n",
              "        fill: #FFFFFF;\n",
              "      }\n",
              "    </style>\n",
              "    <button class=\"colab-df-generate\" onclick=\"generateWithVariable('jobs')\"\n",
              "            title=\"Generate code using this dataframe.\"\n",
              "            style=\"display:none;\">\n",
              "\n",
              "  <svg xmlns=\"http://www.w3.org/2000/svg\" height=\"24px\"viewBox=\"0 0 24 24\"\n",
              "       width=\"24px\">\n",
              "    <path d=\"M7,19H8.4L18.45,9,17,7.55,7,17.6ZM5,21V16.75L18.45,3.32a2,2,0,0,1,2.83,0l1.4,1.43a1.91,1.91,0,0,1,.58,1.4,1.91,1.91,0,0,1-.58,1.4L9.25,21ZM18.45,9,17,7.55Zm-12,3A5.31,5.31,0,0,0,4.9,8.1,5.31,5.31,0,0,0,1,6.5,5.31,5.31,0,0,0,4.9,4.9,5.31,5.31,0,0,0,6.5,1,5.31,5.31,0,0,0,8.1,4.9,5.31,5.31,0,0,0,12,6.5,5.46,5.46,0,0,0,6.5,12Z\"/>\n",
              "  </svg>\n",
              "    </button>\n",
              "    <script>\n",
              "      (() => {\n",
              "      const buttonEl =\n",
              "        document.querySelector('#id_1ca6626c-7255-401c-af1c-4349291f08a2 button.colab-df-generate');\n",
              "      buttonEl.style.display =\n",
              "        google.colab.kernel.accessAllowed ? 'block' : 'none';\n",
              "\n",
              "      buttonEl.onclick = () => {\n",
              "        google.colab.notebook.generateWithVariable('jobs');\n",
              "      }\n",
              "      })();\n",
              "    </script>\n",
              "  </div>\n",
              "\n",
              "    </div>\n",
              "  </div>\n"
            ],
            "application/vnd.google.colaboratory.intrinsic+json": {
              "type": "dataframe",
              "variable_name": "jobs",
              "summary": "{\n  \"name\": \"jobs\",\n  \"rows\": 956,\n  \"fields\": [\n    {\n      \"column\": \"Unnamed: 0\",\n      \"properties\": {\n        \"dtype\": \"number\",\n        \"std\": 276,\n        \"min\": 0,\n        \"max\": 955,\n        \"num_unique_values\": 956,\n        \"samples\": [\n          342,\n          864,\n          522\n        ],\n        \"semantic_type\": \"\",\n        \"description\": \"\"\n      }\n    },\n    {\n      \"column\": \"Job Title\",\n      \"properties\": {\n        \"dtype\": \"category\",\n        \"num_unique_values\": 328,\n        \"samples\": [\n          \"Sr. Microsoft Data Engineer\",\n          \"Principal Scientist, Chemistry & Immunology\",\n          \"Systems Engineer II - Data Analyst\"\n        ],\n        \"semantic_type\": \"\",\n        \"description\": \"\"\n      }\n    },\n    {\n      \"column\": \"Salary Estimate\",\n      \"properties\": {\n        \"dtype\": \"category\",\n        \"num_unique_values\": 417,\n        \"samples\": [\n          \"Employer Provided Salary:$200K-$250K\",\n          \"$32K-$57K (Glassdoor est.)\",\n          \"$81K-$132K (Glassdoor est.)\"\n        ],\n        \"semantic_type\": \"\",\n        \"description\": \"\"\n      }\n    },\n    {\n      \"column\": \"Job Description\",\n      \"properties\": {\n        \"dtype\": \"string\",\n        \"num_unique_values\": 596,\n        \"samples\": [\n          \"Responsible for both high level and granular measurement of public and private variable marketing programs. Provide 1:1 program insights with regard to campaign offer performance and efficiency, audience segmentation and performance, ROI that drive future strategy\\n\\nProvide Omni-channel performance metrics. Consult with modeling team to insure past program performance informs future audience modeling efforts. Assist with program business case development. Produce quarterly reporting of campaign results as well as additional ad hoc requests. Oversee team members work as needed. Multi-task across various programs and activities simultaneously\\n\\nMust have:\\nSubject Matter Expertise in 1:1 marketing program measurement\\nKnowledge of SQL, Alteryx, and Microsoft Office preferred.\\nFamiliarity with A/B testing or experimental design (i.e., treated/control groups) is also helpful.\\nPast experience analyzing marketing campaign results (e.g., incremental sales, net profit, ROI)\\nAbility to query, join, and manipulate data (e.g., create new variables as needed)\\nExperience meeting with clients directly to understand business needs and discuss findings\\nAbility to create PowerPoints containing graphs and insights into findings\\nCustomer profiling experience\\nAbility to present findings to the client and team meetings\\nAdditional Job Description\\n\\n\\u00b7 Highly proficient utilizing SQL and Alteryx, tableau, Qlik, etc. to manipulate, arrange, query and present data\\n\\n\\u00b7 Experience with complex problem solving \\u2013 data manipulation, data quality, data modeling,statistical analysis and/or reporting\\n\\n\\u00b7 Excellent interpersonal skills with people at all management and organizational levels\\n\\n\\u00b7 Ability to respond in an effective and timely manner\\n\\n\\u00b7 Subject matter expert in an analytics specialty\\n\\n\\u00b7 BA / BS in Statistics, Mathematics, Econometrics or computer science\\n\\n\\u00b7 Min 5-year experiences as analytics team lead or manager\\nOneMagnify is an Equal Opportunity Employer.\",\n          \"Position Purpose\\n\\nAs a Senior Data Engineer on the Echo Global Logistics team, you will contribute to database management of large scale web-based applications through the use of SQL, C#, and .NET tools. These technologies enable Echo's business while supporting architectural vision of quality, scalability, performance and function. Our proprietary software is created with the goal to simplify transportation for our customers and carriers, and is one of our largest competitive advantages in an ever growing market.\\n\\nEcho Global Logistics has recently been ranked the third largest digital company by employee size in Chicago and we are continuing to see increased growth in virtually all of our technical teams. Additionally, we have been ranked as the #1 Inbound Logistics 3PL for 2017 and look forward to speaking with you further about our team!\\n\\nEssential Position Functions\\n\\nYou...\\nSee technology as a passion, not something you just do between 9-5\\nPossess the ability to create new solutions; we operate on a web based platform and constantly facing unchartered waters\\nPossess strong fundamentals within coding technologies and a willingness to wear several hats when called upon\\nDo not wait for something to break; find a problem before it becomes one and constantly aiming to improve\\nHaving a willingness to vocalize these ideas and pick yourself up if you get knocked down\\nWe\\u2026\\nValue passionate technologists, go-getters, and people who never stop seeking ways to improve existing technology\\nHave a high focus on career development and the runway to get you there\\nWork hard, period\\nOffer competitive compensation, benefits, 401k, challenging projects, company wide events, coworkers and leaders who will push you to get better, a sense of community not found anywhere else\\nResponsibilities:\\n\\nData Engineer's work in conjunction with Software Engineers, DBA's, Business Analysts, Quality Assurance and business owners\\nServe as a member of a data team that solves complex challenges and builds working database solutions using SQL Server, T-SQL, SSIS, stored procedures, views, user-defined functions, and table functions\\nDevelop solutions and contributing to development, leveraging Object-Oriented programming techniques (.Net), Software Development Lifecycles, Unit Test Techniques, and Debugging/Analytical Techniques.\\nCollaborate with the team to develop database structures that fit into the overall architecture of the systems under development.\\nCode, install, optimize, and debug database queries and stored procedures using appropriate tools and editors.\\nPerform code reviews and provide feedback in a timely manner.\\nPromote collective code ownership for everyone to have visibility into the feature codebase.\\nPresent technical ideas and concepts in business-friendly language.\\nProvide recommendations, analysis, and evaluation of systems improvements, optimization, development, and maintenance efforts, including capacity planning.\\nIdentify and correct performance bottlenecks related to SQL code.\\nSupport timely production releases and adherence to release activities.\\nContribute to data retention strategy.\\nPosition Requirements\\n1-3 years in commercial-grade business applications environment leveraging the following:\\nSQL Server, T-SQL, SSIS, stored procedures, user-defined functions and table functions\\nManaging design risk\\n1-3 years leveraging OO programming techniques\\nSoftware development lifecycles, Unit test techniques, debugging/analytical techniques\\nWhat's in it for you?\\nHelp career growth by joining industry leader and continuing to advance Echo web based technologies\\nWorking with an organization with defined market goals, products, customers, revenue, and development teams\\nExperienced mentors to learn and adopt new practices\\nAbility to introduce your own views and takes on our product offerings\\nWork in wide variety of data management\\nAbility to constantly enhance and improve applications\\nHave a clearly defined career growth track with enough flexibility to pave your own way\\nAll qualified applicants will receive consideration for employment without regard to age, race, color, religion, sex, sexual orientation, gender identity, national origin, status as a qualified individual with a disability, or Vietnam era or other protected veteran.\",\n          \"PeoplesBank is the largest mutually chartered bank in Western Massachusetts and a leader in green values, sustainable energy financing, and charitable giving. Come join our team of dedicated individuals who want to contribute to a dynamic, successful organization.\\n\\nData Scientist\\n\\nSchedule:Monday through Wednesday and Friday8:30am-4:30pm, Thursday 8:30am-5:00pm\\n\\nResponsibilities:\\n\\n\\u00b7Analyze, interpret and visualize complex datacreating conceptual, logical and physical data models to determine the most appropriate method to represent data for business consumption\\n\\n\\u00b7Lead analytic projects and track overall performance of assigned projects including conversion rates and retargeting; recommend process and procedure improvements as a result of analytics.\\n\\n\\u00b7Manage the Marketing platform by working closely with the marketing team to identify opportunities and implement campaigns for the Marketing team.\\n\\n\\u00b7Manage ad hoc analyses to supportbank wide initiatives\\n\\n\\u00b7Direct and perform a variety of advanced analyses including data mining and research; provide recommendations based on key findings.\\n\\n\\u00b7Work with Data Liaisons to manage and improveexisting customer data points to identify customer demand and trends to drive strategy. Create dashboards to provide on demand tracking of bank wide KPI\\u2019s and metrics. Evaluate the data and determine and recommend next steps based off this information.\\n\\n\\u00b7Manage large& complex analytical projects, data exploration, model building& testing.\\n\\n\\u00b7Work cross-functionally with multiple internal teams developing strong working relationships and have a hands-on mentality.\\n\\n\\u00b7Explore new data sources, analytical techniques and industry trends to ensure ongoing competitive advantage.\\n\\n\\u00b7Measure and report performance of bank promotions and assess against goals; Identify trends and insights and make recommendations to optimize performance based on insights.\\n\\n\\u00b7Manage, develop and build models that lead to better business insights and recommendations. Understand customer patterns and behavior and provide insight on customer experience, customer retention, customer acquisition and utilization strategies. Provide recommendations based on the analysis.\\n\\n\\u00b7Create new and manage existing folders, reports, dashboards, and agents in the data management system to ensure timely and accurate data reporting for use by bank managers for decision purposes.\\n\\n\\u00b7Completes all yearly compliance training and testing and complies with bank, federal, and state regulations.Adheres to departmental and bank-wide service standards.\\n\\n\\u00b7Adheres to departmental and bank-wide service standards. Complies with Bank Policies and Procedures\\n\\nThe Data Scientist will be involved in articulating data-driven solutions that inform decision making, and in developing methods or processes for implementation and targeting. The Data Scientist will be expected to have a deep understanding of analytical methodologies in order to complete unstructured assignments with little supervision.\\n\\nThe Data Scientist has impact on identifying customer behavior and targeting analysis. The Data Scientist provides insight for a variety of bank wide initiatives based on data analysis on both the front end and back end. The position will also be expected to take that data and proactively provide recommendations for next steps utilizing the data. Inaccurate reporting of data provided to Senior Management could result in misinformed decision making significantly impacting the financial or operational performance of the bank. Failure to adequately safeguard customer information could result in negative regulatory sanctions.\\n\\nEducation and/or Experience:\\n\\nGenerally requires a Master\\u2019s degree, preferably, in business administration, finance, or data/information sciences plus five to ten years of relevant experience or an equivalent combination of education and experience.\\n\\nComputer Skills:\\n\\nProficient in Microsoft Office Suite. Proficient in database management, report writing software (such as Oracle Business Intelligence) and SQL. General knowledge of other computer applications and banking core processing systems. Possesses understanding in the areas of application programming, database and system design. Understands how legacy and web-based systems interface with each other.\\n\\nOther skills and knowledge\\nBring a strong background with proven experience in digital analytics, measurement, modeling, and data quality.\\nSolid Analytical/statistical skills. Ability to think deeply about statistical issues as well as business and marketing implications.\\nPassion to self-educate and keep up-to-date on the latest Analytics trends in marketing, banking and other fields.\\nExcellent attention to detail, data accuracy, and quality of output. Proactively seeks opportunities to serve in leadership roles while serving as a role model.\\nTime Management:Strong time management skills, proficiency in prioritizing, scheduling and managing multiple project schedules and different levels of criticality.\"\n        ],\n        \"semantic_type\": \"\",\n        \"description\": \"\"\n      }\n    },\n    {\n      \"column\": \"Rating\",\n      \"properties\": {\n        \"dtype\": \"number\",\n        \"std\": 1.0676188182455826,\n        \"min\": -1.0,\n        \"max\": 5.0,\n        \"num_unique_values\": 32,\n        \"samples\": [\n          2.4,\n          4.7,\n          1.9\n        ],\n        \"semantic_type\": \"\",\n        \"description\": \"\"\n      }\n    },\n    {\n      \"column\": \"Company Name\",\n      \"properties\": {\n        \"dtype\": \"category\",\n        \"num_unique_values\": 448,\n        \"samples\": [\n          \"MathWorks\\n4.4\",\n          \"Kronos Bio\",\n          \"DrFirst\\n2.8\"\n        ],\n        \"semantic_type\": \"\",\n        \"description\": \"\"\n      }\n    },\n    {\n      \"column\": \"Location\",\n      \"properties\": {\n        \"dtype\": \"category\",\n        \"num_unique_values\": 237,\n        \"samples\": [\n          \"Winter Park, FL\",\n          \"San Francisco, CA\",\n          \"Aliso Viejo, CA\"\n        ],\n        \"semantic_type\": \"\",\n        \"description\": \"\"\n      }\n    },\n    {\n      \"column\": \"Headquarters\",\n      \"properties\": {\n        \"dtype\": \"category\",\n        \"num_unique_values\": 235,\n        \"samples\": [\n          \"Silver Spring, MD\",\n          \"Brentford, United Kingdom\",\n          \"Farmington Hills, MI\"\n        ],\n        \"semantic_type\": \"\",\n        \"description\": \"\"\n      }\n    },\n    {\n      \"column\": \"Size\",\n      \"properties\": {\n        \"dtype\": \"category\",\n        \"num_unique_values\": 9,\n        \"samples\": [\n          \"Unknown\",\n          \"10000+ employees\",\n          \"5001 to 10000 employees\"\n        ],\n        \"semantic_type\": \"\",\n        \"description\": \"\"\n      }\n    },\n    {\n      \"column\": \"Founded\",\n      \"properties\": {\n        \"dtype\": \"number\",\n        \"std\": 598,\n        \"min\": -1,\n        \"max\": 2019,\n        \"num_unique_values\": 109,\n        \"samples\": [\n          1930,\n          2011,\n          1998\n        ],\n        \"semantic_type\": \"\",\n        \"description\": \"\"\n      }\n    },\n    {\n      \"column\": \"Type of ownership\",\n      \"properties\": {\n        \"dtype\": \"category\",\n        \"num_unique_values\": 13,\n        \"samples\": [\n          \"-1\",\n          \"College / University\",\n          \"Company - Private\"\n        ],\n        \"semantic_type\": \"\",\n        \"description\": \"\"\n      }\n    },\n    {\n      \"column\": \"Industry\",\n      \"properties\": {\n        \"dtype\": \"category\",\n        \"num_unique_values\": 63,\n        \"samples\": [\n          \"Consumer Product Rental\",\n          \"Publishing\",\n          \"Aerospace & Defense\"\n        ],\n        \"semantic_type\": \"\",\n        \"description\": \"\"\n      }\n    },\n    {\n      \"column\": \"Sector\",\n      \"properties\": {\n        \"dtype\": \"category\",\n        \"num_unique_values\": 25,\n        \"samples\": [\n          \"Biotech & Pharmaceuticals\",\n          \"Government\",\n          \"Aerospace & Defense\"\n        ],\n        \"semantic_type\": \"\",\n        \"description\": \"\"\n      }\n    },\n    {\n      \"column\": \"Revenue\",\n      \"properties\": {\n        \"dtype\": \"category\",\n        \"num_unique_values\": 14,\n        \"samples\": [\n          \"$10 to $25 million (USD)\",\n          \"Less than $1 million (USD)\",\n          \"$50 to $100 million (USD)\"\n        ],\n        \"semantic_type\": \"\",\n        \"description\": \"\"\n      }\n    },\n    {\n      \"column\": \"Competitors\",\n      \"properties\": {\n        \"dtype\": \"category\",\n        \"num_unique_values\": 149,\n        \"samples\": [\n          \"Mercer, Korn Ferry, Integrated Healthcare Strategies\",\n          \"Travelers, Allstate, State Farm\",\n          \"EmblemHealth, UnitedHealth Group, Aetna\"\n        ],\n        \"semantic_type\": \"\",\n        \"description\": \"\"\n      }\n    }\n  ]\n}"
            }
          },
          "metadata": {},
          "execution_count": 5
        }
      ]
    },
    {
      "cell_type": "markdown",
      "source": [
        "#### Checking the dimensions, shape of our data:\n",
        "We will check for the total number of rows and columns in our data set.It is a good practice as it helps us to know how big the data is and gives us ides of what methods to be applied to handle the specified size of the data."
      ],
      "metadata": {
        "id": "9tdxWHh_y2dh"
      }
    },
    {
      "cell_type": "code",
      "source": [
        "# now we will check for the rows and columns count\n",
        "# total number of features in the data\n",
        "print(jobs.columns)\n",
        "print(f\"Total number of features:{jobs.shape[1]}\")"
      ],
      "metadata": {
        "colab": {
          "base_uri": "https://localhost:8080/"
        },
        "id": "ZhNdsBb9zcxg",
        "outputId": "37cc4933-fdd0-4721-90e4-b57d81cb54d3",
        "collapsed": true
      },
      "execution_count": null,
      "outputs": [
        {
          "output_type": "stream",
          "name": "stdout",
          "text": [
            "Index(['Unnamed: 0', 'Job Title', 'Salary Estimate', 'Job Description',\n",
            "       'Rating', 'Company Name', 'Location', 'Headquarters', 'Size', 'Founded',\n",
            "       'Type of ownership', 'Industry', 'Sector', 'Revenue', 'Competitors'],\n",
            "      dtype='object')\n",
            "Total number of features:15\n"
          ]
        }
      ]
    },
    {
      "cell_type": "markdown",
      "source": [
        "We have a total of 14 columns in our data."
      ],
      "metadata": {
        "id": "19yXf-MAzsew"
      }
    },
    {
      "cell_type": "code",
      "source": [
        "# total numbers of rows\n",
        "print(f\"Total number of rows:{jobs.shape[0]}\")"
      ],
      "metadata": {
        "colab": {
          "base_uri": "https://localhost:8080/"
        },
        "id": "pjXhNgVHzcsA",
        "outputId": "5c311224-bb86-45e9-82b4-83c573899b7c",
        "collapsed": true
      },
      "execution_count": null,
      "outputs": [
        {
          "output_type": "stream",
          "name": "stdout",
          "text": [
            "Total number of rows:956\n"
          ]
        }
      ]
    },
    {
      "cell_type": "markdown",
      "source": [
        "We have a total 956 rows in our data. Now we will also check for the rows column-wise"
      ],
      "metadata": {
        "id": "RHNCcpXdz5yg"
      }
    },
    {
      "cell_type": "code",
      "source": [
        "# total numbers of rows by columns\n",
        "jobs.count()"
      ],
      "metadata": {
        "colab": {
          "base_uri": "https://localhost:8080/",
          "height": 554
        },
        "id": "RIj7Hlk0z-Nx",
        "outputId": "6295400a-917f-4afa-a18d-d096f87864a2",
        "collapsed": true
      },
      "execution_count": null,
      "outputs": [
        {
          "output_type": "execute_result",
          "data": {
            "text/plain": [
              "Unnamed: 0           956\n",
              "Job Title            956\n",
              "Salary Estimate      956\n",
              "Job Description      956\n",
              "Rating               956\n",
              "Company Name         956\n",
              "Location             956\n",
              "Headquarters         956\n",
              "Size                 956\n",
              "Founded              956\n",
              "Type of ownership    956\n",
              "Industry             956\n",
              "Sector               956\n",
              "Revenue              956\n",
              "Competitors          956\n",
              "dtype: int64"
            ],
            "text/html": [
              "<div>\n",
              "<style scoped>\n",
              "    .dataframe tbody tr th:only-of-type {\n",
              "        vertical-align: middle;\n",
              "    }\n",
              "\n",
              "    .dataframe tbody tr th {\n",
              "        vertical-align: top;\n",
              "    }\n",
              "\n",
              "    .dataframe thead th {\n",
              "        text-align: right;\n",
              "    }\n",
              "</style>\n",
              "<table border=\"1\" class=\"dataframe\">\n",
              "  <thead>\n",
              "    <tr style=\"text-align: right;\">\n",
              "      <th></th>\n",
              "      <th>0</th>\n",
              "    </tr>\n",
              "  </thead>\n",
              "  <tbody>\n",
              "    <tr>\n",
              "      <th>Unnamed: 0</th>\n",
              "      <td>956</td>\n",
              "    </tr>\n",
              "    <tr>\n",
              "      <th>Job Title</th>\n",
              "      <td>956</td>\n",
              "    </tr>\n",
              "    <tr>\n",
              "      <th>Salary Estimate</th>\n",
              "      <td>956</td>\n",
              "    </tr>\n",
              "    <tr>\n",
              "      <th>Job Description</th>\n",
              "      <td>956</td>\n",
              "    </tr>\n",
              "    <tr>\n",
              "      <th>Rating</th>\n",
              "      <td>956</td>\n",
              "    </tr>\n",
              "    <tr>\n",
              "      <th>Company Name</th>\n",
              "      <td>956</td>\n",
              "    </tr>\n",
              "    <tr>\n",
              "      <th>Location</th>\n",
              "      <td>956</td>\n",
              "    </tr>\n",
              "    <tr>\n",
              "      <th>Headquarters</th>\n",
              "      <td>956</td>\n",
              "    </tr>\n",
              "    <tr>\n",
              "      <th>Size</th>\n",
              "      <td>956</td>\n",
              "    </tr>\n",
              "    <tr>\n",
              "      <th>Founded</th>\n",
              "      <td>956</td>\n",
              "    </tr>\n",
              "    <tr>\n",
              "      <th>Type of ownership</th>\n",
              "      <td>956</td>\n",
              "    </tr>\n",
              "    <tr>\n",
              "      <th>Industry</th>\n",
              "      <td>956</td>\n",
              "    </tr>\n",
              "    <tr>\n",
              "      <th>Sector</th>\n",
              "      <td>956</td>\n",
              "    </tr>\n",
              "    <tr>\n",
              "      <th>Revenue</th>\n",
              "      <td>956</td>\n",
              "    </tr>\n",
              "    <tr>\n",
              "      <th>Competitors</th>\n",
              "      <td>956</td>\n",
              "    </tr>\n",
              "  </tbody>\n",
              "</table>\n",
              "</div><br><label><b>dtype:</b> int64</label>"
            ]
          },
          "metadata": {},
          "execution_count": 8
        }
      ]
    },
    {
      "cell_type": "markdown",
      "source": [
        "The dimension of the dataset is as folows,"
      ],
      "metadata": {
        "id": "-a55Uksgz-Kq"
      }
    },
    {
      "cell_type": "code",
      "source": [
        "jobs.shape"
      ],
      "metadata": {
        "colab": {
          "base_uri": "https://localhost:8080/"
        },
        "id": "3ioxc0Uoz92g",
        "outputId": "2e566aba-9593-41c9-b410-a5172d8cc4e4",
        "collapsed": true
      },
      "execution_count": null,
      "outputs": [
        {
          "output_type": "execute_result",
          "data": {
            "text/plain": [
              "(956, 15)"
            ]
          },
          "metadata": {},
          "execution_count": 9
        }
      ]
    },
    {
      "cell_type": "markdown",
      "source": [
        "#### Knowing about the duplicate and null/missing values in our data:\n",
        "Understanding duplicates and null (missing) values in your data is crucial for several reasons, especially in data analysis, data cleaning, and machine learning."
      ],
      "metadata": {
        "id": "8nFznXT_01r4"
      }
    },
    {
      "cell_type": "code",
      "source": [
        "# checking for duplicates in our data\n",
        "jobs.duplicated().sum()"
      ],
      "metadata": {
        "colab": {
          "base_uri": "https://localhost:8080/"
        },
        "id": "6QO2548lb9h2",
        "outputId": "07accb2f-04f7-4861-8e50-f52eac16e60d"
      },
      "execution_count": null,
      "outputs": [
        {
          "output_type": "execute_result",
          "data": {
            "text/plain": [
              "0"
            ]
          },
          "metadata": {},
          "execution_count": 10
        }
      ]
    },
    {
      "cell_type": "markdown",
      "source": [
        "As we can clearly see that our data has no duplicate values."
      ],
      "metadata": {
        "id": "aVeow8DncaRo"
      }
    },
    {
      "cell_type": "markdown",
      "source": [
        "Removing the \"Unnamed: 0\" column as it does not provide any information to our data and just serves as column index. Removing this column will also reduce the dimensionality of the data."
      ],
      "metadata": {
        "id": "zjW0H4AncB7U"
      }
    },
    {
      "cell_type": "code",
      "source": [
        "# removing the \"Unnamed: 0\" column\n",
        "jobs = jobs.drop(columns=['Unnamed: 0'])"
      ],
      "metadata": {
        "id": "CH1KoQN1cg_9"
      },
      "execution_count": null,
      "outputs": []
    },
    {
      "cell_type": "markdown",
      "source": [
        "Now we check for the missing values, here in our data set represented by **-1**."
      ],
      "metadata": {
        "id": "Trdn4a-Qcx0N"
      }
    },
    {
      "cell_type": "code",
      "source": [
        "# counting the missing or NULL values here represented by -1\n",
        "def count_neg_one(value):\n",
        "    return value == -1 or value == '-1'\n",
        "for cols in jobs:\n",
        "  null_vals = jobs[cols].apply(count_neg_one).sum().sum()\n",
        "  print(f\"Total number of Null or Missing Values for {cols}:{null_vals}\")"
      ],
      "metadata": {
        "colab": {
          "base_uri": "https://localhost:8080/"
        },
        "id": "6Um37oCS1_P5",
        "outputId": "2a3fdafa-54b3-4248-b4dc-cbeac37c4567",
        "collapsed": true
      },
      "execution_count": null,
      "outputs": [
        {
          "output_type": "stream",
          "name": "stdout",
          "text": [
            "Total number of Null or Missing Values for Job Title:0\n",
            "Total number of Null or Missing Values for Salary Estimate:214\n",
            "Total number of Null or Missing Values for Job Description:0\n",
            "Total number of Null or Missing Values for Rating:34\n",
            "Total number of Null or Missing Values for Company Name:0\n",
            "Total number of Null or Missing Values for Location:0\n",
            "Total number of Null or Missing Values for Headquarters:11\n",
            "Total number of Null or Missing Values for Size:11\n",
            "Total number of Null or Missing Values for Founded:97\n",
            "Total number of Null or Missing Values for Type of ownership:11\n",
            "Total number of Null or Missing Values for Industry:39\n",
            "Total number of Null or Missing Values for Sector:39\n",
            "Total number of Null or Missing Values for Revenue:11\n",
            "Total number of Null or Missing Values for Competitors:634\n"
          ]
        }
      ]
    },
    {
      "cell_type": "markdown",
      "source": [
        "The dataset exhibits a mix of complete and incomplete information across various fields. While critical fields like Job Title, Job Description, Company Name, and Location are fully populated, several other fields, particularly Salary Estimate, Founded, and Competitors, have significant missing values. This could impact analyses related to salary trends, company history, and competitive positioning. Addressing these missing values may enhance the dataset's usability for comprehensive insights and decision-making."
      ],
      "metadata": {
        "id": "VN9l_6o92MPq"
      }
    },
    {
      "cell_type": "markdown",
      "source": [
        " Drop the columns that does not add value to our data or are ananymous records with no information regarding most of the fields. Here we will drop those rows where there is no information regarding the company size, salary estimate, ownership type , founded etc..."
      ],
      "metadata": {
        "id": "_E0oKTiGo6Kb"
      }
    },
    {
      "cell_type": "code",
      "source": [
        "#droppinf rows that provide no insight regarding a job post for the user\n",
        "check_fields = ['Headquarters', 'Size', 'Revenue', 'Type of ownership']\n",
        "for col in check_fields:\n",
        "  jobs = jobs[jobs[col] != '-1']"
      ],
      "metadata": {
        "id": "UgRdj4QXo53T"
      },
      "execution_count": null,
      "outputs": []
    },
    {
      "cell_type": "markdown",
      "source": [
        "### **Understanding the Dataset: What we know this far!!!**\n",
        "\n",
        "#### **1. Structure and Dimensions**\n",
        "- The dataset consists of **956 rows** and **14 columns**.  \n",
        "- It contains a mix of **12 object type** fields and **2 numerical** fields.\n",
        "\n",
        "#### **2. Data Quality & Missing Value**\n",
        "- There is a mix of complete and incomplete information for various features of the dataset. We need to handle these in order to ease our analysis.\n",
        "\n",
        "#### **3. Duplicate Records**\n",
        "- The dataset has **356 duplicate rows**, which may need to be removed or consolidated depending on the feature selection.  \n",
        "\n",
        "#### **4. Potential Next Steps**\n",
        "- **Data Cleaning**: Address missing values, duplicates, and inconsistencies.  \n",
        "- **Feature Engineering**: Create new features or transform existing ones for better modeling.  \n",
        "- **Summary Statistics**: Generate the statistical summary of the data from the newly formed features.\n",
        "- **Exploratory Data Analysis (EDA)**: Perform deeper insights into patterns and trends.  \n",
        "- **Predictive Modeling**: Build machine learning models based on cleaned and processed data.  \n",
        "\n",
        "This dataset provides valuable insights for decision-making and model building, making it a strongtails tailored to your dataset!"
      ],
      "metadata": {
        "id": "yQarG1fcZ2sK"
      }
    },
    {
      "cell_type": "markdown",
      "source": [
        "## ***2. Understanding Your Variables***\n",
        "When working with data, understanding your variables is key to building effective models and drawing meaningful insights."
      ],
      "metadata": {
        "id": "STpMoVsAwpQi"
      }
    },
    {
      "cell_type": "code",
      "source": [
        "jobs.columns"
      ],
      "metadata": {
        "id": "LxidAUXQ5Prr",
        "colab": {
          "base_uri": "https://localhost:8080/"
        },
        "outputId": "7d24c984-a729-4c42-e394-7014a96a1386"
      },
      "execution_count": null,
      "outputs": [
        {
          "output_type": "execute_result",
          "data": {
            "text/plain": [
              "Index(['Job Title', 'Salary Estimate', 'Job Description', 'Rating',\n",
              "       'Company Name', 'Location', 'Headquarters', 'Size', 'Founded',\n",
              "       'Type of ownership', 'Industry', 'Sector', 'Revenue', 'Competitors'],\n",
              "      dtype='object')"
            ]
          },
          "metadata": {},
          "execution_count": 14
        }
      ]
    },
    {
      "cell_type": "markdown",
      "source": [
        "Here we have __14__ columns or features in our dataset. Let's look at the data type of these columns."
      ],
      "metadata": {
        "id": "8kyY7mNR77TR"
      }
    },
    {
      "cell_type": "code",
      "source": [
        "jobs.info()"
      ],
      "metadata": {
        "colab": {
          "base_uri": "https://localhost:8080/"
        },
        "id": "mpna0ETG8Iu4",
        "outputId": "cdb1ece2-db5c-4223-d140-ca6d6c1d792b",
        "collapsed": true
      },
      "execution_count": null,
      "outputs": [
        {
          "output_type": "stream",
          "name": "stdout",
          "text": [
            "<class 'pandas.core.frame.DataFrame'>\n",
            "Index: 945 entries, 0 to 955\n",
            "Data columns (total 14 columns):\n",
            " #   Column             Non-Null Count  Dtype  \n",
            "---  ------             --------------  -----  \n",
            " 0   Job Title          945 non-null    object \n",
            " 1   Salary Estimate    945 non-null    object \n",
            " 2   Job Description    945 non-null    object \n",
            " 3   Rating             945 non-null    float64\n",
            " 4   Company Name       945 non-null    object \n",
            " 5   Location           945 non-null    object \n",
            " 6   Headquarters       945 non-null    object \n",
            " 7   Size               945 non-null    object \n",
            " 8   Founded            945 non-null    int64  \n",
            " 9   Type of ownership  945 non-null    object \n",
            " 10  Industry           945 non-null    object \n",
            " 11  Sector             945 non-null    object \n",
            " 12  Revenue            945 non-null    object \n",
            " 13  Competitors        945 non-null    object \n",
            "dtypes: float64(1), int64(1), object(12)\n",
            "memory usage: 110.7+ KB\n"
          ]
        }
      ]
    },
    {
      "cell_type": "markdown",
      "source": [
        "### _**Variable Descriptions:**_"
      ],
      "metadata": {
        "id": "Mg82BxKwAdEO"
      }
    },
    {
      "cell_type": "markdown",
      "source": [
        "we can clearly see that most of the variables are of **Object** data type i.e. **string** data type. So we have to apply some wrangling tasks to convert the required fields to appropriate data type or format to ease our analysis and make useful insights.\n",
        "\n",
        "1. **Job Title**: The official designation of the position being advertised, indicating the role and responsibilities associated with the job.\n",
        "\n",
        "2. **Salary Estimate**: An approximate range of compensation offered for the position, which may include base salary, bonuses, and other financial benefits.\n",
        "\n",
        "3. **Job Description**: A detailed overview of the job's responsibilities, required skills, qualifications, and any other relevant information that outlines what the job entails.\n",
        "\n",
        "4. **Rating**: A numerical or star-based evaluation reflecting employee satisfaction or company reputation, often based on reviews from current or former employees.\n",
        "\n",
        "5. **Company Name**: The official name of the organization offering the job, which may also include the brand name under which it operates.\n",
        "\n",
        "6. **Location**: The geographical area where the job is based, which may include city, state, or country information.\n",
        "\n",
        "7. **Headquarters**: The primary location of the company's main office or administrative center, which may differ from the job location.\n",
        "\n",
        "8. **Size**: The scale of the company, often indicated by the number of employees or annual revenue, which can provide insight into the company's market presence.\n",
        "\n",
        "9. **Founded**: The year in which the company was established, providing context about its history and longevity in the industry.\n",
        "\n",
        "10. **Type of Ownership**: The legal structure of the company, such as public, private, nonprofit, or government-owned, which can influence its operations and financial practices.\n",
        "\n",
        "11. **Industry**: The specific sector or field in which the company operates, such as technology, healthcare, finance, etc., which helps categorize the nature of the business.\n",
        "\n",
        "12. **Sector**: A broader classification that groups industries with similar characteristics, such as primary (agriculture), secondary (manufacturing), or tertiary (services).\n",
        "\n",
        "13. **Revenue**: The total income generated by the company from its business activities, typically reported on an annual basis, which indicates the financial health of the organization.\n",
        "\n",
        "14. **Competitors**: Other companies or organizations that operate in the same industry and vie for the same market share, providing context for the competitive landscape."
      ],
      "metadata": {
        "id": "Wr30qH1o8KjQ"
      }
    },
    {
      "cell_type": "markdown",
      "source": [
        "### _**Unique value for each variable**_\n",
        "#### Since the amount of unique value for some variable is very high it is better to put their count instead of their actual value."
      ],
      "metadata": {
        "id": "vnhbIxNTAp4U"
      }
    },
    {
      "cell_type": "code",
      "source": [
        "cols = ['Job Title', 'Salary Estimate', 'Job Description', 'Rating',\n",
        "       'Company Name', 'Location', 'Headquarters', 'Size', 'Founded',\n",
        "       'Type of ownership', 'Industry', 'Sector', 'Revenue', 'Competitors']\n",
        "for col in cols:\n",
        "  unique_val = jobs[col].nunique()\n",
        "  print(f\"{col} has {unique_val} unique values\")"
      ],
      "metadata": {
        "colab": {
          "base_uri": "https://localhost:8080/"
        },
        "id": "q8A34lWjFnpE",
        "outputId": "b9f7d6a8-bbcd-4fa8-a341-183d53d44541",
        "collapsed": true
      },
      "execution_count": null,
      "outputs": [
        {
          "output_type": "stream",
          "name": "stdout",
          "text": [
            "Job Title has 326 unique values\n",
            "Salary Estimate has 416 unique values\n",
            "Job Description has 589 unique values\n",
            "Rating has 32 unique values\n",
            "Company Name has 442 unique values\n",
            "Location has 236 unique values\n",
            "Headquarters has 234 unique values\n",
            "Size has 8 unique values\n",
            "Founded has 109 unique values\n",
            "Type of ownership has 12 unique values\n",
            "Industry has 63 unique values\n",
            "Sector has 25 unique values\n",
            "Revenue has 13 unique values\n",
            "Competitors has 149 unique values\n"
          ]
        }
      ]
    },
    {
      "cell_type": "markdown",
      "source": [
        "## _**3. Data Wrangling**_"
      ],
      "metadata": {
        "id": "9hExTAQaILbO"
      }
    },
    {
      "cell_type": "markdown",
      "source": [
        "#### Operating on columns to make new features:\n",
        "- First to get the idea about the salary distribution, we will first split the **Salary Estimate** Column that is a object data type to a more appropriate data type(preferably __float__), to facilitate comparision."
      ],
      "metadata": {
        "id": "XJMQDkIW5Yex"
      }
    },
    {
      "cell_type": "code",
      "source": [
        "# Split only at the first hyphen and expand into separate columns\n",
        "jobs[['Lower range', 'Upper range']] = jobs['Salary Estimate'].str.split('-', n=1, expand=True)\n",
        "\n",
        "# Handling the missing or null values in the salary column\n",
        "jobs['Lower range'] = jobs['Lower range'].fillna(0) # Fill NaN with 0\n",
        "jobs['Upper range'] = jobs['Upper range'].fillna(0) # Fill NaN with 0"
      ],
      "metadata": {
        "id": "xnQEAHHLaNhq"
      },
      "execution_count": null,
      "outputs": []
    },
    {
      "cell_type": "markdown",
      "source": [
        "Here we have created a function __convert_to_float()__ to convert the splitted salary estimate column from object data type to float data type."
      ],
      "metadata": {
        "id": "Ja7lBieL8CJv"
      }
    },
    {
      "cell_type": "code",
      "source": [
        "# Clean and convert to float with error handling\n",
        "def convert_to_float(value):\n",
        "    \"\"\"This function is used to convert the salary estimate column from object data type to float data type.\"\"\"\n",
        "    # Remove 'K', '$', and any extra text, then convert to float\n",
        "    if pd.isna(value) or value.strip() == '':\n",
        "        return 0.0  # Return 0.0 for empty or NaN values\n",
        "    value = value.replace('K', '').replace('$', '').strip()\n",
        "    value = value.split(' ')[0]  # Remove any additional text after the first space\n",
        "    try:\n",
        "        return float(value)\n",
        "    except ValueError:\n",
        "        return 0.0  # Return 0.0 if conversion fails\n",
        "\n",
        "# Apply the conversion function\n",
        "jobs['Lower range (in $)'] = jobs['Lower range'].apply(convert_to_float)\n",
        "jobs['Upper range (in $)'] = jobs['Upper range'].apply(convert_to_float)\n",
        "\n"
      ],
      "metadata": {
        "id": "eXDHGlHDadh9"
      },
      "execution_count": null,
      "outputs": []
    },
    {
      "cell_type": "markdown",
      "source": [
        "We will now drop the unecessary columns from our data set."
      ],
      "metadata": {
        "id": "n9Af5v591bsY"
      }
    },
    {
      "cell_type": "code",
      "source": [
        "# dropping the unecessary columns from the dataset\n",
        "jobs = jobs.drop(columns = ['Salary Estimate', 'Lower range', 'Upper range'])\n",
        "\n",
        "# renaming the columns for proper understanding of the newly made features\n",
        "jobs = jobs.rename(columns = {'Lower range (in $)':'Salary (Lower in $1000)','Upper range (in $)': 'Salary (Upper in $1000)'})"
      ],
      "metadata": {
        "id": "WGcu1X_ubjub",
        "collapsed": true
      },
      "execution_count": null,
      "outputs": []
    },
    {
      "cell_type": "markdown",
      "source": [
        "- To get the more clear idea of Salary, we will create a new feature **Avg. Salary** column to get the average estimated salary that should be expected by a job applicant."
      ],
      "metadata": {
        "id": "4uNBH51oIOHH"
      }
    },
    {
      "cell_type": "code",
      "source": [
        "# creating a new feature named Avg. Salary\n",
        "jobs['Avg. Salary(in $1000)'] = (jobs['Salary (Lower in $1000)'] + jobs['Salary (Upper in $1000)'])/2"
      ],
      "metadata": {
        "id": "6AINMtQF_QVw"
      },
      "execution_count": null,
      "outputs": []
    },
    {
      "cell_type": "markdown",
      "source": [
        "- Cleaning the Company Name column"
      ],
      "metadata": {
        "id": "FCY2MgNoBypo"
      }
    },
    {
      "cell_type": "code",
      "source": [
        "# Clean the Company Name column by keeping only the first part before any newline\n",
        "jobs['Company Name'] = jobs['Company Name'].apply(lambda x: x.split('\\n')[0])"
      ],
      "metadata": {
        "id": "m2VkIMjwCaJO"
      },
      "execution_count": null,
      "outputs": []
    },
    {
      "cell_type": "markdown",
      "source": [
        "- Splitting Location into City and State and the Headquarters column into Headquarters_City and Headquarters_State."
      ],
      "metadata": {
        "id": "xOYEEgeZC0eY"
      }
    },
    {
      "cell_type": "code",
      "source": [
        "# Extract the city and state from the 'Location' column by splitting the string at the comma\n",
        "# and taking the first part (before the comma).\n",
        "jobs['City'] = jobs['Location'].apply(lambda x: x.split(',')[0])\n",
        "\n",
        "# and taking the second part (after the comma).\n",
        "jobs['State'] = jobs['Location'].apply(lambda x: x.split(',')[1].strip() if ',' in x and len(x.split(',')) > 1 else None)\n",
        "\n",
        "# drop the Location column from the dataset\n",
        "jobs.drop(columns = ['Location'], inplace = True)\n",
        "\n",
        "# doing the same for Headquarters column\n",
        "jobs['Headquarters_City'] = jobs['Headquarters'].apply(lambda x: x.split(',')[0])\n",
        "jobs['Headquarters_State'] = jobs['Headquarters'].apply(lambda x: x.split(',')[1].strip() if ',' in x and len(x.split(',')) > 1 else None)\n",
        "\n",
        "jobs.drop(columns=['Headquarters'], inplace=True)\n"
      ],
      "metadata": {
        "id": "WMa0DrqAC9ZX"
      },
      "execution_count": null,
      "outputs": []
    },
    {
      "cell_type": "markdown",
      "source": [
        "- Converting the size column to categorical variable by setting **Size** column to **Enterprise_size**;\n",
        " - **Small** for **size employees upto 500**\n",
        " -**Medium** for **employees upto 5000**\n",
        " - **Large** for **employees > 5000**"
      ],
      "metadata": {
        "id": "q1HDZba5-Uq8"
      }
    },
    {
      "cell_type": "code",
      "source": [
        "# creating a function to do this task\n",
        "def categorize_size(size):\n",
        "  \"\"\"This function is used to categorize the Size column into Enterprise size having categories like Small, Medium and Large on the basis of number of employees in the company.\"\"\"\n",
        "  # first we will separate the values for small, medium and large\n",
        "  Small = ['1 to 50 employees', '51 to 200 employees', '201 to 500 employees']\n",
        "  Medium = ['501 to 1000 employees', '1001 to 5000 employees']\n",
        "  Large = ['5001 to 10000 employees', '10000+ employees']\n",
        "  if size in Small:\n",
        "    return 'Small'\n",
        "  elif size in Medium:\n",
        "    return 'Medium'\n",
        "  elif size in Large:\n",
        "    return 'Large'\n",
        "  else:\n",
        "    return 'Unknown'\n"
      ],
      "metadata": {
        "id": "Bplhmqyf-Vab"
      },
      "execution_count": null,
      "outputs": []
    },
    {
      "cell_type": "code",
      "source": [
        "# calling the funbction on the Size column of the dataset\n",
        "jobs['Enterprise_size'] = jobs['Size'].apply(categorize_size)\n",
        "\n",
        "# dropping the Size column\n",
        "jobs.drop(columns=['Size'], inplace=True)\n",
        "\n",
        "#converting the new column Enterprise_size to category type\n",
        "jobs['Enterprise_size'] = jobs['Enterprise_size'].astype('category')"
      ],
      "metadata": {
        "id": "wJfuQyjeArFE"
      },
      "execution_count": null,
      "outputs": []
    },
    {
      "cell_type": "markdown",
      "source": [
        "- Modifying the **Revenue** column in the dataset by categorizing it"
      ],
      "metadata": {
        "id": "f0PwYXEdGBMU"
      }
    },
    {
      "cell_type": "code",
      "source": [
        "import re\n",
        "\n",
        "def extract_min_max(funding_range):\n",
        "  \"\"\"This function give pandas series with min and max value in $millions revenue.\"\"\"\n",
        "    # Extract the numbers from the string\n",
        "    numbers = re.findall(r'\\d+', funding_range)\n",
        "    if len(numbers) == 2:\n",
        "        min_value = int(numbers[0]) * (1 if 'million' in funding_range else 1000)\n",
        "        max_value = int(numbers[1]) * (1 if 'million' in funding_range else 1000)\n",
        "        return pd.Series([min_value, max_value])\n",
        "    return pd.Series([None, None])\n",
        "\n",
        "# Apply the function then both are averaged to be saved in avg_rev column\n",
        "jobs['avg_Revenue(in $ millions)'] = (jobs['Revenue'].apply(extract_min_max)[0]+jobs['Revenue'].apply(extract_min_max)[1])/2\n",
        "\n"
      ],
      "metadata": {
        "id": "Zm9gGI9InjD2",
        "colab": {
          "base_uri": "https://localhost:8080/",
          "height": 106
        },
        "outputId": "64c35cb5-0981-4e66-d151-3c7527450058"
      },
      "execution_count": null,
      "outputs": [
        {
          "output_type": "error",
          "ename": "IndentationError",
          "evalue": "unexpected indent (<ipython-input-25-97e55b92902b>, line 6)",
          "traceback": [
            "\u001b[0;36m  File \u001b[0;32m\"<ipython-input-25-97e55b92902b>\"\u001b[0;36m, line \u001b[0;32m6\u001b[0m\n\u001b[0;31m    numbers = re.findall(r'\\d+', funding_range)\u001b[0m\n\u001b[0m    ^\u001b[0m\n\u001b[0;31mIndentationError\u001b[0m\u001b[0;31m:\u001b[0m unexpected indent\n"
          ]
        }
      ]
    },
    {
      "cell_type": "markdown",
      "source": [
        "After all the Data Wrangling we have used on our data set, the final data set looks something like this;"
      ],
      "metadata": {
        "id": "LnzR_J7uP7CV"
      }
    },
    {
      "cell_type": "code",
      "source": [
        "# final view of the data after all the wrangling\n",
        "jobs.head()"
      ],
      "metadata": {
        "id": "Pp17cMSAQJDt"
      },
      "execution_count": null,
      "outputs": []
    },
    {
      "cell_type": "markdown",
      "source": [
        "## _**4. Data Vizualization, Storytelling & Experimenting with charts : Understand the relationships between variables**_\n",
        "\n"
      ],
      "metadata": {
        "id": "SnOb0r0_YCMw"
      }
    },
    {
      "cell_type": "markdown",
      "source": [
        "### Count of Jobs by Enterprise\n",
        "The following bar graph shows the number of job opportunities across various enterprises."
      ],
      "metadata": {
        "id": "I7g82bwbQq5V"
      }
    },
    {
      "cell_type": "code",
      "source": [
        "import matplotlib.pyplot as plt\n",
        "import seaborn as sns\n",
        "\n",
        "sns.countplot(x='Enterprise_size', data=jobs)\n",
        "plt.show()\n"
      ],
      "metadata": {
        "id": "xiurFTs9MShI"
      },
      "execution_count": null,
      "outputs": []
    },
    {
      "cell_type": "markdown",
      "source": [
        "#### _**Key Insights**_:\n",
        " - Targeting **SMEs (Small and Medium Enterprises)** might be a strategic approach since they form the majority.\n",
        " - Large enterprises, while fewer, may have higher budgets and resources, making them valuable for business strategies.\n",
        " - The presence of \"**Unknown**\" data suggests that data quality checks might be necessary to improve accuracy."
      ],
      "metadata": {
        "id": "RFATzI6XRGJd"
      }
    },
    {
      "cell_type": "markdown",
      "source": [
        "### Top 10 cities with most headquarters of company."
      ],
      "metadata": {
        "id": "eOn5GbOSu1U-"
      }
    },
    {
      "cell_type": "markdown",
      "source": [],
      "metadata": {
        "id": "cq2mEI7p15WY"
      }
    },
    {
      "cell_type": "code",
      "source": [
        "jobs['Headquarters_City'].value_counts().head(10).plot(kind = 'bar', color = 'blue',)\n",
        "plt.title('Top 10 Cities with Most Headquarters')\n",
        "plt.xlabel('City')\n",
        "plt.ylabel('No. of companies')"
      ],
      "metadata": {
        "id": "5C0Sc7HfnOqt"
      },
      "execution_count": null,
      "outputs": []
    },
    {
      "cell_type": "markdown",
      "source": [
        "#### _**Key Insights:**_\n",
        "\n",
        "\n",
        "*   We can deduce the fact that most of companies choose to stay in New York since it the global bussiness hub.\n",
        "*   All the mentioned cities have different geographical location which indicates that geography does not play crutial role for deciding company's location.\n",
        "  \n",
        "\n"
      ],
      "metadata": {
        "id": "p9KWH5CXvF8O"
      }
    },
    {
      "cell_type": "markdown",
      "source": [
        "### Dominance across the Job Market\n",
        "The following Pie chart is made to assess which countries greatly influence the IT Job Market."
      ],
      "metadata": {
        "id": "Wu1LI8NPRrul"
      }
    },
    {
      "cell_type": "code",
      "source": [
        "def sum_states(jobs):\n",
        "    \"\"\"Consolidate U.S. state job counts into a single 'United States' category.\"\"\"\n",
        "    # Identify U.S. states (2-character codes) and count jobs\n",
        "    us_states = [st for st in jobs['Headquarters_State'] if len(str(st)) == 2]\n",
        "    state_counts = pd.Series(us_states).value_counts()\n",
        "\n",
        "    # Create final dictionary, summing U.S. states into 'United States'\n",
        "    final_dict = jobs['Headquarters_State'].value_counts().to_dict()\n",
        "    us_total = state_counts.sum() if not state_counts.empty else 0\n",
        "    if us_total > 0:\n",
        "        final_dict['United States'] = us_total\n",
        "        # Remove individual state entries\n",
        "        for state in state_counts.index:\n",
        "            final_dict.pop(state, None)\n",
        "\n",
        "    return final_dict\n",
        "\n",
        "final_dict = sum_states(jobs)\n",
        "\n",
        "# Create pie chart\n",
        "labels = list(final_dict.keys())\n",
        "sizes = list(final_dict.values())\n",
        "colors = plt.cm.Dark2.colors  # Use colormap for colors\n",
        "explode = [0.2 if label == 'United States' else 0.2 for label in labels]  # Slightly more explode for U.S.\n",
        "\n",
        "plt.figure(figsize=(8, 8))\n",
        "plt.pie(sizes, explode=explode, labels=labels, colors=colors, autopct='%1.1f%%',\n",
        "        shadow=True, startangle=140)\n",
        "plt.axis('equal')  # Equal aspect ratio for a circle\n",
        "plt.title('Dominance of IT Job Market by Country')\n",
        "plt.show()\n",
        "\n"
      ],
      "metadata": {
        "id": "7eHU48CBRe9n"
      },
      "execution_count": null,
      "outputs": []
    },
    {
      "cell_type": "markdown",
      "source": [
        "#### _**Key Insights**_:\n",
        "- **U.S. Dominance:** The United States holds 92.0% of the global IT job market, making it the clear leader.\n",
        "- **Limited Global Spread:** Other countries (e.g., UK 2.2%, Switzerland 1.8%) have small shares, indicating a concentrated market.\n",
        "- **Regional Opportunities:** Countries like Germany, Japan, and South Korea offer niche IT strengths for specialization or outsourcing.\n",
        "- **Talent and Strategy**: Businesses should focus on U.S. opportunities but diversify to mitigate risks and retain global talent."
      ],
      "metadata": {
        "id": "18ll8xWyUHXJ"
      }
    },
    {
      "cell_type": "markdown",
      "source": [
        "### Salary range accross different company type"
      ],
      "metadata": {
        "id": "DPMR0jR2VBQ2"
      }
    },
    {
      "cell_type": "code",
      "source": [
        "data = jobs.loc[~jobs['Type of ownership'].isin(['Contract', 'Private Practice / Firm', 'Unknown']), ['Avg. Salary(in $1000)', 'Type of ownership']]\n",
        "sns.boxplot(x=data['Avg. Salary(in $1000)'], y=data['Type of ownership'], data=data)\n",
        "plt.show()"
      ],
      "metadata": {
        "id": "CSKTHSbUS-0i"
      },
      "execution_count": null,
      "outputs": []
    },
    {
      "cell_type": "markdown",
      "source": [
        "#### _**Key Insights:**_\n",
        "\n",
        "\n",
        "*  Salary fluctuates a lot in most of the company type except for school and government.\n",
        "\n",
        "*   There is more uncertainity in average salary for someone working in college compared to school.\n",
        "* Private, public, bussiness companies and college provide better salary compared to other type of organisation."
      ],
      "metadata": {
        "id": "mk5geBm6RWMn"
      }
    },
    {
      "cell_type": "markdown",
      "source": [
        "### Number of Job Listings by Industry\n",
        "The follwing countplot gives the distribution of Job roles across different Industries."
      ],
      "metadata": {
        "id": "k5sMdE_NZG5S"
      }
    },
    {
      "cell_type": "code",
      "source": [
        "plt.figure(figsize=(10,5))\n",
        "sns.countplot(y=jobs['Industry'], order=jobs['Industry'].value_counts().index[:10])\n",
        "plt.title('Number of Job Listings by Industry')\n",
        "plt.xlabel('Count')\n",
        "plt.ylabel('Industry')\n",
        "plt.show()\n"
      ],
      "metadata": {
        "id": "mPNwpVR-ZGCS"
      },
      "execution_count": null,
      "outputs": []
    },
    {
      "cell_type": "markdown",
      "source": [
        "####_**Key Insights:**_\n",
        "* **Biotech & Pharmaceuticals** have the highest job listings, followed by **IT Services and Computer Hardware & Software.**\n",
        "* Industries like **Aerospace & Defense, Consulting, and Internet** have fewer job openings.\n",
        "* **High-demand** industries (like Biotech & IT) may offer **more opportunities**, while niche industries may require specialized skills."
      ],
      "metadata": {
        "id": "UVFYFuWfsrMb"
      }
    },
    {
      "cell_type": "markdown",
      "source": [
        "### Jobs by Company Types"
      ],
      "metadata": {
        "id": "RpN7M0qfZ2Y0"
      }
    },
    {
      "cell_type": "code",
      "source": [
        "plt.figure(figsize=(8,8))\n",
        "ownership_counts = jobs['Type of ownership'].value_counts()\n",
        "plt.pie(ownership_counts, labels=ownership_counts.index, autopct='%1.1f%%', startangle=140)\n",
        "plt.title('Distribution of Company Types')\n",
        "plt.axis('equal')  # Equal aspect ratio ensures that pie is drawn as a circle.\n",
        "plt.show()"
      ],
      "metadata": {
        "id": "3Sp0UbHUhVxJ"
      },
      "execution_count": null,
      "outputs": []
    },
    {
      "cell_type": "markdown",
      "source": [
        "#### _**Key Insights:**_\n",
        "- **Private Companies Dominate** – The majority (56.3%) of job opportunities come from private-sector employers, making them the largest contributor.\n",
        "\n",
        "- **Public Companies Hold a Significant Share** – Public companies account for 25.1%, making them the second-largest category but far behind private firms.\n",
        "\n",
        "- **Nonprofit & Specialized Sectors Are Limited** – Nonprofits (6.9%), hospitals, government, and universities have a relatively smaller presence in the dataset.\n",
        "\n",
        "- **Niche Sectors Have Minimal Representation** – Private Practices, Schools, and Other Organizations contribute only a tiny fraction, suggesting fewer opportunities or less reported data.\n",
        "\n",
        "- **Implications for Job Seekers & Employers**– Job seekers should target private and public companies, while smaller sectors may need stronger recruitment efforts to attract talent."
      ],
      "metadata": {
        "id": "x0tv2r0qZsAH"
      }
    },
    {
      "cell_type": "markdown",
      "source": [
        "### Scatter Plot of Rating vs. Average Salary\n",
        "The scatter plot presents a visualization of Rating vs. Average Salary, categorized by organization type (denoted by different colors).\n"
      ],
      "metadata": {
        "id": "cyhbud5Yh-Ox"
      }
    },
    {
      "cell_type": "code",
      "source": [
        "plt.figure(figsize=(10, 6))\n",
        "sns.scatterplot(x='Avg. Salary(in $1000)', y='Rating', data=jobs, hue='Type of ownership')\n",
        "plt.title('Scatter Plot of Rating vs. Average Salary')\n",
        "plt.xlabel('Average Salary (in $1000)')\n",
        "plt.ylabel('Rating')\n",
        "plt.legend()\n",
        "plt.show()"
      ],
      "metadata": {
        "id": "60jVvkirh_OJ"
      },
      "execution_count": null,
      "outputs": []
    },
    {
      "cell_type": "markdown",
      "source": [
        "#### _**Key insights:-**_\n",
        " - The majority of ratings fall in the **3 to 5** range.\n",
        " - Salaries are mostly between **\\$50k to \\$150k**, with some outliers above **$200k**.\n",
        " - **Private and Public companies** tend to offer higher salaries.\n",
        " - Higher salaries do not necessarily correlate with higher ratings."
      ],
      "metadata": {
        "id": "iPJc5MQYpAzy"
      }
    },
    {
      "cell_type": "markdown",
      "source": [
        "### Job titles and average salary"
      ],
      "metadata": {
        "id": "CzOfnYi2iTqC"
      }
    },
    {
      "cell_type": "code",
      "source": [
        "# calculating the average salaries for each job title\n",
        "avg_sal = jobs.groupby('Job Title')['Avg. Salary(in $1000)'].mean().reset_index()\n",
        "\n",
        "# sorting by average salaries and getting top 10 most paying job roles\n",
        "top_jobs = avg_sal.sort_values(by='Avg. Salary(in $1000)', ascending=False).head(10)\n",
        "\n",
        "#plotting\n",
        "plt.figure(figsize=(10, 6))\n",
        "sns.barplot(x='Job Title', y='Avg. Salary(in $1000)', data=top_jobs, color='red')\n",
        "plt.title('Top 10 Job Titles by Average Salary')\n",
        "plt.xlabel('Job Title')\n",
        "plt.ylabel('Average Salary (in $1000)')\n",
        "plt.xticks(rotation=90)\n",
        "plt.show()"
      ],
      "metadata": {
        "id": "HYrODAqri4bT"
      },
      "execution_count": null,
      "outputs": []
    },
    {
      "cell_type": "markdown",
      "source": [
        "#### _**Key insights:-**_\n",
        "- **High Demand and Value for Data Science and Machine Learning Roles:** The chart overwhelmingly features titles in data science, machine learning, and related fields. This highlights the strong demand and high value placed on these skills in the current market.\n",
        "\n",
        "- **Experience and Seniority Matter Significantly:**  Titles like \"Principal,\" \"Senior,\" and \"Staff\" appear frequently, demonstrating that experience and seniority are crucial factors in earning potential within these fields.\n",
        "\n",
        "-  Companies are heavily investing in data-driven decision making and strategies. This implies that businesses recognize the competitive advantage that comes from effectively leveraging data and are prioritizing talent acquisition in this area."
      ],
      "metadata": {
        "id": "5amTGIUsbQ_W"
      }
    },
    {
      "cell_type": "markdown",
      "source": [
        "### Distribution of Average Salary\n",
        "Histogram helps understand salary distribution and identify common salary ranges.\n"
      ],
      "metadata": {
        "id": "HeWla3uFnJha"
      }
    },
    {
      "cell_type": "code",
      "source": [
        "plt.figure(figsize=(8,5))\n",
        "sns.histplot(jobs['Avg. Salary(in $1000)'], bins=20, kde=True, color='blue')\n",
        "plt.title('Distribution of Average Salary')\n",
        "plt.xlabel('Average Salary (in $1000)')\n",
        "plt.ylabel('Frequency')\n",
        "plt.show()\n",
        "\n"
      ],
      "metadata": {
        "id": "WHHLlRhVnNea"
      },
      "execution_count": null,
      "outputs": []
    },
    {
      "cell_type": "markdown",
      "source": [
        "#### _**Key Insights:**_\n",
        "*   Most jobs have low to mid-range salaries, but a few high-paying jobs exist.\n",
        "* There are different salary groups, likely based on industry or experience levels.\n",
        "* Businesses and job seekers can use this data to set fair salaries, negotiate better pay, and spot salary trends.\n",
        "\n"
      ],
      "metadata": {
        "id": "-5uy9E0Pprt2"
      }
    },
    {
      "cell_type": "markdown",
      "source": [
        "### Number of Jobs by Revenue of the Company"
      ],
      "metadata": {
        "id": "sYVfGlVWu3jW"
      }
    },
    {
      "cell_type": "code",
      "source": [
        "plt.figure(figsize=(12,5))\n",
        "jobs_filtered = jobs[jobs['Revenue'] != 'Unknown / Non-Applicable']\n",
        "sns.countplot(y=jobs_filtered['Revenue'], order=jobs_filtered['Revenue'].value_counts().index)\n",
        "plt.title('Number of Jobs by Revenue Category')\n",
        "plt.xlabel('Count')\n",
        "plt.ylabel('Revenue Category')\n",
        "plt.show()"
      ],
      "metadata": {
        "id": "rsSDpDBqu5f1"
      },
      "execution_count": null,
      "outputs": []
    },
    {
      "cell_type": "markdown",
      "source": [
        "#### _**Key Insights:**_\n",
        "* Most jobs are in companies with **very high revenues** (\\$10+billion  & \\$100–500 million).\n",
        "* Fewer job listings exist in smaller companies (less than $1 million in revenue).\n",
        "* **Larger companies seem to offer more job opportunities**, possibly due to their resources and expansion."
      ],
      "metadata": {
        "id": "1YzjiWQ8uvZU"
      }
    },
    {
      "cell_type": "markdown",
      "source": [
        "### Average Salary by Sector\n",
        "A bar chart helps compare salaries across different sectors (e.g., Healthcare, Tech, Energy).\n"
      ],
      "metadata": {
        "id": "q4DW0GZVygQQ"
      }
    },
    {
      "cell_type": "code",
      "source": [
        "plt.figure(figsize=(10,5))\n",
        "sns.barplot(x=jobs.groupby('Sector')['Avg. Salary(in $1000)'].mean().sort_values(ascending=False).index[:10],\n",
        "            y=jobs.groupby('Sector')['Avg. Salary(in $1000)'].mean().sort_values(ascending=False).values[:10],\n",
        "            )\n",
        "plt.xticks(rotation=90)\n",
        "plt.title('Top 10 Sectors with Highest Average Salaries')\n",
        "plt.xlabel('Sector')\n",
        "plt.ylabel('Average Salary (in $1000)')\n",
        "plt.show()\n"
      ],
      "metadata": {
        "id": "ZfFJ1UtMyhNP"
      },
      "execution_count": null,
      "outputs": []
    },
    {
      "cell_type": "markdown",
      "source": [
        "#### _**Key Insights:**_\n",
        "* **Accounting & Legal** has the highest average salary, followed by **Mining & Metals and Insurance.**\n",
        "* **Technology and Education** sectors have the lowest salaries among the top 10 highest-paying sectors.\n",
        "* **High-paying sectors often require specialized expertise, making them attractive for professionals seeking financial growth.**"
      ],
      "metadata": {
        "id": "M4_JmVs40ZsD"
      }
    },
    {
      "cell_type": "markdown",
      "source": [
        "### Dumbbell Plot for Salary Range by Top 10 most frquent Job Title"
      ],
      "metadata": {
        "id": "HFD3k6tw1m1X"
      }
    },
    {
      "cell_type": "code",
      "source": [
        "# Compute average salary bounds for top 10 most frequent job titles\n",
        "top_jobs = jobs['Job Title'].value_counts().index[:10]\n",
        "dumbbell = jobs[jobs['Job Title'].isin(top_jobs)].groupby('Job Title').agg({\n",
        "    'Salary (Lower in $1000)': 'mean',\n",
        "    'Salary (Upper in $1000)': 'mean'\n",
        "}).reset_index().sort_values('Salary (Lower in $1000)')\n",
        "\n",
        "plt.figure(figsize=(10,6))\n",
        "plt.hlines(y=dumbbell['Job Title'], xmin=dumbbell['Salary (Lower in $1000)'], xmax=dumbbell['Salary (Upper in $1000)'], color='grey', alpha=0.7, linewidth=5)\n",
        "plt.scatter(dumbbell['Salary (Lower in $1000)'], dumbbell['Job Title'], color='blue', s=100, label='Lower Salary')\n",
        "plt.scatter(dumbbell['Salary (Upper in $1000)'], dumbbell['Job Title'], color='red', s=100, label='Upper Salary')\n",
        "plt.title('Dumbbell Plot: Salary Range by Job Title')\n",
        "plt.xlabel('Salary (in $1000)')\n",
        "plt.legend()\n",
        "plt.show()\n"
      ],
      "metadata": {
        "id": "ctRIuYaV8E_C"
      },
      "execution_count": null,
      "outputs": []
    },
    {
      "cell_type": "markdown",
      "source": [
        "#### **Key Insights**\n",
        "* **Lead Data Scientist** has the highest salary range, reaching nearly **$200K**.\n",
        "\n",
        "* The biggest **salary gaps** (difference between lower and upper salary) are seen in **Senior Data Scientist** and **Lead Data Scientist**, showing high earning potential.\n",
        "\n",
        "* **Data Science** roles generally offer high salaries, with most positions exceeding **$75K**.\n",
        "\n",
        "* For the role of **Business Intelligence Analyst**, we dont have any informaion about its salary distribution. It may be the case that the Recruiters have posted the job openings by marking the salaries as **Negotiable** os it may be a job post like **Unpaid Intern/Incentive based salaries** etc"
      ],
      "metadata": {
        "id": "wIak_wYVMW_r"
      }
    },
    {
      "cell_type": "markdown",
      "source": [
        "### Bubble Graph\n",
        "The following Bubble graph has been used to show the relationship between the **Jobs** by top **10 States**, **Average Revenue** generated and the **Job Ratings**."
      ],
      "metadata": {
        "id": "JvFJ0Tklc5Zv"
      }
    },
    {
      "cell_type": "code",
      "source": [
        "# Select top 10 states by number of job listings\n",
        "top_states = jobs['State'].value_counts().head(10).index.tolist()\n",
        "\n",
        "# Aggregate data for these states\n",
        "state_stats = jobs[jobs['State'].isin(top_states)].groupby('State').agg({\n",
        "    'avg_Revenue(in $ millions)': 'mean',  # Use the correct revenue column\n",
        "    'Rating': 'mean',\n",
        "    'State': 'count'\n",
        "}).rename(columns={'State': 'Job_Count'}).reset_index()\n",
        "\n",
        "plt.figure(figsize=(10,6))\n",
        "scatter = plt.scatter(\n",
        "    state_stats['avg_Revenue(in $ millions)'],  # X-axis: Revenue\n",
        "    state_stats['Rating'],  # Y-axis: Company Rating\n",
        "    s=state_stats['Job_Count']*30,  # Bubble size scaled by job count\n",
        "    alpha=0.8,\n",
        "    c=state_stats['Job_Count'],  # Color based on job count\n",
        "    cmap='plasma'\n",
        ")\n",
        "plt.xlabel('Average Revenue (in $ millions)')  # Updated label\n",
        "plt.ylabel('Company Rating')\n",
        "plt.title('Top 10 States: Job Count, Revenue, & Rating')\n",
        "\n",
        "# Annotate bubbles with state names\n",
        "for idx, row in state_stats.iterrows():\n",
        "    plt.text(row['avg_Revenue(in $ millions)']+0.5, row['Rating'], row['State'], fontsize=9)\n",
        "\n",
        "plt.colorbar(scatter, label='Job Count')\n",
        "plt.show()\n"
      ],
      "metadata": {
        "id": "Y-owdPPsONHy"
      },
      "execution_count": null,
      "outputs": []
    },
    {
      "cell_type": "markdown",
      "source": [
        "#### _**Key Insights:**_\n",
        "* **California (CA) has the highest job count (202) with moderate revenue (913M) and a decent rating (3.75)**, showing strong job availability without extreme corporate dominance.\n",
        "\n",
        "* **New Jersey (NJ) leads in revenue (2475M) but has few jobs (22), indicating selective hiring.** Its high rating (3.85) suggests good workplace satisfaction despite limited openings.\n",
        "\n",
        "* Texas (TX) and Virginia (VA) have balanced job counts (54, 60) with strong ratings (3.92, 3.90), making them attractive for both opportunities and work environment.\n",
        "\n",
        "* **Pennsylvania (PA) has the second-highest revenue (2184M) but the lowest rating (3.02)**, suggesting **workplace dissatisfaction despite financial strength.**"
      ],
      "metadata": {
        "id": "7MFn8fp4f93k"
      }
    },
    {
      "cell_type": "markdown",
      "source": [
        "### Distribution of Companies\n",
        "The following bargraph shows the distribution of companies founded over the years."
      ],
      "metadata": {
        "id": "x73uv3vuXoXN"
      }
    },
    {
      "source": [
        "from matplotlib import pyplot as plt\n",
        "jobs['Founded'].plot(kind='hist', bins=300, title='Compies brougth up since 1775-2019', edgecolor='black')\n",
        "plt.xlim((1750,2020))\n",
        "plt.xlabel('Founded Year')\n",
        "plt.ylabel('Count')\n",
        "plt.xticks(np.arange(1770, 2025, 25))\n",
        "plt.gca().spines[['top', 'right',]].set_visible(False)\n",
        "plt.show()"
      ],
      "cell_type": "code",
      "metadata": {
        "id": "_6903PMhcyzt"
      },
      "execution_count": null,
      "outputs": []
    },
    {
      "cell_type": "markdown",
      "source": [
        "#### _**Key Insights:**_\n",
        " - There is a notable surge in the count of companies founded, especially after the 1980s.\n",
        " - The highest count occurs in the year 2020, indicating a significant draw of companies founded during that period.\n",
        " - The graph also suggest that there was a sudden boom in the IT and Technological sectors around the time period of **1995 - 2000** as a huge spikes in new companies founded is seen."
      ],
      "metadata": {
        "id": "FFfELR4_YPrd"
      }
    },
    {
      "cell_type": "markdown",
      "source": [
        "### Variation of Average Salaries by Job Locations\n",
        "The following histogram shows the variation of average Salaries across different Job Locations in the United States."
      ],
      "metadata": {
        "id": "MPzMDLBkX6S8"
      }
    },
    {
      "cell_type": "code",
      "source": [
        "# filtering data on the basis of top 10 states in the United States\n",
        "top_10_abb = [\"CA\", \"FL\", \"IL\", \"MA\", \"NJ\", \"NY\", \"PA\", \"TX\", \"VA\", \"WA\"]\n",
        "avg_salaries_by_state = jobs.groupby('State')['Avg. Salary(in $1000)'].mean().reset_index()\n",
        "avg_salaries_by_state= avg_salaries_by_state.loc[avg_salaries_by_state['State'].isin(top_10_abb), ['State', 'Avg. Salary(in $1000)']]\n",
        "\n",
        "# Plotting the bar chart\n",
        "plt.figure(figsize=(10, 6))  # Increase figure size for better clarity\n",
        "plt.bar(avg_salaries_by_state['State'], avg_salaries_by_state['Avg. Salary(in $1000)'], color='blue', edgecolor='skyblue')\n",
        "plt.title('Average Salary by top 10 U.S. States')\n",
        "plt.xlabel('State')\n",
        "plt.ylabel('Average Salary (in $1000)')\n",
        "plt.xticks(rotation=45)\n",
        "\n",
        "# Adding titles and labels\n",
        "plt.title('Average Salary by top 10 U.S. States', fontsize=16)\n",
        "plt.xlabel('State', fontsize=12)\n",
        "plt.ylabel('Average Salary (in $1000)', fontsize=12)\n",
        "\n",
        "# Rotate x-axis labels for better readability\n",
        "plt.xticks(rotation=45)\n",
        "\n",
        "# Display the plot\n",
        "plt.tight_layout()  # To ensure everything fits in the plot\n",
        "plt.show()"
      ],
      "metadata": {
        "id": "FEhl_C7GsRHt"
      },
      "execution_count": null,
      "outputs": []
    },
    {
      "cell_type": "markdown",
      "source": [
        "#### _**Key Insights:**_\n",
        "\n",
        " - **Consistency Across States:** The chart indicates that salaries are relatively high across all top states, qualifying them as significant players in the job market.\n",
        "\n",
        " - **Potential Insights for Job Seekers:** Individuals looking for **higher salaries** might prioritize **California, Massachusetts, or New York**.\n",
        "\n",
        " - **Regional Economic Factors:** **The variation in average salaries can be reflective of the cost of living**, industry presence, and economic activity within each state.\n",
        "\n",
        " - **Strategic Planning:** Companies can strategize their compensation packages based on these insights to remain competitive in retaining and attracting employees."
      ],
      "metadata": {
        "id": "fwcTCOoSYOj1"
      }
    },
    {
      "cell_type": "markdown",
      "source": [
        "# **Conclusion**  \n",
        "This project will provide valuable insights into salary trends, empowering job seekers with data-driven career decisions, assisting companies in fair compensation practices, and enabling recruiters to benchmark salaries efficiently. By leveraging machine learning, the project will contribute to salary transparency and help professionals and organizations navigate salary structures effectively.  \n"
      ],
      "metadata": {
        "id": "lBgHr6Apf9gQ"
      }
    },
    {
      "cell_type": "code",
      "source": [
        "!git add OTW_labmantics.ipynb"
      ],
      "metadata": {
        "colab": {
          "base_uri": "https://localhost:8080/"
        },
        "id": "n2STw6I4gTyy",
        "outputId": "5c22a477-60c8-467f-c9e0-9e5f1fd7d165"
      },
      "execution_count": 1,
      "outputs": [
        {
          "output_type": "stream",
          "name": "stdout",
          "text": [
            "fatal: not a git repository (or any of the parent directories): .git\n"
          ]
        }
      ]
    }
  ]
}