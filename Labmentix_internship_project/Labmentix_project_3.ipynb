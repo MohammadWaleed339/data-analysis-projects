{
 "cells": [
  {
   "cell_type": "markdown",
   "metadata": {
    "colab_type": "text",
    "id": "view-in-github"
   },
   "source": [
    "<a href=\"https://colab.research.google.com/github/MohammadWaleed339/internship_collab_file/blob/main/Labmentix_project_3.ipynb\" target=\"_parent\"><img src=\"https://colab.research.google.com/assets/colab-badge.svg\" alt=\"Open In Colab\"/></a>"
   ]
  },
  {
   "cell_type": "markdown",
   "metadata": {
    "id": "2hEzFfVZUFUd"
   },
   "source": [
    "# **Project Name** - **Flipkart Customer Satisfaction Analysis.**\n",
    "## **Project Type** - EDA\n",
    "### **Contribution - Team**\n",
    "\n",
    "*   **Team Member 1** - Mohd. Tabrej Khan\n",
    "*   **Team Member 2** - Mohammad Waleed\n",
    "*   **Team Member 3** - Owais Khan\n",
    "\n"
   ]
  },
  {
   "cell_type": "markdown",
   "metadata": {
    "id": "NlU0_uS8jk6W"
   },
   "source": [
    "# **Project Summary**\n"
   ]
  },
  {
   "cell_type": "markdown",
   "metadata": {
    "id": "pDVH2OjbayTO"
   },
   "source": [
    "## ***Introduction***\n",
    "This project performs an Exploratory Data Analysis (EDA) on Flipkart's customer satisfaction and query response time datasets.The Flipkart project aims to analyze and gain insights from Flipkart's **Customer Support** dataset, focusing on key trends, customer behavior, and business performance. Here our main objective is to improve the Customer Satisfaction, and improve the customer retention by adapting various strategies for the same. Maintain the brand loyalty by effective use of the new strategies formulated by analyzing the existing situation.\n",
    "\n",
    "\n"
   ]
  },
  {
   "cell_type": "markdown",
   "metadata": {
    "id": "oaS5six4T2T3"
   },
   "source": [
    "## ***Business Objectives***\n",
    "\n",
    "**1. Identify Key Drivers of Customer Satisfaction**  \n",
    "- Analyze customer interactions, feedback, and satisfaction scores to determine the main factors influencing customer satisfaction.  \n",
    "\n",
    "**2. Assess Customer Service Team Performance**  \n",
    "- Evaluate the efficiency and effectiveness of different customer service teams across various support channels.  \n",
    "\n",
    "**3. Enhance Customer Support Strategies**  \n",
    "- Develop strategies to improve service delivery, ensuring faster resolution of customer issues and a more tailored approach to customer support.  \n",
    "\n",
    "**4. Optimize Service Agent Performance**  \n",
    "- Improve service agent effectiveness by identifying best practices and addressing gaps in customer service.  \n",
    "\n",
    "**5. Improve Customer Satisfaction Metrics**  \n",
    "- Boost key satisfaction indicators such as the CSAT (Customer Satisfaction Score) to enhance overall service quality.  \n",
    "\n",
    "**6. Increase Customer Retention and Brand Loyalty**  \n",
    "- Strengthen customer relationships by improving service quality, leading to higher customer retention and brand loyalty.  \n"
   ]
  },
  {
   "cell_type": "markdown",
   "metadata": {
    "id": "grtbJjzNftuk"
   },
   "source": [
    "## ***Methodology***\n",
    "1. **Data Cleaning**:\n",
    "   - Handle missing values and inconsistent formatting.\n",
    "   - Convert date/time columns to proper formats.\n",
    "2. **Exploratory Data Analysis (EDA)**:\n",
    "   - Visualizing distribution of queries and response times.\n",
    "   - Identifying correlations between response time and CSAT scores.\n",
    "3. **Agent Performance Analysis**:\n",
    "   - Comparing performance across tenure and shifts.\n",
    "   - Evaluating agent effectiveness based on CSAT scores.\n",
    "4. **Insights & Recommendations**:\n",
    "   - Factors impacting CSAT scores.\n",
    "   - Potential improvements for support response time.\n",
    "\n",
    "\n",
    "\n",
    "\n"
   ]
  },
  {
   "cell_type": "markdown",
   "metadata": {
    "id": "El9HhSHXWCKI"
   },
   "source": [
    "# **Github link**\n",
    "\n",
    "*   Mohd. Tabrej Khan - https://github.com/Mohd-Tabrej-Khan\n",
    "*   Mohammad Waleed -  https://github.com/MohammadWaleed339\n",
    "*   Owais Khan - https://github.com/Owaiskhan3320\n",
    "\n",
    "\n",
    "\n",
    "\n"
   ]
  },
  {
   "cell_type": "markdown",
   "metadata": {
    "id": "r9XD3B6KgnpL"
   },
   "source": [
    "# **General Guidelines**\n",
    "\n",
    "## ***1. Code Structure and Documentation***\n",
    "- The code is well-structured, formatted, and documented with clear comments explaining logic and implementation.\n",
    "- Followed PEP8 guidelines for Python code formatting.\n",
    "- Used meaningful variable and function names for better readability.\n",
    "\n",
    "## ***2. Exception Handling and Production-Grade Code***\n",
    "- Implemented try-except blocks to prevent unexpected errors.\n",
    "- The code is modular, making it efficient and maintainable.\n",
    "- The Jupyter Notebook is deployment-ready, ensuring it runs smoothly from start to finish.\n",
    "\n",
    "## ***3. Proper Commenting and Documentation***\n",
    "- Each function and logic block has detailed comments explaining its purpose and implementation.\n",
    "- Docstrings (`''' '''`) are used for function definitions to improve clarity.\n",
    "- A README file is included to guide users on executing the project.\n",
    "\n",
    "## ***4. Data Visualization and Chart Guidelines***\n",
    "As part of the analysis, multiple charts have been generated to provide insights into content distribution, ratings, and popularity trends. Each visualization includes:\n",
    "- **Chart Title**: Clearly describes the visualization.\n",
    "- **Purpose of the Chart**: Explains why the chart is included and its relevance to the analysis.\n",
    "- **Insights Derived from the Chart**: Key takeaways, observed patterns, and significant trends.\n"
   ]
  },
  {
   "cell_type": "markdown",
   "metadata": {
    "id": "7HYSrNBig1Jy"
   },
   "source": [
    "# **Know Your Data**"
   ]
  },
  {
   "cell_type": "markdown",
   "metadata": {
    "id": "1sv5me5fg5Xa"
   },
   "source": [
    "## ***Importing the necessary libraries***.\n",
    "First, we will import all the necessary libraries we will be going to utilise in our project."
   ]
  },
  {
   "cell_type": "code",
   "execution_count": null,
   "metadata": {
    "id": "5Wi5Wu9ebVi7"
   },
   "outputs": [],
   "source": [
    "import pandas as pd #for data handling\n",
    "import numpy as np #for numerical operations\n",
    "import matplotlib.pyplot as plt # for basic viz\n",
    "import seaborn as sns # for advanced viz\n",
    "from sklearn.preprocessing import LabelEncoder # for encoding categorical variables\n",
    "from sklearn.impute import SimpleImputer # for handling missing values\n",
    "from sklearn.preprocessing import OneHotEncoder\n",
    "import warnings\n",
    "warnings.filterwarnings('ignore')"
   ]
  },
  {
   "cell_type": "markdown",
   "metadata": {
    "id": "e63fFov3kYSb"
   },
   "source": [
    "## ***Loading the dataset.***\n",
    "Here we have been provided with the ***Flipkart Customer Support Data***, in **.csv** file format. We will now upload our data using pandas.\n",
    "We have uploaded the data into the __GitHub__ repository for open acces and loaded it."
   ]
  },
  {
   "cell_type": "code",
   "execution_count": null,
   "metadata": {
    "id": "4SyG1TGbNf4C"
   },
   "outputs": [],
   "source": [
    "url = 'https://raw.githubusercontent.com/MohammadWaleed339/internship_collab_file/051a819f5202e5b9eb9c2f2f1f921b9b30c4db06/Labmentix_internship_project/datasets/Customer_support_data.csv'\n",
    "df = pd.read_csv(url)"
   ]
  },
  {
   "cell_type": "markdown",
   "metadata": {
    "id": "rgvSP8aSmvZL"
   },
   "source": [
    "## ***Take a first look at the data.***"
   ]
  },
  {
   "cell_type": "code",
   "execution_count": null,
   "metadata": {
    "colab": {
     "base_uri": "https://localhost:8080/",
     "height": 503
    },
    "collapsed": true,
    "id": "fnKgxLQBbaM6",
    "jupyter": {
     "outputs_hidden": true
    },
    "outputId": "60c7ed37-6dd1-44fd-c091-aebd1a54a9ef"
   },
   "outputs": [
    {
     "data": {
      "application/vnd.google.colaboratory.intrinsic+json": {
       "summary": "{\n  \"name\": \"df\",\n  \"rows\": 85907,\n  \"fields\": [\n    {\n      \"column\": \"Unique id\",\n      \"properties\": {\n        \"dtype\": \"string\",\n        \"num_unique_values\": 85907,\n        \"samples\": [\n          \"fc42f862-7521-472c-b569-8bce866ebe8c\",\n          \"a7bb8900-a120-430f-b573-55ed6c16faab\",\n          \"b697f809-0d10-4839-9ccd-152ab6a179f4\"\n        ],\n        \"semantic_type\": \"\",\n        \"description\": \"\"\n      }\n    },\n    {\n      \"column\": \"channel_name\",\n      \"properties\": {\n        \"dtype\": \"category\",\n        \"num_unique_values\": 3,\n        \"samples\": [\n          \"Outcall\",\n          \"Inbound\",\n          \"Email\"\n        ],\n        \"semantic_type\": \"\",\n        \"description\": \"\"\n      }\n    },\n    {\n      \"column\": \"category\",\n      \"properties\": {\n        \"dtype\": \"category\",\n        \"num_unique_values\": 12,\n        \"samples\": [\n          \"Others\",\n          \"Onboarding related\",\n          \"Product Queries\"\n        ],\n        \"semantic_type\": \"\",\n        \"description\": \"\"\n      }\n    },\n    {\n      \"column\": \"Sub-category\",\n      \"properties\": {\n        \"dtype\": \"category\",\n        \"num_unique_values\": 57,\n        \"samples\": [\n          \"Life Insurance\",\n          \"Fraudulent User\",\n          \"Card/EMI\"\n        ],\n        \"semantic_type\": \"\",\n        \"description\": \"\"\n      }\n    },\n    {\n      \"column\": \"Customer Remarks\",\n      \"properties\": {\n        \"dtype\": \"category\",\n        \"num_unique_values\": 18231,\n        \"samples\": [\n          \"Interaction in telephonically is good experience she talk very nyc n solve my problem thanx dear\",\n          \"I am happy with the support received.\",\n          \"Please remove your Shopzilla vendor from your service \"\n        ],\n        \"semantic_type\": \"\",\n        \"description\": \"\"\n      }\n    },\n    {\n      \"column\": \"Order_id\",\n      \"properties\": {\n        \"dtype\": \"string\",\n        \"num_unique_values\": 67675,\n        \"samples\": [\n          \"414c0688-adaf-4123-b342-e8bd2c050638\",\n          \"110cba2e-b988-40b8-9967-716c8d6e7a71\",\n          \"0058ad82-75ed-4253-821b-86553937658b\"\n        ],\n        \"semantic_type\": \"\",\n        \"description\": \"\"\n      }\n    },\n    {\n      \"column\": \"order_date_time\",\n      \"properties\": {\n        \"dtype\": \"date\",\n        \"min\": \"2022-01-16 13:15:00\",\n        \"max\": \"2023-12-08 23:36:00\",\n        \"num_unique_values\": 13766,\n        \"samples\": [\n          \"27/06/2023 08:27\",\n          \"09/08/2023 06:19\",\n          \"28/07/2023 19:02\"\n        ],\n        \"semantic_type\": \"\",\n        \"description\": \"\"\n      }\n    },\n    {\n      \"column\": \"Issue_reported at\",\n      \"properties\": {\n        \"dtype\": \"category\",\n        \"num_unique_values\": 30923,\n        \"samples\": [\n          \"26/08/2023 17:45\",\n          \"11/08/2023 01:02\",\n          \"25/08/2023 22:00\"\n        ],\n        \"semantic_type\": \"\",\n        \"description\": \"\"\n      }\n    },\n    {\n      \"column\": \"issue_responded\",\n      \"properties\": {\n        \"dtype\": \"category\",\n        \"num_unique_values\": 30262,\n        \"samples\": [\n          \"11/08/2023 15:20\",\n          \"05/08/2023 23:43\",\n          \"06/08/2023 11:39\"\n        ],\n        \"semantic_type\": \"\",\n        \"description\": \"\"\n      }\n    },\n    {\n      \"column\": \"Survey_response_Date\",\n      \"properties\": {\n        \"dtype\": \"object\",\n        \"num_unique_values\": 31,\n        \"samples\": [\n          \"28-Aug-23\",\n          \"16-Aug-23\",\n          \"24-Aug-23\"\n        ],\n        \"semantic_type\": \"\",\n        \"description\": \"\"\n      }\n    },\n    {\n      \"column\": \"Customer_City\",\n      \"properties\": {\n        \"dtype\": \"category\",\n        \"num_unique_values\": 1782,\n        \"samples\": [\n          \"FEROZEPUR JHIRKA\",\n          \"NAMRUP\",\n          \"MUZAFFARPUR\"\n        ],\n        \"semantic_type\": \"\",\n        \"description\": \"\"\n      }\n    },\n    {\n      \"column\": \"Product_category\",\n      \"properties\": {\n        \"dtype\": \"category\",\n        \"num_unique_values\": 9,\n        \"samples\": [\n          \"GiftCard\",\n          \"Electronics\",\n          \"Home\"\n        ],\n        \"semantic_type\": \"\",\n        \"description\": \"\"\n      }\n    },\n    {\n      \"column\": \"Item_price\",\n      \"properties\": {\n        \"dtype\": \"number\",\n        \"std\": 12825.728411195778,\n        \"min\": 0.0,\n        \"max\": 164999.0,\n        \"num_unique_values\": 2789,\n        \"samples\": [\n          764.0,\n          1055.0,\n          2386.0\n        ],\n        \"semantic_type\": \"\",\n        \"description\": \"\"\n      }\n    },\n    {\n      \"column\": \"connected_handling_time\",\n      \"properties\": {\n        \"dtype\": \"number\",\n        \"std\": 246.29503712116792,\n        \"min\": 0.0,\n        \"max\": 1986.0,\n        \"num_unique_values\": 211,\n        \"samples\": [\n          777.0,\n          282.0,\n          815.0\n        ],\n        \"semantic_type\": \"\",\n        \"description\": \"\"\n      }\n    },\n    {\n      \"column\": \"Agent_name\",\n      \"properties\": {\n        \"dtype\": \"category\",\n        \"num_unique_values\": 1371,\n        \"samples\": [\n          \"Kimberly Morris\",\n          \"Russell Ramsey\",\n          \"Joshua Foster\"\n        ],\n        \"semantic_type\": \"\",\n        \"description\": \"\"\n      }\n    },\n    {\n      \"column\": \"Supervisor\",\n      \"properties\": {\n        \"dtype\": \"category\",\n        \"num_unique_values\": 40,\n        \"samples\": [\n          \"Madison Kim\",\n          \"Mia Patel\",\n          \"Logan Lee\"\n        ],\n        \"semantic_type\": \"\",\n        \"description\": \"\"\n      }\n    },\n    {\n      \"column\": \"Manager\",\n      \"properties\": {\n        \"dtype\": \"category\",\n        \"num_unique_values\": 6,\n        \"samples\": [\n          \"Jennifer Nguyen\",\n          \"Michael Lee\",\n          \"Emily Chen\"\n        ],\n        \"semantic_type\": \"\",\n        \"description\": \"\"\n      }\n    },\n    {\n      \"column\": \"Tenure Bucket\",\n      \"properties\": {\n        \"dtype\": \"category\",\n        \"num_unique_values\": 5,\n        \"samples\": [\n          \">90\",\n          \"61-90\",\n          \"0-30\"\n        ],\n        \"semantic_type\": \"\",\n        \"description\": \"\"\n      }\n    },\n    {\n      \"column\": \"Agent Shift\",\n      \"properties\": {\n        \"dtype\": \"category\",\n        \"num_unique_values\": 5,\n        \"samples\": [\n          \"Evening\",\n          \"Night\",\n          \"Split\"\n        ],\n        \"semantic_type\": \"\",\n        \"description\": \"\"\n      }\n    },\n    {\n      \"column\": \"CSAT Score\",\n      \"properties\": {\n        \"dtype\": \"number\",\n        \"std\": 1,\n        \"min\": 1,\n        \"max\": 5,\n        \"num_unique_values\": 5,\n        \"samples\": [\n          4,\n          2,\n          1\n        ],\n        \"semantic_type\": \"\",\n        \"description\": \"\"\n      }\n    }\n  ]\n}",
       "type": "dataframe",
       "variable_name": "df"
      },
      "text/html": [
       "\n",
       "  <div id=\"df-91df7c18-5968-4727-9cef-f81e29ad767d\" class=\"colab-df-container\">\n",
       "    <div>\n",
       "<style scoped>\n",
       "    .dataframe tbody tr th:only-of-type {\n",
       "        vertical-align: middle;\n",
       "    }\n",
       "\n",
       "    .dataframe tbody tr th {\n",
       "        vertical-align: top;\n",
       "    }\n",
       "\n",
       "    .dataframe thead th {\n",
       "        text-align: right;\n",
       "    }\n",
       "</style>\n",
       "<table border=\"1\" class=\"dataframe\">\n",
       "  <thead>\n",
       "    <tr style=\"text-align: right;\">\n",
       "      <th></th>\n",
       "      <th>Unique id</th>\n",
       "      <th>channel_name</th>\n",
       "      <th>category</th>\n",
       "      <th>Sub-category</th>\n",
       "      <th>Customer Remarks</th>\n",
       "      <th>Order_id</th>\n",
       "      <th>order_date_time</th>\n",
       "      <th>Issue_reported at</th>\n",
       "      <th>issue_responded</th>\n",
       "      <th>Survey_response_Date</th>\n",
       "      <th>Customer_City</th>\n",
       "      <th>Product_category</th>\n",
       "      <th>Item_price</th>\n",
       "      <th>connected_handling_time</th>\n",
       "      <th>Agent_name</th>\n",
       "      <th>Supervisor</th>\n",
       "      <th>Manager</th>\n",
       "      <th>Tenure Bucket</th>\n",
       "      <th>Agent Shift</th>\n",
       "      <th>CSAT Score</th>\n",
       "    </tr>\n",
       "  </thead>\n",
       "  <tbody>\n",
       "    <tr>\n",
       "      <th>0</th>\n",
       "      <td>7e9ae164-6a8b-4521-a2d4-58f7c9fff13f</td>\n",
       "      <td>Outcall</td>\n",
       "      <td>Product Queries</td>\n",
       "      <td>Life Insurance</td>\n",
       "      <td>NaN</td>\n",
       "      <td>c27c9bb4-fa36-4140-9f1f-21009254ffdb</td>\n",
       "      <td>NaN</td>\n",
       "      <td>01/08/2023 11:13</td>\n",
       "      <td>01/08/2023 11:47</td>\n",
       "      <td>01-Aug-23</td>\n",
       "      <td>NaN</td>\n",
       "      <td>NaN</td>\n",
       "      <td>NaN</td>\n",
       "      <td>NaN</td>\n",
       "      <td>Richard Buchanan</td>\n",
       "      <td>Mason Gupta</td>\n",
       "      <td>Jennifer Nguyen</td>\n",
       "      <td>On Job Training</td>\n",
       "      <td>Morning</td>\n",
       "      <td>5</td>\n",
       "    </tr>\n",
       "    <tr>\n",
       "      <th>1</th>\n",
       "      <td>b07ec1b0-f376-43b6-86df-ec03da3b2e16</td>\n",
       "      <td>Outcall</td>\n",
       "      <td>Product Queries</td>\n",
       "      <td>Product Specific Information</td>\n",
       "      <td>NaN</td>\n",
       "      <td>d406b0c7-ce17-4654-b9de-f08d421254bd</td>\n",
       "      <td>NaN</td>\n",
       "      <td>01/08/2023 12:52</td>\n",
       "      <td>01/08/2023 12:54</td>\n",
       "      <td>01-Aug-23</td>\n",
       "      <td>NaN</td>\n",
       "      <td>NaN</td>\n",
       "      <td>NaN</td>\n",
       "      <td>NaN</td>\n",
       "      <td>Vicki Collins</td>\n",
       "      <td>Dylan Kim</td>\n",
       "      <td>Michael Lee</td>\n",
       "      <td>&gt;90</td>\n",
       "      <td>Morning</td>\n",
       "      <td>5</td>\n",
       "    </tr>\n",
       "    <tr>\n",
       "      <th>2</th>\n",
       "      <td>200814dd-27c7-4149-ba2b-bd3af3092880</td>\n",
       "      <td>Inbound</td>\n",
       "      <td>Order Related</td>\n",
       "      <td>Installation/demo</td>\n",
       "      <td>NaN</td>\n",
       "      <td>c273368d-b961-44cb-beaf-62d6fd6c00d5</td>\n",
       "      <td>NaN</td>\n",
       "      <td>01/08/2023 20:16</td>\n",
       "      <td>01/08/2023 20:38</td>\n",
       "      <td>01-Aug-23</td>\n",
       "      <td>NaN</td>\n",
       "      <td>NaN</td>\n",
       "      <td>NaN</td>\n",
       "      <td>NaN</td>\n",
       "      <td>Duane Norman</td>\n",
       "      <td>Jackson Park</td>\n",
       "      <td>William Kim</td>\n",
       "      <td>On Job Training</td>\n",
       "      <td>Evening</td>\n",
       "      <td>5</td>\n",
       "    </tr>\n",
       "    <tr>\n",
       "      <th>3</th>\n",
       "      <td>eb0d3e53-c1ca-42d3-8486-e42c8d622135</td>\n",
       "      <td>Inbound</td>\n",
       "      <td>Returns</td>\n",
       "      <td>Reverse Pickup Enquiry</td>\n",
       "      <td>NaN</td>\n",
       "      <td>5aed0059-55a4-4ec6-bb54-97942092020a</td>\n",
       "      <td>NaN</td>\n",
       "      <td>01/08/2023 20:56</td>\n",
       "      <td>01/08/2023 21:16</td>\n",
       "      <td>01-Aug-23</td>\n",
       "      <td>NaN</td>\n",
       "      <td>NaN</td>\n",
       "      <td>NaN</td>\n",
       "      <td>NaN</td>\n",
       "      <td>Patrick Flores</td>\n",
       "      <td>Olivia Wang</td>\n",
       "      <td>John Smith</td>\n",
       "      <td>&gt;90</td>\n",
       "      <td>Evening</td>\n",
       "      <td>5</td>\n",
       "    </tr>\n",
       "    <tr>\n",
       "      <th>4</th>\n",
       "      <td>ba903143-1e54-406c-b969-46c52f92e5df</td>\n",
       "      <td>Inbound</td>\n",
       "      <td>Cancellation</td>\n",
       "      <td>Not Needed</td>\n",
       "      <td>NaN</td>\n",
       "      <td>e8bed5a9-6933-4aff-9dc6-ccefd7dcde59</td>\n",
       "      <td>NaN</td>\n",
       "      <td>01/08/2023 10:30</td>\n",
       "      <td>01/08/2023 10:32</td>\n",
       "      <td>01-Aug-23</td>\n",
       "      <td>NaN</td>\n",
       "      <td>NaN</td>\n",
       "      <td>NaN</td>\n",
       "      <td>NaN</td>\n",
       "      <td>Christopher Sanchez</td>\n",
       "      <td>Austin Johnson</td>\n",
       "      <td>Michael Lee</td>\n",
       "      <td>0-30</td>\n",
       "      <td>Morning</td>\n",
       "      <td>5</td>\n",
       "    </tr>\n",
       "  </tbody>\n",
       "</table>\n",
       "</div>\n",
       "    <div class=\"colab-df-buttons\">\n",
       "\n",
       "  <div class=\"colab-df-container\">\n",
       "    <button class=\"colab-df-convert\" onclick=\"convertToInteractive('df-91df7c18-5968-4727-9cef-f81e29ad767d')\"\n",
       "            title=\"Convert this dataframe to an interactive table.\"\n",
       "            style=\"display:none;\">\n",
       "\n",
       "  <svg xmlns=\"http://www.w3.org/2000/svg\" height=\"24px\" viewBox=\"0 -960 960 960\">\n",
       "    <path d=\"M120-120v-720h720v720H120Zm60-500h600v-160H180v160Zm220 220h160v-160H400v160Zm0 220h160v-160H400v160ZM180-400h160v-160H180v160Zm440 0h160v-160H620v160ZM180-180h160v-160H180v160Zm440 0h160v-160H620v160Z\"/>\n",
       "  </svg>\n",
       "    </button>\n",
       "\n",
       "  <style>\n",
       "    .colab-df-container {\n",
       "      display:flex;\n",
       "      gap: 12px;\n",
       "    }\n",
       "\n",
       "    .colab-df-convert {\n",
       "      background-color: #E8F0FE;\n",
       "      border: none;\n",
       "      border-radius: 50%;\n",
       "      cursor: pointer;\n",
       "      display: none;\n",
       "      fill: #1967D2;\n",
       "      height: 32px;\n",
       "      padding: 0 0 0 0;\n",
       "      width: 32px;\n",
       "    }\n",
       "\n",
       "    .colab-df-convert:hover {\n",
       "      background-color: #E2EBFA;\n",
       "      box-shadow: 0px 1px 2px rgba(60, 64, 67, 0.3), 0px 1px 3px 1px rgba(60, 64, 67, 0.15);\n",
       "      fill: #174EA6;\n",
       "    }\n",
       "\n",
       "    .colab-df-buttons div {\n",
       "      margin-bottom: 4px;\n",
       "    }\n",
       "\n",
       "    [theme=dark] .colab-df-convert {\n",
       "      background-color: #3B4455;\n",
       "      fill: #D2E3FC;\n",
       "    }\n",
       "\n",
       "    [theme=dark] .colab-df-convert:hover {\n",
       "      background-color: #434B5C;\n",
       "      box-shadow: 0px 1px 3px 1px rgba(0, 0, 0, 0.15);\n",
       "      filter: drop-shadow(0px 1px 2px rgba(0, 0, 0, 0.3));\n",
       "      fill: #FFFFFF;\n",
       "    }\n",
       "  </style>\n",
       "\n",
       "    <script>\n",
       "      const buttonEl =\n",
       "        document.querySelector('#df-91df7c18-5968-4727-9cef-f81e29ad767d button.colab-df-convert');\n",
       "      buttonEl.style.display =\n",
       "        google.colab.kernel.accessAllowed ? 'block' : 'none';\n",
       "\n",
       "      async function convertToInteractive(key) {\n",
       "        const element = document.querySelector('#df-91df7c18-5968-4727-9cef-f81e29ad767d');\n",
       "        const dataTable =\n",
       "          await google.colab.kernel.invokeFunction('convertToInteractive',\n",
       "                                                    [key], {});\n",
       "        if (!dataTable) return;\n",
       "\n",
       "        const docLinkHtml = 'Like what you see? Visit the ' +\n",
       "          '<a target=\"_blank\" href=https://colab.research.google.com/notebooks/data_table.ipynb>data table notebook</a>'\n",
       "          + ' to learn more about interactive tables.';\n",
       "        element.innerHTML = '';\n",
       "        dataTable['output_type'] = 'display_data';\n",
       "        await google.colab.output.renderOutput(dataTable, element);\n",
       "        const docLink = document.createElement('div');\n",
       "        docLink.innerHTML = docLinkHtml;\n",
       "        element.appendChild(docLink);\n",
       "      }\n",
       "    </script>\n",
       "  </div>\n",
       "\n",
       "\n",
       "<div id=\"df-0e8b28d0-8ca9-4d54-9532-0e3a3c593f9e\">\n",
       "  <button class=\"colab-df-quickchart\" onclick=\"quickchart('df-0e8b28d0-8ca9-4d54-9532-0e3a3c593f9e')\"\n",
       "            title=\"Suggest charts\"\n",
       "            style=\"display:none;\">\n",
       "\n",
       "<svg xmlns=\"http://www.w3.org/2000/svg\" height=\"24px\"viewBox=\"0 0 24 24\"\n",
       "     width=\"24px\">\n",
       "    <g>\n",
       "        <path d=\"M19 3H5c-1.1 0-2 .9-2 2v14c0 1.1.9 2 2 2h14c1.1 0 2-.9 2-2V5c0-1.1-.9-2-2-2zM9 17H7v-7h2v7zm4 0h-2V7h2v10zm4 0h-2v-4h2v4z\"/>\n",
       "    </g>\n",
       "</svg>\n",
       "  </button>\n",
       "\n",
       "<style>\n",
       "  .colab-df-quickchart {\n",
       "      --bg-color: #E8F0FE;\n",
       "      --fill-color: #1967D2;\n",
       "      --hover-bg-color: #E2EBFA;\n",
       "      --hover-fill-color: #174EA6;\n",
       "      --disabled-fill-color: #AAA;\n",
       "      --disabled-bg-color: #DDD;\n",
       "  }\n",
       "\n",
       "  [theme=dark] .colab-df-quickchart {\n",
       "      --bg-color: #3B4455;\n",
       "      --fill-color: #D2E3FC;\n",
       "      --hover-bg-color: #434B5C;\n",
       "      --hover-fill-color: #FFFFFF;\n",
       "      --disabled-bg-color: #3B4455;\n",
       "      --disabled-fill-color: #666;\n",
       "  }\n",
       "\n",
       "  .colab-df-quickchart {\n",
       "    background-color: var(--bg-color);\n",
       "    border: none;\n",
       "    border-radius: 50%;\n",
       "    cursor: pointer;\n",
       "    display: none;\n",
       "    fill: var(--fill-color);\n",
       "    height: 32px;\n",
       "    padding: 0;\n",
       "    width: 32px;\n",
       "  }\n",
       "\n",
       "  .colab-df-quickchart:hover {\n",
       "    background-color: var(--hover-bg-color);\n",
       "    box-shadow: 0 1px 2px rgba(60, 64, 67, 0.3), 0 1px 3px 1px rgba(60, 64, 67, 0.15);\n",
       "    fill: var(--button-hover-fill-color);\n",
       "  }\n",
       "\n",
       "  .colab-df-quickchart-complete:disabled,\n",
       "  .colab-df-quickchart-complete:disabled:hover {\n",
       "    background-color: var(--disabled-bg-color);\n",
       "    fill: var(--disabled-fill-color);\n",
       "    box-shadow: none;\n",
       "  }\n",
       "\n",
       "  .colab-df-spinner {\n",
       "    border: 2px solid var(--fill-color);\n",
       "    border-color: transparent;\n",
       "    border-bottom-color: var(--fill-color);\n",
       "    animation:\n",
       "      spin 1s steps(1) infinite;\n",
       "  }\n",
       "\n",
       "  @keyframes spin {\n",
       "    0% {\n",
       "      border-color: transparent;\n",
       "      border-bottom-color: var(--fill-color);\n",
       "      border-left-color: var(--fill-color);\n",
       "    }\n",
       "    20% {\n",
       "      border-color: transparent;\n",
       "      border-left-color: var(--fill-color);\n",
       "      border-top-color: var(--fill-color);\n",
       "    }\n",
       "    30% {\n",
       "      border-color: transparent;\n",
       "      border-left-color: var(--fill-color);\n",
       "      border-top-color: var(--fill-color);\n",
       "      border-right-color: var(--fill-color);\n",
       "    }\n",
       "    40% {\n",
       "      border-color: transparent;\n",
       "      border-right-color: var(--fill-color);\n",
       "      border-top-color: var(--fill-color);\n",
       "    }\n",
       "    60% {\n",
       "      border-color: transparent;\n",
       "      border-right-color: var(--fill-color);\n",
       "    }\n",
       "    80% {\n",
       "      border-color: transparent;\n",
       "      border-right-color: var(--fill-color);\n",
       "      border-bottom-color: var(--fill-color);\n",
       "    }\n",
       "    90% {\n",
       "      border-color: transparent;\n",
       "      border-bottom-color: var(--fill-color);\n",
       "    }\n",
       "  }\n",
       "</style>\n",
       "\n",
       "  <script>\n",
       "    async function quickchart(key) {\n",
       "      const quickchartButtonEl =\n",
       "        document.querySelector('#' + key + ' button');\n",
       "      quickchartButtonEl.disabled = true;  // To prevent multiple clicks.\n",
       "      quickchartButtonEl.classList.add('colab-df-spinner');\n",
       "      try {\n",
       "        const charts = await google.colab.kernel.invokeFunction(\n",
       "            'suggestCharts', [key], {});\n",
       "      } catch (error) {\n",
       "        console.error('Error during call to suggestCharts:', error);\n",
       "      }\n",
       "      quickchartButtonEl.classList.remove('colab-df-spinner');\n",
       "      quickchartButtonEl.classList.add('colab-df-quickchart-complete');\n",
       "    }\n",
       "    (() => {\n",
       "      let quickchartButtonEl =\n",
       "        document.querySelector('#df-0e8b28d0-8ca9-4d54-9532-0e3a3c593f9e button');\n",
       "      quickchartButtonEl.style.display =\n",
       "        google.colab.kernel.accessAllowed ? 'block' : 'none';\n",
       "    })();\n",
       "  </script>\n",
       "</div>\n",
       "\n",
       "    </div>\n",
       "  </div>\n"
      ],
      "text/plain": [
       "                              Unique id channel_name         category  \\\n",
       "0  7e9ae164-6a8b-4521-a2d4-58f7c9fff13f      Outcall  Product Queries   \n",
       "1  b07ec1b0-f376-43b6-86df-ec03da3b2e16      Outcall  Product Queries   \n",
       "2  200814dd-27c7-4149-ba2b-bd3af3092880      Inbound    Order Related   \n",
       "3  eb0d3e53-c1ca-42d3-8486-e42c8d622135      Inbound          Returns   \n",
       "4  ba903143-1e54-406c-b969-46c52f92e5df      Inbound     Cancellation   \n",
       "\n",
       "                   Sub-category Customer Remarks  \\\n",
       "0                Life Insurance              NaN   \n",
       "1  Product Specific Information              NaN   \n",
       "2             Installation/demo              NaN   \n",
       "3        Reverse Pickup Enquiry              NaN   \n",
       "4                    Not Needed              NaN   \n",
       "\n",
       "                               Order_id order_date_time Issue_reported at  \\\n",
       "0  c27c9bb4-fa36-4140-9f1f-21009254ffdb             NaN  01/08/2023 11:13   \n",
       "1  d406b0c7-ce17-4654-b9de-f08d421254bd             NaN  01/08/2023 12:52   \n",
       "2  c273368d-b961-44cb-beaf-62d6fd6c00d5             NaN  01/08/2023 20:16   \n",
       "3  5aed0059-55a4-4ec6-bb54-97942092020a             NaN  01/08/2023 20:56   \n",
       "4  e8bed5a9-6933-4aff-9dc6-ccefd7dcde59             NaN  01/08/2023 10:30   \n",
       "\n",
       "    issue_responded Survey_response_Date Customer_City Product_category  \\\n",
       "0  01/08/2023 11:47            01-Aug-23           NaN              NaN   \n",
       "1  01/08/2023 12:54            01-Aug-23           NaN              NaN   \n",
       "2  01/08/2023 20:38            01-Aug-23           NaN              NaN   \n",
       "3  01/08/2023 21:16            01-Aug-23           NaN              NaN   \n",
       "4  01/08/2023 10:32            01-Aug-23           NaN              NaN   \n",
       "\n",
       "   Item_price  connected_handling_time           Agent_name      Supervisor  \\\n",
       "0         NaN                      NaN     Richard Buchanan     Mason Gupta   \n",
       "1         NaN                      NaN        Vicki Collins       Dylan Kim   \n",
       "2         NaN                      NaN         Duane Norman    Jackson Park   \n",
       "3         NaN                      NaN       Patrick Flores     Olivia Wang   \n",
       "4         NaN                      NaN  Christopher Sanchez  Austin Johnson   \n",
       "\n",
       "           Manager    Tenure Bucket Agent Shift  CSAT Score  \n",
       "0  Jennifer Nguyen  On Job Training     Morning           5  \n",
       "1      Michael Lee              >90     Morning           5  \n",
       "2      William Kim  On Job Training     Evening           5  \n",
       "3       John Smith              >90     Evening           5  \n",
       "4      Michael Lee             0-30     Morning           5  "
      ]
     },
     "execution_count": 29,
     "metadata": {},
     "output_type": "execute_result"
    }
   ],
   "source": [
    "df.head()"
   ]
  },
  {
   "cell_type": "markdown",
   "metadata": {
    "id": "O8i7bkEgnF2y"
   },
   "source": [
    "Check for the Rows and Columns in the data, know about the various features and their data types."
   ]
  },
  {
   "cell_type": "code",
   "execution_count": null,
   "metadata": {
    "colab": {
     "base_uri": "https://localhost:8080/"
    },
    "collapsed": true,
    "id": "dcDPgoeUbaKa",
    "jupyter": {
     "outputs_hidden": true
    },
    "outputId": "81ea7ffd-238c-433f-a20a-32415ff17f4b"
   },
   "outputs": [
    {
     "data": {
      "text/plain": [
       "(85907, 20)"
      ]
     },
     "execution_count": 30,
     "metadata": {},
     "output_type": "execute_result"
    }
   ],
   "source": [
    "# shape and dimensions\n",
    "df.shape"
   ]
  },
  {
   "cell_type": "code",
   "execution_count": null,
   "metadata": {
    "colab": {
     "base_uri": "https://localhost:8080/"
    },
    "collapsed": true,
    "id": "KrvTB5OLbaHz",
    "jupyter": {
     "outputs_hidden": true
    },
    "outputId": "80fcd864-c2f9-43b8-a02c-4d7fb55ab1fc"
   },
   "outputs": [
    {
     "data": {
      "text/plain": [
       "Index(['Unique id', 'channel_name', 'category', 'Sub-category',\n",
       "       'Customer Remarks', 'Order_id', 'order_date_time', 'Issue_reported at',\n",
       "       'issue_responded', 'Survey_response_Date', 'Customer_City',\n",
       "       'Product_category', 'Item_price', 'connected_handling_time',\n",
       "       'Agent_name', 'Supervisor', 'Manager', 'Tenure Bucket', 'Agent Shift',\n",
       "       'CSAT Score'],\n",
       "      dtype='object')"
      ]
     },
     "execution_count": 31,
     "metadata": {},
     "output_type": "execute_result"
    }
   ],
   "source": [
    "# total columns in our data\n",
    "df.columns"
   ]
  },
  {
   "cell_type": "code",
   "execution_count": null,
   "metadata": {
    "colab": {
     "base_uri": "https://localhost:8080/"
    },
    "collapsed": true,
    "id": "SJGieFDnbaFR",
    "jupyter": {
     "outputs_hidden": true
    },
    "outputId": "478f09f2-6ffb-4876-c796-0b27fbce0660"
   },
   "outputs": [
    {
     "name": "stdout",
     "output_type": "stream",
     "text": [
      "<class 'pandas.core.frame.DataFrame'>\n",
      "RangeIndex: 85907 entries, 0 to 85906\n",
      "Data columns (total 20 columns):\n",
      " #   Column                   Non-Null Count  Dtype  \n",
      "---  ------                   --------------  -----  \n",
      " 0   Unique id                85907 non-null  object \n",
      " 1   channel_name             85907 non-null  object \n",
      " 2   category                 85907 non-null  object \n",
      " 3   Sub-category             85907 non-null  object \n",
      " 4   Customer Remarks         28742 non-null  object \n",
      " 5   Order_id                 67675 non-null  object \n",
      " 6   order_date_time          17214 non-null  object \n",
      " 7   Issue_reported at        85907 non-null  object \n",
      " 8   issue_responded          85907 non-null  object \n",
      " 9   Survey_response_Date     85907 non-null  object \n",
      " 10  Customer_City            17079 non-null  object \n",
      " 11  Product_category         17196 non-null  object \n",
      " 12  Item_price               17206 non-null  float64\n",
      " 13  connected_handling_time  242 non-null    float64\n",
      " 14  Agent_name               85907 non-null  object \n",
      " 15  Supervisor               85907 non-null  object \n",
      " 16  Manager                  85907 non-null  object \n",
      " 17  Tenure Bucket            85907 non-null  object \n",
      " 18  Agent Shift              85907 non-null  object \n",
      " 19  CSAT Score               85907 non-null  int64  \n",
      "dtypes: float64(2), int64(1), object(17)\n",
      "memory usage: 13.1+ MB\n"
     ]
    }
   ],
   "source": [
    "# data type of each column\n",
    "df.info()"
   ]
  },
  {
   "cell_type": "markdown",
   "metadata": {
    "id": "bhQNvkFYo2Fy"
   },
   "source": [
    "## ***Check for Unique Values across each feature.***"
   ]
  },
  {
   "cell_type": "code",
   "execution_count": null,
   "metadata": {
    "colab": {
     "base_uri": "https://localhost:8080/",
     "height": 711
    },
    "collapsed": true,
    "id": "RB9gfmvfbaC0",
    "jupyter": {
     "outputs_hidden": true
    },
    "outputId": "8fcadaca-0fe6-4cc6-cf8f-565906c5418e"
   },
   "outputs": [
    {
     "data": {
      "text/html": [
       "<div>\n",
       "<style scoped>\n",
       "    .dataframe tbody tr th:only-of-type {\n",
       "        vertical-align: middle;\n",
       "    }\n",
       "\n",
       "    .dataframe tbody tr th {\n",
       "        vertical-align: top;\n",
       "    }\n",
       "\n",
       "    .dataframe thead th {\n",
       "        text-align: right;\n",
       "    }\n",
       "</style>\n",
       "<table border=\"1\" class=\"dataframe\">\n",
       "  <thead>\n",
       "    <tr style=\"text-align: right;\">\n",
       "      <th></th>\n",
       "      <th>0</th>\n",
       "    </tr>\n",
       "  </thead>\n",
       "  <tbody>\n",
       "    <tr>\n",
       "      <th>Unique id</th>\n",
       "      <td>85907</td>\n",
       "    </tr>\n",
       "    <tr>\n",
       "      <th>channel_name</th>\n",
       "      <td>3</td>\n",
       "    </tr>\n",
       "    <tr>\n",
       "      <th>category</th>\n",
       "      <td>12</td>\n",
       "    </tr>\n",
       "    <tr>\n",
       "      <th>Sub-category</th>\n",
       "      <td>57</td>\n",
       "    </tr>\n",
       "    <tr>\n",
       "      <th>Customer Remarks</th>\n",
       "      <td>18231</td>\n",
       "    </tr>\n",
       "    <tr>\n",
       "      <th>Order_id</th>\n",
       "      <td>67675</td>\n",
       "    </tr>\n",
       "    <tr>\n",
       "      <th>order_date_time</th>\n",
       "      <td>13766</td>\n",
       "    </tr>\n",
       "    <tr>\n",
       "      <th>Issue_reported at</th>\n",
       "      <td>30923</td>\n",
       "    </tr>\n",
       "    <tr>\n",
       "      <th>issue_responded</th>\n",
       "      <td>30262</td>\n",
       "    </tr>\n",
       "    <tr>\n",
       "      <th>Survey_response_Date</th>\n",
       "      <td>31</td>\n",
       "    </tr>\n",
       "    <tr>\n",
       "      <th>Customer_City</th>\n",
       "      <td>1782</td>\n",
       "    </tr>\n",
       "    <tr>\n",
       "      <th>Product_category</th>\n",
       "      <td>9</td>\n",
       "    </tr>\n",
       "    <tr>\n",
       "      <th>Item_price</th>\n",
       "      <td>2789</td>\n",
       "    </tr>\n",
       "    <tr>\n",
       "      <th>connected_handling_time</th>\n",
       "      <td>211</td>\n",
       "    </tr>\n",
       "    <tr>\n",
       "      <th>Agent_name</th>\n",
       "      <td>1371</td>\n",
       "    </tr>\n",
       "    <tr>\n",
       "      <th>Supervisor</th>\n",
       "      <td>40</td>\n",
       "    </tr>\n",
       "    <tr>\n",
       "      <th>Manager</th>\n",
       "      <td>6</td>\n",
       "    </tr>\n",
       "    <tr>\n",
       "      <th>Tenure Bucket</th>\n",
       "      <td>5</td>\n",
       "    </tr>\n",
       "    <tr>\n",
       "      <th>Agent Shift</th>\n",
       "      <td>5</td>\n",
       "    </tr>\n",
       "    <tr>\n",
       "      <th>CSAT Score</th>\n",
       "      <td>5</td>\n",
       "    </tr>\n",
       "  </tbody>\n",
       "</table>\n",
       "</div><br><label><b>dtype:</b> int64</label>"
      ],
      "text/plain": [
       "Unique id                  85907\n",
       "channel_name                   3\n",
       "category                      12\n",
       "Sub-category                  57\n",
       "Customer Remarks           18231\n",
       "Order_id                   67675\n",
       "order_date_time            13766\n",
       "Issue_reported at          30923\n",
       "issue_responded            30262\n",
       "Survey_response_Date          31\n",
       "Customer_City               1782\n",
       "Product_category               9\n",
       "Item_price                  2789\n",
       "connected_handling_time      211\n",
       "Agent_name                  1371\n",
       "Supervisor                    40\n",
       "Manager                        6\n",
       "Tenure Bucket                  5\n",
       "Agent Shift                    5\n",
       "CSAT Score                     5\n",
       "dtype: int64"
      ]
     },
     "execution_count": 33,
     "metadata": {},
     "output_type": "execute_result"
    }
   ],
   "source": [
    "# check for the unique values across each column\n",
    "df.nunique()"
   ]
  },
  {
   "cell_type": "markdown",
   "metadata": {
    "id": "i9vTDDOQpFdS"
   },
   "source": [
    "## ***Check for the Duplicate Values.***"
   ]
  },
  {
   "cell_type": "code",
   "execution_count": null,
   "metadata": {
    "colab": {
     "base_uri": "https://localhost:8080/"
    },
    "collapsed": true,
    "id": "yM6xxg52baAR",
    "jupyter": {
     "outputs_hidden": true
    },
    "outputId": "04dd31fd-16b3-4b31-a015-a2c85b20aa91"
   },
   "outputs": [
    {
     "name": "stdout",
     "output_type": "stream",
     "text": [
      "Total duplicate values: 0\n"
     ]
    }
   ],
   "source": [
    "# check for duplicate values in entire dataset\n",
    "print(\"Total duplicate values:\",df.duplicated().sum())"
   ]
  },
  {
   "cell_type": "markdown",
   "metadata": {
    "id": "Q-l8AZsBNMHd"
   },
   "source": [
    "## ***Check for the Missing values.***"
   ]
  },
  {
   "cell_type": "code",
   "execution_count": null,
   "metadata": {
    "colab": {
     "base_uri": "https://localhost:8080/",
     "height": 711
    },
    "collapsed": true,
    "id": "ZEQat69pbZ9a",
    "jupyter": {
     "outputs_hidden": true
    },
    "outputId": "a5102f5a-dfe6-42a9-c7bf-319af0aff406"
   },
   "outputs": [
    {
     "data": {
      "text/html": [
       "<div>\n",
       "<style scoped>\n",
       "    .dataframe tbody tr th:only-of-type {\n",
       "        vertical-align: middle;\n",
       "    }\n",
       "\n",
       "    .dataframe tbody tr th {\n",
       "        vertical-align: top;\n",
       "    }\n",
       "\n",
       "    .dataframe thead th {\n",
       "        text-align: right;\n",
       "    }\n",
       "</style>\n",
       "<table border=\"1\" class=\"dataframe\">\n",
       "  <thead>\n",
       "    <tr style=\"text-align: right;\">\n",
       "      <th></th>\n",
       "      <th>0</th>\n",
       "    </tr>\n",
       "  </thead>\n",
       "  <tbody>\n",
       "    <tr>\n",
       "      <th>Unique id</th>\n",
       "      <td>0</td>\n",
       "    </tr>\n",
       "    <tr>\n",
       "      <th>channel_name</th>\n",
       "      <td>0</td>\n",
       "    </tr>\n",
       "    <tr>\n",
       "      <th>category</th>\n",
       "      <td>0</td>\n",
       "    </tr>\n",
       "    <tr>\n",
       "      <th>Sub-category</th>\n",
       "      <td>0</td>\n",
       "    </tr>\n",
       "    <tr>\n",
       "      <th>Customer Remarks</th>\n",
       "      <td>57165</td>\n",
       "    </tr>\n",
       "    <tr>\n",
       "      <th>Order_id</th>\n",
       "      <td>18232</td>\n",
       "    </tr>\n",
       "    <tr>\n",
       "      <th>order_date_time</th>\n",
       "      <td>68693</td>\n",
       "    </tr>\n",
       "    <tr>\n",
       "      <th>Issue_reported at</th>\n",
       "      <td>0</td>\n",
       "    </tr>\n",
       "    <tr>\n",
       "      <th>issue_responded</th>\n",
       "      <td>0</td>\n",
       "    </tr>\n",
       "    <tr>\n",
       "      <th>Survey_response_Date</th>\n",
       "      <td>0</td>\n",
       "    </tr>\n",
       "    <tr>\n",
       "      <th>Customer_City</th>\n",
       "      <td>68828</td>\n",
       "    </tr>\n",
       "    <tr>\n",
       "      <th>Product_category</th>\n",
       "      <td>68711</td>\n",
       "    </tr>\n",
       "    <tr>\n",
       "      <th>Item_price</th>\n",
       "      <td>68701</td>\n",
       "    </tr>\n",
       "    <tr>\n",
       "      <th>connected_handling_time</th>\n",
       "      <td>85665</td>\n",
       "    </tr>\n",
       "    <tr>\n",
       "      <th>Agent_name</th>\n",
       "      <td>0</td>\n",
       "    </tr>\n",
       "    <tr>\n",
       "      <th>Supervisor</th>\n",
       "      <td>0</td>\n",
       "    </tr>\n",
       "    <tr>\n",
       "      <th>Manager</th>\n",
       "      <td>0</td>\n",
       "    </tr>\n",
       "    <tr>\n",
       "      <th>Tenure Bucket</th>\n",
       "      <td>0</td>\n",
       "    </tr>\n",
       "    <tr>\n",
       "      <th>Agent Shift</th>\n",
       "      <td>0</td>\n",
       "    </tr>\n",
       "    <tr>\n",
       "      <th>CSAT Score</th>\n",
       "      <td>0</td>\n",
       "    </tr>\n",
       "  </tbody>\n",
       "</table>\n",
       "</div><br><label><b>dtype:</b> int64</label>"
      ],
      "text/plain": [
       "Unique id                      0\n",
       "channel_name                   0\n",
       "category                       0\n",
       "Sub-category                   0\n",
       "Customer Remarks           57165\n",
       "Order_id                   18232\n",
       "order_date_time            68693\n",
       "Issue_reported at              0\n",
       "issue_responded                0\n",
       "Survey_response_Date           0\n",
       "Customer_City              68828\n",
       "Product_category           68711\n",
       "Item_price                 68701\n",
       "connected_handling_time    85665\n",
       "Agent_name                     0\n",
       "Supervisor                     0\n",
       "Manager                        0\n",
       "Tenure Bucket                  0\n",
       "Agent Shift                    0\n",
       "CSAT Score                     0\n",
       "dtype: int64"
      ]
     },
     "execution_count": 35,
     "metadata": {},
     "output_type": "execute_result"
    }
   ],
   "source": [
    "# check for null or missing values in our data across each feature\n",
    "df.isnull().sum()"
   ]
  },
  {
   "cell_type": "markdown",
   "metadata": {
    "id": "T79xKgANNlqP"
   },
   "source": [
    "### **Understanding the Dataset: What we know this far!!!**\n",
    "\n",
    "#### **1. Structure and Dimensions**\n",
    "- The dataset consists of **csv file**, named **Customer_support_data** has a total of **85907 instances or records** and **20 features**.\n",
    "\n",
    "#### **2. Data Quality & Missing Value**\n",
    "- There is a mix of complete and incomplete information for various features of both the dataset. We need to handle these in order to ease our analysis.\n",
    "\n",
    "#### **3. Duplicate Records**\n",
    "- There are no duplicate or redundant records in the entire dataset.  \n",
    "\n",
    "#### **4. Potential Next Steps**\n",
    "- **Data Cleaning**: Address missing values, duplicates, and inconsistencies.  \n",
    "- **Feature Engineering**: Create new features or transform existing ones for better modeling.  \n",
    "- **Summary Statistics**: Generate the statistical summary of the data from the newly formed features.\n",
    "- **Exploratory Data Analysis (EDA)**: Perform deeper insights into patterns and trends.  \n",
    "- **Predictive Modeling**: Build machine learning models based on cleaned and processed data."
   ]
  },
  {
   "cell_type": "markdown",
   "metadata": {
    "id": "tk0tAnFGbZ6h"
   },
   "source": [
    "# **Data Cleaning**"
   ]
  },
  {
   "cell_type": "markdown",
   "metadata": {
    "id": "Qkl_mdN4JpIy"
   },
   "source": [
    "- First, lets fill all the missing values in the Customer Remarks column by *No remarks available*."
   ]
  },
  {
   "cell_type": "code",
   "execution_count": null,
   "metadata": {
    "id": "cXbZLCGgbZ1a"
   },
   "outputs": [],
   "source": [
    "# first filling up all the customer remarks with \"No remarks available\" for al the missing values\n",
    "df['Customer Remarks'] = df['Customer Remarks'].fillna(\"No remarks available\")"
   ]
  },
  {
   "cell_type": "markdown",
   "metadata": {
    "id": "nU1SvDYPJ2zB"
   },
   "source": [
    "- Now, we fill filter our records on the basis of some condition as we have a large amout of missing data across most of the fields and for these records we can't perform analysis on them."
   ]
  },
  {
   "cell_type": "code",
   "execution_count": null,
   "metadata": {
    "id": "DcI-H8RAbZy7"
   },
   "outputs": [],
   "source": [
    "# now dropping those records for which we have no information available\n",
    "# here we have used multiple conditions based on different fields\n",
    "# filter out only that data thats is useful to us\n",
    "update_df = df.loc[~((df['Customer_City'].isnull()) &\n",
    "(df['Order_id'].isnull()) &\n",
    "(df['order_date_time'].isnull()) &\n",
    " (df['Item_price'].isnull()) &\n",
    "  (df['Product_category'].isnull()) &\n",
    "   (df['connected_handling_time'].isnull()) &\n",
    "    (df['Customer Remarks'] == \"No remarks available\"))]"
   ]
  },
  {
   "cell_type": "markdown",
   "metadata": {
    "id": "iI9lPqUGKRHp"
   },
   "source": [
    "- We will drop the **order_data_time** column from our dataset, because it has about 80% of the missing values."
   ]
  },
  {
   "cell_type": "code",
   "execution_count": null,
   "metadata": {
    "id": "wyGTPJ7HyOXt"
   },
   "outputs": [],
   "source": [
    "update_df.drop(columns='order_date_time', inplace=True)"
   ]
  },
  {
   "cell_type": "markdown",
   "metadata": {
    "id": "beQmEQUyKsSi"
   },
   "source": [
    "- Filling the **connected_handling_time** using the SimpleImputer by taking median of the whole data."
   ]
  },
  {
   "cell_type": "code",
   "execution_count": null,
   "metadata": {
    "collapsed": true,
    "id": "3eclbQYtbZtr",
    "jupyter": {
     "outputs_hidden": true
    }
   },
   "outputs": [],
   "source": [
    "# filling the item connection_handling_time by the median\n",
    "from sklearn.impute import SimpleImputer\n",
    "\n",
    "# median imputer\n",
    "med_imputer = SimpleImputer(strategy = 'median')\n",
    "update_df[['connected_handling_time']] = med_imputer.fit_transform(update_df[['connected_handling_time']])"
   ]
  },
  {
   "cell_type": "markdown",
   "metadata": {
    "id": "6XIh44lIK5JJ"
   },
   "source": [
    "- Fill the missing values in the **Item_price** field by taking median price of each category and sub-category respectively for each record."
   ]
  },
  {
   "cell_type": "code",
   "execution_count": null,
   "metadata": {
    "id": "W1WtsNEJw3Z5"
   },
   "outputs": [],
   "source": [
    "# filling the item price by median prices of the sub categories\n",
    "update_df['Item_price'] = update_df.groupby(['category','Sub-category'])['Item_price'].transform(lambda x: x.fillna(x.median()))"
   ]
  },
  {
   "cell_type": "markdown",
   "metadata": {
    "id": "aiWDx9XAbZok"
   },
   "source": [
    "- For the missing **Customer_city**, we will fill them with **Unknown**."
   ]
  },
  {
   "cell_type": "code",
   "execution_count": null,
   "metadata": {
    "collapsed": true,
    "id": "oRTyEUxFbZeB",
    "jupyter": {
     "outputs_hidden": true
    }
   },
   "outputs": [],
   "source": [
    "# Make a seperate category of unknown for unknown city\n",
    "update_df['Customer_City'] = update_df['Customer_City'].fillna('Unknown')"
   ]
  },
  {
   "cell_type": "markdown",
   "metadata": {
    "id": "XBxnkz1MLa06"
   },
   "source": [
    "- We will do the same for **Product_category** as we don't have any idea about it."
   ]
  },
  {
   "cell_type": "code",
   "execution_count": null,
   "metadata": {
    "collapsed": true,
    "id": "cYqPTPCfHDRI",
    "jupyter": {
     "outputs_hidden": true
    }
   },
   "outputs": [],
   "source": [
    "# Make a seperate category of unknown for unknown product category\n",
    "update_df['Product_category'] = update_df['Product_category'].fillna('Unknown')"
   ]
  },
  {
   "cell_type": "code",
   "execution_count": null,
   "metadata": {
    "colab": {
     "base_uri": "https://localhost:8080/",
     "height": 503
    },
    "id": "2YqOu26WLnxq",
    "outputId": "5b30bd05-4512-4756-94f6-56852473c65e"
   },
   "outputs": [
    {
     "data": {
      "application/vnd.google.colaboratory.intrinsic+json": {
       "summary": "{\n  \"name\": \"update_df\",\n  \"rows\": 73804,\n  \"fields\": [\n    {\n      \"column\": \"Unique id\",\n      \"properties\": {\n        \"dtype\": \"string\",\n        \"num_unique_values\": 73804,\n        \"samples\": [\n          \"cf82a428-0bec-4fe0-a1e4-df492fec9e9b\",\n          \"bebea7c8-c8e0-4f0f-9e8e-718cd616c278\",\n          \"072db99f-f8b7-4744-ac13-1f9a3ff05e9f\"\n        ],\n        \"semantic_type\": \"\",\n        \"description\": \"\"\n      }\n    },\n    {\n      \"column\": \"channel_name\",\n      \"properties\": {\n        \"dtype\": \"category\",\n        \"num_unique_values\": 3,\n        \"samples\": [\n          \"Outcall\",\n          \"Inbound\",\n          \"Email\"\n        ],\n        \"semantic_type\": \"\",\n        \"description\": \"\"\n      }\n    },\n    {\n      \"column\": \"category\",\n      \"properties\": {\n        \"dtype\": \"category\",\n        \"num_unique_values\": 12,\n        \"samples\": [\n          \"Others\",\n          \"Onboarding related\",\n          \"Product Queries\"\n        ],\n        \"semantic_type\": \"\",\n        \"description\": \"\"\n      }\n    },\n    {\n      \"column\": \"Sub-category\",\n      \"properties\": {\n        \"dtype\": \"category\",\n        \"num_unique_values\": 57,\n        \"samples\": [\n          \"Life Insurance\",\n          \"Fraudulent User\",\n          \"Card/EMI\"\n        ],\n        \"semantic_type\": \"\",\n        \"description\": \"\"\n      }\n    },\n    {\n      \"column\": \"Customer Remarks\",\n      \"properties\": {\n        \"dtype\": \"category\",\n        \"num_unique_values\": 18232,\n        \"samples\": [\n          \"Solv immmideately\",\n          \"She listen my issue carefully and resolve me in wonderful way... ????\",\n          \"Its so broken, hard to write anything constructive...\"\n        ],\n        \"semantic_type\": \"\",\n        \"description\": \"\"\n      }\n    },\n    {\n      \"column\": \"Order_id\",\n      \"properties\": {\n        \"dtype\": \"string\",\n        \"num_unique_values\": 67675,\n        \"samples\": [\n          \"414c0688-adaf-4123-b342-e8bd2c050638\",\n          \"110cba2e-b988-40b8-9967-716c8d6e7a71\",\n          \"0058ad82-75ed-4253-821b-86553937658b\"\n        ],\n        \"semantic_type\": \"\",\n        \"description\": \"\"\n      }\n    },\n    {\n      \"column\": \"Issue_reported at\",\n      \"properties\": {\n        \"dtype\": \"category\",\n        \"num_unique_values\": 28981,\n        \"samples\": [\n          \"19/08/2023 21:45\",\n          \"02/08/2023 09:31\",\n          \"07/08/2023 08:47\"\n        ],\n        \"semantic_type\": \"\",\n        \"description\": \"\"\n      }\n    },\n    {\n      \"column\": \"issue_responded\",\n      \"properties\": {\n        \"dtype\": \"category\",\n        \"num_unique_values\": 28098,\n        \"samples\": [\n          \"30/08/2023 18:30\",\n          \"14/08/2023 15:54\",\n          \"21/08/2023 08:59\"\n        ],\n        \"semantic_type\": \"\",\n        \"description\": \"\"\n      }\n    },\n    {\n      \"column\": \"Survey_response_Date\",\n      \"properties\": {\n        \"dtype\": \"object\",\n        \"num_unique_values\": 31,\n        \"samples\": [\n          \"28-Aug-23\",\n          \"16-Aug-23\",\n          \"24-Aug-23\"\n        ],\n        \"semantic_type\": \"\",\n        \"description\": \"\"\n      }\n    },\n    {\n      \"column\": \"Customer_City\",\n      \"properties\": {\n        \"dtype\": \"category\",\n        \"num_unique_values\": 1783,\n        \"samples\": [\n          \"HAJIPUR\",\n          \"NAMRUP\",\n          \"WANKANER\"\n        ],\n        \"semantic_type\": \"\",\n        \"description\": \"\"\n      }\n    },\n    {\n      \"column\": \"Product_category\",\n      \"properties\": {\n        \"dtype\": \"category\",\n        \"num_unique_values\": 10,\n        \"samples\": [\n          \"GiftCard\",\n          \"LifeStyle\",\n          \"Furniture\"\n        ],\n        \"semantic_type\": \"\",\n        \"description\": \"\"\n      }\n    },\n    {\n      \"column\": \"Item_price\",\n      \"properties\": {\n        \"dtype\": \"number\",\n        \"std\": 7178.527148905107,\n        \"min\": 0.0,\n        \"max\": 164999.0,\n        \"num_unique_values\": 2797,\n        \"samples\": [\n          3497.0,\n          1878.0,\n          73.0\n        ],\n        \"semantic_type\": \"\",\n        \"description\": \"\"\n      }\n    },\n    {\n      \"column\": \"connected_handling_time\",\n      \"properties\": {\n        \"dtype\": \"number\",\n        \"std\": 14.21907475667757,\n        \"min\": 0.0,\n        \"max\": 1986.0,\n        \"num_unique_values\": 211,\n        \"samples\": [\n          367.0,\n          282.0,\n          815.0\n        ],\n        \"semantic_type\": \"\",\n        \"description\": \"\"\n      }\n    },\n    {\n      \"column\": \"Agent_name\",\n      \"properties\": {\n        \"dtype\": \"category\",\n        \"num_unique_values\": 1371,\n        \"samples\": [\n          \"Kimberly Morris\",\n          \"Russell Ramsey\",\n          \"Joshua Foster\"\n        ],\n        \"semantic_type\": \"\",\n        \"description\": \"\"\n      }\n    },\n    {\n      \"column\": \"Supervisor\",\n      \"properties\": {\n        \"dtype\": \"category\",\n        \"num_unique_values\": 40,\n        \"samples\": [\n          \"Madison Kim\",\n          \"Mia Patel\",\n          \"Logan Lee\"\n        ],\n        \"semantic_type\": \"\",\n        \"description\": \"\"\n      }\n    },\n    {\n      \"column\": \"Manager\",\n      \"properties\": {\n        \"dtype\": \"category\",\n        \"num_unique_values\": 6,\n        \"samples\": [\n          \"Jennifer Nguyen\",\n          \"Michael Lee\",\n          \"Emily Chen\"\n        ],\n        \"semantic_type\": \"\",\n        \"description\": \"\"\n      }\n    },\n    {\n      \"column\": \"Tenure Bucket\",\n      \"properties\": {\n        \"dtype\": \"category\",\n        \"num_unique_values\": 5,\n        \"samples\": [\n          \">90\",\n          \"61-90\",\n          \"0-30\"\n        ],\n        \"semantic_type\": \"\",\n        \"description\": \"\"\n      }\n    },\n    {\n      \"column\": \"Agent Shift\",\n      \"properties\": {\n        \"dtype\": \"category\",\n        \"num_unique_values\": 5,\n        \"samples\": [\n          \"Evening\",\n          \"Night\",\n          \"Split\"\n        ],\n        \"semantic_type\": \"\",\n        \"description\": \"\"\n      }\n    },\n    {\n      \"column\": \"CSAT Score\",\n      \"properties\": {\n        \"dtype\": \"number\",\n        \"std\": 1,\n        \"min\": 1,\n        \"max\": 5,\n        \"num_unique_values\": 5,\n        \"samples\": [\n          4,\n          2,\n          1\n        ],\n        \"semantic_type\": \"\",\n        \"description\": \"\"\n      }\n    }\n  ]\n}",
       "type": "dataframe",
       "variable_name": "update_df"
      },
      "text/html": [
       "\n",
       "  <div id=\"df-c11532e8-36dc-49c4-8216-e8bb4ce3fa4e\" class=\"colab-df-container\">\n",
       "    <div>\n",
       "<style scoped>\n",
       "    .dataframe tbody tr th:only-of-type {\n",
       "        vertical-align: middle;\n",
       "    }\n",
       "\n",
       "    .dataframe tbody tr th {\n",
       "        vertical-align: top;\n",
       "    }\n",
       "\n",
       "    .dataframe thead th {\n",
       "        text-align: right;\n",
       "    }\n",
       "</style>\n",
       "<table border=\"1\" class=\"dataframe\">\n",
       "  <thead>\n",
       "    <tr style=\"text-align: right;\">\n",
       "      <th></th>\n",
       "      <th>Unique id</th>\n",
       "      <th>channel_name</th>\n",
       "      <th>category</th>\n",
       "      <th>Sub-category</th>\n",
       "      <th>Customer Remarks</th>\n",
       "      <th>Order_id</th>\n",
       "      <th>Issue_reported at</th>\n",
       "      <th>issue_responded</th>\n",
       "      <th>Survey_response_Date</th>\n",
       "      <th>Customer_City</th>\n",
       "      <th>Product_category</th>\n",
       "      <th>Item_price</th>\n",
       "      <th>connected_handling_time</th>\n",
       "      <th>Agent_name</th>\n",
       "      <th>Supervisor</th>\n",
       "      <th>Manager</th>\n",
       "      <th>Tenure Bucket</th>\n",
       "      <th>Agent Shift</th>\n",
       "      <th>CSAT Score</th>\n",
       "    </tr>\n",
       "  </thead>\n",
       "  <tbody>\n",
       "    <tr>\n",
       "      <th>0</th>\n",
       "      <td>7e9ae164-6a8b-4521-a2d4-58f7c9fff13f</td>\n",
       "      <td>Outcall</td>\n",
       "      <td>Product Queries</td>\n",
       "      <td>Life Insurance</td>\n",
       "      <td>No remarks available</td>\n",
       "      <td>c27c9bb4-fa36-4140-9f1f-21009254ffdb</td>\n",
       "      <td>01/08/2023 11:13</td>\n",
       "      <td>01/08/2023 11:47</td>\n",
       "      <td>01-Aug-23</td>\n",
       "      <td>Unknown</td>\n",
       "      <td>Unknown</td>\n",
       "      <td>NaN</td>\n",
       "      <td>427.0</td>\n",
       "      <td>Richard Buchanan</td>\n",
       "      <td>Mason Gupta</td>\n",
       "      <td>Jennifer Nguyen</td>\n",
       "      <td>On Job Training</td>\n",
       "      <td>Morning</td>\n",
       "      <td>5</td>\n",
       "    </tr>\n",
       "    <tr>\n",
       "      <th>1</th>\n",
       "      <td>b07ec1b0-f376-43b6-86df-ec03da3b2e16</td>\n",
       "      <td>Outcall</td>\n",
       "      <td>Product Queries</td>\n",
       "      <td>Product Specific Information</td>\n",
       "      <td>No remarks available</td>\n",
       "      <td>d406b0c7-ce17-4654-b9de-f08d421254bd</td>\n",
       "      <td>01/08/2023 12:52</td>\n",
       "      <td>01/08/2023 12:54</td>\n",
       "      <td>01-Aug-23</td>\n",
       "      <td>Unknown</td>\n",
       "      <td>Unknown</td>\n",
       "      <td>1502.0</td>\n",
       "      <td>427.0</td>\n",
       "      <td>Vicki Collins</td>\n",
       "      <td>Dylan Kim</td>\n",
       "      <td>Michael Lee</td>\n",
       "      <td>&gt;90</td>\n",
       "      <td>Morning</td>\n",
       "      <td>5</td>\n",
       "    </tr>\n",
       "    <tr>\n",
       "      <th>2</th>\n",
       "      <td>200814dd-27c7-4149-ba2b-bd3af3092880</td>\n",
       "      <td>Inbound</td>\n",
       "      <td>Order Related</td>\n",
       "      <td>Installation/demo</td>\n",
       "      <td>No remarks available</td>\n",
       "      <td>c273368d-b961-44cb-beaf-62d6fd6c00d5</td>\n",
       "      <td>01/08/2023 20:16</td>\n",
       "      <td>01/08/2023 20:38</td>\n",
       "      <td>01-Aug-23</td>\n",
       "      <td>Unknown</td>\n",
       "      <td>Unknown</td>\n",
       "      <td>7499.0</td>\n",
       "      <td>427.0</td>\n",
       "      <td>Duane Norman</td>\n",
       "      <td>Jackson Park</td>\n",
       "      <td>William Kim</td>\n",
       "      <td>On Job Training</td>\n",
       "      <td>Evening</td>\n",
       "      <td>5</td>\n",
       "    </tr>\n",
       "    <tr>\n",
       "      <th>3</th>\n",
       "      <td>eb0d3e53-c1ca-42d3-8486-e42c8d622135</td>\n",
       "      <td>Inbound</td>\n",
       "      <td>Returns</td>\n",
       "      <td>Reverse Pickup Enquiry</td>\n",
       "      <td>No remarks available</td>\n",
       "      <td>5aed0059-55a4-4ec6-bb54-97942092020a</td>\n",
       "      <td>01/08/2023 20:56</td>\n",
       "      <td>01/08/2023 21:16</td>\n",
       "      <td>01-Aug-23</td>\n",
       "      <td>Unknown</td>\n",
       "      <td>Unknown</td>\n",
       "      <td>779.0</td>\n",
       "      <td>427.0</td>\n",
       "      <td>Patrick Flores</td>\n",
       "      <td>Olivia Wang</td>\n",
       "      <td>John Smith</td>\n",
       "      <td>&gt;90</td>\n",
       "      <td>Evening</td>\n",
       "      <td>5</td>\n",
       "    </tr>\n",
       "    <tr>\n",
       "      <th>4</th>\n",
       "      <td>ba903143-1e54-406c-b969-46c52f92e5df</td>\n",
       "      <td>Inbound</td>\n",
       "      <td>Cancellation</td>\n",
       "      <td>Not Needed</td>\n",
       "      <td>No remarks available</td>\n",
       "      <td>e8bed5a9-6933-4aff-9dc6-ccefd7dcde59</td>\n",
       "      <td>01/08/2023 10:30</td>\n",
       "      <td>01/08/2023 10:32</td>\n",
       "      <td>01-Aug-23</td>\n",
       "      <td>Unknown</td>\n",
       "      <td>Unknown</td>\n",
       "      <td>1259.5</td>\n",
       "      <td>427.0</td>\n",
       "      <td>Christopher Sanchez</td>\n",
       "      <td>Austin Johnson</td>\n",
       "      <td>Michael Lee</td>\n",
       "      <td>0-30</td>\n",
       "      <td>Morning</td>\n",
       "      <td>5</td>\n",
       "    </tr>\n",
       "  </tbody>\n",
       "</table>\n",
       "</div>\n",
       "    <div class=\"colab-df-buttons\">\n",
       "\n",
       "  <div class=\"colab-df-container\">\n",
       "    <button class=\"colab-df-convert\" onclick=\"convertToInteractive('df-c11532e8-36dc-49c4-8216-e8bb4ce3fa4e')\"\n",
       "            title=\"Convert this dataframe to an interactive table.\"\n",
       "            style=\"display:none;\">\n",
       "\n",
       "  <svg xmlns=\"http://www.w3.org/2000/svg\" height=\"24px\" viewBox=\"0 -960 960 960\">\n",
       "    <path d=\"M120-120v-720h720v720H120Zm60-500h600v-160H180v160Zm220 220h160v-160H400v160Zm0 220h160v-160H400v160ZM180-400h160v-160H180v160Zm440 0h160v-160H620v160ZM180-180h160v-160H180v160Zm440 0h160v-160H620v160Z\"/>\n",
       "  </svg>\n",
       "    </button>\n",
       "\n",
       "  <style>\n",
       "    .colab-df-container {\n",
       "      display:flex;\n",
       "      gap: 12px;\n",
       "    }\n",
       "\n",
       "    .colab-df-convert {\n",
       "      background-color: #E8F0FE;\n",
       "      border: none;\n",
       "      border-radius: 50%;\n",
       "      cursor: pointer;\n",
       "      display: none;\n",
       "      fill: #1967D2;\n",
       "      height: 32px;\n",
       "      padding: 0 0 0 0;\n",
       "      width: 32px;\n",
       "    }\n",
       "\n",
       "    .colab-df-convert:hover {\n",
       "      background-color: #E2EBFA;\n",
       "      box-shadow: 0px 1px 2px rgba(60, 64, 67, 0.3), 0px 1px 3px 1px rgba(60, 64, 67, 0.15);\n",
       "      fill: #174EA6;\n",
       "    }\n",
       "\n",
       "    .colab-df-buttons div {\n",
       "      margin-bottom: 4px;\n",
       "    }\n",
       "\n",
       "    [theme=dark] .colab-df-convert {\n",
       "      background-color: #3B4455;\n",
       "      fill: #D2E3FC;\n",
       "    }\n",
       "\n",
       "    [theme=dark] .colab-df-convert:hover {\n",
       "      background-color: #434B5C;\n",
       "      box-shadow: 0px 1px 3px 1px rgba(0, 0, 0, 0.15);\n",
       "      filter: drop-shadow(0px 1px 2px rgba(0, 0, 0, 0.3));\n",
       "      fill: #FFFFFF;\n",
       "    }\n",
       "  </style>\n",
       "\n",
       "    <script>\n",
       "      const buttonEl =\n",
       "        document.querySelector('#df-c11532e8-36dc-49c4-8216-e8bb4ce3fa4e button.colab-df-convert');\n",
       "      buttonEl.style.display =\n",
       "        google.colab.kernel.accessAllowed ? 'block' : 'none';\n",
       "\n",
       "      async function convertToInteractive(key) {\n",
       "        const element = document.querySelector('#df-c11532e8-36dc-49c4-8216-e8bb4ce3fa4e');\n",
       "        const dataTable =\n",
       "          await google.colab.kernel.invokeFunction('convertToInteractive',\n",
       "                                                    [key], {});\n",
       "        if (!dataTable) return;\n",
       "\n",
       "        const docLinkHtml = 'Like what you see? Visit the ' +\n",
       "          '<a target=\"_blank\" href=https://colab.research.google.com/notebooks/data_table.ipynb>data table notebook</a>'\n",
       "          + ' to learn more about interactive tables.';\n",
       "        element.innerHTML = '';\n",
       "        dataTable['output_type'] = 'display_data';\n",
       "        await google.colab.output.renderOutput(dataTable, element);\n",
       "        const docLink = document.createElement('div');\n",
       "        docLink.innerHTML = docLinkHtml;\n",
       "        element.appendChild(docLink);\n",
       "      }\n",
       "    </script>\n",
       "  </div>\n",
       "\n",
       "\n",
       "<div id=\"df-6ac73d15-c352-4320-b599-68c1c783cb13\">\n",
       "  <button class=\"colab-df-quickchart\" onclick=\"quickchart('df-6ac73d15-c352-4320-b599-68c1c783cb13')\"\n",
       "            title=\"Suggest charts\"\n",
       "            style=\"display:none;\">\n",
       "\n",
       "<svg xmlns=\"http://www.w3.org/2000/svg\" height=\"24px\"viewBox=\"0 0 24 24\"\n",
       "     width=\"24px\">\n",
       "    <g>\n",
       "        <path d=\"M19 3H5c-1.1 0-2 .9-2 2v14c0 1.1.9 2 2 2h14c1.1 0 2-.9 2-2V5c0-1.1-.9-2-2-2zM9 17H7v-7h2v7zm4 0h-2V7h2v10zm4 0h-2v-4h2v4z\"/>\n",
       "    </g>\n",
       "</svg>\n",
       "  </button>\n",
       "\n",
       "<style>\n",
       "  .colab-df-quickchart {\n",
       "      --bg-color: #E8F0FE;\n",
       "      --fill-color: #1967D2;\n",
       "      --hover-bg-color: #E2EBFA;\n",
       "      --hover-fill-color: #174EA6;\n",
       "      --disabled-fill-color: #AAA;\n",
       "      --disabled-bg-color: #DDD;\n",
       "  }\n",
       "\n",
       "  [theme=dark] .colab-df-quickchart {\n",
       "      --bg-color: #3B4455;\n",
       "      --fill-color: #D2E3FC;\n",
       "      --hover-bg-color: #434B5C;\n",
       "      --hover-fill-color: #FFFFFF;\n",
       "      --disabled-bg-color: #3B4455;\n",
       "      --disabled-fill-color: #666;\n",
       "  }\n",
       "\n",
       "  .colab-df-quickchart {\n",
       "    background-color: var(--bg-color);\n",
       "    border: none;\n",
       "    border-radius: 50%;\n",
       "    cursor: pointer;\n",
       "    display: none;\n",
       "    fill: var(--fill-color);\n",
       "    height: 32px;\n",
       "    padding: 0;\n",
       "    width: 32px;\n",
       "  }\n",
       "\n",
       "  .colab-df-quickchart:hover {\n",
       "    background-color: var(--hover-bg-color);\n",
       "    box-shadow: 0 1px 2px rgba(60, 64, 67, 0.3), 0 1px 3px 1px rgba(60, 64, 67, 0.15);\n",
       "    fill: var(--button-hover-fill-color);\n",
       "  }\n",
       "\n",
       "  .colab-df-quickchart-complete:disabled,\n",
       "  .colab-df-quickchart-complete:disabled:hover {\n",
       "    background-color: var(--disabled-bg-color);\n",
       "    fill: var(--disabled-fill-color);\n",
       "    box-shadow: none;\n",
       "  }\n",
       "\n",
       "  .colab-df-spinner {\n",
       "    border: 2px solid var(--fill-color);\n",
       "    border-color: transparent;\n",
       "    border-bottom-color: var(--fill-color);\n",
       "    animation:\n",
       "      spin 1s steps(1) infinite;\n",
       "  }\n",
       "\n",
       "  @keyframes spin {\n",
       "    0% {\n",
       "      border-color: transparent;\n",
       "      border-bottom-color: var(--fill-color);\n",
       "      border-left-color: var(--fill-color);\n",
       "    }\n",
       "    20% {\n",
       "      border-color: transparent;\n",
       "      border-left-color: var(--fill-color);\n",
       "      border-top-color: var(--fill-color);\n",
       "    }\n",
       "    30% {\n",
       "      border-color: transparent;\n",
       "      border-left-color: var(--fill-color);\n",
       "      border-top-color: var(--fill-color);\n",
       "      border-right-color: var(--fill-color);\n",
       "    }\n",
       "    40% {\n",
       "      border-color: transparent;\n",
       "      border-right-color: var(--fill-color);\n",
       "      border-top-color: var(--fill-color);\n",
       "    }\n",
       "    60% {\n",
       "      border-color: transparent;\n",
       "      border-right-color: var(--fill-color);\n",
       "    }\n",
       "    80% {\n",
       "      border-color: transparent;\n",
       "      border-right-color: var(--fill-color);\n",
       "      border-bottom-color: var(--fill-color);\n",
       "    }\n",
       "    90% {\n",
       "      border-color: transparent;\n",
       "      border-bottom-color: var(--fill-color);\n",
       "    }\n",
       "  }\n",
       "</style>\n",
       "\n",
       "  <script>\n",
       "    async function quickchart(key) {\n",
       "      const quickchartButtonEl =\n",
       "        document.querySelector('#' + key + ' button');\n",
       "      quickchartButtonEl.disabled = true;  // To prevent multiple clicks.\n",
       "      quickchartButtonEl.classList.add('colab-df-spinner');\n",
       "      try {\n",
       "        const charts = await google.colab.kernel.invokeFunction(\n",
       "            'suggestCharts', [key], {});\n",
       "      } catch (error) {\n",
       "        console.error('Error during call to suggestCharts:', error);\n",
       "      }\n",
       "      quickchartButtonEl.classList.remove('colab-df-spinner');\n",
       "      quickchartButtonEl.classList.add('colab-df-quickchart-complete');\n",
       "    }\n",
       "    (() => {\n",
       "      let quickchartButtonEl =\n",
       "        document.querySelector('#df-6ac73d15-c352-4320-b599-68c1c783cb13 button');\n",
       "      quickchartButtonEl.style.display =\n",
       "        google.colab.kernel.accessAllowed ? 'block' : 'none';\n",
       "    })();\n",
       "  </script>\n",
       "</div>\n",
       "\n",
       "    </div>\n",
       "  </div>\n"
      ],
      "text/plain": [
       "                              Unique id channel_name         category  \\\n",
       "0  7e9ae164-6a8b-4521-a2d4-58f7c9fff13f      Outcall  Product Queries   \n",
       "1  b07ec1b0-f376-43b6-86df-ec03da3b2e16      Outcall  Product Queries   \n",
       "2  200814dd-27c7-4149-ba2b-bd3af3092880      Inbound    Order Related   \n",
       "3  eb0d3e53-c1ca-42d3-8486-e42c8d622135      Inbound          Returns   \n",
       "4  ba903143-1e54-406c-b969-46c52f92e5df      Inbound     Cancellation   \n",
       "\n",
       "                   Sub-category      Customer Remarks  \\\n",
       "0                Life Insurance  No remarks available   \n",
       "1  Product Specific Information  No remarks available   \n",
       "2             Installation/demo  No remarks available   \n",
       "3        Reverse Pickup Enquiry  No remarks available   \n",
       "4                    Not Needed  No remarks available   \n",
       "\n",
       "                               Order_id Issue_reported at   issue_responded  \\\n",
       "0  c27c9bb4-fa36-4140-9f1f-21009254ffdb  01/08/2023 11:13  01/08/2023 11:47   \n",
       "1  d406b0c7-ce17-4654-b9de-f08d421254bd  01/08/2023 12:52  01/08/2023 12:54   \n",
       "2  c273368d-b961-44cb-beaf-62d6fd6c00d5  01/08/2023 20:16  01/08/2023 20:38   \n",
       "3  5aed0059-55a4-4ec6-bb54-97942092020a  01/08/2023 20:56  01/08/2023 21:16   \n",
       "4  e8bed5a9-6933-4aff-9dc6-ccefd7dcde59  01/08/2023 10:30  01/08/2023 10:32   \n",
       "\n",
       "  Survey_response_Date Customer_City Product_category  Item_price  \\\n",
       "0            01-Aug-23       Unknown          Unknown         NaN   \n",
       "1            01-Aug-23       Unknown          Unknown      1502.0   \n",
       "2            01-Aug-23       Unknown          Unknown      7499.0   \n",
       "3            01-Aug-23       Unknown          Unknown       779.0   \n",
       "4            01-Aug-23       Unknown          Unknown      1259.5   \n",
       "\n",
       "   connected_handling_time           Agent_name      Supervisor  \\\n",
       "0                    427.0     Richard Buchanan     Mason Gupta   \n",
       "1                    427.0        Vicki Collins       Dylan Kim   \n",
       "2                    427.0         Duane Norman    Jackson Park   \n",
       "3                    427.0       Patrick Flores     Olivia Wang   \n",
       "4                    427.0  Christopher Sanchez  Austin Johnson   \n",
       "\n",
       "           Manager    Tenure Bucket Agent Shift  CSAT Score  \n",
       "0  Jennifer Nguyen  On Job Training     Morning           5  \n",
       "1      Michael Lee              >90     Morning           5  \n",
       "2      William Kim  On Job Training     Evening           5  \n",
       "3       John Smith              >90     Evening           5  \n",
       "4      Michael Lee             0-30     Morning           5  "
      ]
     },
     "execution_count": 43,
     "metadata": {},
     "output_type": "execute_result"
    }
   ],
   "source": [
    "# lets see our cleaned data frame\n",
    "update_df.head()"
   ]
  },
  {
   "cell_type": "markdown",
   "metadata": {
    "id": "PIPn5LbKLv2K"
   },
   "source": [
    "Finally, let's see if the missing values are handled correctly or not."
   ]
  },
  {
   "cell_type": "code",
   "execution_count": null,
   "metadata": {
    "colab": {
     "base_uri": "https://localhost:8080/",
     "height": 679
    },
    "id": "yQyPC557L22D",
    "outputId": "5f4335ca-9c17-48e4-ac73-e5cab7ed210a"
   },
   "outputs": [
    {
     "data": {
      "text/html": [
       "<div>\n",
       "<style scoped>\n",
       "    .dataframe tbody tr th:only-of-type {\n",
       "        vertical-align: middle;\n",
       "    }\n",
       "\n",
       "    .dataframe tbody tr th {\n",
       "        vertical-align: top;\n",
       "    }\n",
       "\n",
       "    .dataframe thead th {\n",
       "        text-align: right;\n",
       "    }\n",
       "</style>\n",
       "<table border=\"1\" class=\"dataframe\">\n",
       "  <thead>\n",
       "    <tr style=\"text-align: right;\">\n",
       "      <th></th>\n",
       "      <th>0</th>\n",
       "    </tr>\n",
       "  </thead>\n",
       "  <tbody>\n",
       "    <tr>\n",
       "      <th>Unique id</th>\n",
       "      <td>0</td>\n",
       "    </tr>\n",
       "    <tr>\n",
       "      <th>channel_name</th>\n",
       "      <td>0</td>\n",
       "    </tr>\n",
       "    <tr>\n",
       "      <th>category</th>\n",
       "      <td>0</td>\n",
       "    </tr>\n",
       "    <tr>\n",
       "      <th>Sub-category</th>\n",
       "      <td>0</td>\n",
       "    </tr>\n",
       "    <tr>\n",
       "      <th>Customer Remarks</th>\n",
       "      <td>0</td>\n",
       "    </tr>\n",
       "    <tr>\n",
       "      <th>Order_id</th>\n",
       "      <td>6129</td>\n",
       "    </tr>\n",
       "    <tr>\n",
       "      <th>Issue_reported at</th>\n",
       "      <td>0</td>\n",
       "    </tr>\n",
       "    <tr>\n",
       "      <th>issue_responded</th>\n",
       "      <td>0</td>\n",
       "    </tr>\n",
       "    <tr>\n",
       "      <th>Survey_response_Date</th>\n",
       "      <td>0</td>\n",
       "    </tr>\n",
       "    <tr>\n",
       "      <th>Customer_City</th>\n",
       "      <td>0</td>\n",
       "    </tr>\n",
       "    <tr>\n",
       "      <th>Product_category</th>\n",
       "      <td>0</td>\n",
       "    </tr>\n",
       "    <tr>\n",
       "      <th>Item_price</th>\n",
       "      <td>875</td>\n",
       "    </tr>\n",
       "    <tr>\n",
       "      <th>connected_handling_time</th>\n",
       "      <td>0</td>\n",
       "    </tr>\n",
       "    <tr>\n",
       "      <th>Agent_name</th>\n",
       "      <td>0</td>\n",
       "    </tr>\n",
       "    <tr>\n",
       "      <th>Supervisor</th>\n",
       "      <td>0</td>\n",
       "    </tr>\n",
       "    <tr>\n",
       "      <th>Manager</th>\n",
       "      <td>0</td>\n",
       "    </tr>\n",
       "    <tr>\n",
       "      <th>Tenure Bucket</th>\n",
       "      <td>0</td>\n",
       "    </tr>\n",
       "    <tr>\n",
       "      <th>Agent Shift</th>\n",
       "      <td>0</td>\n",
       "    </tr>\n",
       "    <tr>\n",
       "      <th>CSAT Score</th>\n",
       "      <td>0</td>\n",
       "    </tr>\n",
       "  </tbody>\n",
       "</table>\n",
       "</div><br><label><b>dtype:</b> int64</label>"
      ],
      "text/plain": [
       "Unique id                     0\n",
       "channel_name                  0\n",
       "category                      0\n",
       "Sub-category                  0\n",
       "Customer Remarks              0\n",
       "Order_id                   6129\n",
       "Issue_reported at             0\n",
       "issue_responded               0\n",
       "Survey_response_Date          0\n",
       "Customer_City                 0\n",
       "Product_category              0\n",
       "Item_price                  875\n",
       "connected_handling_time       0\n",
       "Agent_name                    0\n",
       "Supervisor                    0\n",
       "Manager                       0\n",
       "Tenure Bucket                 0\n",
       "Agent Shift                   0\n",
       "CSAT Score                    0\n",
       "dtype: int64"
      ]
     },
     "execution_count": 44,
     "metadata": {},
     "output_type": "execute_result"
    }
   ],
   "source": [
    "# check for ther missing values in the dataset\n",
    "update_df.isnull().sum()"
   ]
  },
  {
   "cell_type": "markdown",
   "metadata": {
    "id": "psmKzPO0L7-i"
   },
   "source": [
    "As we can see, we handled a large amount of missing / null values in our dataset. We can now move forward with this cleaned dataset for our analysis."
   ]
  },
  {
   "cell_type": "markdown",
   "metadata": {
    "id": "xrageDwL2eK2"
   },
   "source": [
    "# **Data Wrangling**"
   ]
  },
  {
   "cell_type": "markdown",
   "metadata": {
    "id": "0Jz9nrPuMLda"
   },
   "source": [
    "Here, in the Wrangling part of the project, we will try to convert most of the features into appropriate data types to ease our analysis."
   ]
  },
  {
   "cell_type": "code",
   "execution_count": null,
   "metadata": {
    "collapsed": true,
    "id": "NmH3eFnOHk0C",
    "jupyter": {
     "outputs_hidden": true
    }
   },
   "outputs": [],
   "source": [
    "# first we will change the Item_price to float datatype\n",
    "update_df['Item_price'] = update_df['Item_price'].astype(float)"
   ]
  },
  {
   "cell_type": "markdown",
   "metadata": {
    "id": "8lIPETUk_bEt"
   },
   "source": [
    "- We will convert the **Tenure Bucket** to **Categorical** data type with categories as;\n",
    "  - **>90 : Senior Agent**\n",
    "  - **0-30: Fresher Agent**\n",
    "  - **31-60: New Agent**\n",
    "  -**61-90: Mid Senior Agent**"
   ]
  },
  {
   "cell_type": "code",
   "execution_count": null,
   "metadata": {
    "collapsed": true,
    "id": "5lsEc4Zv8mZL",
    "jupyter": {
     "outputs_hidden": true
    }
   },
   "outputs": [],
   "source": [
    "# Replace values in a tenure bucket column into categorical strings\n",
    "update_df['Tenure Bucket'].unique()\n",
    "update_df['Tenure Bucket'] = update_df['Tenure Bucket'].replace({'>90': 'Senior Agent',\n",
    "                                                                    '0-30': 'Fresher Agent',\n",
    "                                                                    '31-60': 'New Agent',\n",
    "                                                                    '61-90': 'Mid senior Agent'})\n",
    "\n",
    "# converting to categorical type\n",
    "update_df['Tenure Bucket'] = update_df['Tenure Bucket'].astype('category')"
   ]
  },
  {
   "cell_type": "markdown",
   "metadata": {
    "id": "ST5FfSwPNkhp"
   },
   "source": [
    "- We will convert the **Issue_repoted at and issue_responded** to datetime data type."
   ]
  },
  {
   "cell_type": "code",
   "execution_count": null,
   "metadata": {
    "collapsed": true,
    "id": "0QH4cfJGirzc",
    "jupyter": {
     "outputs_hidden": true
    }
   },
   "outputs": [],
   "source": [
    "#convert issue resported at column into date time format\n",
    "update_df['Issue_reported at'] = pd.to_datetime(update_df['Issue_reported at'], format = 'mixed')\n",
    "\n",
    "#convert issue redponded column into date time format\n",
    "update_df['issue_responded'] = pd.to_datetime(update_df['issue_responded'], format = 'mixed')"
   ]
  },
  {
   "cell_type": "markdown",
   "metadata": {
    "id": "kh4EtRFjN3sp"
   },
   "source": [
    "- We will create a new feature, **Response_time** using the **Issue_repoted at and issue_responded** features in the dataset. It contains the time difference between the two."
   ]
  },
  {
   "cell_type": "code",
   "execution_count": null,
   "metadata": {
    "collapsed": true,
    "id": "4Ki97RRUbYr8",
    "jupyter": {
     "outputs_hidden": true
    }
   },
   "outputs": [],
   "source": [
    "# Making new feature response time\n",
    "update_df['Response_time'] = update_df['issue_responded']-update_df['Issue_reported at']"
   ]
  },
  {
   "cell_type": "markdown",
   "metadata": {
    "id": "JypALwqlOKnS"
   },
   "source": [
    "- Converting the data in the **Response_time** into appropriate format for our analysis."
   ]
  },
  {
   "cell_type": "code",
   "execution_count": null,
   "metadata": {
    "id": "oDPBZOOD1Pji"
   },
   "outputs": [],
   "source": [
    "# Convert the duration to timedelta and then into hours (time delta has attribute .total_seconds, .days)\n",
    "update_df['Response_time'] = round(pd.to_timedelta(update_df['Response_time']).dt.total_seconds() / 3600,3)"
   ]
  },
  {
   "cell_type": "markdown",
   "metadata": {
    "id": "f3WrTvHpOW8S"
   },
   "source": [
    "- Finally, let us create a copy of our updated_df, this copy contains features that are **Encoded** using the **OneHotEncoder**."
   ]
  },
  {
   "cell_type": "markdown",
   "metadata": {
    "id": "_fJeFJawOp4Q"
   },
   "source": [
    "Now, we are done with all the Data cleaning and Wrangling part in our dataset, now our data is ready to be analyzed using various appropriate Data Visualization techniques and we can also depol various Machine Learning models on this data."
   ]
  },
  {
   "cell_type": "markdown",
   "metadata": {
    "id": "PnJHij4_mVM7"
   },
   "source": [
    "# **Visualization**"
   ]
  },
  {
   "cell_type": "markdown",
   "metadata": {
    "id": "2UdvWTypSjrD"
   },
   "source": [
    "For the Visualization part of the project we have used the **Power BI** software to create an interactive dashboard. The Screenshots of the Dashboards are as follows:\n",
    "\n",
    "![Screenshot 2025-03-18 163654.png](data:image/png;base64,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)![Screenshot 2025-03-18 163720.png](data:image/png;base64,iVBORw0KGgoAAAANSUhEUgAABRYAAALZCAYAAADCwn0xAAAAAXNSR0IArs4c6QAAAARnQU1BAACxjwv8YQUAAAAJcEhZcwAADsMAAA7DAcdvqGQAAP+lSURBVHhe7N17XFRl/gfwz2GYGUAuXvFCYtqC3dBaoSzRLc2itDIk2/CSpG2ilZdKZZXUzDBrUSvFfmmYCZahaYtlmmaCpYKbShfR0sDwgtfhPgzD+f0xAwzPDDA4MzjA5/16nd3m85wZmXMO8PCd8zyPBB9/GURERERERERERESN4CIG4x8fhPGPDzL7bz7mYz7mYz7mYz7mYz7mYz7mYz7mYz7mYz7mYz7m46rHZoVFIiIiIiIiIiIiooZIHApNRNR8hPy9Lx4cPAj9Q+5Ejxv8AEkCZP4YJyIiohbG2MfJzTuD/Rk/YcfuvTh46LC4FxERXWdmhcWqWxnXbt1rGhMR0XX0wr+ewXPjnsaJk39iT/qPOHjoMHJO54m7EREREbUo/jf44a5+fXFf6D0I/FtPfPTJRixf9ZG4GxERXScsLBIRObHIJx/H7OmTkbp9F9ZuSIFGUyDuQkRERNQqeHt54pmnn8Tjw4ZiyfJV+OTTzeIuRETUxMwKi0RE5BwSV74DpasSb8a/j0uXr4jNRERERK1SWx9v/PvlFyBBQtSUV6DX68VdiIioiXDxFiIiJ+PbqQPSv9mEX4+dwMtzF7KoSERERGTiqqYAM197E4ezfsG+bzahaxdfcRciImoiZncscig0EdH14+3lid3//RTv/d9abP92j9hMRERERCaG3j8Qr7zwLwx+7GlcvnJVbCYiIgfjHYtERE5kw0fv4//WJrOoSERERGSFnd+l4b3/W4sNa94Tm4iIqAmY3bFIRETXx/yY6XB3c0P8ig/FJiIiIiKqx0vPPwsZMuYufFtsIiIiB+Idi0RETqDPbbfgoSH/YFGRiIiI6Bq8+8FH+Me9d6PfHUFiExEROZBZYXH844Oq51kkIqKmMffVFxH/PouKRERERNcqfuWHmPPKC2JMREQOZFZYJCKipnXrzQHo0L4d9v5wQGwiIiIiIiv9cOAQ2nh4oO/tt4hNRETkIJxjkYjoOntz3izk5P6FLdu+EZuIiIiIWpWQO4Nw34C7xLiWt99fI0bVhoc9gJsDbsKrsYvEJiIicgAWFomIrrMj+7Zj2Kgo6HQ6sYmIiIioVQm5MwhzZ0SLcbU/TuVixmuLxbiaJEnYsXk9+gx4SGwiIiIHMBsKzTkWiYiajl/XLrh0+SqLikRERER2IMsyzuVfwI3+N4hNRETkAGaFRSIiajp9br8ZWb8eE2MiIiIiukY//5qNPrdxnkUioqZgVlhcu3Uv1m7dK8ZEROQAPXv44/RfZ8SYiIiIiK5Rzl956HWjvxgTEZEDmBUWiYio6XRo3xZXrmrEmIiIiIiu0ZWrGrRv11aMiYjIAcwKi5xjkYio6bgqXFGh14sxEREREV2jiooKKFwVYkxERA5gVlgkIiIiIiIiIiIiaohZYZFzLBIREREREREREVFDzAqLRERERERERERERA0xKyxyjkUiIiIiIiIiIiJqiFlhkYiIiIiIiIiIiKghZoVFzrFIRETUnOmQlnEV58RtdxmixV0BDHmpDAd3a4z7aZD9ZRnmDRT3crDIMmSLX2/GVZz7XCfuSdSg6IRC82sp4yrSXhP3bLz4z81f91xGIVIixT3JfiqRsls85jzuREREzsKssEhEREStRGQZVo4tg7+XbAxk+HQtQ/RrlouQREREREREpswKi5xjkYiIqInVdceeldu13okVPVAHHzEEgLY6DOGdQM1UHXes1rlpkLO3ANlflmBngg6zR8jwF1+SiIiIiKgOZoVFIiIiah3K9GJior42akFkqN0r4dO1HEHBxZg2R4OD+wuR9rYe4d3FfYmIiIiIajMrLHKORSIiotYh8Rs18sUQAK4qseszMSS7u0XGtFe0SP2yEDlfO9Hwc4UeAfcVYuWGYiRNrBomT0RERERkzqywSERERK3Ef1UY/YEHTlyVjIEEzZ/uSHjdDQnCrmQn3Ssxb3kZDu7U4Nw6DWY/VYrgrnqo1eKOTkCtw5DnC5H2GouLRERERGSZWWGRcywSERE5CwnaUpcGtzKt+DzrZa1WYeBQH3QJaYsuIT7o/aQaC9LEvchuBpYj8t4y+Ldt6mKdcC1pq4rJDalEwKNFSBkr5kREREREFgqLRERE5CQK1Vg8yBs9GtiGviU+kUikxCbT6ybUUEweOsMby/a4Ib/e4rQeoVFONFSbiIiIiJyGWWGRcywSERERtQ5ZaS5Y/Kob+jztg4Qshdhcw6sMUW809V2WREREROTszAqLRERERNTKnJaw4FkvLMisu7jo30+HcDEkIiIiolbNrLDIORaJiIhaicgyZGdcxTlx+1wn7onohELz/TKuIu21qj1kRM0pQ9rOApN2DXL2FiItQYfo4Nqvd82667Ez3fzrOJdxFefSSxA/UHwCEPqAHnHLy5D2ZSFy9mqE5xQge1sJUubrEd5dfGZt8Z9b+DczCpESaWgPekqHndtMjtOnFYYG0+M8vQw+tV7VyKsM82q9bgnixX2aQEJ0G6QXiqlRRx2G3S2GRrfIiJqiQ8q6EhzdXYCc/abvxXAdHFytRdxT1t71KCNyig4p64qRvdf0mqp5vaOflyElTg/j4bdedxmz3y7D0d0m18J+DXJ2liBlTiWCxP0bo/q1he+D3UVIW16ByFvEJ9Sju4zoOWXYaem63V9geM0EHWY/au0xBfyDjSuRf2o4rrXO037j15mgw+yHxGcKGvrZ0V3GvOUlyE6v+roLkfSU+CIwnudyw8ro1fsavy8/L0O81dcLERERXS9mhUUiIiKiRhlYgZ27CxA3ogwBbStNGmSo3fUICC7GvIRC7Jwlw9+k9VrMXlCMIIsrKCuQ/oEHZpgsPBM6vQxH92qQEleIqHvLENBVD7W7UKhQV8LHtxyhwwqx8vNCpL50bYWMIa+VIPWVYgT56mtCxbW91vXlghl7VGJopEPgA2JWiZWfF+LcOg3ixhcj9JZy+HpVQl3rxkfDdeDftxRRr2iQs7kcUfUUcYMmanFwbwHixxcj9BYdfNxNrylUv57vjWUIfUCLxtSs/R/SIW2DBtPuK4Ovl8n5UchQty1H6IgCpG4rR3Q9X19d/MeW42D1awvfB14VCLi3CPGJ1lxjMqa9XYLszzWYN6IMQZauW0Wl4TWDizHttQLkfFmGeRaK6tXu1iN1WwEOJhhXIr/JcFxrnSeF8esMLsa0NzQ4ulqPISbNVuuuR8pHGkTfWw4fdc3XXfuaAPwf0iP16wLEjy8xroxu8h7VlfC5sQyRr3BVciIiImdnVljkHItERERkNS8d0uKKEGRapLFIj6CIQiTZUCTwf74M0UFikclAc6ANIj6pnQUF6uArFmTqo9AjeOw1rIDcrRxLHy2HxXpnM5SbqMQJMTTy7Soefz2CbjQpplpB3b0E8+N1FotW/mPLkPJ8Kfwbc96s5aVDUmwxAho4UWrfEsxeoG9cETywDDtfKoF/A6/d4DXWXY+kbYWYfV85fOoelS6Qoe5ahui4YiTV9bo36RDgK567+sjw7VuIlQmNPA4A5i0uRmhbMRUM1CEpthDBHRs6z5UIeLQYIR5iTkRERM7CrLBIREREZC3/e0obLNTUqETAg6WIr2s4bX266xH/VJnF4p32zzaY/IK9ujR6hD5XhtmNuGMtcEgpfMWwOTutwPm6hkPb6S5M9Y3FiIsTXqu7Hmuer2OouB0E3NdwUbGKOqgMs62+TisR8kBjvu66VtmWER9fjCGNKgCaUOsw5HnL0wFcK5/gYqx8Xkzr4VmGkYENfP3d9Uh5zfpzAYh3wBIREZEzMeuFc45FIiIiJ2E27575lp3QwB/xDqZWG/99vQK5f7hh17duyPrTFdq6bmJTl+OByMZ/zdGzShDqJaYAtGp8NEOJXWJuSq/AiUwPJK7wxuhxbdElxLBFLPJEer5ZVwhw12KIxfngLNHDt6G7rv5QYvO2NobtBxW0YjsAlKqwq2qfbW2weZsameI+TcYFuZfEzMCnY13nToI23w27tnghJsYHdxmPcZdxPli8TQWNuDsA/zvKa8+PGFFueZh7oQqbV/hgaNVrhvtgwnwvJP7ghtyrkrh3w64qkZXpjvTflNDUdZ1Ch+ARDZzXajLUVV93qStO/OaGXZluOHG2nmqYlxbhr9SOhsSVIPLGOo6v3gX5f7oh/Vt3ZP6hqvt9q8sR+ZIOoWJeTYLmTzds+8wLk2f4VH8v3BXtjcRMpYVrsxLBgyqsv2uxo77BInvk9NK672i09ucIEREROQ0LvWkiIiIi62n/bIPJT3rhrn+6YXSMG4Y+6YkeUV5IvyruaeAbVG7hbq16RJZh2t2WKgwKpH/gjgWnxdyoSIGsbd4Y2t8LA6NViFnrgl2/1TSnb3FFxCQPZJm9tIygO83C+ukVOLHNq7pwOXSGN5Z9YywsHVAgZr4Sk+crMfmAC8rE5wJAhQvSq/aZr8Tk+Qoki/s4Kc1pdyTM9UGPYW4YvUiBxG8l5FY1/iZh2XwPLPjBQpGtow7Dhpk8rmM4vSZbjclrJWRVBaclbNumQMxUN9w11B0zau9eL02mF+4a2gZDo9WIGNcGvaO8kFnH3Zn+/nUU+eqgyfTC0EGeGDjODaOj3TDwMS8M/cDNYlEVkBF0t86kYKfH9AHmiyYBgPa0B2Ke9EafJ90QEaPG8H964K6hPpi8rY4i9Y1liH5UDF2Q/1sbxIzzQe8n3TDhHQU2p9UUJ3MzXRAT3QbJxy0ULG/SIUrMGqA964bERcYCc7gPJqzwwK4/AECPyGDjokYCw/u0/ucIEREROQezwiLnWCQiIiKrlbohYYYSm8Xi3m8KRHzmZrnw4VWJIKuHGlciaazlYaa533qazatoKuFVDwyd71JTkBLdIiO8jwvyLd2d56Wv564vkQLpK7wwcL6iunCZleaCxavNulnNhAwfS3cOAtAWiu9JieHhaiz4RohNhD5QibJ8VwvXQiV8bhAzcz5BZUiZbvvCP7jojgXRipqiJwzX6eIDStOkhqoRhcXTbTA5WmF2rWWtdrNcVAWADnpU11Wf1yHIvXYzYPz+mqpCovj9BWDzfA/LhUDoEfyQ8LUnqzBwnBKJJoX12mQMGVaJ3IsWvlZFJfytHhZuOBbPPuaGmC3GAvNpCdvWKpBwoJ73qVcj2dL7/E2BiNc9ap8zIiIicipi75CIiIjIappfVFgsFgOqrFYiq1QMYRg+bOU8cEPiSjGko5ga7pKMibFUVLHgFhnTXilHyroSpG0rRM5ejWEo+ToNVs4vwBBLYzc9KxEkZnU57o4Z9RQ4m59K+HiKmUGZtu5jHjpCj/jlZUj7tBjZewuQs98wXD8lrgArR2gtzI9ZCZ/OJg9/d7F8d59ah9BIDQ6mF+Lg6nLMHnFtRUbNH0qLd4GmZynq+HdlK4vLErLS6h6On5ystlwY86pEgPE/o4J0Fo5PA99fAGIyLa/g7dO5rjtuZQwZX4E1CWVI+7zI5DxpkDS/APPutXQ3YSV8bhKzuiiwK7HuYxHeu8Li+9T+qkJMXe8zTYmss2JIREREzsKssMg5FomIiJyFBG2pS72bxmLhrunknzXrSpiQUGapTmEtDx3i7rcwPLTQDYsbmlcRAG6pxMpPC3FunQaznypB6C3lCPDVQ23nFYdzT7haLhw1V8P0CLQ0nyWA/L/Mz3f49DIc3KtBypxCRN5bhoCbdPBxv4YFN5LV2HW67sIl1Hr49y3BtDkaHNxdgqRG3sWYb2k+zfpYXVx2gea8mJk4IFm4W7O2zh6Wr8n6v78AnJEsF0U76IXpBmREzS9F9n4NkqYUYVhwGQJurLi281SfQiXS/yuGNTrX8b2X+2d9X4QETUMHkIiIiK6bBnorREREdN0UqrF4kDd61LPdNaMF/yr3qUBnS/UGVSUCbhRDwUAd0j4sQPhNdd25ZS8K5P4hZs1b5IPaOhbgcEXu4dpJ9PuFWBlZBv86CkaNI2HyVE/ssqYA6FWOIZEapH2qwxCxrRny9WrEsGtTnymQL2ZmZMR/Woi4YVr4WPp+sqerCmwTMxMBHR39/UhERERNzaznxjkWiYiIyCmcdcOmP8y6KoaVb6fXV1CSsebVYgRYGnN5VYmsTA9s3tYGy97xxuQYH2z+U9ypkVpSreRuHaL71fGGLqqwyaRq5P98GWZbWlTHuILxrm1tsPkzL0ye743RdS5iIjitwOhhXojZ4obc0nruXjRS31SMle9fY1HOiWjKG36vFkXWsQqz1gVVN1EOiStB5E0WjpFegdzf3LBtWxskr/XG5Pk+iNhmeWi11fRoWXfvEhERUYMs9NaJiIiIrFPvsOK7K+BvcUitAvlpYmaJhBlL3XHC0jDI7sVYGm+hWAIAkVqEdhVDIP8Hb+OKwCpMnq/E4s9csPlbCXD0XVzNhoz4V0otF2QB5B5SYrPJ42kPlJnPl1eqRuKrhhWMR89XYvI7Cmze5oJdls5hnSQkLnLDXYN8MPR1L2zOVCG/niKjT7AW88SwqdV3DT2vtzxku9AFJ4z/mXvFcpfct2sd13iVnpUWFzbCZYXxXFUi+m4L0wnkuxtWYB7nhgnzlZixwgWbt5ms5u0gJywtDgPAp21971OPQNO5OImIiMipmPViOMciERERWcv/trrvHIwer62zoJJV10INogNKzP/W8l1UvgOLkTJWTAH/QEvFFhXS33ExL5x0r0BANzFshW6pxJrNhYi8sY4CT6kbNn9gWtzTw7+DyUMjzS8qxFgoGkcG6yyck4Zl/VeBydEe6DPIBxHveiDXUoFSUYGgSDFsSnqE3F9H8RAy4h+wtHANgEs1w4YT/3AVGg18bivH7DpXUJcRf4eFoiGA3FxjF7+73mJxPzdDbb4CM4DoAMuvZy9ZV83+9AAA+N5RLswJWcN/ernllaSJiIjIKVj+7U5ERERkja4lWJlgXlQZ8lIZpgVbGCYLQHtSiQQxrMeu+e7YbHFRDz1Cx5UhWii8DLO4Iq4ePneIGRD971IEWb6JyjEsfWkA4KXDEAtFUkcLGqhHfEIJshMLMKx7HUVFuCAzyU1YnbgSnS0UrHy8LSyoMrCe4dUmopeXIG1+3QumpH+iQmJWU54s66mDSrDmFfO7d6PiSjDyRvMcAHKzTRb9SVEiy9Ihci9D1GIdwi0UF+t+bSUytxi/XwbqLRZ03dqZn2v/sWUID7T0evZT5wrcXmWY9pHe7EMK/4hypIysozBLRERETsGssMg5FomImk6FvgKuCuf8Q5nIWj7BhTi4sxhpq7VYk1CGtG0FSBpbZrGgASjx7ceNveYlTF7qbn63IQC0LcPsxbULmwlnLb2+HkOml2DNlEqED6tE+PgKJH1aiHl1FD8dps7FNvQInVKIg+vKkLK6BAd3liJe3MUmOozcW4Cc6k2DcxlXsTO+EJHB5fUu6qHJbIPJH4ipAucLxQxAYAlSV+swbZjhOM+eX4aDcXXMdylS6REwrAA704uQlqDDtGFyTZGxu4zIKeWI7G3hfOldkZUshk1Nj6CnCpCzrQQ7E8qRtLoEB3dqEPeAznJRTKvGNtM7QE+7IvGHOu5aDCzGys8LcfDTEqQuL0fKuhIc3V33a2uz3LD4gPFBsuXrzffeYqS9rUfUsEqED9Mjbnkpdk6p63vWjpJVyLwohgY+QYVI2luEtHVlWLO8DGlfFuLgrBL4W3qTRA1wdXWFvsLCzwsiIrI7s8IiERE1nUuXr6JdW4f/KUfkeG11COhbimHBZQjwNb8bqormgDsmWBgq26A0FZalWS68qAOLkfSayZ1Wh1wtFlPgVY5h4wuwcn4BVk4pwhCHrxhtiSuOnxUzI4Ue/reUIbRvOfzb2vvOMRlq90qTzZrXl5B/wAtDoxUWirouyDpr6S7SSvj2Lcbs+YbjPG1YWeMLQ+oKBAQXY/Z8DXZmXMW5jKs4t1mD+PElCLBwl6T2VxUSxfC6kKH2LUdQcAmG1HsOXXBihxsWCEORk5e6I/1q7ayaQg//m8oRfG8JQm8ph69XHa991Q2L55meLwVyLRby9Ai4rxBx8wuwcn4hou5tghWjAQAuiNmhhqUR7QAA9woE3FKGYfeWIaDr9fj+pJaiXVsfXL5S1zcUERHZk1lhkXMsEhE1nVM5ufDv7ifGRM2G5qr11Qjtn20w+QWzrofVkmd41FF4qUTAg6WIH2h8uE2Jby2tJm2B9k83ZFm6885hJCz4rp7CirPQK5CZ7I3hL1gqKhos2Ka2PKzVjALpmZbnybSZWSHtenCBpo65Ay3RZLbB6NctFGVPKxDxuhcyLV7jVihUI/F1NyTUKli6ICFdZd31plUh/Tfrv5+vVe5SdyzObMS/c1WFE036PUrOYNXaDXVuO7/fJ+5upscNfjj55/X9yUBE1FpY3wsiIiK7O5L1G4Ju7S3GRM1GfponEo40VCSQkH/EC88+qcQusalRXBCR6Ga5mKUuR+S/y2FYw0PCjFfbIP2iheKNCW2+BxbPUFl+PQfKXeqOxQcaOmbXid4FuUfaICbKC8OXNrBKcLIbJv+3oaKVAlmfeSKirrs0r5kEzR9tEPOsWEi7HiRkrfPEttMNdatdkPuDFyIs3gFqlKbA8Gd9kJCpbOC4mnJB/pE2mPyMu8WFc9IXeTR8vWmV2PWBB3YViw2OkRDticU/NPwetfkeWPCsG86LDdSiZfyUha93pdW7NSTotptx5OdfxZiIiBzArAfEORaJiJrOmXPn0b5dW6hUDrqbh8jhJCyY6IWId9sgK18BrenoRa0CuUc8sOx1b/SZqLCxqGiU7IZldd3t1LEE86oWkjmtQMTD3ojZ5obcWneTSdBeVSF9izeGD1Ndt6JUwgteGPpOG2SeVUCrNS2AStCWKpB7RIlMk9Rh9C7QFrrixG9u2LzWGxFPeuOuiUok/ibuaNmu1z0wcK4Xdv3hCo3p+9AqkP+bB5bN9cLQd+ov8FZJeNMTM9a2QfpvKuQXutS+lgBA6wJNvgqZP3hiQbQPev9TaXFl4+tC74IJ4d6YnOyOE7W+D6rOpweWzfXGXVMVyKr9THOnJSyIboMe47yxbI+b4fVqXSMmx2KPF2aM80afiUpsrudY1LrehO/RE5ltEPNcG4z+xCR3OAnLprbBwLle2HZEWfva0UvQ5Kuw67Pr+z1KzZeLiws6d+qInNN5YhMRETmABB//OiZpISKiprDotZk4/dcZfJG6XWwichrRCZYXOjnx37YY+LqYEhERXR+PPvwAAm/qhZmvvSk2ERGRA5jdscg5FomImtb6zzZj1BPDxZiIiIiIGmnUiOFY/9kXYkxERA5iVlgkIqKm9Vv278i/cBH3hfYXm4iIiIjISgP6B6OwqBhHf7FyPgciIrIZh0ITETmBoFtvxofvvYXHn54gNhE5BTdPGR6uYgroyyVoSsSUiIio6W3+5AO88Opr+OnoL2ITERE5iAJuPvPFkIiImlb+hYvw69YF/xjQHz8ePCQ2E113FeUSSsvMN61O3JOIiKjpTYuegD9O5SI5ZavYREREDmQ2FJpzLBIRXR8LFi/DrTcH4InhYWITEREREdXh0YcfwB1BtyJ20TtiExEROZhZYZGIiK6ff0a9gGfHjMIjQ+8Xm4iIiIhI8NCQfyD62bF4esKLYhMRETUBzrFIRORkOnZoj83rP8C2b3ZhbXKK2ExEREREAMY+FY4nhochfOy/cD7/othMRERNgIVFIiInteb9JfBwd8ei/7yHCxcvi81ERERErVKH9u3w7xkvoEJfgajJr0CW+SctEdH1YrZ4y/jHB+GOm3vgcHaOaUxERE3sy692QqlUYlncPHTq2AHZv59EaVmZuBsRERFRq9DWxxvPR43Gv19+AYlJG7FwybviLkRE1MTM7lisWrhl7da9pjEREV1H0RPG4vnxkTiVcxrfpf+IjP8dwck/c8XdiIiIiFqUnj26I+TvfXFf6D34W88e+HDdBrz/fx+LuxER0XViVlgkIiLn9fe+t+PBwYPQP+RO9OrhD0gSh/8QERFRiyNJEiDLOJV7GvszfsKO3Xtx6HCWuBsREV1nLCwSERERERERERFRo7mIwfjHB1UPhyYiIiIiIiIiIiKyxKywSERERERERERERNQQDoUmIiIiIiIiIiKiRuMdi0RERERERERERNRoZoVFzrFIREREREREREREDTErLBIRERERERERERE1hHMsEhERERERERERUaPxjkUiIiIiIiIiIiJqNLPCIudYJCIiIiIiIiIiooaYFRaJiIiIiIiIiIiIGsI5FomIiIiIiIiIiKjReMciERERERERERERNZpZYZFzLBIREREREREREVFDzAqLRERERERERERERA3hHItERERERERERETUaLxjkYiIiIiIiIiIiBrNrLDIORaJiIiIiIiIiIioIWaFRSIiIiIiIiIiIqKGcI5FIiIiIiIiIiIiajTesUhERERERERERESNZlZY5ByLRERERERERERE1BCzodBVRcW1W/eaxk3uhm5dMfDeu3BH0K3odaM/2rdrC1dXhbgbEREREVlJlmUUFZfgr7yz+Pm3bOzP+AmZPx0Vd3M6Hu7uuH/QPQi+sw8Cet0I304doVarxN2IiIiIWryKCj0uX7mKk3/m4qejvyDth4PIO3tO3K3JmBUWr7fnnnkaz0RGQK/X44cDh5D16zH8mfsXLl+5Cr1eL+5ORERERFaSJAmenm3g16UzbukdgH539sGtvf+Gr3fuwf+tTcbvJ/8Un3JdDQ8bgmfHjMLfet6IvT8cxOGff8EfJ3Nw4dIlaLXl4u5ERERELZ5CoUD7dm1xo/8N6HPbLbj3rn6QXCR8nJyC1es+FXd3OKcpLP5rfCRefH48vt65Bxs2bcWZs+fFXYiIiIjIAZ4YHoZnnh6Jn47+gthF/8Gly1fEXZrU0PsHYv7s6Thx8hSSP9+KIz//Ku5CREREREZ+3brgn+GP4eGh92F5wkdNWmA0Kyw29VDo7n7d8MGyOPyZexrvvPd/KC4pEXchIiIioiYQ8fgjmPTsGCxc8i42fpEqNjeJ5Yvn42+9bsRbyxOQfeIPsZmIiIiI6uDl2QYvv/A8ut/QFc9PjWmSIdIKuPnMNw3uuLkHAOBwdo5p7BCD7r0byWveRcKaT5CYtBE6nU7chYiIiIiayK/ZJ/Df7d/i5Rf/hYCbeuL7fQfEXRymQ/t22LZxLX47fgKvvXn975okIiIiam7Ky3XYk/4jysq0SFi6CFm/HEPuX2fE3ezK7I7FpjJ40L1Ytng+Jk2PwR+nHF/EJCIiIiLrLYqdiQuXLiNm/mKxye46tG+HHV+sx4oPP8a2HbvFZiIiIiJqpICbemLlfxbhxVdfw/f79ovNdnNdCos3B96Ezz9OwMQXZ+LP3L/EZiIiIiJyAkte/zeOZP2K+BWrxSa72v3fT7H+s80sKhIRERHZ0U039sAHy+MwcuwkHP/9pNhsF2aFxaaYY3HfN5vx9nsf4MeDh8QmIiIiInIiKR+vQuyid7An3TGfdC9fPB+XrlzBB4lJYhMRERER2Si0fwimRj+LQQ8/KTbZhYsYOFrszJewJ30/i4pEREREzcCcN95G/JuvibFdDL1/IP7W60YWFYmIiIgcJH1/Bn44cAj/fvkFsckuzO5YdKSuXXyxfdMnePCJ0WJTvYIGhyHAG9D8vh27fhZbW5nbByD8b15AwSls3p0tttboEYJhd3aAWnsJmV9nIFdsbyI8d0RERM3fyy/8C6fzzuC9D9aKTTbZ981mxLz+VuNWf7a2L0RERERE1XZuScYDjz+N/AuXxCabNGlhMW7+bJw5ew4bv0gVmyzwQ3hMLGZHhsBfXZNq8zLw0cJJWNBCpuDxfzkRO5/vAx8AJzb1w8AYcQ8D/+HTEf/yKIT6qWrCkjykJ7+FiCX7arLbR2Hl4skID/SqyfTlyP8tHckfLcPi1Lya3Gjahh8xu58KWYn9MDTOkEWv24N5/U1ew8wpJAdGYIYYAzXn7qkQ+HuYxFdOIX3nRiyYuxFZJrHTiUvBuZE96z0fjjEGKZnTEYoMLAiehASx2YnFbz+EyF71XRNERNScubu74csNa9Dn3ofEpms2PGwIIh5/BLPmGTsfDbC6L9ScjVyEg/PD4K8GNPuXove49eIeVA+H9UeiViE7JgQ+Yg5Ac3w7Fk+Zg0QHrkXpsPdFREStytMRj6NTxw6Y8/oSsckmZkOhxz8+qHqeRXsb/tBgK4uKgH/M21gaFQJ/10Kc2L8bm7fsRvrJQqj9QhAdtwrRPcRnNJVYpB0/hHPbY8WGazLt/j7wQSGyvt6ObZliq1GP6VgTNwahfipoTmZg25bt2Lb/FDRqP4ROXISUiX7GHUcg6YNZCA/0gvZCNnZt2Y7NX2fgxGXA9/ZQDBtwo/DCADAdw+4wdNCD+s+CvzHN2vs1Nm/ZbtyOIh8ALhw1yXajri+3+typq87dduw6lAeNd0+EDh2M0Ot27oiIiOhalJaWIX1/Jp4Ybr/C4rNjRiH5861ibJnVfaGmNgYpmYdwLnMVosWmaxA1fAD81UDu/u3YvNeRd2Patz/balzJw4njp2q2vEL4BIZh/gexGCLu2wxEr9uDc8f3ICVKbHE0Xn9ERNfDhpSteOzhB8TYZmaFRUd5aMg/sD/jJzGuQ1/EDe8NNfKwbcp9GDjuVUye+SoiwkZjwf5CoF0IoqaGiE9qnlwB4CKyps7B4k1io0F4zMMIUgO5X7+E3mGTMGHmHEwYF4Gh/8mABl4IfWoyQgFgbBiCOwH4bSMGDojE6JlzMHnqJAwccA9Gz1iA0THmn+b7x4YgSAFoSwAE9q0u2KavfguTZ84xbiehAYDCkybZSiQLr1Vl2oDeUOMSds2tOndzMPrpx9A7bA4mx0xCggM/0SUiIiLHSN3+LUY+9rAYXxMPd3f8reeNOPLzr2KTRVb3hZo5NwUAFCL3uzmIWZ0hNtN1psneiIHDI2q2+0dj2eFyqHsNQXSTF+eIiIga7+ChI3jgPvv2mswKi2u37nXIitBD/jEAe384IMZ1+Bv8OwHIyRKGPOch4YPVSNyyHbtM+6E9wjB7RSIOHvgR2XtTkLpkFIJMmjHlbaSlpmDNFNNwAtakpiD1jTDj4zDEb0hB2oZYTIt5Fzu/22PhtcIQv2Gg4a6+LgORlvo2plW3WdIbUW+sQtrePcg58CV2rp6OcJO79cLfSMQDXQDADw+YfX01Qm/sACAPmfG1C4O5q9dgWfJ2bN73myHwVsMNQP7ZI2ZzKu5K3W6WAX6YNqA3oM/GR4lHoVX0xhCbC7Z94KYGoL+I42KhNGc7NotD2HuMQty65Jpzt2JyrWPU4LkdEYvU1BSkxk1H3LoUZB/eg4Mb3sbs4VV3Lvgh3Hg+LZ2DeilGIW5dCo5mGl5z2mBj3m86klJTkLZqcvUdnkDN17JzySjTVDAA01Yk1lwT62IRdbu4D+Bb5zVoHO6+IQUHD/yInANfIq3W+zWYtiIFaalvY97YRUjdvgPZlt571ffFTMPrHc3cg4Ob38U84bVgHH6WtPlLw/GtY5/Gseb7DYbvoSWJSPtuD3IO78HB1ESsmRpW67hbeq+pKyZgCICgkbNqvu4Niywea/u/NyKilunQ4Sz0DbpVjK/J/YPuwd4fDopxnazuCwEN9r+q+oBpKyaYhobfJxtiEW76uIHfpdNWjEJQGwBtbkZUaiLiR9S0WRI0NhYpqTss/86Z8jaiensB8EJQpGkf1ZL6+hPGvs92w79zdHsyUt5oTH/W+Lt3b12/m42/O1N3IDtzB9I2LELUTEt97YbOQ01fYN78VUg78COyvzP8nn95STLSUhMRP9J0/6pz8i7m9audi9wiZxmOs0mfALC1D2dJHhb/kQfAC50DUe97qvr36r0GAAB+Ncf/O8O5cxP2CH8j0XB8TK8343uofQ7quU4adb0J6u2/N9R3a+D6M/Zzj2buwdHtiVg5trdpK2Dt9WfD3xBRNl5/RETOLO2HAxji6MKio4T8vS/+d6SRq3foy8yLYfvWI2am6ae4AxD/wTxMG9oH/h6AW7ueCB4xC6nbTYYk3NATAYE9EXhDzcsA3RAY2BMB/h2NjzvCP6AnAvqNwOyoAQhsp4ZbJ8NrpSSOMe7jjc5dvKAGALUX/G/wQ+eaFxT4IXrdB4gbFYKATmrAww9Bg8Zg5caaYdw+HTvARw0AKvjc4GcoptapHGVmd/plIGH+HEyevx7pAHD4DM4D8B0wAymxI8w6gWYGTEZoLwDHM7BgeQaySgD/oBE2fuJ/FMcvlgOK3ohMXYTo/mJnyUSPMUjZOAtR/XvXnLuhE7By7SIMA6w7t+38EBDYE8EjxyAqxA9uCi/49wtBcA9P4zlIwsqoAQjqYnIOkt+1arhSwIhZiArxg4/aC/79BmN2nHGY06F0aNQ9ETB4MKaZForDBiI40A/anI0mr2JqAOK3v4PZQ/vUXBP9RyBufSJmm+7mHYLoOq/BEVizchbC+/VEZzUADz8E9BuMaXHLEV9V+ATgf1NPBAQORnRsGIL9vODmbXjvS1fE1pxf4/fFsImzEH6H8X3ePgDRccsRP8DktSauws74MRhyux/coDbs83Yikmz6ZN6a7zcgcsV7iBvRBwEd1QDU8A/sg2FT5iEpruYLtPReg4dOxkeZe5AaNwpDAjoZr4swxK2pPY2CY94bEVHLdebsefToXs/vdisF39kHh3/+RYwbYEVfyIr+V3Uf8KZupi9k+H0SUNO3s/T7Rfxd2rlrJ/goACi80PmGDuhcz/TU/hNXISV2BEIDO9T8zolPqhnG3ckPnb0N/+nTxQ++HY0PzNTfnwiOfRtLowYgqIcX3KCGT4/eCB01CynrxhiLO/X1Zwcgfvtaw+/eTjW/m1NTTfoPA2KRFDcGQwI7GPoOd4QhbuJgoa9tzXmo6QtEG+dU9/Hrg9B+ftiRozX8zn+8pk8ATMewwT0RoC7ErkMmsZmeCJ8/CqE9avoEK6v6Ftfch6vbEG9vAOXQnEO978nHmmsAwJDlCTXHv11PhI6ahfBepv8i0Nnf0Ifzb2cSGvvENeeg/uvE+utN0ED/veG+Wz3X3+BYpG0w9HN91Wr49uqD8Ni1SHvD5MYHq64/2/6GSLTp+iMicm7/O/IzQu7sI8Y2MSssOmqOxY4d2uHipctibLuYKYjspYLm0EoMDboHPYJeQvLJcqh7PYLpddwBWC99HjbPeAw97rgHPZ5cicwCwKf/I5gHANiI0fd/hRMAkPMVetwRiTrX9hgxC9H9vYCc7Zgcdg96BD1mNow7cdJj2JQDAKew6Y57MHS++CKNtG8OYj7Jhsa1A0LHxmLn8UPIOfCl+V2ARqGjguCPcmTuXgpgJb79rRzoEYLoBj5tb8iy2SuwK68cPoFhmLfuS5zL2oOjqasQL3ziGBk7DqHtDJOT3xV0D3oERSJm43YkLJyDbWjkua0+zv0wdNyrmLEiGxgwGVH9vYArGVhgeg46DUB4rBV/FOXtRozxecsOlwPtQhAeAwAZWJx5CkBPhEyqmd9yZFAHoOQYvl1R+2Wq+Mca3o/25BaMvsXwupMTtyNxyVwsNt2x3mtwCyYMegkzYiIN7UH9MPrrPEDdE8PGip+yFyJzeSS6BN2DHmFzsDkHUAcONDu/mkMrMbTq69lieK0HxlZ9ah2C2U+FwAeFSF9i+JruWpIBjaIDhoyomZPzmtX7XoHkKQ9idMxCw/m/4x50mbQbuVAhYPBY1K79FSIrcY7hOgqbg215gNrbC+d3vmW8dmq+/8Ijq57j4PdGRNQC/fFnLm7qaaFT0UgBvW7EHyfNqoS2s6L/1Tj1/y6NCV+B9AIABRlYfMdjGP2J+PwqYYiLCoGPye+9u5YIw7jnR2JxRiGAQqTH34O7JlkucjXUn8hcGImBMxYa3v8d96BH2BpklgA+/UcY7wyrpz87ZSJGmr72LS/VvGfj3VvhYwciQA3kbnnJeFzewq5zVS9g1JjzYHJMuoRPwoTYNchasQsZBYDPraHVHwZXTd+Tm7XFWESuW+7Ot4x9gqr3XtW3uLY+XDW3TggfEVa9RcWuwtJBxucuN9nP0nuy5hpAGJ4N9gP0p5D4pOH83TVjI7JKTF7bSg1dJ9Zeb6KG+u8N993qvv6mPfcIAtTlOLHJcG11mbQduXoVAu4fi6rum1XXn61/Q9h4/RERObPzFy6is2/VDXb2YVZYdBTZQWtPR9/SDcAlZH62xrjS8D7MSDkCDVQICBYLLVYoPoOsqpWTf16D4xcBKFQWV4Gr193d4Asga7ehEwrkISF2H3IB+Ac2YqhBI+1aGIneTy7Esi0ZOHGuEPD2M3yKmJpS6442IAzRwX5AyTGkGztCy9KPQYsOCBpuY2UxZz1G3x+BiCUbDYu2wAu+gSGIjE3G0cSqT8tHITyoA1ByFInj1hvvTM1G4tw51cPfG3NuNWd/Mx5nIGt/huH1Hu4NfwC5mdtx/s4whI8IwvnvDAvRBFlxbZzY/6pxhb88LN5xBBoA/rcYPrnMXZWBLD0QcOezhvczcjCCOgH5mVuxTHidKtPu7g0gD98uXIhdAIA8bI6bg5hkYaXuBq/BfUjeVDOh+67DZwxzYCpMVskEAFzE8RXG/XK2I+tsIQAV1KafbgPI/7Pq+OZh82+G11J7VP2gCUNQDwB5Gdh8MQjhI8IQfDEdmecMc3LafGNfg+8V2LVpS80q4ruPILcAgALCsKCLyIozDvfP2Y7M04aOcm5m1QrkeUjIuwgAcKv+QN7B742IqAW6dOkyfDvZ3hn17dQRFy5dEmPb2b3/Zd3v0oaFGEamHP8Ok42/93JXL8SuHAA9elcPv7aGNf2J3NQt1f0i5KzEcbHwUoeo4J5QoxxZ+zLgMyIM4SO88O2BbEP/cKjh+IXeYByWvsI4LD1nI2L2C32ZxpyHWn2BDKTnAMB6bD58CfC+GUOiYLgDMtgwfc+u5Q3NPXkK6VM2GvsEK7HtaCGg6IYg4y/2a+nDVfG5YwxWLllUvcWNDYEv8rBtydzaz7X4nqy5Bm6Bb3sAOUcQYxzolZv6FrKsPH+mrLlOGq/h/jus7ruJRiG0l8rwt8kBL0Px1jsN6cfLgU43Y5jxzxNrrj+b/4aw6fojInJ+9q7PmRUWHTXHot2/cqMAXy8ABTi/xSTUG//frNDSdKL9OgIoNA6LMMopgxZVC7Y40M9bsHjmJAwcdB963BKJmJ150Kp7IjJmUc0wlpGPIKgToM05ieNVn7zmncRxLeB7y+DqTwWvXR7SV79lWLQlqB/umrEemVcA3wFTsHIKAHgZ5mK8cKbORWBsPbfhxiEd/kNjazqBMQPgCwBqT3H3+lX9u1Vy3kL6cQC9+mJaDyDy4Zvhi0vISjX9Yk0Z554sOINM8zV0GsEP4fMTcTTzEM4dN24xIY0vfFtrRCfDa/sNRnx1R3o6hnQxLwA6gv/wWUjdu6fmvR6fjlArR+o06Dq/NyKi5khbXg61quHfwQ1Rq1XQasvF2GbXtf9Vnyg/+ALQaC6YhHkoE/sXDbKiP3H7BKzZvgc5v9X0FSKFobR18W/vBUCF4LE1xbOVo3pDbfqhoyvMhqXn6mufS3uch+TUY8iHF4LuHwP0GIPgQMP0PTG23uja6D5cDe3Jfdi8ZXv1lvzBQgwNegwTrCnWWXUNeBoX8LGVFdfJNWm4/37tfTc/+HgD8OiDKJPibeQtqtrFfCuuP1v/hoAjrz8iIicg27k+Z1ZYdCoKN/PhiAPGIG7JIsRNNAyjOJFv+OTYx2ROOGew7VwBALXJ3VG2UsHNbORRCKLnL8LK+WPqmRcxG4lTNiKjAEC7DtXzLkY/3ge+ANS3jDD55HUEgtQAOoUgUhwmYKPc1KUYvvuUcT5JANCirAKAd4eauU4Etp7bzVcKAAD5h2s6gNXbzurPUa/Zgh1HoUVPhEwag/A7OgA5GUios0961NBx9O6IALGpMUbOwvzIPvDFKez6ZKVhhe7VRw13LDrClguG175w1PwYbtmNTHF/uxqBuJhRCO4CnNi7EYtnzsHkmeuRaTittruu742IiBqv4b6Q/ftfdrL7EjQA3Gz+whrqT/ghbtFkDOulhubwdixbOAeTZ87BNiuLIfmaQgDlOLFX/L24HZv31oyWaIhdzsOWT5CeYxyOOikEQYpyZO5YKu51TRrXh6tRln/Q0PcybjP+Y3JnXkPsdg1Yo6Hr5Fo11H+3pe92AZpiACWnsEu89rZ8jV3Hxf3rZuvfEIBjrz8iopbGrLDoqDkWG+cwsnIA9BiAeJPJjAE/RD8/EVEjwhDc9QwAIOtKAQA/BA6vma9lyB3d4AMgP+87Q2D8hMrH22TBh5m3mBct7Sg37xK0UCGgX82kv/5Te8EfgCb/VK19G7L51zwAfhiysGoYsYH/xAmYFhmG8Dv9DENLJr6LnasnmC/aMvgW+LcBoC3HeQDABAzr42X5F/fuU9BChaDQ2islWm8A4jckIs7CCneGT6+BsgIA+A4n8gC0uxnDTM/x7b2rv36rzm19jl+EBoCP+qKxYzMHk2euRMK6lZj8n4Z7j2pFzdflH9gRPgA050z+3RXpyCoBAoZPQYh3w3OuZP51CUBPhC4x6eX06G0YjmutYMPQohM7IzB64RrDObusFfeyo1M4X2BYcfz8ipqO9OJ167B45so6P622jyDDkKGTuzBw4ltYtmU7Nm+5gDJxt2t2Pd8bERE1hrV9oUb1vzy8a4ojPaYjqEvtZrvKyUN+CaDu1admAbkekxHYBUDBRcN8c1aqvz9xPwL8ABQcQcLTc7D4k+3YvCXLcKegFbblXTQUZCoyTApo65CwrmbhREPRpiP8TeYMMSxgUqNR56FOGUjOygO8+2L28J7WzYEICAVov+q71/JNhuo2tg9nF1ZdA8a+iVcnk9FDI8wWBTLc5aiGTyeTRV+Ce9UabVH/dXKtGuq/29J3+w65Fw3flzhQ0y+bvG4dEma+hQTjnZfWXH82/w0B2HD9ERG1PmaFRefwBxZ/ZpzMeGYKjm5PRNLqRKTtS8E842Icmxcahhykx3+HLC0QMOJtpK17G2vWfYmVD/sBJUexbZVxWMLXR3BCD/gOXYSDG97FmnUp2BllGNbReJegKQHgNxBpqW8bJ8G2YPlWpF8AfPpPwdHN72Ll6mSkTuwDNfKQvna9uHe90pdvRPoVwKf/dKTtS0Hq6neRun0H0mYaF57Y8hZyMQJxUQMQNGgydv62BwdTE5G0fBV2pn6J7BVh8FeU48R3n2AzAEwNRZAHoDm6BaNNPnWdPHMOJk9aj/QLgPqOIdULaDRGcOwUjOzXB1HxXyJnbwp2rnsbSRtSap+7OADIQ8wW4zl+Ocl47lKQ/XkyUjZPR6i157Y+iZ8gPQ9Q3zIGO7evwpol7yL1uyTs3JyEVHHicAv8R6TUnLvhPQH9KaRvNf131yA58xKgVkFtxZwryYlpOKEF/Ee8U/26R1OTkfrJ21atUg0A+KsQWgD+AxKxJnYW4pa8i7RJDhwKjfVI2JcHqHsjelMKUpYvQtKGL7Hz82Ts3FA10TiACgDwwwOpKVhjt7tdz1R/r6Uun4W42EVISp1o5XAaa1j53oiI6Lqzri9kbf9rOzJOAugyGCu/M/SX0jaNQZBH7X/TOtnQFALwvhlRqYmIr3Oa6pVI3n8J8A7B7H3JSFryLnYmj0WwB5C77xMkiLvXo/7+RDbyrxi+nsjVsYiLjcWaDQkYZlZMstyfzV21G5klgO/gWYbXXr4KafvWYueGL7HSuHhLwnfHDP23GV8idfkiJG3egY+GdjB9cSvPQ8PSl+9Dll4Ftdq6ORAN/BCeugM7Vy9C0uZEjOwF4GQGkmvdtdm4Ppx9WHMNrEdWbjnQaQDm7VyFNUveRup3szCkU+1XStx7DBqoEDQ2EWnr3rZ4Duq/TgwMBTgvBI1LQeob1sxB2lD/3dq+m6XrLw/Lvj4KLTpgyHzD+VuzLgVHNyQjdeei6kKrNdefzX9DGF3b9UdE1PqYFRYdNsdiI+WunoSI5btx4ooKvr36YMigPgjopILm+HbETJhU0wHLWYoJcbtxQuuFgP6DMay/H3yunMLmJXOxuKoDsW8h5iceRb7eC/79BmBYiB80+44aJ+dtrJXYti8PWnUHBAT2rOeuxy0YHbsemRdU8L19AMIH9Yav3jDv4ATTT0ytkbMeERNWYtvJQqg79UTwoAEI7tUB6iunsHnh84hIhOHfi5yDhL2noKnwgn9gHwx5OARBgX5wKziFXatfwcC5GYYhMoP7QI1CZH1nqWO3Bdt+uwQoeiPUmpWTBZkLIzF84XZknSuEuktPBPUfjCH9eiKgvRb5P29HzCiTc5c4CZNXZyC3+tz1hE/BKaTv+srwqbE157Ze+zDhxZWGFap7hWDYiAEI9vOC5vg+bNrScAcy/+cjKAswnjvXQmQlL8UMYZ6a5P0nDcNpjx9BQkNf076FGB233XBNV18Tl5C1e5dhFWxrrJiLxbvzgC59MGzsKESNCIH6XJ7VdyJci11TX8XivXnQtumJ0IfDMKSfH3wKTmHXf7dWf7q/bEsG8vUq+Ab2ROANwgtcszWY/P4+5KIDgh8ehaixYQhtcxG517AyYl2seW9EROQErOoLwcr+VwZmLFmPzAuAj5+hv+RfuA+ZDf0etygDiTuOQqP3gn9gT/jXs6hL8qQFSDh0CepOvTFkxAAEtQdy969HzNRGToJXb38iA5PjNiKrwAsBg0YgauwIDAsoR67ptH5A3f3ZnJWYPHcjsqpe++EQBLQHcn/6Dps2GfdJnITJn2RD4+qH4IfDMCSgDBk/iwvxWHMerJCzHif+AoBLyPq64dEmBpeQ9VMZAgeFYcjtHaAuyEbikoVmv9cb1YezE2uugQXTVxj6rj1CMGzEYAR75OGEeP4SF2Lx16egde2AgP6DMeQWFY7vy649NU6914lB+sbvkFkA+Pj1RIC/lYsy1dt/t7bvZvn6y10+F9OTs6Fx7YCgQWEY1r8nfPV5yNj5Vc1IEmuuP5v/hjC6puuPiKj1keDjb99ZG+twdN83GPrEaDEmatZC479EyvBOyFx+D4ZzeAQREbVwzz3zNE7/dRYfb0gRmxrl+682YuKLM1FQWCQ2UTMUvW4P5vUH0uPuMyny2sMEpB6ejOAL2xExdI5ZcdAW7MO1HM3x+iMiup52fJGEvgMeEuNrZlZYrJpf0d53LbKwSC2Nf//JWPn+BAS7HsXiO6I4PKLaCMxeElL33bwlvyF5/np2zoiImiEWFgk9RmHNilHwObAey3ZeQMDQiZg9tg98SuzdH+qNyPi3ET/cD7mpk3DXjIZHm1iLfTjLQifOQmSg2bjlarkH5mBx1Z2r10sLuP6IiK43FhaJnEFcCs6N7GlYOXHjS8Zh5mQwCzsPj0CgGFe5koH5978Eu36gTERETYKFRfKfuAqpL4fAV2ES6i8h/T9RiFht/fx19RuDlMzphrn5rmRgwd0mU+nYin24OkWt+hLz+wsTOpo4vuUeDJ0vpk2r2V9/REROwOGFRUdhYZFaFP/euKujG8qvnMLhUwViKxERUYvEwiIBANr64ubuXeGtBKArwunTf+DsVXEnW3RAQJ8b0E4qw9nfs3G6WGy3AftwzV9zvv6IiJwAC4tEREREdF2wsEhERETUvNm7sGi2KvT4xwdVD4cmIiIiIiIiIiIissSssEhERERERERERETUELPC4tqte+2+cAsRERERERERERG1LGaFRSIiIiIiIiIiIqKGmBUWOcciEREREbUGkiRB4SKha1t39O7mjb492uGOG9vj1ht80L1DG3ioXCFJ4rOIiIiIqIpZYZGIiIiIqKVTKlzQ2ccNt3Zvi1tvugH97uiD/vf0xz333oOQfn9HUO+euNm/Pbp38IRaqRCfTkRERESWCoucY5GIiIiIWjKlwgVd2rqjc1s33PePf+DFl6Zi1uwYxMbOw2vzFiDm33MwdfoMPP7YY+jawRPdO7SBu9pVfBkiIiKiVs+ssEhERERE1FJJkoQOXmq091Jh5MgITHnhRfS/5x507tIFrkolJElC23bt0LdvX4wZOw6ToqfA080VXdq6QeXKrjMRERGRKbPeEedYJCIiIqKWykUCOvm4YdCgf2DUU/9E27ZtxV2qtWnTBg8/8gjGRz0Lbw8VPN2U4i5ERERErZpZYZGIiIiIqKXy9XaDb8eOGDxkSL1FRVNhDz+M3gGB8PFQQuHC1VyIiIiIqpgVFjnHIhERERG1VD5tlOjcuTN69ewlNtXJ3d0dffveAXe1KxQuZt1nIiIiolaLPSMiIiIiajXUrgp4eXuhQ4cOYlOdVCoVuvn5QaWQwBsWiYiIiGqYFRY5xyIRERERtVSSJMHFxQUKV+tXeZYkCUqlcX8WFomIiIiqmRUWqWWY+8qLcHNTizHZ6JGh9+OJ4WFiTHbw2qxpYkR2MHXSs7ipZw8xJhvd2ec2/Gt8pBiTHcyPmS5GZAdjRj2BgffcJcatkrZCj5LiEmiuXhWb6qTT6ZCfnw99JSDLYisRERFR62VWWOQciy1D/sVLKCvTijHZ6GpBAa5qNGJMdpCff1GMyA4uXrqMoqJiMSYbFRQW4dLlK2JMdpB/4ZIYkR1cuaqBprBQjFulotIKXLhwATk5OWJTncpKS/HrL7+gtFyPyspKsZmIiIio1TIrLFLL8H9rk8WI7OCHA4fwXdqPYkx2sCpxvRiRHSR9vgXnL7Boa29/nMrBpi+/FmOyg5Wr14kR2cG2Hbtx9OffxLhVulSoxbn8fPz44w8oLrbug5fMzEz88svPKCjRQa/nLYtEREREVcwKi5xjkYiIiIhaqlJdBS5eLcbXX23D3u/3iM1mfvv1V7z/3nJc1hShoKwcvF+RiIiIqIZZYZGIiIiIqKWSZeC8pgyXCkqwfNkyfLphA65evQqtVgvZOIGiTqdDYUEBvtu9G3PnxEBTUITzV8tQVq4XX46IiIioVTMrLHKOxZbhpeej4OJidnrJRveF9seDg3lHryNMi54gRmQHz455Cn7duogx2ejmwJsQ+eQIMSY7mDFlohiRHTwxPAzBd/YR41ZLq9Mj73IJNKU6JK79CK/NnYP16z7G9q+/xrc7dyBl40a8tTgO7y5fiotXCvDXpRJcLSkXX4aIiIio1WPlqYVSqZRQsLBod66urlAplWJMdqBSqcSI7EClVMJVoRBjspHS1RVKV1cxJjvgzwLHUCpdoeDPglpKtRX461IxTl8owsXLV7Ap5XO8u3wp/vPO21if9An2pO/HH3lXkHOxmEVFIiIiojpI8PGvNQN11fyK9r5r8ei+bzD0idFiTERERETNxHPPPI3Tf53FxxtSxKZG+f6rjZj44kwUFBaJTddF1KhHcThjX/XjTr6++C4zG3q9zDkViYiIqEXZ8UUS+g54SIyvGW9pIyIiIqJWzdW19mgEV1cFdCwqEhERETXIrLDIORaJiIiIiIiIiIioIWaFRWoZxkdGiBHZQcjf+yK0f4gYkx1EjR4lRmQHo0YMR/t2bcWYbNSjux8effgBMSY7mDD2n2JEdjD0/oG4tXeAGBMRERER2cSssDj+8UHV8yxS89Xrxh7wbOMhxmSjLp07oVuXzmJMNnJVKPC3Xj3EmOzAv7sfOnXsIMZkI99OHdHdr5sYkx3wZ4Fj3NCtKzr7dhRjIiIiIiKbmBUWqWV47c3/oKi4RIzJRv/9+lts3JIqxmSjCr0ecxa+LcZkB++89wGyT/whxmSjjP8dwcrV68SY7CBmwVtiRHaQmLQR36X9KMZERERERDYxKyxyjkUiIiIiIiIiIiJqiFlhkYiIiIiIiIiIiKghZoVFzrHYMoQ/GiZGZAe39g7AHUG3iTHZQcTjj4gR2UHYA/fB3d1NjMlGnTq2x/0D7xFjsoMnRwwTI7KDe+7qhx7d/cS4mZPFgIiIiIiamFlhkVqGQffejXZtfcSYbHT7rb3R9/ZbxJhs5O7uhkED7hZjsoP+IXfib71uFGOyUe+/3YTgO/uKMdnBfaEs2DrC3/ve3gJXhS6Dt1wEd1kHBYuMRERERNeFBB//JumJHd33DYY+MVqMiYiIiKiZeO6Zp3H6r7P4eEOK2NQo33+1ERNfnImCwiKxqRFkuKIUKrkCrpAhS0qUQ43yaygzPhcZjswf91Q/7tqtK77a90utfYiIiIhagh1fJKHvgIfE+JqxsNhC3Rk+VYyIiIioGSu8eAa/7/1cjJuUcxUWTemhRDlUsg4KAHpJhXJZBZ1k3eAcFhaJiIiotXB4YbFqfkV7rwzNwmLTenTBVnh2ukGMiYiIqJnK+HQxC4t1qoQCOqighVKWAUjGORiVKJU8oBN3F7CwSERERK2FvQuL1n2MS80OF2sgIiKiKkG33YxOHduLcTNXCQW0cJcL4C0Xoo2shSS7o1jyRoHkjQLJC6XQwx1aJ+nwxiLt+CGcq9oyVyEaADAGKZl7kBJVtd8YpGQewrntsaZPJiIiInJKZv2stVv32v1uRWp6Xm3aiBERERG1Ug8N/gcG3B0ixs2cFm1kLRRQoRReKJC8USIpoYdkbHeBTnKDDi6NnnPRIaL84FuQgQWB/dAlsB+6BE9CgrgPgPjt0xH061J0CVsoNhERERE5HbPCIrUM+RcviRERERG1Uu+89wG2bPtGjJs5NQolbxRJbvXMpahEKZTOUVgEgIt5FouJVaLX7UEktqD3uPViExEREZFTMuuFjX98UPU8i0REREREzqkCHnIJlGLsrAI7wqfXCONQaNOhz0b3p2DercewgHcqEhERUTNiVlgkIiIiInJ+eiggOc/diA2JiTAMgQ7shy6bLiI0JgXx1Y1eCO3fEyd2Wh4eXZ+bA2/CqqVv1sq6dumMtSv/UyvzbOOB5NXv1soA4NOPVogRPv1oBSSpaki5QdKH78LH26tW9tGKd3CDX9da2cr/LMJtNwfWyt55Yy7uDr6zVrYgZgaG3j+wVjZzajRGPvZwrWzyhLEYHxlRKxv7VDhe+Nf4WtmIYQ9h9vTJtbLBgwbgjbmv1spC/t4XS998rVbmjMfw1t4BtTJnOoZ3WXkMu3XlMQSPYTUeQwNLx/D1f7983Y5h/KLa8/nyGBq0pGPYFBRw85lvGhzOzsHh7BzTyC6iJ4zFJ59tFmNykD5hz0Ch5jyLRERELcWZn9NxOedXMbZKzx7doS0vR0VFhdjUKP3uCEJBQRGO/HxtX0eVqNFP4suvd0JbXi42NYoCelRKSlSKDY3UL+gWnPnrz+rHXl5eOHH6Qq197GqXCv2fCYWPbi02Hu6DUf+6HbmpR9Fr5Cu4r2gtNh4Wn1C3i5eu4IpGg9N/nanOioqKceWqBjmn86qzcp0Ol69cxZ+5f1VnAHD5iganck4L2VWz7MrVqzh24g8h0yDr12O1M40G/zvyc63s6lUNDh6q/aauXNXgf0d/RkWFvjq7fOUqsn7NRlmZtjq7ePkKjv9xCoVFxdXZhYuXkJP7F65c1VRnZ/Mv4OzZ87hw6XJ1lnf2PC5euoxz52vO5Zmz53H1qgZ5Z89VZzyGBtYewzwrj2EhjyHAY1idNd9jqMGpnNxamb2P4eUr1h3DS1euIvv3kw0ew3P5F3DG2mOoKeAxbOHH0JKx/xyJVR/Zb9oVCT7+TfJB79F932DoE6PFmBxkYsI+FMtcGZqIiKilyPh0MX7f+7kYW2XuKy/i+O+nsHFLqtjUKM898zRO/3UWH29IEZsa5fuvNmLiizNRUFgkNjWCDh5yCVyhhK72h/gAlCiHEjV/XtTvuchwZP64p/px125d8dW+X2rtY19jkJI5EVhxHyISTf47MAXnRgLJgRGYIT6FiIiIyA52fJGEvgMeEuNrZjYUmnMstgzn8y+KEREREbVSb7zzns1FReejhwskVKICClncataGdkpxIxCKY9iVKOQxEViwvyMiM1chWmgiIiIickZmhUUiIiIiIufnhiLJu47NDbYN+ra/6HV7jAu3HDLclRhseT7FhHGrkY4QzGNxkYiIiJoBs8Li2q17sXbrXjEmIiIiInJSstMv45Iw7r6axVtqDXVej4jg+xBRfffiekQE90OXOgqPRERERM7ErLBILYNKqRQjIiIiaqU6dmgvRi2CBC3c5QJ4ywXwMv6/J7RQiDsSERERkUOYLd5SNb+ive9a5OItTetfq35EYaVKjImIiKiZsmXxltf//TKOnfgDyZ9vEZsaxdkWb3GXS+AqqVEmq1EhAS7QQi1r4QoPFEpKq+9hbPrFW5yf7NMd+n4TxdgpKTJWQSo8K8ZERERkgb0Xb2FhsYV6dMFWeHa6QYyJiIiombKlsGgvzlVYLIW3DJRK7tCZxnIpvGDIrZ1nkYVFc7JPd+ietq0Q3VSUScNZWCQiIrKSvQuLZkOhW98ci7FIO56CeDEWRa1C9nWdRNvKr5OIiIioNZBlwMI9iZIkO/eK0EREREQtiFlhkYiIiIjI6UlqlEMHd7kY7nI5lCiHWi6Gp6yDLLlafbciEREREV07s8Li+McHVQ+HpubLVcFpy4mIiMhApWqJ8y4rUCZ5odTwX1DLZVBCRoXkiSJwETsiIiKipmBWWGzdjMON41Jw7vghnDt+CGlxtfcIWLfHclvUKmQb81pt4hDqWo/r//eiTf6t7HV+NQ1W8PXtKEZERETUSr0eMwPj/jlSjFsAF+ikNiiSvI2bJ0qhsDBAmoiIiIgcwayw2PrmWBT1ROSdR9AlsB+6bDqFgKEmRUHvEAzDakNbXAZ8RxrnPIxaheyYm5EV18/QFrgFGLkHKVG1XrgOdfx7cSmY1/8ikgMNr7kMNyNAfGo9zpw9L0ZERETUSs1esBjrPt0kxkRERERENjErLNIpJIctNPxnzBGc8O5YU9AryMCycesN/504CdtO9kRIHIDAjsD+1YhIrNpxIZL3A0H3j6kK6mH534v264gTmyIww7hXwrhdOGH6NCIiIqJWrQyeckE9WxHceO8iERERkUOZFRY5x6JzCPD1EiMiIiIiqqaAHjJc4Aqd5A6t5A6tpEIlZABq6CQZKrkAHnKl+EQiIiIishOzwqLzk6GUi+EpF8Bb1sIFgARt00zR7X0zhlQNb45ahWG9TiEjBsDxi0D/iSZDn2MR2R/I+m49kJiHfJPnRd9/M3yqdqvHjJ9qD8OOXjekUUOhXSRJjIiIiIhaED0UUKJU8oAWSuighA5uKJFUcIGMCnihGBJcJV1z7PASERERNQtm/SznnmNRD7VcAHdUQl+dyVCgHO4oh8NLaQUX0XmKcYGWmJuRFWccqpw4Cb03XURoTNXiLSOATfcZh0YbhkVXtU3zvQiN+LqWxEQg+WII5hkXb5mGY40aCt21a2cxIiIiolZqyev/xvjICDFu5mS41NH7kyFDAqCXXMHR0ERERESOI8HHv0m6W0f3fYOhT4wW48aRS+ANoFTygA6l8JZdUCSpUSmXwRMyyiR3VIjPaaUeXbAVnp1uEGMiIiJqpjI+XYzf934uxk3quWeexum/zuLjDSliU6N8/9VGTHxxJgoKi8SmRtDBQy6BAkqUS0oYBjzroJJ1UMADhZIrVCiAWvZAgVT/2JbnIsOR+eOe6sddu3XFV/t+qbVPayP7dIfu6S1i7JSUScMhFZ4VYyIiIrJgxxdJ6DvgITG+ZmZ3LDr1HIuSBFj6ZFqSzd8IEREREbVgSpRK7qhABZRyKdRyKdRyBQAPFElKyJCgk9UobaCoSERERETXrpnV41yhQznc5VKoZD2ASriiFJ5yOWS48m5FIiIiolZEhgqlkjeKTLbi6rsXgUrJDTrhOURERERkP81rKDQAQAc3lEIlV33ZEvRwR4mk5BQ6JjgUmoiIqGXhUOi6yJAgQwGg4ho/M+dQaHMtdSi07Hsb5C53iLFTcvntC0BXIsZEREQ2sfdQ6GZYWCRrRH94AFd1rmJMREREzZQthcUlr/8bv2afwNqka3t+FWcrLEpyKdqg3FhOdEORpIILiqCGJ4otTZ9TBxYWzbXkwqIufJ0YOyXVmoEsLBIRkd3Zu7Bo9rGuU8+xSFbLO3NOjIiIiKiVmvnamzYXFZ2PDu4oByTDnIoGEvRQQCGXQSHsTURERET2Z1ZYdH4yFLIOSoibvhGfS7d8TXIbKhEREdF1UwFXqFAGJSpNeoEyFKi0vNwfEREREdmZWWFx7da9WLt1rxg7iUqoUYA2KIFb9ep/VZuOn0wTERERtRYyIEMPRa2PU2W4QAcXfshKRERE1CTMCotOTS6DWlZAK/mgUFgBsEhy46rQRERERK2F5IZSyFDLhfCSdQC0aCMXwlOWoZPU0Iv7ExEREZHdmRUWnX+ORQU7ilbw69pFjIiIiKiVemtBDJ55OkKMmzkJFZIniqBGueQKneSKCqhRInmi1LyLS0REREQO0Lx6XZIa5dBBKXNwS0POns8XIyIiImqlZs2Ls3klZ+ckoVJSQwsPlMIDpZIaFZxdkYiIiKjJmBUWnXuORQXKJQlKFMBb1ghbKVzF3VuxyspKMSIiIiJqQfR1LN5XV05ERERE9mZWWHRuZfCQK6GHO0olD2FTcYg0ERERUYsnQ0IlJGjhLmvhikrjY8PmAi3c5XIu6kdERETUBCT4+NcaV1w1v6K971o8uu8bDH1itBg3Uim8ZaBEcudCLQ1Qe7YVIyIiImrmtEVXxahJPffM0zj911mbh1V//9VGTHxxJgoKi8QmK5TCWy4Xw9okDxRCafXK0M9FhiPzxz3Vj7t264qv9v1Sa5/WRvbpDt3TW8TYKSmThkMqPCvGFsm+t0EXvk6MnZJqzUBAVyLGRERENtnxRRL6DnhIjK9ZMyss6uAha1EheaKB7mSrt3NLMp57aSb+zP1LbCIbvPCv8XB3c8Pb764Sm8gGnTt1xOcfJ2DQI0+KTWSjdauWYvW6T7H3hwNiE9ngsUeGYuh9A/HizNfEJrLR/m+3YtAjT6K8nL/p7enN12bit+zf8clnm8WmRnGOwqIMCbJxFWhAK6mFD5wlyI0cCM3CojkWFq8/FhaJiMgR7F1YNBsK7dxzLAKAHm5yMdxRImw6DnkxMfHFV1lUdID3/28tlq1cLcZko/MXLmLcpOliTHYw87U3WVR0gC+/2ol5cfFiTHYQOfFFFhUdIC5+hc1FRechQYYLZLijSHKHDi7Gx1Vb44qKRERERHTtzAqLzk0PF0iohB4KuULYOEm3qZzTeWJEdqKr4EB8R2Ah3DHO5V8QI7KTy1eu75DUlurkn7liRHZQWFQsRi2EDEnWQQlxY7+QiIiIqCmYFRbHPz6oeji083FDkeRdx+bGeReJiIiIWo1KKFEIL5TAXRY3Lt5CRERE1BTMCovNQ9VqgKabtdNzExEREVGzJ5dDLQPlkjcKoEYl3FAk+aBQUkKGKz9wJiIiImoCZoVF555jUYYChfCWC+AlFwpbGVzF3Vuxrcmr0d2vmxiTjSZFjcH0yRPFmGzUsUN7bNu4VozJDj5c/hYG9A8WY7LRsAcH4z+LYsWY7GDnF0lQuvI3ur3Nmz0d/xz5mBg3b5IMF6iggwRINR8xy1CgEhXsFxIRERE1AbPConMrh5ssowJtUAQlZKhRLHmjBArIkpKfTJuYu+gdnM47I8Zko/UbN2Nt8udiTDa6eOkyYl5/S4zJDpa8uwr79meKMdlo247deO+DRDEmO3j1tTc5l60D/N/aZHy+JVWMmzcZkFFp0pnVG4c/c/kWIiIioqZiVlh07jkWK6GAElrJFZWSwjgAWkKFpESlXM5Ppk1k/XJMjMgOiopLcOWqRozJDo7+/JsYkR2c+OOUGJGdcMEhxzic9YsYkR2cPXceen2lGDdvkgrlUlUJUYUKSQd3WQNvWQsXSQG9sDsRERER2Z9ZYdGpyYZBLjWfQtd8Si3xs2kiIiKiVkQBLdyhAwBI0MIbJZIHSuGJQqg4+za1KpXdQprNRkRELYsEH/8m6Xcd3fcNhj4xWowbSQd3WYtKyRNa6KGWi6CGBBkyJLihSFKjhX0WT0REROQ0nnvmaZz+6yw+3pAiNjXK919txMQXZ6KgsEhsaiQZktkSfpWQ4NKowuJzkeHI/HFP9eOu3briq32t++5Z2ac7dE9vEWOnpEwaDqnwrBhbJPveBl34OjF2Sqo1AwFdiRhbJPvfC90j74mx86msgOr/7hZTIiJqQju+SELfAQ+J8TVrZoVFVJcRDXRQQwcX2RXlkopDXky898FHeP/Ddbh0+bLYRDYY/tAQqFQqbP7v12KT3Vw8eVSMWry2Pt5YtTQO/3x2ithENlq+eD6SP9+CA4cOi01kgwcHD8I/BtyNOQvfFpvIRinrVuHJZ6IhG0cpkH3EzJiC47+fxKYvbfv95VyFRT3c5CK4SF4oqR7DIkMpF8ANHiiUlML+dWNh0RwLi9cfC4tEROQIDi8sVs2vaO+Voe1VWCTrPPnWdrh6dRJjcnInvv8MmZ8tEeNWYeA9dyHtx4NiTDbqd0cQDh3OEmOykdLVFTcH3oSsX7PFJrLRPwbcje/3HRBjslHg33rhfP4FaAoKxaZGcarColwCbwClkodxOHSVUnjLQInkbvXCfiwsmmNh8fpjYZGIiBzB3oXF5jXHIgCgAmoUw1MuELYyLt5ioqxMK0ZETo1FRcdgUdExdBUVLCo6CIuKjnH895M2FxWdjiTVmnm7moxGDYMmIiIiomtnVlhcu3Wv3e9WtB8d3OViqGUZeslV2BTsRBIRERG1Gq6oQDncZJ1Jh1YHd5RD4qrQRERERE3CrLDo3CqghBKlkidK4SFsSnYgiYiIiFoNJUolNWSUwFPWwFvWwFsugRIqlHJVaCIiIqImYVZYHP/4oOp5Fp2ObFj7jxrWqWN7MSJyWp5tPPB/yxaLMdlB3LxZuLPPbWJMNrovtD/mvPyiGJMdrHmfC+I4wrToCRge9oAYN3sy3FAkeaMIHiiVPFAieaNAchfmXCQiIiIiRzErLDo1yQ3lKIdK1kNCpbDxc2lTxSWlYkTktIqKS/Dl1zvFmOxgx+69yPrlmBiTjX7K+hW7034QY7KDLdu+ESOyg7QfD7bgOVclVEpK6KBEBT+AJiIiImpSZoVF555jsQxqAAoUwUsuFDYu3mKqhIVFamZSv9klRmQH36X9iAo9J4qwN42mAD8ePCTGZAf//fpbMSI7OHQ4C2fPnRdjIiIiIiKbmBUWnZsbCiWvOjY3VIi7ExERERERERERkUOYFRadeo5FSJDhUsdmGPqikEugFJ9GREREREREREREdmVWWGzuJOg4JBpAh/ZtxYjIaalUKrzzxlwxJjuY8/KLuO3mQDEmG/UP+TumT54oxmQHS998TYzIDp6PGo2h9w8U42ZIBzW0xr6eDu7QQSHuQkRERERNxqyw6NxzLJK1tFquh0jNR3l5Of535GcxJjvI+u0YTuedEWOyUc7pPPxy7LgYkx203AVGrq9jx3/HqZzTYtwMVcJV1kIp66CUtVDKWrhCB8PSLaabnsu4EBERETUBs8IitQxFxcViROTUkj/fIkZkB19+tRMFhUViTDY6e+48duzmh3COsH7jF2JEdvD9vgP4/eSfYtwMqVAuAUqUwB16AHqo5RK4m23lvJORiIiIqAmYFRade45FIiIiImq9JOjgjQLJBwWSB3SSB4olH+Nj082di/oRERERNQGzwiIRERERkfNTohRK6MWYiIiIiJqMWWGRcyxaELUK2ccP4VzVlrkK0eI+DhK//RDS4gAgFmnHUxAv7lCHdm19xIjIaUmShNdmTRNjsoOpk57FTT17iDHZ6M4+t+Ff4yPFmOxgfsx0MSI7GDPqCQy85y4xbgH0UMlF8JQL4C0XwEsugjvnVyQiIiJqMmaFxeZJXz1Jd4Xkg1Kx2RZRq5AdczOy4vqhS6Bx29kR86wt8sWl4Nz2WDF1OL2en99T8yHLMvLzL4ox2cHFS5dRVMQ5V+2toLAIly5fEWOyA/4scIwrVzXQFBaKcTOnh5tcBDdI0EtuKJXcUC5JcJWL4AkuYkdERETUFMwKi843x6IMCZX1bi7QOmiS7jFImRKC/E33ISLRJI6JwIL9HTFs3RiT0LlwsQZqblYlrhcjsoOkz7fg/AUWauztj1M52PTl12JMdrByzSdiRHawbcduHP35NzFu3mQtVFCiVGqDUqiggwpatEGhpIIkV8BV3J+IiIiI7M6ssOh8yuEhF8Krns1T1kGWXB0wx05PdPY+hYwYMQcS8i7Cx7enofiYuQcpUVUtJo/jUnBuZE+g1wicO161zxikZNYMqzYMc66dXY87HImIiIiaFUkC6hj0LIsBERERETmEWWHR+eZYVKFE8kJhvZsPCqG0fycyyg++BRdxQswB4PhFaDr61T/XYkwEumw6BZzcgi6Bhrse47dPR9CvS6uHVQ+MAYD1iAiuGmq9FOkdh5gUKomIiIjInCt0KIcbyqA0jmJxRRk85HJIcMQHzkREREQkMissOh8JMlwa2BwkMQ/53h0RIOZVLuYhQczqFYuQXqewbZyFIZ9xKcY7Fqcj1NsLnQPFHRrHx9tLjIic2rToCWJEdvDsmKfg162LGJONbg68CZFPjhBjsoMZUyaKEdnBE8PDEHxnHzFu5pQolTxQgXK4G0exeMjlcJHcUCw54ANnIiIiIjJjVlh0vjkWRTJcZC3UKEEblBvfgN4B8ysCwCmcL+iJkDgxB6LvvxnIPyXG9avrDsi4FJwbehELjHcxJp8Ud2g8SbI8NIjIWalUKjEiO1AplXBVOOYnZGumdHWF0pUzuDkCfxY4hlLpCkWL/FmgRCm8USD5GDdvFEHNuxWJiIiImohZYdG5VUKJQnhCC5VcAYUsA5ChlIvQRnbE6n/rEbHzFAJGms6hCESv24N5/S8a7zxcj9yLXgi637iQS1Qogrxr9q0lMR1ZCME0YdGXaL+OJnc/xiKkV63ma3JVUyBGRE5tyfLG3f9L1lmVuB45p/PEmGyU9Ws2Pt6QIsZkB4uXrhQjsoONX6TiQOZPYkxEREREZBOzwqLzzbFoQtbCTXaBVvJCoaQ0hhJ0UEGGg1b/i4lAl7hjCIqpWVxl3q3HsCAwAjOMu8z4LAPoP93QPqUj8k1rejFHcKJ68Zb1iAjegvyqfY2LtySM22Xc5xDOHe8L2OGORSIiIiIiIiIiIkcyKyw6NQmQoIC+jhUAHSZxEnobhyl3CeyHLsGTas+taNoeHIGBwYaFWgwWYmBgv+rFW2oemy7eYppFYGBYVQ7MqP7vhRhoUswkIiIiIiIiIiK6nswKi849x6IrKlAON+iMS7bIkKCDO7j6n8jLs40YETm1qNGjxIjsYNSI4Wjfrq0Yk416dPfDow8/IMZkBxPG/lOMyA4eHDwIt/auczk6IiIiIqJrYlZYdG5KlEpqQC6Bp6wDoEUbuQRKqFHC1f9qUSqrhooTOT9XhQI39ewhxmQH/t390LFDezEmG/l26ojuft3EmOzgb734s8AR/Lp2QWffjmLczMmQLPb+6sqJiIiIyN7MCotOPcciABluKJK8USh5GTdvFEhuqBB3bOUuX7kqRkROq0Kvx9w33hZjsoN33vsAx3/nxK32lvG/I1i5ep0Ykx3ELHhLjMgOEpM24ru0H8W4mSuDl1xmPse2XEdORERERHZnVlhsHiTIcDFuTTzfIhERERFdR6XwljXwlssBlMND1hgfGzeUG/uKRERERORoZoVF555jEQAqoEYxPOUCYeMn00REREQtnwqlkgdKoQCggFbyMDyu2uCJQsmNc28TERERNQGzwqJz08FdLoZalqGXXIVNwU+mTbRp4yFGRE4t4vFHxIjsIOyB++Du7ibGZKNOHdvj/oH3iDHZwagRw8WI7OCeu/rhRv8bxLiZUkAHJXSSJwokT2ihNDyu2tgnJCIiImoyZoVF555jsQJKKFEqeaIUHsKm5CfTJtzd1GJE5LTc3d0waMDdYkx20D/kTvyt141iTDbq/bebEHxnXzEmO/hHaH8xIjv4e9/bcUvg38S4hZAhoVLYWFokIiIiagpmhUWnJhu6jtSwi5euiBGR0yotLcNLM+eJMdnB/LilyPrlmBiTjdL3Z+Dtd1eJMdnBlFfmihHZwYoPP8bX3+4R42bPBcXwkgvgJRcKG6fIISIiImoKZoVFp55jUXJDOcqhkvX8ZJqIiIioVSuDh1yBSnigSPJCYa3NDRXi7kRERERkd2aFRedWBjUABYr4yTQRERFRqybDBSpoJSUq4QK51sYRLkRERERNwayw6NxzLLoJn0bzk+m6cLEGam6G3j9QjMgOBvQPFiOygzYeHgi+s48Ykx08NOQfYkR2EHTbzejUsb0YN3OuqIDevDNLRERERE2mmfXFJOHTaH4yXRevNm3EiMhpeXt5YvSTI8SY7GDEsIdYAHOAu4PvxLCHhogx2cHYp8LFiOzgocH/wL13tcQPGvRwk0vgDnHTQSHuSkTNTmVAGPT9nmsWGxFRayXBx7/W5IRV8yva+67Fo/u+wdAnRovxNdLDFZVCKdEFFVBwpkWjv4XyD7Pm6vf0zWJERETkFJ575mmc/ussPt6QIjY1yvdfbcTEF2eioLBIbGqEMnjK5WJopEJZI0azPBcZjswfaxa36dqtK77a90utfVob2ac7dE9vEWOnpEwaDqnwrBhbJPveBl34OjF2Sqo1AwFdiRhbJPvfC90j74mx86msgOr/7hbTOlUGhKFiyCIxdj4ll6FaN1RMiYic0o4vktB3wENifM2aWWFRhqtcBA9Uig0AVCiR3K3uQBIRERFR4zhXYdF+WFg0x8Li9cfCIguLRESOYO/CotlQaKeeY1EugzsAneSFAslH2FhUJCIiIiIiIiIiaipmhUWnJgESXKFrZl/29XDX3/uKEdlBh/bt0LWzrxiTHdzd7w4xIjsIuu1mMSI76R1wkxiRHfQP+bsYkR307NG9BS7sVgpvWVPHVgpXcXciIiIisjuzCt34xwdVD4d2Pq7QQQcFJ1Js0MsvPg+/bl3EmGwU/mgYIkY8IsZko/bt2mLWtMliTHYwKWoMCzUOEPbAfYgaPUqMyQ7+/fILUCjMuidko9FPjsCjDz0gxs2cCqWSh7CpUQGgEq7Qi7sTERERkd01s567Hq6QoUYBPGVxK+Mn0yaeipqMvDPnxJhs9OHHG/DeB2vFmGx0+cpVhI/9lxiTHUx5ZS72Z/xPjMlG27/dg9nz48SY7OCxfz4Lvd7SXMpkizfeeQ8bt6SKcTOngA5KYXNDiaSChIrm1sklIiIiapbM+lxOPcciFKiQlNBJrtCbbVwRmoiIiIgMJDEgIiIiIrszKyw6NyVK4VHHpuSQFyIiIqJWQwd3lJhtnnI5JA6FJiIiImoSZoVF555jEQBkSLL5wBcl9Pxk2gQXFXAMlUoFzzYeYkx2cHMgr1lHuNH/BjEiO+napbMYkR3c2jtAjMgOOnZoL0YtgB4KucJsk+GOYknJkSxERERETcCssOjcKqFEIbxQAndZ3MqhEHdvxeIXxcL/Bj8xJhtNHPsUJj07RozJRr6dOuC9t14XY7KD12ZNQ2j/EDEmGw0PewCzpk4SY7KDhPhFUCqVYkw2eun5KEQ+OUKMmzk3FEneZluxpOLdikTk1GSvLs1mIyJqiAQf/yb5QPfovm8w9InRYtw4chk8UY4KyQtlshaekFAiqSGjBJ6yEoUS/xAhIiIicpTnnnkap/86i483pIhNjfL9Vxsx8cWZKCgsEpuukQyp+n8b77nIcGT+uKf6cdduXfHVvl9q7dPayD7doXt6ixg7JWXScEiFZ8XYItn3NujC14mxU1KtGQjoSsTYItn/XugeeU+MnU9lBVT/d7eY1qkyIAwVQxaJsfMpuQzVuqFiWif9bU9BP3CmGDsd6copKD+LEOM6Vfax8e/9JuRyNEmMiFqNHV8koe+Ah8T4mjWvwiJK4S1LKJbcoIcWbWSgVFKjElq0kSuhldxRIT6FiIiIiOzC2QqLErRwk7WoGfgsoVJSoxTqRt21yMKiORYWrz8WFllYvN4aW1jU93sO+hDnH9EhnT8C5RfPijFRq+HwwmLV/Ir2XhnaLoVFuRRekFEmeUAHLdrIepRLHtChDJ6yjDIWFqs9umArFCp3MbabLTEPihERERG1cM5VWNTBXS6Bq6RGmaxGhQS4QAu1rIUrPFDYiHkWWVg0x8Li9cfCIguL1xsLi0Qtk70Li81rjkVJhXKpaoiLChWSDu6yBt6yFi6SolGfTLd0rgoF3H06OGRzUTSvy4aah25duRCGI7Rr6yNGZCdcyMkx/LpxPidHUKlUYtQCVEAJFcrgBp0kQYYEPdxQAhVkVHDubSIiIqImYFYhWrt1r93vVrQfBbRwhw4wDn7xRonkgVJ4ohAqqz+Vbg18fTuKEdnBS89HYda0aDEmG3Xx7YSUj1eJMdnB+28vxH2h/cWYbPT4Iw/irQX/FmOyg9RPP4Ja3RKLYNfX6zEzMO6fI8W4eZNlwELvT5KudaZFIiIiImoss8Ji8yKhAkroJIWFbmXrdubseTEiO3j3g0S8tSxBjMlG5/Iv4N4HnxBjsoPRz72EPen7xZhstPWrHZjyylwxJju4c9Aj0GrLxZhsNHvBYqz7dJMYN2+SGuXQwV0uhrtcDiXKoZaL4SnrIEuunB6HiIiIqAmYFRbHPz6oep5FZyShDB5yAbxljbCVwlXcmYiIiIhaKAXKJC+UGv4LarkMSsiokDxRBKW4MxERERE5gFlh0bnp4C5roYAKZZIHSmttKs6xSERERNSquEAntUGR5G3cPFEKjmQhIiIiaipmhUXnnmOxAq5QoUxyQzmU0NXa2Ik05VK9yA1R88CFMBzDVcHlC6h58fJsI0ZEFsiQLPb8LGVERERE5ChmhUXnJqGSHUardOUKuw4xLXoC/v3yC2JMNurapTPStrewub+cxPoP38X9A+8RY7LRE8PD8MGyODEmO/gpbTvc3d3EmGy05PV/Y3xkhBg3U+VwlwvgJYuzKMpQywXwRhlXhCYiIiJqImaFReebY7ESrtX3JbpABx3cZK3Z/YpK6LkCoIm8M+fEiOxgWcIavPmf98WYbHT23HncOfBhMSY7+OezU/Bd2o9iTDb6InU7np8WI8ZkB3+7cyBKS8vEmGw087U3sTY5RYybIT3UcimUUKJUEmfXllAON1TIWnjIOqGNiIiIiBzBrLDofHRQyyVwl0vgLpdCbVzAxfDYdCvnp9NERERELVoFXCFBCw/oLHykLEtqlEpKSNBxUT8iIiKiJmBWWHS+ORbVKJZ8UNDg5g5xQAwRERERtSCyHgq4otK8plhNhgRYKDoSERERkf2ZFRadn6G7WFulhYyIiIiIWhRJiQpUwFWue85tBQzDoOveg4iIiIjsxayw6HxzLJrSw00ugDsqTTIZSrkQnpxLp5YbunURI7KD6ZMncvEWB+japTOO7tshxmQHnyWuxOBB94ox2Sj8US7e4ii5P//IxVscYMnr/8b40U+KcTPkinJJghJF8JDLhfm2y6GWC9FGlqGX3KAXn0pEREREdmdWWHRqshYqKKGr9WVL0EkqSKjgXDom/uLiLQ6xdOVqLt7iAGfPncffB3HxFkd4Kmoydu/9QYzJRpv/y8VbHOWmO7h4iyPMfO1NrE36XIybIQkV8EQJXOCCUmG+7VKoIaFc8kYxx7IQERERNQmzwqLzzbFoQqpjzhz5+g53iV63B+eOH6rZtseKu1yz+O2HkL1uDIBYpB1PQby4A1ELUaHnvSVEBOgqOGMyNURChdQGRWbzbfugQPJEmaW+IhERERE5hFlh0bm5ogLlcJNN71nUwR3lkCTFdR3yotm/FF0C+xm2sIVi8zWbEdYPvcetF2MiIiIiIiIiIqLryqyw6NxzLCpRKqkhowSesgbesgbecgmUUKEUqut61yIREREREREREVFrYlZYdHYy3FAkeaMIHiiVPFAieaNAcjeu/+dcotftQfa6WKRkGoZIZ68bA8SlVA+ZTque939M9T7iUOr47ab7Wc+vKxdvcYSpk55FzIwpYkw26trZF5nfpYox2cGGNe/j/oH3iDHZ6InhYUiIXyTGZAe/HdwNNze1GJON3loQg2eejhBjIiIiIiKbSPDxb5Ib/Y7u+wZDnxgtxi1C9Lo9mNffq/qxZv9S9B633pgD6XH3ISIxFmnHRyDg5BbDUOm4FJwbehELgichodarjUFK5kRgxX2ISDQUFkN+6oeBMbFIO94XGYERmFFrf8seX/hfeHToJsZ2oS26gs0zHxBjIpu0b9cWl69cFWOykYe7O0pKS8WY7EDp6sr5AB2gQ/t2uHT5ihiTk3jumadx+q+z+HhDitjUKN9/tRETX5yJgsIisem6eC4yHJk/7ql+3LVbV3y175da+7Q2sk936J7eIsZOSZk0HFLhWTG2SPa9DbrwdWLslFRrBgK6EjG2SPa/F7pH3hNj51NZAdX/3S2mdaoMCEPFkGbwQV7JZajWDRXTOulvewr6gTPF2OlIV05B+Zn1H0rp+z0HfcgkMXY60vkjUH7xrBjXSd8nUoycluJoshgRmdnxRRL6DnhIjK9Zs7tj0VmZzrFoOieiZv9qRCQCwCmcLyhE+mfG+RePX4Smei+Y3Mk4HaHeXugcaNrYeJWVlWJE5NRYVHQMFhUdh0VFx2BRkYiIiJyKZ1fo733Z6TfZL0T8yomahFlh0bnnWGyhqu5eNBYmk0+KOxARERERERERETkXs8IiNb1ov47AxTzjkOhYhPQS9yAiIiIiIiIiInIuZoXFtVv3Yu3WvWJMDfDpP71m8ZXMVYgWd6hHwrhdONFrhPH5fQE73LHYrUtnMSI7eOFf4zFzamPOLlmjc6eO2PvV52JMdrBu1VIMutf6uYzIOo89MhTvLXldjMkO9n+7FSqVSozJRm++NhNjnwoXYzKSK/W1H8uVcJEkSFKtmIiIiIgEXLylhXpi0Ta4tXPMytCtffEWLtjgGDf634A/c/8SY7JRF99OOJd/QYzJDrjgkGP0utEfJ//MFWOykWcbDxQVW7cIRH1a2uItSoUEd7Ur7r49EBcv1Cz+oVAocLmgFFdLdCgu00Fb0frmrubiLdcfF2/h4i3XGxdvMdDf+3KzWMDFJWcvXL+eLsZEZhy+eAvnWGwZKlj4chgWFR2DRUXHYFHRcVhUdAwWFR3DHkXFlsZNpUC39m1wo68XPNuoERb2MJ4ZH4VnJz6HRx97HPfe3Q8Bfu3RvZMnvN2V4tOJiIiIyFJhkYiIiIioJVMrFejWzgPtPFX451P/xNzYeZj43L8w6ql/IiLiSTwzPgqvzpyF5/71PHzbeeGGDm3gZYfiYvx247Q5xw8hLa4qHYOUzD1IiTJ9fAjntsdWP4+IiMjeZLVPs9nIuXEodAv16IKt8Ox0gxjbRWsfCk1ERNRatYSh0JIE+LX3gK+PO56fFI3HRzwh7lJL1tGjmDXzVRSVliPnYhG0umsbFh29bg/m+e5Cl7CFQNQqZMd0xLbACMzAGKRkTgRW3IeIREPxcVj+UvQet158iSbFodDXH4dCcyj09cah0AYtdSh0xeAFqAwcLsZOR3E8FYrd88SYbODwodDUMnTp3EmMyA4mRY3B9MkTxZhs1LFDe2zbuFaMyQ4+XP4WBvQPFmOy0bAHB+M/i3g3kSPs/CIJSldXMSYbzY+Zjn+OfEyMWyWVqwKdfDzw8CPDMOSBhgsBQX36YOq06Wjr1QZe7ipc23ouYzDkViD9s4WGh4mTsO1kT4RU37VoEL1uDyKx5boXFYmIiIisZVZY5ByLLQPn/nKM9Rs3Y20yVy+2t4uXLiPm9bfEmOxgybursG9/phiTjbbt2I33PkgUY7KDV197k3PZOsAHicn4fEuqGLdKHb3U6OzriwGhofD09BSbLbrn3ntx6623wMdDCYXCrPtshZ7o7H0RuSY/Nk7kF8LXb0xNcH8K5t16DAvCjMVHIiIiajTZvV2z2VoKs6HQVUXFtVv3msY241DopsWh0ERERGRvLWEo9K03+CD473dgdswctO/QQWy2SKfT4bMNG5C47mP8frbgGoZDxyLteF9kBEZghjGJXrcH07AavccBKZnTEeoNnNjUDwNjhKdaoY2HB4pLag+Z9fbyNDu+Pj7e0GgKamVtfbxx1UJ2BT6oMBkyLEkSZLn2DEoSgCaZU6kBrimRdQ6FVihcoNfXnC/Z9zZUDHu/1j51kSRAeMuWj4MtWT3HULl+WPVQaJVKhfLy8lrtLi4uqKw0vDfZ/16nHDJs6Rh23Py41dfhZd97oQ+dVZ019hg2FVlfUe9QaPE61N/2FCrvsm7IsKVjaPE42JLVdQxLLtUaCt3Qdajv9xwqnXDIsNkxvHoKHXdPs/o6vHTbc6jsXTNkuFHHsAlJ5w7XOxRavA4rBi+A3MO6m8rMjmFdx8GWrI5j6JKzt9ZQ6Iauw4qHl0Hu0rdWuzMQj6GU/V90+GW11dehmFn6ne7l2QaFRcW1MkvsPRTarLDoKCwsNi0WFomIiMjeWkJh8Y6e7XHPPfcg9rX5cHGx7u5DWZbx7c4d+M877+DYGQ3KyvXiLg1oqLA4Edh5DEEjb0ZWnGGuRWv9ve/teGPuq3jkyWeqs5t69sDHCfEIDRtZnXXq2B47tyTjjtCw6kylUiHrhx3oHXxfdQYA2Rnf4c5Bj6CktLQ6+9/3X+GRJ5/BufwL1dn32zbiuamzcfz3k9XZfz/9CK8vWY6M/x2pzpI+fBcfrf8Mu77fV50lxC/Czu/SsPm/26uzxfNjcOzE71ibVDM65N8vv4Di4hIsX/VRdfbCv8ajnY83Fr79bnU27p8jEXTbzXg1tqa49vgjD2LYg4Pxr2mzq7P7B96D56PG4J/PTqnOmsMxTF79LtZ84jzH8F/jR+PpCS9UZ7YcQ7VahaP7eAwddQzvGPQwSkvLqjMew+Z7DOe8/CKKioud4hj6duqAHV8k8Rg2g2NoCQuLZBUWFomIiMjeWkRh8cZ26N//HsTOmw+FQiE2WyTLMnZ8sx1Ll8bj2F8alOkaW1isvUALjCtEh/zUDwNjTNoCU3BuJJBsUoAkIiIisid7FxbNPqblHIstQ+dOHcWI7ODZMU9h8sRxYkw2auvjjU8/WiHGZAfLF8/H3f3uEGOy0YODB2FR7KtiTHaQsm4VJOnalsegusXMmIKRjz0sxq1SqU6PwqJCXL50SWyqk06nw5kzZ6DTVZoN3bLOeuz6FQh9yrjoU9QqDOt1ChnisOeYCCzY3xGRmasQLTQREREROSOzwiK1DJrCQjEiO/hqx26kbt8lxmSjq5oCrPjwYzEmO1j36SYcOHRYjMlG3+39AZ9u+lKMyQ7e+yDxGgs3VJ9NX36Nb/eki3GrVFBSgfzz+Th16pTYVKfSkhJkHT2K0vIK6K/x8kwYtxrpHUfg3PFDOBdzM7LiLN+VmDBuNdIRgnksLhIREVEzYFZYXLt1r90XbqGmV1amFSOyg3P5F5D7V54Ykx2k/XhQjMgODh3OEiOyA11FBbJ+zRZjsoPv9x0QI7KD47+fhKaAHzoCwMXCMuRfvIjv93wHjUYjNlu0e/duHDt2DJpSHSpMJr5vnPWICO6HLoH90CXQdB7F9YgIFh/3Q5fgSUiofi4RERGRczIrLBIRERERtVQVehkXrpZg165v8eXWLSg1WRhCVF5ejrS93+ODDxKgKdaiqFQn7kJERETNzgDMW7EI0T3EnK6F2eItVfMr2vuuRS7e0rTue6FmRSNH2PP+S2JERERELVxLWLwFAJSuLujWzgPt2qjwUFgYHnhgKLr5+cHHxwcKhQJFRUU4d/YsDuzfj5SUjbhcUIwzl0pQpK0QX4qIiIiaHT/M25qCZ7WfYOColcgVm1s4ey/ewsJiC5UQvwivvfkfXLh4WWwiG4x+cgTc3Nyw5pNPxSaygWcbDyx9cx6emzpLbCIbxc2bhY1fpOKno7+ITWSD+0L7Y8DdIVj0n/fEJrLRmvffxoQXuDCOvU2LnoDfT+Ugdfu3YlOjtJTCIgCoXBXo5K1GB283dOvaBf7+PdCuXTsoFAoUFhTgr7y/cPqvv3DpSjHOa8pQUs6iYn2CRk5A8JU1SNwtthARUbPXIwTRQ3ti2+qNLacI12MyUreOhU/qSxg4N0NsbdHsXVg0GwrNORZbhv9+/S2Lig6wP/Mn/HjwkBiTjYqKS7D1qx1iTHawY/deZP1yTIzJRj9l/YrdaT+IMdnBlm3fiBHZQdqPBznnqqC8Qo9zV0qQnafB0ew/sTd9H77Zvh1fbUvFrj178L+sbGTnXkbupWIWFevlh+jEHUiNeRjD7g4TG5uvHmGYtzoFR/d+idQloxAktpNzaannq6W+rxbKf/h0JKXuwNHvErFybG+xufkaHIu0re8i+pG+GHaH2Nh8+Xc9huQtx+D7+CzEDxZbqTHMCovUMny18zsxIjv441QOfs0+IcZkB6nfcLVtR/gu7UdU6PViTDbSaAr4IYOD/Pdr2+6oI8sOHc7C2XPnxbjV08uAVqfHmcslOJZXgMN/XsbhP6/g19Ma5FwoQmGZDvrKa1wGurWY8gZm33QEzwZHICJuu9jaDPTBvI1fImWqn0kWgvgVszFSlYGl8Vtx/s7pSN08Hf4me9D1MgprdqZgZa0iQEs9Xy31fbVQA2KRNP9hqA+sxvxPLyJ45lrsjDH9udJchWBlzCMoS45An/A5SDgstjdPQ+JSkPb+NIS3K0RugR9GzozFEHEnsppZYXH844Oqh0MTERERERHV1htRS1ZhzUQ/wFsNtYcfhsXOwpp1yUhLTUHqklHNqPhxFIk/FSFk4tuYVzWJ/4BRCO1yDAnj3sKuCm909gA0RUCA8ExqSn4IHRwCf2zErj+8Eb7wXURWNbXU89VS31dLc3tvBAEIHRUC31/XIWLhPqB9R7jpC6HR3yju3Qx1gI+HCj6BYxD3xrtITU1B2uZ3Ma853+HXIxbzh5cjeeRjiJj6EoZGrkBGu0cQt2SAuCdZyaywSEREREREVFPMMdFjDFL2rcX07nnIOukJxK1AwmEg5O4QdC4/hYzDZ+D76ETEjTB9knPLjXsVCb/1xLMrYhFaFbp6I2hJCna+cT80yePRZ9xSYHhYMyqYWi+ov3COndGIaVi5IhbzhgLJkxZgW/kAzEscU9PeUs9XS31fZnojtH8zvLtvQCzSNnyAec8bHrp53oKVqUlY+mAhPhrzICKWAOHDm9/7Chq7CKnf7cDR1Hcxb3gWYlZsR36XEITeqsL5w0eQpeiD6KnTxac5vSGxyUhbMQIY5AdfbQFyc4wNOesRse4YOo+YhTXNuWB6HZkVFjnHYsvw1oIY+Hh7iTHZaORjDyPyyWbUU24mVCoV3nljrhiTHcx5+UXcdnOgGJON7rmrH6ZPnijGZAdL33xNjMgOno8ajaH3DxRjovqZFHOqhE4dhZDzGzH86YVYtjsbwD4smBiJgcMjMHziHMz48Bjyi8uguWD6Qs7Nf/gAnN+wAhmdHkFc3ABg30ZkXuiN8H9cxOLHH8PoFdnA4FjMnz8OUeKTm71YrFz3LlZOEXMns+VV9LnlMUzYCQD7MGHhFuQHT0TKRL8Wcr4Mc5WeO34I57K+RFKLeV9WemMRUla9gWli7sSiln+JtJi+KPt6NCI+ANI3ZuH87WEYcmElBt7/Epb9DAyJm464Z0eJT3VuUauQNLU3cj+Nx9IDXoh8OxHztHMwfHgEBoZPwoS5C7HpzwJoSgrEZzqvHmGYPSUW0wcD336dAXySgROuN2PIRJOib+oZHC/phGGxizDM9LlkFbPCIrUM/zvyMzQFhWJMNvr9ZA5+/+OUGJONysvLuaiAg2T9dgyn886IMdnoz9y/8Mux42JMdpD501ExIjs4dvx3nMo5LcZE9atVzDEI6uiN879bWBX0jjGIW52Mo1vHwmfnW5i8T9zBeUWOm47o+7Ix48Mj8B0+HfGDMzA5bgtOePTF9KXvYuXyRByMH4KyrSuwQHyyE7JmAQn/yOlYOXMU/LEQk8e9hMkrxD2cU3TiHmSvGwP/3QsxP/UiQp6LRXSP5n2+AABRsYhqvwujA/thdGo5QqcuR/yA5vy+/BA+PxFHM/fg6OZFiKqaZqAWP0TNXIR5kX7A3DmImDQXy8RdnJB//xAEAUjcmg11YE/4VDXsm4OYTafgFjwRa1YvwpoNX+KjoeXY/P7S2i/gTAbPwspYw/Bf/x6GItvsh/uibPdUTP7gFNClA9yKC6BVG9rCpy5CyvY9+Cj4DJbNXlPrpZzaTSEYNukRBBX8hgWpeQDWYOnXFxEydTlWDvczLJL0dgiw6SUMfXEOtonPpwaZFRY5x2LL8Nnm/4oR2cGRn3/Fwf8dEWOygw0pW8WI7ODLr3aioLBIjMlGZ8+dx47dvLvfEZI+3yJGZAff7zuA30/+KcZEVqku5gDIulgA/5BptSa59584HfPaf4fjx48gYVIEBsY0o6oigOQ/8tD5xlDkrp6EZZkdERn7NobsXoiBTy/Ft0UdEdDuDDbPHY2hC5vB+7JyAYngu+/HsKEhCAaQtT/DvFB83fghtL/lYigAJMzfitw7p2BNjB92xbyFTRf6Yvbbk+HfLM+XH6KWpCD78I/IntIX2l/fwi4Au2KmYvFPHTEyNrb5XodT3sD8ARfx0RufIMNrMOZ/YGlhjCCEDh2MYXcHAchG+v48cQcnFIJp899FSuIYYPeriNmSh87/iEW0sXC6KyYCw5ekQdO+J3xOb8f0kZGI2S2+hhPp0RNDRs1C6oYvsfOTaTXzlrYfg5S9azG76z5MHxmByfuCED4Y2Jx1Eid2LsPwAZOQUDWM2Gn5IfThMAy5HcDuhZifmgf06IXZ1edqKubvBoa9/SXObZ+HYQWfYcbCDGT9LL4OWUOCj3+tpe6qior2Hg59dN83GPrEaDEmIiIiombiuWeexum/zuLjDSliU6N8/9VGTHxxJj/4aC56TMfO1FFAcgSGJt+PlI3TEZSzEQteX4/c/tMQP7UvTsx/EKM3iU90HkPGjgI+2YhdAIKnrMLKiHIkv2gYrogBb+Pgci8kBk9CAkYgaV8sgrIWos+k5vdBR+jyL7Gm3Ub0HvcdwmPewPyn/HA8eQEiluwDMAIrtz8Ln88ew+hE8ZlOYuy7ODqzG76dGoEZuwEMno6kF+5HQLsinPh6BUYv2Qf/qYlIm+iFTZMiMOMvk2szrjkUpox6hCD0qclYOeAkliZmIyhqMkZ67MOzQ+dgF4xzmW6cgs67X2lmhfo+iN/+AYZ1PIX0qZGYsM/Cexm5CGkveCH5/peQID69ORgci7TlQ3B++WhErL4R8dvfwbD8FRg6br0TFeit4z98Fta8MQpB2gwsGGUsFk5JRM7Um5G78RUMnLvPMEx/XRKiCl/HXVOctEp6e28E/ZyN6vFvg6cjdeEoBLUB1OpCpP8nChGruyE+9V2MLPkEA0etbHbnyt52fJGEvgMeEuNrZnbHIudYJCIiIiJqvfwj30ba4UM499uPOLhqDPxzlmLC6mMIjFyO+BvWIyJmPbI6PYy49SlYM84PmXFRTlhU9EPoxMmYNhgAwhD53CzErZiMlak7ENfjf9h2+kZM37ADKTFh8N+3Cye0vRA6AgC2YHTsbpQFP47Z4ks2E3UvIJGH3D/P4LwzT432yVtI+KkjRsYswpAe07FzycPw+XUrkvdpETT2HaTFDUDu8rk1d/QZr03/Byc3q3nRomIXIWmsH45vWYjELRsx46XVyPAeXLMqbc56zPjwCHDTXTULCjULRzHjwwxovXui8x3GyPhefKsWxjiXh9zTF6ARnum0hi7CwX2rqu9KNNz9VjUMfx9mLPkK+XdORLzpfH3NRG5JOTI/XIhtJSGYNt+4GNKKuVi8X4uAsFlIWb4ISalJmH3jUSQuccKiYo9RWJm6B+c+/wBxsX2M4QgkLXwc6q2voMcd9/w/e/cdV1X9P3D8ddlTHIgoCo6ciSPFVNAcaZik5qrQTM3KkbM0+ZqTDEc5U6xwptRP0dRcaW5woTkoZ2qgOBAXe9/fH3d477kgqKhg7+fjQY/8fD7n3LPuOZ/7Pp9BwCErfLRDJowasprztd9ncS6tuMWTMQksihfDl58PxcbGWpksntCb7Vrztp+vMlk8IZVKxYQvitNwzcXH8IH9qVYl14FtxBNoWO9lPu6r7zAiCtGkgOI3y2Bx0Lvn27Ro1kSZLISCGz5NexP0URWivuxEk9G7SPcewqqvvIyDObtm0711KzwaNKNmS38GhxaxlmIevVm1O4ywgb509O0JbCN032XKtfsQn+gQPhzzA5P7dKJFUCTluk1kx7r63LzpiHtj7fK7RtOkcT+mKVZb9Hgz8WfthB+HQwlqk98EEpFMGziQUUUuCGwoluA+IUSW8CVonjdEjMPvy8XM+bIffnNP4uI3hIkesQSPDyGy1JtM+sqLmLn9qNm6eI2LtnTACiJTylDjVe2kkNEr6b7oJE5vPZiVNiZkIC16zibcaMkiyMOXiSFhnNq3kU0zeuK5dhgjt96icZ9FDNIWiQkZyOS9Nrw+/AsaRyykV59AQhWrKTK6zNQEEqnJiPEjabtjIZvj6zN23kj9bNw7A6azOcFL3w0/IDSSuBTFeoqqNiNZtW0P0Uc3Etb4CAEL1vNh4Dbu6yZDIpbgPr0Y/NM5bKpVgMML8Ws5rOh1ffboTdjqkfjc2cBg31b4BerG6I7k/LYNfDjjX7rOCGNsjcuE39UOmVBMX0QUByaBRRlj8cUQF3+btLR0ZbJ4QnfvJ3DvfrF5v1ZsqNVq4uLilcmiEMTfvkNSUrIyWTyhhMQkbt+5q0wWhUDuBU/H3Xv3uZ8ok7qJfLz/BQt/HILnlfUM3hRLzKZx9Jp7EpfOXzCrjXEwp+jyYtaCITS+EkK7xp1oN2Y14E1H93jW7ojFqXEbOmrft8WEjqNF488JTfKmY20r3GsMVq6s6KrrRdtJQ+iW+X+0q+HPtHMV6Be0iEHFcQIJEyvpHrALalfBKf3BBHQxIYsJj6/J6x9pW8HNXcCSXyKNliyqPN+fyv7Dxx4Egf12a7qnvzaYVd20hZZqgm8+A4vqdejF2EVLWWzUMs+LWQvG0s0qktmzNnCz4Ug2rRvJheHTWZdQnxHasVkBQge2x6PzdI4aLF1kjA/lRtRSTSvl9es5mlKfiWeW0b8OOHnEMnnYT0R59GSV/t4XSdT121C7J7MGQHjQ6KL3goUurIo4xpG52kg12m7cszrgFLGQSRtu49lPG8jeNY6ATfF4ffQVQZ98waYVg4mbOxo/v370Clz9oItxEeI/vg9e0T/h12c264yCnrFMDpwNATOZ/Vo8c/z70T3sJGkNNC0Vi+OLiOLAJLAoXgw/LCuy74CKtYNHjrF7/0FlsigEi5auVCaJQrBqzXpu3pJATWG7eDmatRu3KpNFIVi4+CdlkigEm7fv4tRfZ5TJQhj7aRjBR9NxqdZEP4h/TEggc3RdU4tDMKfL+7xe8SxL+yw2+DEcwag+Axk1ZDpr79ZnROCDYAdEMLlPJ9otOgVuteiqTy/K6hE0bR5LukH4+MVEcY45fcbpAzkXitsEEgDUpN9Xi9ixKZSwr3rimcvEGHCN9KwHS8SErmRpkZtooSb9hvc27r7cbxFhY2oSFdgJ1xr+BBx1wD9oJhOPDmPk9jTajnnQsi90YHtq9lxouHQRUBOfpm7ANe4r261498TH9SzBfaazM6sE5ezgfhJUJ4LBQdouwv0UyxRFgZPpNXyappVyz3fwKZvO/ax0zu9crQlaRS9k8Hcncek8lbDxPek3fhGDKp1lkl8vuocoV/acefgydkgXYD0Bnw1j1KwHX/7GbWqTtnUcfoER4FwGssrSMUhz/WkmDSpD14+8SftrSxFvKetLx9pWRG7Pe6zEjrUrcPPQYoKjoW0NZ2IO7SImu7KymCgkJoFFGWNRCCGEEEKI/wBtF8ZzJw5ybts8JraB4H5z2Ik3Yxdpu2hqu6aGW9Skm19RDeYYWH+Zm9a16DijJ127+NLvs/EsnDGVhV8Nxr/ug/HQFg6pieeQ8QRpW4vFzD3F+dIVisl4dqcICNpCDDWp3kfXeswgkDPAjaifAune1Z/uYxYqWvMUQR69CYtYxshqiVw4HU853y/YtGk8jNEGghdMZUQXX0YsCKZjiUhCf1SuoAjxaEu3fkMICtKOlQiM7VCf+7umM3hTLHCOpUMGEXqpJt0CfNmpbdnXz7BVWRHTeNJUVs0dzyCPWIKH9+PDHZ7awJWWRQk8Z4Sx46vW3A/tS70+s8HPF/ddgUyaEUJokQ9qA5xj5y5rJq7eSFj5Zfh1bsWHG+Lx+vQr/SzCMSEDGbw6lhqdRzK2DawNHMbS6KLWShGo1oKuA0cQNsCNmEMRhLecyZFNU2kLHP1yNB8uusagpUuZVDOKAL/p7Mzy0rYsjSV4YCdqNu6kneypKHPGOp9R34J3n8Wp/UyObNvOEu941o0fx4dFfr+KL5PAohBCCCGEEOIF59GbsNUT6Zi+lYBJs1kXV4v+c8OY5a2dvOS1EYTpWxqtpFfr7gzeZLyKomk205aexLrNSGZPmsiknl541qmJZ+v3mfVzKBMvBtJr7lncPw1lR7/aoBvVwsMK0jOK7oQSbUYStnsPN84c5NymqfS7Gkiv0HPU6DmTiQaTSgRsuIZ7S190w0UWNT7DF3HKcCIMoGtAH7xif8LvvdEMHjOMFt1mE+n6JmMD/tUEgj186T/gHV5nGyN1M9cWVbqWbX4jmWUQK7SxLmNQKJaA05dxqeylCQiP7MuHw4tu9O3opNnGLX2redFRG7giYjVHb9Wk62vxTOvciV4LzkGb8Uya1Id+wM6fVhb9wLbeKZZG3MZrwP8YURHCvxzOkuhaDNKOrehetyYXAvtRr3EzarYeyOQidso83/+Cif5uBt2ata19f1pPlL0vC5f21kzgFN0f/4bxLPlkHOuiI7l/MxHqdGFEI+Uai4A2I1kV8gVtAfrNY//S3rjjRle/y0TFOuLZUjvhjFIbX7ruGkj3L1ezc8dCevkX8fvGC8AksChjLL4Yhn3SDzMzk9MrnlArn6a80fY1ZbIoBCMGfahMEoWgf+93cKvgqkwWT6hWjWr49zB4Wy8KzaghA5RJohC87edL44a6GROFAPeBXfC6sZ7uQxazbv1qAvr0I/iMG90+/RB2jSbgtwS8+swsPgPc1/VmxGeD8W/qxs4ZA2nSuBkeDZrh8WonWvh1p4X3MDZrx+eLCRlIvdqNcG2s6yJcj6CZbbHZuoDJyvU+Y+5+g1n8cxhhRrOWamY5ddo+jSa1+xKc6E3QsplUDxpN8Jkq9F8wXt/SMvxLf5r0WVw0x7EDYtwq4FTCuDu6T8Uy3Px3w4MujdErmRNxC8+mPTXB0tBdhId+id+QItj60qMn/XRjJGoZDR8ATNt7FifvAQaBRjcGuTkT9692SIG/zhXJMeweiGBU4BbiGg5h4XC3B7MiD9TMtDs4aD0X7OozcvY8Fs5dypFZbUnb8Py/SwXhOWQm+w8/aLFtNEkVsUwetoBI197s2L2RHcvG6oeIKErcB8zjyI55jHytLd3atAZgZ4BhMDhCMTnLNe5TAZ8+PRmxIJi25hto17g7o44p1/y8ebEwoDMuV09yASD6FjQewKaIMIIGtiFqfSR46fbJgIcvC8dMZOyQekStXUjAt+sJL2r3jReQRJ5eUFZWlphLYLHQWVhYYGlhoUwWhcDKykqZJAqBlaUlFubmymTxhCzlXvDUyL3g6bC0tMBc7gUCb4LWhbG4GzQuVQLSEw3Gp4pl2vaTpFX10rQ0GjMav6Gji94A9x69CYs4yP6vHgTK3Qcs4tTPU/Fv3Yaxi8I4MrenwRiKWh41cXK8TcxxZQaarsU929Mi4Hl2k3Oj39yN7J/ZkxrJkYQfdniQ1aUNntZnWRcUReOAkfSvncHR7Tu5QCzTRi/QtO77zHBdRVfM+Wuk3Y19EKQC1p2PpVzDwZpWSbpy6ZCerhnQr2hOjKHhM7w3QWOMW2Di4YmLDVh7+BI01xsWaIJV/nM3smnuTMK2rWJs5VMEB20zWKiIiwikV8hZPAdoWsjuDJjO2hvamXZ3BdLivdn8keRM9VLXWPdlL9oFPs/vUgF5T2WxvzPh381mXUI9BgUt0nT31k1SFeStma37w+msi4xgWt+iOFO8L0H9ahGzdDr9B7Sn3oCVeDb1wp0IRn2ymhh9MNiwFeNiBn8XiY3fYPxLRzFt2Ow8xyl8vqrgUiKDuKhtxOBGx2ZuOOGIi/VZgocEsm5pIHMOZeAzfCmbvvqQrl186frJVPavnUrbhNUEjNHNEi2eBRVO7mpl4tNwKuJ32r3dS5kshBBCCCGKiY8+eI8rV6+z/OcwZdYj2btlNQOGjiEhMUmZJZ4Sd7/BdPX2wr/mKaaNnM26xvM4NakCfwzvzihtlz73MaHsb3OGFr6BRfSHJvBVGNE1duGhn+DCl1URo2BWe3qthbZfhbGkG6ztrW2B4+GFf/eeDHrPB6ejC/AbuLJI7pvPV2GsahfP7A8HMkc5hqXHePZv8uL+hRJUL3WW0EBNN8xBwwcTNXchMXVrwl/niuR+mRrP/qNurF1bgpH+sMTPn8n0Jmz1SDyjVxIwejVx7UYwa7gXMbNa0X2pcvmixptZ276hY9wC2vVZCf5TWTXKF6cLK5n0WxUmja9F1Jft6bXWDZ8BvfGvUYK0m5Es/XZ9EW+lqO2G+mlrqpdK4sLWBfSa8S+DVqxirMtO+vsGstNjJDs29YTQ7rQLKpqB37wMWrqHEZ4JXPipE35zMT2PAxaxY3gFdg7vxOAi1uUZwN1/KrNePcOo4fEERUzEaXV3/NZXpu1rPkwa3YGbc3vRPSQW9+FL2T/AkbUDuzMqwngfi+b9wo2uw3vjHjWdObug7YyNLHktg/MpzticDGX2xs14Dg+jP6tp0Xk2MbjRNeALRnbxwt0aSI8lfH0IAUHbiuj+FR3bf11Ffe83lMmPTZq0CSGEEEII8YIZFBKm6SLm4UvXNlDduw0j/Wpx/9xsTXfStdMJPu6M/4wwFn7iy4ivlrLJ35nIsCVF+wfZ9USoWo9BHjUZMbw37njhXjaBm0d9CVq3hyUt41kyRNetz42x02YysbMbUXP7Uq+IBhXBl0Gt3YhaYRxUdPcbyaq5g3GPXsIfl8rSuNwpJmvHdnMfsIgR73vRGIgpgkFFd78v2LRpERP9FN0UOcfN7Ap47jPoxh29ku4BKzlaojOzN4SxuI8bR4N6FYOgIppuwtoJgVat28j+MZ7cXD2Meu/NZl2o4azPsYSHTGfwmHGMKg5BRY+R7JjRAafTGwiNSMfz/W/YH1RZ0ZpvNh+GnMW9/eBiM2SC+4B57P95JJsnbSDG2g0XDy9tju48alr4xYQMZM6mc9xULF80fMjCUV6kH40khm0ErD6L54BVnNswlZGuWwkwmHTGuGt3BKMCVxN+I0O5wiKkAj5tOtCxjfa8JCZBqSrUSNjK4BE/sG5XLJOH/USUR09WfeUFxLIuaBgtXtUNfdGdXhJUfC5MWizqxlcs7JmhpcWiEEIIIUTxJi0Wi4+2QWEsaVeC+xZW3N80jRZfJjJr2zd0S/iJFj0Xan941aTfVyPxb+CMTeJlNq+aw7RNRa/lUdCGY/inL9a2UnQjaMNG+tXIIO7Eaka+F063HfPo6Ao3983mwyGricKNsT/PxP07fwYXgx6ZMJ795+sTWaM7o0DTLXrGXMa+5YZNFsRsGEaLH2sSFjoSH4tYLty1wd01jT9mDOLDItpF2D0glP19qkAW3Dy+mmnjtQFtYNamg3hGNKNdaG/C1g6h3I7Pn3M39Cfn81UYq3pasblPJwYfMszxZuG2qVSPGEa7wOLRNbPf3I30r5RB2pXptBuuGQfSfcAidgwvQaifP0vbFe3WfLmrSb/hbXm9gy9pq0bz4U/nFK35NKXcA0LZ7xdPgPcwQpWrKDLGsz+qNuF+/gTgxmcBSxn2Whmso9fT3TeQcNyYuMGgVZ9Hb8JWD6HcjmG0+FI7rmdR4+GF/6tlCF+tCwq64dPUgZi6bel6twzdJrXVt8JEfz1W5cLhWNwrxhPgWwSH7SjipMWiKJC+/t2VSaIQeL1SH5+mujdbojD17/2OMkkUgp5d/ChTupQyWTwhj0puvNXhdWWyKAQD+ryrTBKFoH2bltSpWV2ZLF5Y9fB0KwH2ZbA+8xO9vtymn4Ahpvb7+rHt4BxLvxxIO7/utHhvdJEMKgIEjBtG/ynars+N+uPjlsj9LLh5ajU7iWTa/50kzSKdmPOXuU9N+i0IZlDVBKKKTawqibTsEpQzmBPMhsuEDmlGi5CzuHf+glnVVtLd259RqyOJ3LGQXp07FdmgIkBM0GimRabDpV3spDWzN2wkLMAXdyD8aiLuNXpC9EpGLTKdQbk4Cv9yOEvOlKXjlw8m0tGIYLBvq2ITVARYuuEc1nWr4JR+TZ8WE7KYcIPJj4pua748eHjR0f99fOyucfSnc4CyNZ9GTJA/HkU6qAiwhNDjFfAPCWX/6qU0uzeZ/r6zCS/1JkFB3oCiVV/0SkbNXcCSX4piUNGNfjPCOLdtERM/7YK/bmbq979g4Y9TGXFpIXPWBmpaYQ7UznKN5hoc/NNZrEsnsva7ORJULAJMAovLNuwr9NaK4tmr4uGOg72dMlk8IddyZSnv6qJMFk/IwtycqpVNhlkXhcC9kpsEFp8Cl7LOVHKroEwWhaBaFcMR8EVhqVC+HOVcnJXJ4gXk+f5U9u+bQJ2/Z9HfdyUxdQewWDfDcEQgvUIv6ydgKDb+imCnxUg27V7E2Pgl9OrWinZzT+LuP5dZ3tofmUvP4t5vEUfOLGOsRxSTeg4kWLmeIms1R8+XoXFX3UzJsQSPGc3kXZrgR2h0FTr27Q2cI/TbQEYVi1lOtZNguLbBJyaQFl/uhvYT2b97EZ7x8diUrQm6GZTXRhJ1Ubl8caMN5lTUBXeKE28mhoRyZPdGdoSMpO2u0QSsj6Xcaw8COXCN9KwHSwQHaK7PIq/beMLm9sY9eiWjfjxJWtkKNNYHsQ0mavmqmDUcycjA2qMmTscX0n1sBDu1+6cP0kcvZPB3J3HpPJixQEzoSpYqx2597twYtGIVk5rGEzq6EzVbDmSabmbqn4YRfNQZ//EzaasL3MfWZ+y8kfqJuXbOGEa7rsOYXERfiP3XmHSFflqkK7QQQgghRPEmXaGLNs0EIImEzphGwFpNqxzT7n5ujF29iq5Xp9BEN2tLkeJG10m9qbF0OtOMgmdujF0dxiC7LfTy03T3M5pIwrBocdRtHqeCvLi/1rBbsBtdJ80kqJsVmw0m2SlONF0WnbXb70bXgPGM9ffCPT2SyY2LU/C3YNwHLGLHQJhTbPbNjYkbVtEtZSdL9sDrvd7EM2UL/X130XHbN3TM2kVwyH5oN5iRja8xredAgotgUNuzbk2i/tLc84xoJ5hJD+mO39xYBi3dw8TKkfRqPVp/z3D3703bU0Ux8AY0+JBVs9/BPTKEwWNW68fm9B8yGKjHxIG675Ym3Xj/3PCsC1F/FdHAW7d5nBrvSGjnfsb3+jbetN0VwU66sCpiPJ5RgdQbuB48BrNpw/uwtJl2wh3xJAq7K7RJYFHGWBRCCCGEELmRwGJR5suqiLFYhyhn0tUG4CpfJjzWDfc702gxpChHqLTjg5nrAogGPBRj8mnHDnPf+zlNxhSTfs8evozt40Zk4GKTYKjnkEWs+tQLp1uXiUkASrlR3foyS8f4E1CUT1k+Bi3dw9iKEfRvN06zzx6+TBzjRdyQwGISfHsUbrh7xBJTBINvJt6fyZF33EjPjiWg82jNd037HXNa2512h/uzf24XnKJPERMdyZIZC/XjZBYZHr5MnDaKQdUvMa3xQOYA7n49aXt3NUt14yYOX8r+AdaaGcijFcGqIm8wm068T/VksMk+yZIZgUYt9Ey+W3Rh1b4RWK9qRffvDVZTBHVdtJ0guxXU7LNSm6J9kfJOTYicrZm5us1MjizwImaG5rnmXrcmFMHJqoqjwg4smnSFFkIIIYQQQhQ3zlhbJ3D/vDI9luA+41hy3hqX5K3MnlHUI1SxTB62gEjXXLqUKsfki15J90WRpLvWV4xrV1TUZETIRs5FHeNG1EZWDXADnGnsNyDXrpdRCwZSr8cwZu84R9Tpc4Sv+Jx2jYt3UBEguN8cwu18CZqrPZ/R25j8QgYVAYpgULFuTxb/nMsM3T+tJ8q+JtXtMh4EaqJXMifiFp7e/WFXIAEbLuNUEcKLYFDR3X8q+9dOxN96J4O7aYKKAB27DWaS4biJc79k2vEK9P9+PG1ZT6/xu0hr3JmxBusquhZy/qoVcfuGMSmqAv1nrmL/jJ54anN1363Zi3QDtK6nV8uiH1QEKGdnZZzw2VcEtUsn9NttxDUcwKwBbrBrNAG/JeDVZyYdgRgJKhZZJoFFGWNRCCGEEEKIIqSuFz7KMRHbjCRs9x5unDnIuU1T6eexmwuxbvh8ohunD8CbWStmMogIJg/wp92ABzPzFmnKAKKBmJBA5hx3plvAVE3gYOkwWvRZaNyysYhwHz+RkR5RDPZsRLu1Gfh06a8Jhq44i3vr9+mqXADNeJJzAscxeMw4Ar6P0Hd9LN40wRwavkM/ZZZ4+l7ywatBffrPDOPIggdBKYjgw8BtxLh6a4I4WjHp+v8l/MvhBJ+vxSCDse2KBi/G9vPFPWY17bpON7qvBU/SjJsYNEP3YiKW4O8juVn1TSYFecOu0TRp3I9pDxYp0tZdjMW9mhdLh3SixeitpLX5gk27FzGxDfrvVtpr/VnYTrlk0RZ85hpO1Zrgr0v4th81vfsxOWQckzbF4/XpV4z1gJ1jRuM3VGZ9LupMAotCCCGEEEKIoqIeQdPmsTjQMGDYhVWBnXHaPo0mtfsSnOhN0LIR/DF3PXENh7Dp5/GMeH8wizdNpVvphGIZnDIJIOrUrUDU+BDWno83TC2S2latQNr1M+wE7qdkcD9RO8vugp1EWlfmdWWw+EW2azRNWg7DqJe+eDbWH+F8ciLh364mxnMkm/YZtF7cNY6ATfF4DZzLwk986frJTMI6lCB8/RLtwrFMG72AyBJeDGpguNLnLZLBQeuJqd5ZHxRtO2YRRw4vZWz0SrovOonTW1+wWPdiooYj6Zcuk1aqShELkOYv/Og10qrWYxA16drFmxoWsZy/W5X+C/awf0ZP3HeN5sMeoxm8Q7lkERe0hXBrbyauMHy2AbjhZG4FyYna1r/niCqK418KIyaBxb6dW+rHWRTFRFAYN84f0/xtG2+crvz3+T2EyavCfIxn//lj7A8yTp21TXuMjfJ6E3bU8Jj2Juyo4jwI42v0fBiz8spTXq/Kf8v1q6C5Vk2vSx5ci+ePKY7bePYbnQPNOs6t6K1PEQaCwgp8zQ5ascfoOA5ascd02f8842v2xtFFDNJl9VvEudzS5V5QYLk/p/JKz/35NbhHc/1yogioWxNPThEwa8uDrmEAXdrgaX2WdUFRNA4YSf/aGRzdvpMLuwLpFbCaKOv6dHvHB6cTC/FTjlNYbMQS3CeEyBIPuvm1HbOIIyvnETTwGqOGzDYZo7CoWfrTTuIajuTc7jDCetbEpe4Aoo9uZ//P9bFJKYGLNujR1s+32AU7RHGykqjYMlSvsZruLfuadKndGTCbtfFudO01gP6tYF1AL7qHGEz4Eb2S7q39CThhuM4iYFegpmXbwJks/nk7q3o6c3Tul5qWiEsHMnh9Bq8v2MORTRs5N9yZyBn+tBu4svh1pf3pFBcs6jMoYhmDXKOY1LsT7bq2x+/rSKjXBn9vcp+4pshbyahFEaTrXoZ18aVrlw9ZuGkVC1+7zZLxwwhVLiKKLJPAoihm+i3iXDcIrdEI1xqzCXfuYhIQMy6nHNBbGNL8+KoPl4zTB63Ygz/rca3RCNegSFy65R4smLVtJJ6nZ+PqG6jM+k+b5RbP5BqNNMdvLfjrggZy/T6ZfhAZpD2uiutSfy3WaITr2nh8hhgEavR6E3a0C6xtZDBwsnigN2HtqhgnFfSaDQpjYp2zTK7RnVHKvP+yfm64JEQ+uB/oZ80cz/6AWkRpr+fQeC9G5BbslntBnmZtO0bHOO13vkYjWgRo0h/1+bVwzQFllngu3OgasJRTa75n4ieaH9ABGx50DeP4Le5bV6DjulUEtYe1o9rjF7SNjsMH475pNr26dqeFnz/dv3wwi2jxtJLuMyLgtRHs36QNHMzoToviMujgrkBaePoTfMMZDgfS3a8ZLT6dxtqLjriUcMRnyHb2b9vOkq+ki7B4upaei8W9Zk8gCZIzSMsCF12XWr9/GRW4hQul3ODQHKYZTA5S1O0MmM7aG1Xo6HaWUd26Mzj0wbbvDBhOr2+3cvR0BNN6F89Z1TU04ywSNZ12fuP0s1dH/TSaFr4DmVZM5q3KTUzIMPwCVhPl2IJBkyYy+8t38LyxgcE9+zG52J6v/yaTwKKMsVi8DGpdCw6t1/5wXUn3HZep3lDZWk73g01+4OZnlG8jXGt0J9IotTdt60D4/2mDhUsHsvlSFbwUwQTdjzcJ0Jga1UcXPADOx3Nf+79y/T6hpYGM0gVXloYTleCMez+A8XhVvcxm3bUYsJ5watFW8atFF0jQBSCEQlAXPE9HcsEgqUDXrC74pQ+aCSPxsabHJag+1S/t1AcLR/1fJNTxUQTD5V6Qp36L6OgcyRyT5488v4olj54s3LSK2d2s2Ty6l34QfqOxzqKX8MelsjQud4rJrQcyeRe4D1jEiPe9aKxcX3G3dhgjtyfglLiVwYrAQfFQH5+qCRydsZ7waIg5tIs5X54ijsusGx/C5oj1BPTux2TlYkIUopgD/xLn4c2OHWFM8oondHgranYbx5IrVek//gsGRQTSK+QsngNmMrFYddGPZNSQ1USV8mLQR8oJkWIJD5nO4DHT9cG44mrdxVhcylcpfq0tCyBm02x6+bWnZoNmeDRuT4viMhawMGISWBTFS3UXR+JiDX4InI/nvrObwY8xN22LJGnd8fiqUK5EPDEGx+9CXCIubgataVprWydJS8X81XDGSRtYkOu3EPXzwZOz7FyqaxUWbxAQW0lMvCPlajwo7i6BhHyMZ3832NzH+Ads/tesjwS/HqaGM05Vu5h00R/k5sz9uMsPyi2NJa6EM9X1CXIveKgaznAa/PXdzHWtEuX5VRz5DO9NV49rLOnmT4BRyyHtWGduPVkVVJnJwxYQjjezDm9k/7bt7P+0AuGzvtTPjPoi2Tm8E/XeK84/Nm1w0kd83egX0gXP6AimbV3NtMCFhBbzoIcoBtYf4XxWFZzOz8ZP+zKC6G1M7tMej1eHEayfPdkBn371lEsXbdGz+TDkLO6dvzCZ7OlFEX70Gvc96hWTmazFf5FJYFHGWHzBVPXCh0hCpUXSU+SIT9MqXNghrZPyN5793ZwftJ7Jj1y/+dKM43eMG0NgToFbyFXBp6lBKyZhYta2LrD20YODTk29jFreCYWA7vquuq5r4/EJyL1brgm5FzzUIDdnnJrW4qa2K/nkQ874F2isX3l+FUXho6YTGlsFf+1kLe7+U9l/dA+bhitmS662ku7e/oxaHUnkjoX06tyJD4tda74XRU36zQjlyLrxxhPNALCadUehbcBGwubOJGzbKibVOMu0YbNfyNZHoqhaSVQskHX5IcMjxBLcpxPtJp1SZhR5mqCoMx375jKMyovgp20E/xhSbGayFv89JoFF8YK5tJ7QeC8mFugHhng8iYSvjcSlm0wm8FBBYdw4X5/IRxkbTa7ffAX3aaUJ0iyAEQWe0OIyoY8S1PmPGbRiDx3jHq+L+P1D6wl37iKT4RREwHrC9d338yH3gvwZBLSDd59VtKTNizy/iqYIRs3QTNayat1G9o/x5ObqcfjN1eQaz5Z8jtBvAxn1raabrXge3Bi0Yj5j61xm6YwluU4oEzqkH4N/OodNJUfidszBr+UwguV8icLUZiRhu/dw48xBzm2aSr9cujNrxll8UScKiiV4fC/avbA9cdYzZ0ExHkxRvPBMAosyxmLxYtKlyaCbqc4oX80EA/JD93Fd5qbix69pd8iB1JRATd6CwrjR8CSuioks5PotREsHMucQeLbunUs30t64Oydy87xB+YDumlZNhrPvCmA8/k0dcWo6UtultAvVqYK/Nmib/zV7me6N1xPXdGTuk7qIXAXHxuPkYjBRjkl3frkXPExwbLwySUueX8WWdrIW97qweWAnzQQmWu4eENwnhLXn8zrvovC50XX4h/grUj3r1gT64980gc1+4wg+lFeL0VjWzR2NX9eBDP52/UNajAnxOLqwKrAzTtun0aR2X4ITvQlaNtOk9WzMgUg2HzIeSf6FEh0rrYCFeE5MAouieAnefRaadtH+GNDMYHrhuLJ740r5oftEVrLzNPi8o20p028RHateJlLZmkkCNXnoTVg7CM1l/C65fp/MoKDxBtfaePybQtTulUAgkZeq0FEXgAnqgo9u/EUDwX1aSSswE4G00HXVrdEI1xrrucBl/SzEBbtmA2kRJK3A8mV4XQac5ELVtvrjNesdLzgdruieK/eCPOV5/B79+dVAkSWen/Avh7PkTFk6fjkeHwAPXyau2M7+ZSPoyEpGDZmda+s48TRU5nW/AUxcoemeDtB17kZWjfECooi5VQX/w3s4F6Ud5/TMdlbJ/V88K13a4Gl9lnVBUTQOGEn/2hkc3b7T6OUcAOsD+XDSNgm+CSEKnUlgUcZYLGaWDmTOIWftgO0Pm+E1kBZrL1O92zH5QfYYgvuEEO6snXDgIRMzBPcJIRwvJkpw0UAVypWoYjCpgMGkDXL9PpFg6jNRf0yNJ7YY5asJwNw4f4wbD5mheJTvei5U7cINCS4WTEGvWW0LUp8ACS4a0o8JanJdBtJibTw+AZq8vCcWkntB7gJpEXQWz1yO36M+v5r3aa/MEs9NLJOH/URUxTcJWjCVHWsn4u+wk5F9R7NZWVQ8ZREMDtJ0T581wA2AGuXLcj92JbCeXv4D+TBoGgHD/XGt0YiAQ1Y0bi2tq8XT4960DV07eGkC3cdvcd+6Ah3XrSKoPawd1R6/oG10HD5Y81JCCCGeMhVO7mrDBF1QsbC7Q5+K+J12b/dSJgshhBBCiGLiow/e48rV6yz/OUyZ9Uj2blnNgKFjSEhMUmYJBfcBi9gxvCpRobMYFSStjZ6ntkFhLGkXz7RugXiGrMIl1HTcaHe/kSwM6EBaSHuTPCEKQ9ugMJb4uQFWEL2e/n5L8NkQxiDnSEZ5DyNUd98YaE1w434v5EzxQogns/3XVdT3fkOZ/NhMWizKGItCCCGEEEIUDTEhgbTza093CSo+dzsDhrMktj5jZ47ApVQC95O98dTn1mPi6j3s/6o1aRsmS1BRPCWDGdk4nkl+zfDwm01k2S7MXuTF5GELCMebWYc3sn/bdvZ/WoHwWV9KUFEI8UyYBBaFEEIIIYQQRUUsMTKD8PPh4cvEkDDOnTjIuW3zmNhG2z29Rhu80jPw/Owbdpw/RvSJPRzZMID0r1vh0cB4sh0hCkPb8aGcO3OMG2c+pDG32RkNRK+ke8Au0l4bQViblXT39mfU6kgidyykV+dOfBia12RCQghRuEwCizLGohBCCCGEEOI/zaM3Yasn0jF9KwGTZrMurhb954Yxq+JCBn8XSVoJCA9ohmuNTvQKWMicH6cz7YRyJUI8IQ9fxg6ZydiW8UzzbUSTwF3EuHrrx/pk12gCfkvAa+AiBnmcI/TbQEZ9u55weRkhhHiGTAKLQgghhBBCCPFf5j6wC1431tN9yGLWrV9NQJ9+BJ9xo9unHxITEsic4850GzUeH2IJ37qa0E3SOkw8BdW86DiwDe7Xj7A0GmJCRxOwKR6vj8YzyENTZOeY6YQevU2aclkhhHhGTAKLMsaiEEIIIYQQ4r+scakSkJ5oMK5lLNO2nyStqhf9iCV4/EKm/d9qwo2WEqIw1KRtF1/a1gV2BTJp02Vs6rVlrC6QGDCbtXfrMyKwt2ZWaCIIGDKOpdJKUQjxnJgEFoUQQgghhBDiv8ONrsNnsmlTGJsWDKarB6zbcZb7tdswq82DUu6lS2BzN5adANGrCf7pnME6hHhybccs4sjRZSyZNJFVaw5yZG5PLgRMZ+3VWgyaOVgfSBwVuIULLvXpqFyBEEI8ByaBRRljUQghhBBCCPHf4M2sTWEEtbMm5vRlqPM+C0MXMejodIKPO+M/I4yFn/gy4qulbPJ3JjJsiczOLZ6cR08WhozH3zCt2zxmv+9M+JhmeDRoRpPRu0hvM5KFw68xashqztd+n8UB2rEVIwLx8x1NsOHyQgjxnJgEFoUQQgghhBDiRePetDdBM8YztlvNB4kBQ+hmH85gv2EMHjMav9afsy6lPoMCvAju8wkB2+Kp/tYAulWLJ/TLfnQPkbEURSGIzsCpdhcmLu2tT+rarhbWx9czapfm3zGbxhGw4xaNO/THPXo2H4acxb39YGmlKIQockwCizLGohBCCCGEEOLFUZMRIRvZv3QIHb1aMOir7wnrp8npV6MCaVdOaro3AxDB4E1ncfJsQ1fOsfTLgbTz606L90YzTSZoEYVmPb3G7+J+0wGEaWd4Pno3ASeXKtruzhrhUde4X8qNtkDM3H7UbD2OzQb5QghRFJgEFoUQQgghhBDixdCGWduWMbbaOSb1aEa91u0JiMjAs7WmpdjSo5exqeOjn2EXgOR00jLSiTNIEuJJuPt9QdBn2m7MOrtGE/Bbgn6G55hFEUS5vcmqIG9tATcGta4FlyJZarykEEIUKSaBRRljsXiytjSnfElbqpd3pE5FJ2q7OVHFxYHSDtbKokIIIYR4wVmYm+HiZEM1V029oE5FJ6q6OFC2hDUqlbK0EC+yXWw+Hkt6KWfKJerS0ohLcWPh+N74bAphbXx9xobMpF9d8Oz2BZs+qk9chMz4LAqRZ338+85lli5mCLj7jWRQ07JYl/DSzPAcPZsP557Eqcs8zu0O48jhMMaWj2Ta2MWGaxJCiCLHJLAoihdzMxVupWypVbEkVSqUpqJrWSq4ulDBtSyVXJ15qUIpald0oqSdFSr5JSGEEEK80MxUKso52VCnUkmqVShNJVdnKri6UN7VhUrly1KtQmlerlSKMo42mJlJvUD8N+wMGM6S6FoMmvcF/WaEMdG7BNYVvfD0HULYT104+slsNifWZ+zKg2wa48X9tZ/T4stI5WqEeGwxQaOZdtyZbuPH0xY3uk4KZUdQZ5x2TabJgPXENRzCwuFuxIQMpJ7vQEbNDWFaQF882o1mabRybUIIUbSocHJXKxOfhlMRv9Pu7V7KZPEErC3NqVjaDpfSjjT2aoK3tw8v161LmTJlyMjI4EpMDH/+eYx9e/dw7sJFbt5L5XZSOjk5z+SUCyGEEOIZsrQwo3xJW5xL2PDKK43wadGSevXq4Vq+PNnZ2cTGxnLy+HH27tvL33/9RVxCGnH308h+hHrBRx+8x5Wr11n+c5gy65Hs3bKaAUPHkJCYpMwS4unwGMymDR/SOPkUweP7MXkXwGA2nehJ2net6B6iXECIQubRm7DVQ/AEbNJPsmRGIJO143a6B4Sy3x+W+PkzWQKJQoinbPuvq6jv/YYy+bFJi8ViytLCnAolbSlhZ0n37j0ZNHgIrVq3pmzZspiZmWFjY0P1GjV45933GD5iFE1f9aJcSRtK2FoqVyWEEEKIYs7cTIWLkw2l7K14q1Nnhg4bjm+HDlRwc8PMzAxLS0sqV65M57ffZuSoz2jbti1lS9hQxkG6Rov/iOiFDP4ukvslHHFS5qUrE4R4CqJXMurHk1AqkT8mDdQHFdG2aAw+akUNv3pGiwghRHFgEliUMRaLhxK2FjjaWdKj57t069GD0qVLK4voVa9Rgz4f9KNunTq4lrRRZgshhBCimLO1sqCUnTW+vh3o27cf5VxdlUX0KlWqRN9+/WnWrBnOTjZYmptUB4V4IcWEBDLnuDPdAqbStm5PFu94H88bOwn+SVlSiKcjJmQgcyKs6Bg4D3+jnFim9etOrwWnjFKFEKI4MOkKrQsqLtuwzzD5iUlX6MJjZW5GRWd7Grxcg/kLgjE3N1cWydXGDRtYtnQxZjZOWDuYvKsVQgghRLGkJvluHKUdbZkSOJWKlSopC+QqMvIIs7/9htMXr3HjfqoyO1fSFVoUex69CVs9Ep8SGcREhPDhgMVEKcsI8VR1YVXEeBqfn03NfiuVmUII8dQVdldok8Di0yKBxcJjZ21BFRcH+n7Qh97v9ynwpCyXLl7kq8ApXL9+TZklhBBCiGLu9Xbt+fiTgTg6OiqzcnXzxg1mz/qWA4ePcv56gjI7VxJYFC+Efl8QlL6SgNAHXVGFeKbazOTIJGuCWw5jqTJPCCGessIOLErfl2LIzAwszc2oVq1agYOKABXc3LCzs+OZRJKFEEII8Uy5aZ/zBVWqdGlKlymNjVXBej4I8cJYOl2CiuL52jWaJhJUFEK8IEwCizLGYtGnAlQqsLUt+I8HACsrK8zMzSh4KFIIIYQQRZ72jaGVlRVmZiZVuzxZWlpiaWGJ2SO8pBRCCCGEEMJQwWufosjIUUN2jpo7d26jVhe8/WFiYiKZmZnKZCGEEEIUZ9q4YGJiIlmP8JxPTU0lNTWVrJwcZZYQQgghhBAFImMsFkM2VuZ4ODvQ+a03GTFyVIFbJ/x57BizZn3DuUuxXLmdrMwWQgghRDFkbqaiSjkH2rTwZsSozyhdurSySK4uXbrE7FnfcPTE31yOK9hYhzLGohBCCCFE8SZjLAoys3JIycgiMvIIFy9eVGbnKjk5mcOHD3H33j3ik9KV2UIIIYQopnJy1CQkZ3HmzGlOn/5bmZ2rzMxMThz/kysxV7mblKHMFkIIIYQQokBMAosyxmLRl52j5l5yOnG3bjP722+4evWqsoiR7Oxs9u/by949u7l1L5nU9CxlESGEEEIUU2ogMTWDuDv3WLZkCZcK8NLx5MkTrP/1V27dSyBJ6gVCCCGEEOIxmQQWRfGQlJrFrYQ0Ll26yNTAKZw/d05ZRG/zpk0sCl7ItbjbxN1NU2YLIYQQophLy8oh7n4a0TFXCBg7hmPHjimL6O3ds4evvwrkyvXr3LyfSla2jLEohBBCCCEej4yxWMyVK2mDSwlbypQuRXNvb159tSmu5V1JS03jwvnz7Nmzm7/+iiI5I5vY2ymkSKsEIYQQ4oVVxtGa8iXtcHSw49VXm9Lc2xt3Dw+ys7K4dOki+/ft49ifx0hNy+DqnRQSUgo+2QsyxqIQQgghRLFX2GMsSmDxBVDC1pJS9lbYWVtgaWGGuZmKHCA7K4eMrBwS07K4k5RGeqa0SBBCCCFedPY2FpR2sMbe2hwrczPMzc1QqyE7R1MvSErL4k5yOqnp2cpF8yWBRSGEEEKI4q2wA4smXaFljMXiJyE1k9g7KcTEJ3MlPpmYW8nE3Eoi5nYy0fHJXL+bIkFFIYQQ4j8iOS2L2DspRMcnE3M7RVMviNfUCWJuJXPtbspjBRWFEEIIIYRQMgksiuIpK0dNcnoWd5MzuJ2Uzt2kDBJSMknPlB8OQgghxH9NTo6a1PRs7mnrBXeS0klIySQ1Mxv1M+mrIoQQQggh/gtMAovLNuxj2YZ9ymQhhBBCCCGEEEIIIYTQMwksCiGEEEIIIYQQQgghRH5MAosyxqIQQgghhBBCCCGEECI/JoFFIYQQQgghhBBCCCGEyI9JYFHGWBRCvFjUqMhBRXGeraAg21+Q/cwpQBl1Lvm65XL7y09BPlMIIYQQ4llQ1mOeZv3kaa9fCCGKBpPAohBCvCjM1Ck4qhNwVCfiqE6ghDoRG3WOsthTpAv2PT4zkiihTsRRnZHHDVuNhTqREkb7mYK1UUU2C2vt/j8ok4w1uR2LVBzVidgYpFjolzP9s8uzwpyJnfq+0Wc6koqlTEcrhBBCiOdCjbVJXUZTb7JUFi0EmvpTljL5MT2rIGVuL5iFEOLhTH6nyhiLQogXgjoNOzLJUdmTqHIiQeVIqgqsSMFaWfapycJGEaR7NGrMyQZsSVRZ5RoGVJGKHZCpctTupz3pqmys1WlYAKDGUp2MNRakqkqQoCpBosqBVMxyeQSosVRnAmqs1Jn61CyVI4kqRxJVDqSDdns0aSm5hk2zsVanYKGyJkX/mXZkqFWoVbmVF0IIIYR4Vh7UYxJVjqSSja06FXNlsSKkcIOUeTMj+SEvs4UQIndyzxBCvJDMVRmYYU0aFtr3rmZkYq8JqJm0WszCkkzMTd7QKt8OK9/i6v6dg7k6U/9Jhvka+bVa1CxvaRI6zMFMuUojOVioM0FlTSpm2k+zIB1b0lVq7WdmYQFkq2zJRAWoUGNOpspWGyQ0lIUlKtKxQk2mwdt7M9TaPw2V/t+5b57mMzOxIUv/mZakq2wwrhKrUZGFJVm5rEmNSp2pzVN6cNwtTM6bdp3q7HyOuRBCCCH+mwzrMWZkqmzIIhNLfXVCV//LrT6RV51NJ7dlyKUOSS71TE2aBco6pa5Ol9s68vKwOla25jNM6sO69ef2OXnVdXV0+62pn5nuv3a/8vxMw/Xn1uMntzQhRFFh8ntNxlgUQrwIVGo1aNv7PWBGpsqOdJXu1qfrRpyMrToFe3Ui9gYVRdO3wxnYqZP1LR41b3WTcFQnYk8KduoEHLXhO1BjrU7FErB8aJfhdO3npmCrTqSEOkXb0hDMSNV+Vmoeb49VmAHZJh14LEjHDk2bQ3OyAHPS830TryIdC6zIUlmSaVKpfRQWZAMW6sxctlknB2sScVQnY6tOxkGdgKM+7JiDNQk4kqLNS8TWYFsMj7udOgV7dTJWynWiyTdcTgghhBDClCZgpakxaLpLO6iTNPVDknBEVwfLu86GfvgaXR0kAVuDPGUdklzqmbrhb+zUmjplCXUqFtp6j2ZdedUHlfKqY6kxVydSQp2k+Qw0+/CgFpmGvTpHu5+6ni+gIsWorluCdINtMKhLa+teJRT1XpV2mB39Zxotn6aoSydhQ4722DzoPaPZpiRtfU8IUdTkf18SQogXVhq2qEhXlSBB5USiyhxzdcojVlosSNMvbwXqdO3yKtJVmuBepsqJ5FzfseZgRRpm2Om7MWeQia22kpmDvbZVoR0JqtxHRMyf5k18tjode/V9HNVJ2Kozcwky5mBJtva/FmSqVFjqg6SPypx0lSWQoqnMqpOxxTjIaK5Owlpt9uDYY4em+qypwFqrrUhVOZGgKkEKaiwNKrgaFqSpnLTH3Z4MQKVO1a5Ts1wqaizV+QdUhRBCCPFfomv9loOKLKzJwBwrsowqPTbaulkJErEiJ586G2Rirc4mG0cSVE4kqGy1L3gLKg07o+UdSFVZkwXk4EAKFLg+mHcdS0W2yoFEbXqCyo5MMrHRv4a3JUllDtiQpLLVvu7NxlqdCfr9tiFbnYaNfiuysCKHTP06rRUv9bOwVmeQo3pwXLLUadga7YWKDH1d2oE0zMlUWYJB7xlztaYn0qMdUyHEs2ISWHxqYyzKuFpCiCLGTJ2FYfhMjRWZZD9iIMoMXYcXNWbkkG16Y81TNuZqyFJZat/rWpCBGapHWkdBWJOsKkGSypYMlQpzNK0zjVvzZWClVpGp0ux9ttoStTrDpC1kQamxI1HlSDI2ZKjUWKhTcFAnad/Uq7FQqVFjQ7ru2Kks9e0VLdTZgIW28qgiS2VNjsl5MdNXXHUdhDRtM83IQdOFGpWFvlu2EKJwWFtZkZ6RoUx+ZOnpGVhbP9prHCGEKByaFnSav2Ss1Rakqh6E1wByVLp+G7pOwfnV2XIwA3L0vWIe1GsKwowszLAy6FVjrnglW1APr2Pp9kcTVLUgWwUqk+7JhrIwR0W2SlMzs8SMHH1dTZNvgblBJ2UrxX5nY4G5wcA2VmQC5vrl0fYwetDZW8Ow90w2FqjJVuXdAV0I8WhUhRyfe5y71WMp5O0WQognpqkaPU+aSqiRx7hZarp950dFDlakY0+SrjWfvmuP7k0wmJOCLSnYqnJQk42VUcXvUZmRrbIiHQcSVY6kk/3gXbMacrRBTGMPRnI0Ts2PGnMV2jfjqdq/LHJyGVlICPH4ypQpTdyteGXyI4u7FU/ZMmWUyUII8QzYaVvP6f4K0rqwcOpsD1dINdOH1LHMSaSEOgFHdRL26kSs86skqbMxR425vm6VivkjjXZoetzy+0gNzYt/S3UWqDOx1AZyhRCFo7BvXybfzqc1xmL87bs4lymtTBZCiKdCM/uwspVbJjbqBGy1b2Y1la4H70b1VZ28ajxq08rRk9FVIA3HocmhwHU1IEcFZirlIOEZ2KkT9eP4mA7ArSJHZfix2ejev5upszBXZ2nfJKswI7du0/kxPKY6hp+pJkf7Lt6UStNiQGWwzerc1qekW85G2zpT92fHk7etEkLoVKvszsXL0crkR3bh0r9Uq+qhTBZCiCIqvzqb6YtM07qLYQnj0JxanVu99XE8rI6VhbU6hyxVCRK09aRUZREllaY1YaZR3aoESSptfxB13tVmDTOyyTEopNYENEwPjglN69BMbFQZmGlbOgohnly5ss7cjHvyl8SGCvc38kNE/nmSV+rXVSYLIcRTkY012aRjRxoW5GCmzsRGnYoVFmRpu5loxhNMx4YszMjBUp2OJVZkais7msBjOtZq7Rg8qoyC1INMmOX5XtdC+zY2FUtyMCMNG7WabKwK+MZaRabaErU6BXsyMScHM3UadupULPRdcFJxUCfioM7AQq1GRTYWpGCrVpODhfZzMrDEnHSTSqMVOWRg8fAaowkzdbJ2kO4MLLTjF1mqU7FRQ6ZKMwx5psoS1OnYaY+9hTpFP95OlsoKtTodW93YR6p0zLDMt0KZpdYtp5kB0ZxU7LTzUgshCkeF8uWIvhKrTH5kR4+fokHdl5XJQghRROVXZ9MM0WKhTtfXx4wHezDTjNOoztDkk4aNQa5aZaUd7zBdW29Nw06tqHeqCtIP42F1LDVq7Qtnzd+DMQyNZRt8jiUZqLFSp2BJDioysTac8EVlQRbZWKkzMUONBamK/bYiCzXWKm19nFRs1CoyCzRQjRUZZGKlVmvHXBRCFIZX6tcl8vgpZfITMQksPq0xFnfujaBl81eVyUII8ZRYk6KyIUutab3nQAqWWJBm1N3FmhSVFSr9zMNmpKtsDOYmtiMVtXZmvVTMedSxXSzIVJlhnues0CqyVPakk4WtNvinwpaURwmFqexIwkoTXFQn4kAG5tp913RitiFFZYmaNOzQdH2xU2eTrXIgWdtNxkKdqR1rUsmSTNQmo+XkJ0dlTypmmJGKnXb8IltyyMSRVP2+2ZKsMsdce+ztyCFHrcuzIQUz7YyAydqJXPIfrByVLcmYY6adAdFenamtOgshCkOjBp6cjDqtTH4su/cdpGXzJspkIYQoovKrs5mTobJGTZq2PpajqH9YkqayRk2qJl+tUkwWY0madmIUTb01A5VBfTBbZYlanYZDgWaFzquOZUU6lpipE3FUJ+CoNp2kT/PSPRM7/aR5ZmSq7ElXafbbUZ2ClcpMG6LEYL80E/bZqlHUGlWkq2zJ1NXH1VlkY0+aySfnxpwslWa7TeuoQojH1aL5q+zcE65MfiIqnNyN7nm6oOLT6A4ddXA7r3f2VyYLIYQQQogibuLYkezYtY9fN/2uzHos61Z+z6Ilqzj5V+EEK4UQQjxvmdiqU1DhSIp+IprHlYOlOhEblQOJhdBJXAih8ceGUDybtVcmPxFzbJwmGSacOBfNiXNPPnZObtwrueFesQJ/nz2vzBJCCCGEEEWUra0NX4wYxPAvjKqNTyQ5JZV3ur7FH4X81lwIIV5smViTjhWZWCr+zNXmZBf2rAwPlYM1idioVaDKxkqdhhWWpKsKOqxPXrKxJB0b1GSobI1m7BZCPL73unfm6rUb7Nobocx6Ik/6GuGRzFu0hAF93lMmCyGEEEKIImzwh334cfnPyuQnsmnbTqpXrULN6tWUWUIIIfJkTpZJSFHzpxtH/NkxIwNrcsjUjLOosiZFZVcIXZczsVZDpsqBdGWWEOKx9e/9DnODFyuTn5hJi8W+nVvSoJbHU2m1mJSUTFnn0ni/6sXhY8eV2UIIIYQQooipWb0agwf04cNPRyuzntiV2Gt8/unHbNiyXZklhBAiVyrUmJOTy9/zGVfagiyVFZkqKzL1EwM+KQsyVJYyBZ8QhWjk4AEcOxHFtj/2KrOe2LN+pUHgjHm08mlKsyaNlFlCCCGEEKKImfrlaEb9b4oyuVDs2L2ffy79yyf9eimzhBBCCCFEIfBp6kXzVxvx9bffKbMKhcnkLc9CrRrVWLM8mAFDx/BvzFVlthBCCCGEKAJmTPkfJ6NOM2tBiDKrUO367RdW/t86Nm/fpcwSQgghhBCPqVplD76fG0S39wdy/p9LyuxCYdIV+lmIv32XcxcusvDbqRw4fJS79+4riwghhBBCiOdo6vgx3LwVz1cz5ymzCt2m33cyf8YU7t1P4MLFy8psIYQQQgjxiKpXq0Lw7K8ZOnoCf56MUmYXGpPA4tMcY9HQ5egr/H3mPMGzp3Ltxk0u/RujLCKEEEIIIZ6xUiWdmD9jCmfO/8OEqd8qs5+K1NQ01m7cyldfjsa5TCmOnXh6lV8hhBBCiBdd+zYtCZr4BYNHjWP/wSPK7EL1zMdYNLTvwGHe7N6XXj3eZuIXI7C3s1MWEUIIIYQQz0j3zm+yZnkwK//vV6ZMn6vMfqpu37lLm7fepUypUiz57huZLVoIIYQQ4hE5Otgzaewo3un6Fr5d+xB+KFJZpNA9lzEWc/NxX3+GftKXrTv28PPaDVy7flNZRAghhBBCPAVv+/nywXvdOH7qb8ZP/Zbbd+4qizxT7Vq3YNLYkVy4dJnQNRs4+ddpZREhhBBCCKHlVsGVd7t2okO7VswNXkLIil+URZ6aIhNY1Pnog/f4wL872dnZHDh8jKjTZ/k35ip37t4jOztbWVwIIYQQQhSQSqXCwcEeN9dy1K5ZnUYN61Gn5kts3bGHH5aF8s+lf5WLPFd+vm3p37snL1WpzL4DRzjx199cvBTNrdu3SU/PUBYXQgghhHjhmZubU7pUSSq7V6Tey7Vp3qQRKjMVy0PDnmlAUccksNi3c0sAlm3YZ5j8zFWsUJ4WzZvQwLMOVSu7U7pUSSwszJXFhBBCCCFEAanVapKSU7gae52/zpzjUORxjh4/pSxW5NjZ2tK6ZTMaN6xH9aqVcSnrjLW1lbKYEEIIIcQLLysrmzt373Hp3xiOn/qb/QeOEHv9hrLYM1NkA4tCCCGEEEIIIYQQQoiiyySwKIQQQgghhBBCCCGEEPl5rrNCCyGEEEIIIYQQQgghiieTwGLfzi313aGFEEIIIYQQQgghhBAiNyaBRSGEEEIIIYQQQgghhMiPjLEohBBCCCGEEEIIIYR4ZNJiUQghhBBCCCGEEEII8chMAosyxqIQQgghhBBCCCGEECI/JoFFIYQQQgghhBBCCCGEyI+MsSiEEEIIIYQQQgghhHhk0mJRCCGEEEIIIYQQQgjxyExaLOrGV1y2YZ9h8jNXsUJ5WjRvQgPPOlSt7E7pUiWxsDBXFhNCCCGEEAWkVqtJSkrh6rXr/HXmHIcij3P0+CllsSLHztaW1i2b0bhhPapXrYJL2TJYW1spiwkhhBBCvPCysrK5c/cel/6N4fipv9l/4Aix128oiz0zRS6w+NEH7/HBe93JzsnmwOFjRJ0+y78xV7lz9x7Z2TnK4kIIIYQQooBUKhUO9na4lXelds2XaNTAkzq1qrN1xx5+WBbKP5f+VS7yXPn5tqV/73d4qaoH+yKOcCLqby5ejuZW/B3SMzKUxYUQQgghXnjm5maULlWSyu4VqfdybZq/2giVSsXy0DBCVvyiLP7UmQQWn5eP+/oz9JO+bN2xh5/DNnDtxk1lESGEEEII8RS87efLB+915/ipvxg/9Vtu37mrLPJMtWvdgkljR3Lh0mVC12zg5F+nlUWEEEIIIYSWW3lX3u3WiQ7tWjE3eMkzDTA+98BiJbcKfD8niH9jrvDN/B9ITklRFhFCCCGEEM9A985vMrB/bwJnzGP1r5uU2c/E3GmTeKlqZabPCebcPxeV2UIIIYQQIg+ODg589ulHVHKrwCcjAp5JF2lzbJwmGSb07dySBrU8OHEu2jD5qWjZ/FVCF88jePFPLF21mszMTGURIYQQQgjxjJw+d4Hftv3BZ0M/pnq1KuyNOKws8tSUKV2KzauXceb8BSZ8/fxbTQohhBBCFDcZGRnsCT9EWno6wbOnEvX3WWKuXlMWK1TPbVboNi2b8903U/hkRAB/7AlXZgshhBBCiOfg7r37fDTsC9wruhE08Qtl9lNRpnQptv+6kpX/t47vl65SZgshhBBCiEewfdc+Bo0cx8JZX/Gad1NldqF6Ll2ha9WoxprlwQwY+gX/xlxRZgshhBBCiCJgxpT/cTLqDLMW/KjMKlS7fvuFlf+3js3bdymzhBBCCCHEY6pWxYPv5wTR7f2BnP/nkjK7UDyXwGLE7+uYOe97DkYeU2YJIYQQQogiJGzFIsZ/9Q17wg8pswrF3GmTuH33rrRUFEIIIYR4CnyaejF8UH9aduihzCoUJl2h+3ZuSd/OLZXJhWb8mGHsCT8oQUUhhBBCiGJg3JSZzPp6gjK5ULRr3YKXqlaWoKIQQgghxFMSfiiSA4eP8b/PPlVmFQqTwOLTVN7Vhe6d32Te90uVWQ/1eisfenTpSAPPl5VZ/zkNPF+mR5eOvN7KR5klirka1arS9a0O+L3RFgd7e2W2EEII8Vyc++cif+wJZ+gnfZVZT2zS2JFMnxOsTBZCCCGEEIVo9sIQ3u32Fi5lyyiznphJYHHZhn0s27BPmVwohn3Sj5AVvyiTc+Vgb8/U8WM4f2wvK3+Yy/wZU9gatpwD23+le+c3lcWLrYlfjODK34e5cf4Ys6bm3RrAv3sXDmz/la1hy5k/Yworf5jL5VMRrF62kNYtmiuLFwv7tqzhn+P76NGlozLrhVGQfWzdojk71q9i75bVLPz2K0LmzyDq4HYWfPPVCxNgbNTAk/1bw7hx/hjH923Fp6mXsoiJDaEhXDsb+cwmDhAPjBk+kCt/H2bN8sL9se/T1Ivj+7Zy7ugeevd8W5kNBp+9b8saZZYQ4jlaGLKCjz54T5n8RPx823Lh0mXO/XNRmfVQff17cPHEfiJ3/yYvnfNQkPrlrKkTuHH+mMnf1dOHWb1sITWqVVUuIh6B7plX0HrP01CQeujT8LTqEc/C8zpmL5rifA0I8SJb8tNqhg/sr0x+YiaBxafJz7ctq3/dpEzO1bjPP6Wvf3esraw4eORP1v22jX8u/UsVj0qM+2wobVp6Kxd5Jnp06cg/x/cV2o/eVj7NANi5N4LDx44rswHo0vENJnwxnCoelfjn0r+s+20bO3bvJz09g1cbNaSpV0PlIsXCP5eiOXfhEnfv3Vdm/Wc0auDJ9MkB1K1dk+s349iwZTu79h0gOzubLh3b8/WEMcpFnpk1y4O58vdhxgwfqMx6ZK18muFRqSLRV2LZ9PtOrt+MUxYx8pbv69SsXg0zMzMaN6z33AOsReHHwYvEqYQjvq+3UibjYG9Pu9YtsLS0UGYJIZ6z1LQ0wg9G8rbfG8qsx9a/9zuErtmgTM5X6xbNsLezw8XZmZbNmyizRQHrlzrXbtzk9NkL+r/bd+7RolkT5s+c8tyfv8WFLkhrGMRNSk7hwqXLXLh0maTkFKPyQojCkdt3TwiRt5/XbqDTm+2UyU/MJLD4tMZYfKPtaxyKfHjFRqeyeyVeb+VDekYGgTPn8Xbvjxj82Tg6dP+AiMNHcS1X9oV5i2RubkZ6RjrrN//O/637TZkNgPerjXEq4cjOvRG06NCdwZ+N4/1PRtC4lR+fjh5P0KwFykWKhf6ffk7Hnn35Y0+4Mus/o3vnN6lYwZXIP0/SskMPPhkRgP+AoXw1cz7JKam0btHsuQXRC5O5uRkqlYqYq7GMn/oNFy9HK4sY8WnmhYO9HckpKbhXdKN9m8K/J4nnq4FnHd5s18Yo7d1unahWxcMoTQhRdGz6fSfdOhVOrxE7W1tequrByb9OK7MeqlEDT16uXYO0tHTMzMxo0qiBsogoYP1SZ8/+Q7Tp9K7+r8cHgzj/z2VequrxQvUSetZORP1Nz76D6dl3MCei/lZmCyGEEM/FkWMnC31oPZPA4tPS9jVv9h04rEzOVbmyzpQq6cS16zf5Ze1GfXpScjIhy3/h/9b9xl+nz+nTGzXwZNHsr4k6sJ3j+7Yyb/pkypdz0ed/PvQTdm38hc+HfqJPe72VD5tXL2PmlHGgHbtw9bKFrFkezLRJYzm4Y73Juhp4vkzvnm9jbWVNeddybF697KEnpHw5F779ajxH92wi6sB2li38lkYNPPX5M6eMo7xrOaytrBk+sL/R9hmyt7dDrVZzJfaaUXpScjK/bftD/++ZU8ax/deV9PV/MNNPX/8ebP91pX7dun8vmv01vyxZwN+H/mDH+lX4d++iX0bHv3sXtq39idOHd7Jt7U8mZZZ89w2bVy8jaOIXHNn1G0f3bOLbr8YzY8r/2LXxF8aOHGxUfuaUcexYv4pB/d83Wt7wGLZu0ZzQkPn6c/nLkgUmXSZ7dOnIb78s4WzkbvZtWcOnHxmP+aQ739MmjWXb2p/4+9Af/LJkQZ5dxv27d2HLmuWcPryT4/u2Ehoy36is7pjNmz6ZZQu/5WT477l+roO9PXOnTeL4vq0c3LGeb78aj5nZw79iL1WtTHZ2DgeOHCMpOVmfvix0DctWrWHbH3u5n5CgTx/U/312bvyZs5G7Tc6J7hpevWyhUdewmVPGGR3nguzP50M/oU7N6pibm9H1rQ7670leHnZOXm/lQ4fXW2NubkadmtVNtk/Jwd6epo1fISk5hc2/78LO1pZ2rVsoi9G6RXM2hIbor89JY0ey/deVJtta0Ot4wpjh7NuyhpPhv5t8Vz/u60+pkk6UKunEpICRRt+xhynIuh3s7ZkcMIrwbWs5d3QP4dvW8u1X43O9hwWO+5xfV/5I1IHt/PbLEt7yfZ3mTRqxYtFsog5sJ+L3dSbXJdpj9evKH/n70B8m5+dhLMwtWDT7a06G/87OjT/z4fvv6vO+mxnIjvWrjNLQ7vOWNcvp+lYHo3SlMqVL8VaH143S3vJti52trVEa2u1fu+J7og5sJ+rAdn5d+aPRy6WC3L/R3pPnTZ/M4Z0bOXd0D7s2/sL/Rn1q1CJHdz6O7tmkX8fy4Fkm9yrdunQtWZWfpfueLfjmK1YvW8jpwzv57ZclL8xLMfHfdOxEFPU9ayuTH0vrls3YF3FEmZyvtq95U65sWcIPRXL12nXq162tfwE3YczwAtU/dN/zgzvW51o/M7ynzJ02iZPhvxPx+zr9/SK/egMG94ioA9s5uGM90yaNZc3yYJNnYH7PqNwUVv0yL+cvXiIuPh4rSyujcZjyu+9RgHqc7nn2TeCX/PbLEk4f3smG0BCT45df3b4gdRmdQf3fZ/uvKzkbuZvwbWv5bmYgzZs0MirzOOdBp69/D7ybNgagVYumLPnuG8ijXpZbvWDR7K+pUa0qff176Lcht2OS33X7MHVqVmfnxp+NPg+g61sd2LJmOcsWfmv0LNQd3+9mBhqsxViNalVZNPtrju/bStSB7bl+D6wsLR96fgrr+Z5bPSmv8/gk5zo3Bd3GgtRBnuT64DH27XG3Kbdrr3vnN9m29ieiDmxnQ2gI5cqWNcrPy4fvv6v/fu7bssbo8/Pbvry+ezr5HY+C1vkKej9S1vn+N+pTfl35I2ErFhkdL10cYuUPc/GoVFGfLsSzsv/AEdq+VriNl8yxcZpkmHDiXDQnzj28NdHj+N9nn7J4xf+RkpqqzDJRsUJ5unXqQEJiEt8vM54l8J/L/7Jt514i/zwJ2ofavOmTadG8CeZm5tja2FDfsw4tm7/KwSN/cvvuXbp37kib15rzb8xVft+1F7Q3iHe6vkVaejpr1m/mpaqV6d2zK7VrvkT9unWwsbGmhKMDdevUpFaNlwjbsAWPShXp2qkDZUqXxNzcDEsLSw4cPsbZC6ZjAznY27No9tf4vdEWWxsbLC0tqFW9Gm1aenPh4r9cjr7C++90pUa1KlhYmGNra8Olf2PYuTdCuSoa1qvLK/U9qeJRCSsrK/46fY6MzExlMT7u609Dz7r8ffYcEYePAtC+TUs6tm/LlavX+H3XXv2/X65Vg4oVXDEzM8OtvCs+zRqTlJzC8VOaN6oBo4YwdsRg3MqXQ6VSUbGCK618mmJubs7BI5oZvT/79CPq1q5JvZdrY21thVMJR6ytrDj/zyVe82lKqZJO/Prb72RkZtLA82WGDexLSacSrFy9nsvRV/js04+o4lGJiMNHOX32Ah+8153pkwOoVb0aZuZm2NhY81IVD17zbkp2djZHjp3gg/e6M3HsSKp4VEKtVuNcpjQtmjehsntFtv6xB0B/vuu9XJtSJZ2wsrSkrHMZzpz/hz9P/mVwxDQBsQljhlPZXXNTt7O1pXq1Kni/2lh/nnTHrG7tGlTxqISFhTnlXMrStHFDLCwsOKA9Ht99E0jXt3yxtbXB1taGV+rXpUzpUmRkZrJzbwSnz14w+myAnm/7UbFCeQ4fPa4/Zzr7Dx5hx+79XL+h6TYcMGoIIwZ9iEvZMqjVatzKl6NNy+bY2toQfjBSfw2XKVWKnXvDibmqCUR/3NefunVq6o9zQfbnrQ6v07hhfczNzbGxseb2nbv8uul3o+3Tye+c1Hu5tiZgZGeLhYUFarWanXsiiL1+Q7kqAPx7dOGtDm2JvnKVZaFraOXTlJJOJdgbcUjfbd6nqRdzpk2kdo2XUKlUuJR15tXGDSnnUpaExETWrN8Mj3gdN25YD3t7O+xsbalZvRoNPOsQcegod+/dZ2D/9ylfrizm5mbYWFsTdfosh4/m3wK7IOueMu4zPnivO04lHFGrc3AuU5r6dWtTp1Z1tu7YQ0Zmpv6abljvZVxdymJpaaFvyfn2W768VLUy5ubmuDiXoWnjhvprAu35mT45gGpVPDAzM8O5TGl8mjamYoUK+vuhknfTxrzaqCGVKpanxktVsbS0pHw5Fxo3rMft23f568w5XqnviW/bVtjYWOuP91u+r/Ph+++Qk5PDoiUrTYY5cK/oxpvtWpORkUFySgrlXJw5diKK6zfi6PpWB97t1onU1DQszC24d/8+S1etockrDfh26pd41qmJykyFtbUVld0r4t3Ui8TEJE7+dbpA92+Ahd9+xVsdXsfG2hqVClxdytKkUX0quJbT3z+mTw7g/Xe74uhgj4WlBfXr1uGlqpUp4eig/w7VqFaVpQu+oVWLZlhbWWFna4vny7XwbtqYA4ePcffeff33rE6t6lRwdcXcwpxyZcty5er1Ar9kE6Ioer2VD/sPHOF+QqIy65H49+jMhYuXOf/PJWXWQ40ZPhCXss7837pNoALPOrWJuxXPvgOHqeLhTqc32z20/nEr/g5LFsyk61u+ODrYY2lhSa0aL9GyeRPOnPuHmKvXjO4ptWu8hLm5GWVKlyI7JwcbGxvGDB/40HoDQMj8GbzZvjXW1lbY2dnSuEE9PCpVxMrSSv+MLsgzSqkw65dvtH0Nz5drEXX6nNHzoEa1qvR5txvW1lb8umkbf585X6D7XkHqcfo6Wt3alC1TBnMLczwqVaRFsybEXLnGhUuXC1S3L0hdBmDe9MkM7N8LF2dN3al0yZJ4vlyLZk0acTLqDLHXbzzWeTD0mndTWnq/irW1FZYWlqRnZLBy9a+51styqxe8XLsGXTt1wLfta5QuVRJLS0vNc87gmnKwt8/3us1Nv149cS3nQqMGnjg5OuJgb0ftmtWpWtmdsA1byMjM5L1unahdszpXr13n7zPnARg5eABNXmnA3vBDuT6zdEHFFs2bYG1lhaWlBdWrVuY171e5cPEy5V1deLVRQyq6lc/z/BTm8z23elLFCq40a/KKvt5CAeuF/Xr1xNHRIc+6u1JBt7EgdZDHvT4o4L4pPe42Keuyb7Zrw9Txo6niUQkzczMquLrSsN7LmJubEXM1Vl9PVAoYNYTPPv2YCq7l9L8hmnq9QhWPSvy27Y98ty+v755u3fkdj4LW+Qp6P1LW+U5EncatQjm8Gtbn1u3b+t96H33wHm+0fY2o0+dYtUazvUI8S4mJyfTv3ZMVv6xVZj22hzenKkTOZUoRf+eOMvmJ9evdg1o1qnHwyJ80a9eF9m/35vTZC1SvVoWeb/spi+crKTmFSdNmU7W+DwOGfkHcrds08KzDW76vc/jYcWYvDCE5JYVL/8ZQ3+cN1m/OO9jS5JUGXLh4mbd7f4Rns/bsP3iEci7O+jdxfQaO5NK/MSSnpPDFxCACJk9XrgaAOcGL2RN+kBKODnwxYhBnI3fpWwcq3xQX1M24eAYM/YKq9X1Ys34ztjY2dNb2ta9WxQO/N9oCMO/7pVSp583875dhbm6O7+uvGb3FysrK5vulq6ha34c2b73HkM+/ZNaCEK7G3jDqwtqyeRNcnJ259G8Mu/aZVm4BOrRrjb2dLctC11ClnjdV6nkTMHk63/24nPk/LAOg9ztvY2drS/Din6ha34dxgTNJSk7Jtcvw4aMnaNauC3WbtaPPJyMJWfGzUT7AmvWb6TNwJB9+OoZqDVpQt1k7jhw7gWu5snRQjAH3z6V/6ew/gKr1fQhe/BNmZma80Vazfw08X6ZhvZdJSExi1LhAqtb3IWDydO7cvWe0jsfVwPNlur7lS3pGBpOnz6FagxZ89+NyAPzeaPtY3Ucftj8Bk6dz+NhxsrKyCV78E30GjlQurpffOVm/+XdW/LKWrKxsDh87jvcbXR863lOzJq9gbWVF+MFItu/ax8XL0biVd8W37YPz0fGNNri6aFqs1G3Wjtc7+3Miyrg73aNex4uWrKRKPW/e7v0R5/+5RLXKHvrPDJwxl7hbt4m7dZsBQ8cwd9ES/bL5yW/dYydN46NhX/B27494qWFLPh4ewO07d2ng+bJJF/BjJ6L095PNv+/C2tqKGzdv8f4nI6la34f53y/DzMyMNi0fvMXu+pYvDvZ2rFm/mcr1mjMucCYpqWm09G5i8rZZ6faduwwfO4nK9Zrz27Y/KOHogO/rrwGwJ/wg8bfv8FKVyvpxJ32aeeHoYM+pv88+tLt7RkYmx05EUb6ci/4+3fUtX+xsbfUvjXSO/HmCPp+M5OPhY6la34cq9bz129KhXWujsg+7f6O95w75fDzN2nWhWoMWTAyaTXpGBi2aNeHVRg1p4PkyPs28SE5JZVzgTKrW92HmvO9JTUsz+pyeb/tRvVoVTp+9wOud/Xm9sz/n/9H8GO7Y3rh79z+X/uXt3h9RpZ437/QbwuyFIUb5QhQ3Fy9HP9YzR6l61SoPvU/kpn2bllSr4sH1m3Fs27mHg0f+JCMzg9d8XgUgbMOWfOsf3Tu/SaMGnty4eYs+A0dRt1k7wg9F4lbe1aQVdVJyClNmzKVagxa0f7s3/5s8g5AVP+dbb3jL93UaeNbhZlw8fQaOoko9b0LXbCAzM0u/7kd5RhkqzPqlTqsWTdm18Rf93/rQH6nsXpHjp/5i8++7oID3vYLU43TO/3PJaPvLOpfWH/9Hqds/rC7zaqOGtGjWhPsJiQz5fDzVGrTg1badmLdoKTPmBnPkzxOPfR4MzV20hE3bdgKw7rdt+HbTtIzNS1ZWNitX/4pns/a83fsjLkdfwdHBnj/2hOvrreGHIinn4ky71ppWU49y3Sqp1Wq2/bGXus3aGdQxNM/Gi5ejOXLsBPZ2tjRtrBmzvZF2uIF79+/rA7RKH/Z5h1o1qumvB89m7Zn//TLmBC8xGuLoYeenMJ/vOoePnuDVtp3wbNaeDVu24+hgr6+3FMa5fpj8tjG/OojO41wfj7tvj7JND6vLtmjuRelSJdm9/yCezdrzattO7Ak/RE5OjsGnGWvUwJNunTS9W+Z9v5Sq9X14/5ORrPhlLd/M+wEKsH15ffcKcjwKWud71PuRss6nCyZ6vVIftC+HGjesR1p6eoEaKQjxNNy8dYtyLs7K5CdiElh8WmMsqtVqZVKheKlqZTIyMvljTzjXb8Zx/uIltu/WzGpdt05NZfF8JSen6N9Obdu5h/sJCVhYaFptPYpqVTywsrIk4vBRjp2IIik5mV9/+53UtDRqVa+mLP5QScnJvP/JCD4eHsCW7bu5e+8+5cu50KtnF377vyUmAbWCOH/xEtt2at5E7T94hNS0NEqVdAKgft06lHUuw/WbcVy8HE2PLh2JuRrLjbg4KrlVoHULzYDgAOkZ6Zw5/49+nafPXSApOZlDR//E3s6WVxtrxj7SjYGU2xtznfT0dMzNzXm5Vg26dHwDB3t7loWu4Zv534O2lZpz6dLciItj41ZNF/DlP4fx1+lzOJUoQcN6xt1rL0df4frNOJKSkx8ayDp2Ikp/LJKSk/nnUjQqlQpzc3OjcjdvxXPsRBQAZ87/Q3pGOtZWVgBUciuPo4MDN+Nu6ScoWha6hvjbhRNMr16tMqVKOhF95So/LAsFYP73y7gSe42yzmWoX7eOcpF8PWx/CupRz0l+Gni+zCv163LvfgIHI/8EIPLPU5ibm9OsySv6clU83MnOzuHo8VMkJSdz/uIl9oQfNPrR9rjX8bETUdy8FY+5uTn29qbdch9VQda9bece/bnYsmMXd+7ew8xMhbm58S36wsV/9feT8xcvkZWVTez1G+zef0CTf+my0Xl8tVFD3Cu6cffeff4+e54eXTqSnJJC9JWrOJcuTdPGD45pbs5euKh/075730FSUlOp4lEJgPBDkfx99jzOZUrT/NVGONjb80r9uiQlp7Bj937Fmkzt3n+Qu/fu49PUC7832lK/bm1irsZy7oJp66XzFy8ZDfvwz6V/ycrKNjk+Bbl/r/ttq37yoLPn/+H+fU2rK0tLC6pWdsepRAnibsXr9/uHZaHEXjNuXat7tui6hdb3rM2JqL8xNzczCdYafs8OHztuNOSBEMXR7Tv3cCn75JVRl7JluBX/aM/I1i2aUbpUSU79fYaLl6PZf/AIN27ewr2iG13f6lCg+sfLtWpgZ2vL8VN/U6Z0STq0a8WJU6fJyMjklfp1jT7P8J5y+twFzl/U3J/yqzfUeKkqdra2XLwcrX+ZunHrDqOXjY/yjDJUmPVLnQqu5ahTq7r+r4SjA1u272b4F5P096yC3Pfyq8cZOno8Sr/9R4+fIjs7B+cypeAR6/YPq8ukZ2SQlZ2FvZ0dLZo1waepF9dvxvH1rO/09/jHPQ9PIj0jncg/T5KUnMyxE1FcvXad7OwcTp+7oK+3xly5hpmZGdZWmufXo1y3SimpqWz9YzdJycls2bGLcxcuYW9nR+2aLwGw/2AkiUnJvFLfEwd7e7xfbUzZMmU4+deZPBsDNHmlAWnp6axc/SvnL14iKTmZr2d9x+KffjEq97DzQyE/31HU/S/9G0N2dg52dpr61tM+1wXZxofVQXQe5/p4kn0r6DY9rC5bwbUc2dk5nIj6m6TkZK7fjOPPk1FkZ+cdWGzl0wwXZ2dO/X1GP1/A7v0H+GJikP5eSwG3T6kgx6Ogdb7HvR/p6nw790Zw89Yt/Yv49m1a4l7RjUv/xug/V4jnobDjcyaBxeKmXFlnsrKziIuP16fp3o4oH0rPUqWK5cnOzjHqCpiVnYVarX7s7dqyYxf9P/0cz+bt6fTehxw+ehy38q4MH9hPWfSJlC/ngpW2mf286ZOZP2MK33z1JZXcKpg8IPOyc28E9+4n0LTxK7zaqCG1alQjLj6efQfyHk9p+c9rib1+gyaNGrBo9tdc+HMv547uYeaUcTjY21Pe1QVHR3tSU9OMBsHOUedoK/SPflzLl3Nh6YJvuXhiPzfOH+PG+WP49+isLJYvGxtrLCyMA5GFqYpHJaytrLl3/8F4i0nJyeTk5OQagHpWCvuc6FqWXL8Zh1MJR3p06cidu/dITkmhVo1q+h8vuvUavglVvhUtjOv4WfBt24qdG3/m6unD+muwxkuasY+elEvZMtja2uBcpjSTA0Yxf8YU5s+YgmedWibBzfzo7l+GDh75k+zsbLxeqa+vKMVcjWXdb1uNyuXm4uVoTkSdxr2iG599+jGlSjqx78BhMrOMh3lwsLdn5pRxnDu6h+vnjnLj/DFGDfnooRXKvPT178HhnRuJPXOEG+ePEbZiEeVdH7T6Njc3w8xMRU5Ojv7HtO57ZqhM6ZJYWlrw/rtd9cf0na5vYWFhof8BI8SLShkYeFzW1lakZ2Qok/Oka+WRkZHJlavX6dGlI6/Ur0v0lVgcHez1gcT86h8uZcugUql4s31r/ff3048/wMbGukD7VZB6g7l2wrIc9YN7R3Z2ttG95HGfUU+jfhm6ZgOuNRrhWqMRv276HTMzMzKzsvQ/5ingfS+/elxBFVbd/kTU34Rt2IJaraZXzy6ErVhE7JkjHN65UT9W8uOeh2ftSa9bQ4bXJdrATczVWCqUL0fHN9rQpFED1Go1B49oXvAqlS/ngpWVJYmJyY/c6thQYT7fC+J5n+v86iBP4nH3rbC26XHqPrY2NqhUKn1X7tw87vYV5HgUtM73pPejYyei+PvMgxfxrzZugL2drb5xhBDPi/J33ZMy+TYs27CPZRs0UfjnzczMzKQi4tu2FXOCJjJkwAcA3Iq/g5mZGY4ODkblnrfrN+JQqTQ3zafh2IkoVq7+leSUFH1Lw8ISFx9PVnYWN27eYs36zUZ/v/72O5f+jVEuYkLXhbVC+XK82+0tXJydOXo86qGz4u3aF8Fb7/QncMY81v22jajTZ7GysuTdbp0YPOB94m7dJjk5FUtLy0LphgUwYvCHvNG2JXfu3mPBjysYOmaC0ZvTZyW3SV7+N+pTZk4ZR6MGnly5ep2MzAxsrHOvGDwvhX1OWjRvgrW1FZ51aukrzhO+GE5JpxKUK1uWDq8bd415mMK4jp82B3t7Phv6EbWqV+PPk38xMWgWQ8dMKLRtu3vvPqmpadxPSGTj1h1Gx2Dtxi2c+uuscpFHsm3nHmKv3+ClKpV5o21L7Gxt2RtuOhZTXtb9to2U1FRq13yJG3G3cn1z2793T3q+7Ud2djYrflnL0DETWBa6xqh1akE0auDJpx9/QAXXcuzef5AvJgbx5VffEHfrtrJovu7dTyArK4v9B4+YXFt79h9SFhdCFIKOb7ShsnslbGys+fTjD/TPiDYtm2NmZoZPUy+qVfHIt/5x+46m1eCxE1Em399tf+Q+7qyhwqo3PO4z6mnXL3/b+gd37t7Dp2ljox4xBbnv5VePK6jCrNtPnxNMl14f8ePyn9myfTcxV69RsYIrwwf2x6ep12Ofh2ftSa/b/OwNP4yNtTVtWjbn5Vo1iL1+Q98qV+n6zTiys7OxtbWhTGlNK9PHUVjP94J6nue6MOsguXmcfXva25SfjEzNi6W8WsA/yfY9zvHIS2Hcj3bvP0hGZgZNGjWgaeNXuHvvPjt2PxgyQIgXgWk0owj4N+YqN+PiqeRWgaGfPJg9zMHengEfvEvPt/1wr1QBgPg7d7CxtqaB54OuoJqJDMy4GnsdtG+J1Wo1JRwf3BDq163zVIM0t+/cBUUT6Zdr1cDaypqbtx688SiImVPG5fq2t3rVKlhbWevf+Gdn56BSQQlHR32ZGtWq5vrmz8LcQr++UiWdMDc316/n+o04EhOTsbGxZufeCIaOmcDQMRMIXvwTk6fP0Tfxzk/E4aNYW1nRuWN7MrMy8x1HwrdtKzq+0ZYFIcsZ/Nk42r/dm9+2/oGlpQWuLi5cvXadlNRUSpcqSTMvTRfOGtWq4lbelbT0dKKvxCpXma+qlTVdates30zgzLmsWb+Z1FTjsTUKQnfM7Oxs9a3qGjXwzPcN3smoMwC0b91SP0Mf2jd0fXv1oHVLTdeF23fvkpqaRsUK5fXj2b3Zrg2lS5UkMTGZ6zfi9BUxKytLSjqVAO3xqeSm+a48DYV5Ttq09KZW9Wrcu5/A+s2/G1UC9kZofrR4vVIPgCtXr2NhYW40xmgJR0dUKv0/C+06fpoaeNbBuXRp4m7dZsbcRXy/dBVbd+wxeVv6uE5EnSYhMQlrKyui/j6rPwbzv1/G9DnBef5o0DFTPXhE6FrNGnZdvHg5mlN/n6Wsc2neaPPaQ8djys2637Zy9vw/qNVqIv88les5qexeCWtrK7b9sZcvJgaxZv1mo5a7BVW1sjslnUpwOTqG3h8PZ/nPYVy4eNnobZ3umnF0cNB/z2pUq4qVojXI1djrmJmZkZqapj+mX3/7HfO/X8aCEM3Yp0KIwtXKpxn2dppxWJU/FK/fiMO1XFlaNGsC+dQ/bsRpnpcWFhYETJ7O0DETCJg8neDFP/H1rO8MPjF3Bak3XI6+QnpGOi7Ozvq6VkmnElhZWerLPO4zqjDrl7nZsmMXf578izKlSxnNzluQ+15+9ThDhsdC9/xOSdFM8FiQun1BDejzHq4uZRk/9Rv6f/o57br00oxZ56jpCfO45+FZe5LrVqVSYWGu+S3gYG+Pi7MzGZkZXLn64FgeOHKMe/fv80ab1yjrXDrfsZJjrl7Dwd7OaFZRj0oVH2mG28J6vhfU8zzXBamDPInH2bfC3KYrV69jrp3kSqdM6VIPbdH3z6VoUlJT9ZNP6ehmUH+S7SvI8Shona8w7ke6YTuavNKAalXcHzrngBDFlcm3/WmNsfgobt66xabfNQOxDhnQh/1bw/hlyQIifl+H96uNuRF3i9+047lt3bGHhMQkOr/Znl9X/sj6VSF0eL01d+7e078JOPmX5sf1G21fY8ua5fy68kfef6crFhamAbf83E9IJC0tnYpu5dmyZrnRVPSGNv2+k2s34mjm9Qo71q8iNGQ+fd7rRmZWJr/vLHiL0B5dOuLn25b33+3Kn/u2sG3tT4SGzOfA9l8ZPOB9cnJy9Ov782QUarVmpsW1K75nx/pV+gGLlZp6NWT7rytZ+cNcRg35CAtzCyIOaQaXDT8USeTxkziVcOTrCWNY8t03bF69jK1hK/jp+zkFbpm2c28EcfHx2Nna5juOxKuNGvLV+M+ZHDCSiN/X8f2cIDavXkbnN9uTnJKiH09pT/hBHOzt+N9nn7I8eBZLF35DFY9KnDl3QT/A+KOIv30Xc3MzOrZvy9cTvmDx/Jn4KiZtKYjwQ5HcvBWPW3lX5k2fzPdzglj47VTcyrsqixpZ/esmLly8TJ1a1dn4y2LWrvie7b+uZHLAKOztbNl/4AjHTkSxfdc+/jz5F+VcnJk3YzJLvvuGqeNHU6Z0KSKPnyT8UCSHjx3nn8v/UqZ0Kb76cjQrf5jLL0u/w6OSm/JjC+TO3XtYWJjT820/Zk4Zp8wGbWCpsM5Ji2ZelCrpRNTpswwc+T99JWDomAnMmLuIm7duUbN6Nd7yfZ3IP0+SkJhE17c68MuSBbl+pwvrOkb7dj4tPR3nMqWZ8r/P9F2ontT1m3GkpKbiXKY0gwf04esJX/Dz4vn62UafVFJyMrv3H8Dc3Jzhg/oTGjKftSu+Z0vYMv5v6QKT8QCVmr/aiP1bw1gePIv+vd8B7Zgxhnbs3k9ySio2NtYPHY8pL8GLV7IsdE2ukyuhvQ4zM7No0dyLbwK/5LuZgfTu+XauL0we5vade6SmplGhfDlC5s1g2qSxTBo7EpeyZfRlwg9Fcu6fS5RzcebbqeMJmTcj1+/Qjt3h3Ll7jzYtm7Nj/SqWfPcNW9YsZ9PqpXzSr5dRWSHEk3MqUYIGnnVITkll5epfjZ4PQ8dMYPvufdja2OjHEXtY/WP9pu1cib1GvZdrsTVsOSHzZrD915VsWbOcKf/7zOBTc1eQesOfJ/8i+kosNV6qwm+/LGHJd98wY8r/jH50P+4zqrDqlw+zfvN2EpOSjVot5nffK0g9zlCXju3ZtfEXflmyAP8encnIzGT/wUgoYN2+IEYN+YgvPx9K8OypbF69jO/nBLH915VUq+LBzbh4/jz512OfB6X7CZoWna+38mHJd98os5/Yk1y39nZ2BH75GaEh8/l11Q+8VNWDmCvXOPLnCX2ZXfsiOPnXGWxsrElOSc13rOTNv+8iMSmZzm+201+HOzeG8vPi+fogTX4K6/leUAU919nZOVhbWTN8YH8+H/qJcjWPpSB1kCdR0H0zVJjbdOHiZdIzMujRpSOhIfP5ZckC3u3aKdceWTrrftvK8VN/U87Fme9mTmF58Cz2bw1jQ2gI0yaNLfD25fbdK8jxKGidrzDuRxcvRxN+KBILC3Oys3MeOueAEMVV3t/25yxo1gLm/7CMe/cTeKlqZVr5NMW5TCn+OnOOz8Z9RfghTeVj/ebfmf/9MlJSU2nW5BVebdyAu/fu892Py9myQxPUWLn6V8I2bCEjM4NX6telccN6/HXmHMkpKYpPzd/2Xfs4diIKK0tLarxUJc9uyMdORDFjbjA3b8VTt3ZN2rRsTmZmFiv/79c8f0DnZs36zQz+7EuOnYjC2sqKBp51aNOyOR6V3Lh+M46g2Qv0g2IvDPmJbTv3YGlhiXfTxrxUtTJ/nvwr1y4Ft+LvUN7Vhddb+WBrY8PGrTv4Zr5mBi6AiV/PYufeCBwdHHizfWteqV+X+wmJ/L5r70PfYBo6dkIzMHdOzoNJNvJy+NhxghevJObqNSq7V6Tzm+15pX5dUtPSWLV6PctC1wAw9Zvv2LJjN44ODrzR9jUqu1fk1N9nmTZ74UPXn5fZC0I4fupvarxUhf69e/J6Kx9uxeffxD43M+Yu4tK/MVSt7E6nDu2wtbHRtyzIy/mLlxg9YSqHjx7H3s4O76aNqfdybdLS01kWGsb4qd/qy341cz6HIo9Trqwzb7ZvjXOZ0uyNOKyfOQ3t/pw59w/lXJxp+5o3ZiozzpzTDLb8qP7YE07crdtUrFCeyh55B7oK45w42Nvj08wLtRqTWYHRXktnz1+khKMDPs28+HntBn5c/jNp6em08mnKK/XrcvbCRZNrvTCuYwwCqDk5OVSvVsWkUvO4Ll6O5rsflnP33n3atGxO/949qeJRqVDf2H8z/wdW/7oJc3Nz2rRsjnfTxmRn57An/FCub7ANXbh4mVIlnXij7Ws42NuxJ/wgC0N+Miqzfdc+bsXfJj09gyPHHvxIKahtO/cQMHl6ntsyJ3gxe8IPUr6cC73feZsuHduTkJhEVpbpfe1hdu2LYPnPa8nJUePn25YP3uuOk5MjiUnG1+iEqd/y58m/qFjBlY5vtCEjI5MbN28ZldmyYxffzP+B+Nt3qVu7pv77+OfJv9i976BRWSHEk3OvWIEKruW4dv1mri+sDh89QWJSMi/XrkGjBp4PrX+cv3iJKdPncunfGF6qWhk/37Z4VHLj3D+X2PbHw1txU8B6w8XL0Uz95jsuXo6mVo1qdGjXivjbd4wmb+Exn1GFVb98mHW/bSXyz5OUKV1KP2trfve9gtbjdG7F36F6tSq08mmqmQXXYPsLUrcviB+WhbJ241bS0zX1/85vtsejkmbShNkLQ/TH+HHOg9LOvRFEX4mlrHNpXqpqGsR5Uk9y3aampXHp3xhaNm+CZ51a3L5zjx+WhZrs219nzpGZmUXM1Vi273p4kPrntRuYvTCEO3fv66/DnBw1EYeOciLqtLJ4rgrr+f4oCnKut+3cQ0ZmBi9VrUwF13LKVTyWgtZBnkRB9s1QYW5T8JKfCFu/BXMzbV3z1cZcvXY933M5Yeq37I04rP8NUbWyu6bOvf9Qgbcvr+9eQY5HQep8hXU/OnHqNKlpady6fVs/U7QQLxIVTu75tycuBKcO/E67LtKS43kbM3wgQz/ux6Gjf9Ljg0HKbCGKrdlfT+Ddbp34OWwjo8ZNUWaLp6RNS2/mTptIQmISfQaOzLXyWpz5NPVi/gzN9TR0zAT9Sy0h/qs++uA9rly9zvKfw5RZj2TvltUMGPoFCYmaGT5fdO90fYuvvhzN9Rs3aflm4bR6L45mTZ2Af4/OhK7ZIM/qIiZ41tf4vdGW75eu4qtv5imzhXjhPc0635efD+OTfr3Y9PtOBo36nzJbiGdu+68rqe/tq0x+bBJY/I+RwKJ4EdSoVpUp4z4jITGRVavX06zJK/Tv/Q7m5mYEzphn0jLiafjfqE/znJkuOzubbX/szXcMw+KufDkXJv9vFB3bt2Hj1j9eiIrSkAEf0OnNdqxZv5m4W/EM6PMuXq/U58ixE3T2H6AsLsR/jgQWC2bq+DHUe7kWy38Ow8zMjGGf9KNaFQ/Wb97+QtwrH1dxCyw2auDJu1075Tmr7r37CSwLXVPsX6p16fgGkwNGYWamYvjYyY88rMmL6r9y/v+rnlWdr3mTRkyfHECF8uWe2e8UIfJT2IFFk67QRWGMRSGEeJhmTV6hgWcdOnVox/8tXcCIQR9iZ2vD5t93PbOHdUvvV+nQrlWuf2+0fY2a1R9MxvMi8mnqxZY1y+nUoR03b8WzavWvyiLFjoO9PS2aN6Hey7X46svP+WHuNJo0akDs9RvMXbRUWVwIIXJVo1pVmno1pHHDenw3M5B50ydTrYoHp89dYPaCEGVxUYRVcqtA+zYtTZ7zur82LZvjXLq0crFiZdbUCSya/TXOZUrxx55wCSoa+C+c//+qZ1XnGzN8IP+3dCEvVa1M5J+nntnvFCGeNZMWi7qg4rINDx9b41FJi8WioXw5F9wquJKQkMT5i5eU2UIUGyUcHankVh47O1uysrK5fuMmN+KMx0URT4+jgwNVK7ujUqmIuRprMnZYcVbJrQIuZctgZmbG/fuJXIm9Rmrao88WL8SLSFosFoylhSXulSrox+K+e+8+MVeukZmVqSz6n1LZvRJlnUtzK/4O/8ZcUWaL50B3Tu7eu88/l/5VZgvxQnvadT7db+/k5BT+uRT9n38GiKKjsFssmgQWnxYJLAohhBBCFG8SWBRCCCGEKN4KO7Bo0hVaCCGEEEIIIYQQQggh8mMSWJQxFoUQQgghhBBCCCGEEPkxCSwKIYQQQgghhBBCCCFEfkwCi8s27Cv0iVuEEEIIIYQQQgghhBAvFpPAohBCCCGEEP8FKpUKczMV5UvaUrNCCep7lKJB5dLUqehEpTL22FlZoFIplxJCCCGEEDomgUUZY1EIIYQQQrzoLM3NKOdkQ51KJalTrSKNGtSjabOmNGveDK9Gr+BZswq13EtTqYwD1pbmysWFEEIIIURugUUhhBBCCCFeZJbmZriWtKVcSRtavfYaQ4cN54uxAYwfP5EJEycT8L9xDB85is6dOlG+jAOVythja22hXI0QQgghxH+eSWBRxlgUQgghhBAvKpVKRRlHa0o7WtGtW3eGfPNx6R8AALgASURBVDqUps2aUc7VFQtLS1QqFSVLlaJ+/fr0fr8PAwcNwcHGAteSNlhZmFSdhRBCCCH+06R2JIQQQgghijc1oFYrU3NlpoKyTja0bPkaPd95l5IlSyqL6Nnb29PhzTfp268/JeyscLCxVBYRQgghhPhPMwksyhiLQgghhBCiODBT52CnTqIE97FTpaACrEjHkkxlUT2XEja4ODvTpm3bhwYVDfl26EDN6jVwsrPE3ExmcxFCCCGE0DEJLAohhBBCCFHUqdQ52JGMCsjA+kGGWo2VOp28wn9O9paUK1eOqlWqKrPyZGtrS/36DbC1tsDcTKrPQgghhBA6JjUjGWNRCCGEEEIUdeaqHABSsCNL9WBilWwsATUqcu8abW1hjmMJR8qUKaPMypOVlRUV3NywMlchDRaFEEIIIR4wCSwKIYQQQghR5KlBpdL8GTJTZWuyc48rolKpMDMzw9yi4LM8q1QqLC215SWwKIQQQgihZxJYlDEWhRBCCCFEUZetsiBbbYa9OglrdTpmOdnYqpOxVaeRhRVqZcRRKz0rm5TkFO7fu6fMylNmZiZxcXFk5+QdsBRCCCGE+C9S4eRuVD3SBRULuzv0qQO/065LL2Vygahd65FTsRlq21KoUu9gFnMAVdxfymLFXo8uHQma+AUO9vaErtnAqHFTlEWKtDHDB/JxX39+WBbKjLmLlNlPjRoX1GoP1NgBaajUVzAzu6Ys9kJYszyYFs2acP1GHEPHTCD8UKSyiBBCCPHUfPTBe1y5ep3lP4cpsx7J3i2rGTD0CxISE5VZj0QFWKvTMSdD05BQpSJNbU0Wlnm2LKxUxh7PmlUYPmIk9Rs0UGbnKjEhgenTgtgTfojoW4lkZkt0UQgd5/pv4u6kGZrgRROTYE78ic3KZCGEKNa2/7qS+t6+yuTHZhJYfFoeN7CY1WIcOS93VSZj/vdqzPdPVyYDsG/LGmq89GBA7mcRpPNp6sX8GVPYvf/gY3/WmuXBlCvrTMs3eyizAJg1dQL+PTrr/73/4BF6fDDIqMx/TXaONzk0VCZjpjqLueoPZTJoA6BDP+6n79L0rIJ0s6ZOoHWLZo/9WT26dGRywCiWha55aOBWF6A+furvZ3Z9FMb1L4QQougraoHFx2FnZUEt99J0eust3u/zAfb29soiJnbv2sW8ubO5GHuX+IRUXswQihCPx/2V17GvUJs4R09lVrFWNulvkq+e5srxHcosIYQo1go7sGjSFbooyWr5v1yDigDZL/ck23u0UVqPLh3557impaVrjUa41mhE9z4DqV6tMj5NvYzKFlU3b8Urk0AblOr05usMHTNBv1+pqWnKYv8pOermuQYVAXLUtcjKeV2ZzJrlwQz9uB/zf1iqv0Z27z9I17c6KIsWSenpGVyOvqJMNtLzbT9u37mHe0W3YnPdCyGEEM9KamYW8feS2bplM/v27lFmmzhz+jTfzZ/LnftJJKRlSFBRiDxcd2r0Qv0JIYQoGJPAYlEZY1FdzpOcOt2UyUayPd9FXaam/t9DP+7L8VN/G7X4Cz8UyVvv9te3EFuzPJgb549x4/wxrvx9mDHDB+rLrlkezJrlwfp/jxk+kMM7N+LT1IseXTpy+vBOViyazZW/D3Pj/DH2bVkD2oDmsuBvKe/qgn+PzhzftzXXgI4u8Kn7fN3yaFtZtmjWhBbNmvDP8X306NLRaFmAa9dvsma9pil++KFI+gwcCdr1Ht+31WiZfVvWMGvqBNDuh27bc/tsFMfFME+37I71q7hx/hgRv68z2T/dZ+nK6rbjYevUHcMb54+ZHHPDz9Ptg6mSZKtfUSYaUVMLtbqi/t9jhg/k5Vo1GDVuilGLv1Hjphi1stu3ZY1+2wzPxeMcZ92+rVkejH+PzpR3dSFsxaI89yuvYzNm+EBmTZ1AeVcX5s+YYnTMDPk09cK9ohvbd2kC7M1fNa0UGe7fikWzjfbJ8BpVfj/2bVnDb78s4fi+rUbHpqDXP9r15/U90uUbfkcM93PN8mAO79yo/3zddhv+2/BzH7YvQgghXgwqdQ7WpGGjTlX8pefVExq1Gm7eT+N2Qgpz58zhl59/5t69e6Snp6PWDqCYmZlJYkICu3ft4stxAdxPSOLmvTTSMjQTwwghhBBCCA2TwGJRkVOpmTIpVzkVm4I2iOBcpjSRf55UFtGbNXUCDeu9rG/1N/+HpfT175FrEC83VlaWeNapxXsffsrQMROoUL4cs6ZOYM36zfQd9BnXb8QRumYDDVt2MOnq6tPUi/+N+pTjp/7Wt5RDGywBaPlmD/YfPML+g0d4qWFLfQBR52DkMSqUL5dnQCk/jg4OVHavqG/t6OjgoF/XrKkTeKlKZbr3GWiyXbpl791PwLVGI+YEL8ba2kofsOrRpSOODg4cjDymL08u69QFe3t06cjHff1Zs36zflteqlLZKNBm+Hl5davNVldSJuVKjYf+/71eqU/87Tsmx9bQmuXBODo46Ld745Y/+N+oT/MMlCkZHudZC36kYb2XGTN8ID0+GETomg1cvxFH9z4Dc92vhx2bGXMXMWrcFH237by6OOvOy+879xJzNRa/N9oa5evOq+4arOxeEUdHTRcw3TW6ccsfeX4/Gni+zM9rN+BaoxHXrt9k6Md9C3T9G8rrewTQzEtzzJXHT6eCazl+XruB7n00abOmTjD69/BB/aGA+yKEEKJ4U6lzsCcFK3UGKtWjjeyTnplN7J0U7qdmsnTZEiZ8OY6VK5azbetW/tixnbDVq5k+LYh5c2cTfzeBq7dTuJeSoVyNEEIIIcR/nklgcdmGfYU+cctjsS2lTMmV2rak/v8f1k3Up6kXrVs0Y+OWP/SBpRlzFxF/+w7NvExbdeUmIyOTn9duIPxQJGvWb+ba9ZtUqlheWSxXuq62c4OX6NM2/b6zwN1VdcGbl6pUNmnJVRCJSUnM/2EZaFs77t5/kJeqVGZQ//dp3aIZu/cf1AeDjh6PolxZZ6NlV/+6CbTbEX/7Dq4uLqANBCUmJZkE627ExWFtbUV5V005nZ5v+3Ht+k19YE23LY0bPhiTxfDz8qLCTpmUKzW2Rv/Oq6s52sDey7Vq6M8xwLrftpKRmZlry7/cGB7nA4ePkZiYrD9W+SnIscmP3xttibkaS/ihSCL/PIlzmdJGrRFfrlWDTb/v1Jef/8MyEhOTweAaXffbVtBtf1IyVTweBHEPHf1T39rz6PEoHB0cCnT9GnrY98iw9eiBw8e4fcd4xs7L0THMmLuI8EOR/HP5X5N/667bguyLEEKI4s1clQPqHJJVDqRiR5rK1uDPmvxCjanpWVy9ncyVW0nE37nL2rA1zJs7m2+/mcnKVT+xJ/wQF2PvEh2fLEFFIYQQQog8mAQWi4zkvANAhsxS7+j/39ra6qGBg4zMTG7ExRml3bwVX+DgoNLDglS5SUxKMmrJdTn6ClaWlibBt7yEH4qkYcsO+pZsyu7Mj+JGXBwZmZn6f/v36Kzvfurfo/NDA0ZHj0fRuKEnPk298G7a2ChQpTNj7iK2/bGX+TOmmHTtVh43TRDSOs/Py50mGJYfldq4nGHANDfK4HT4oUjS09MLHBw0FH4oksSkJGXyQz3JsVG22j1w+Bjp6RlGgXPl/inpumrfOH+MsBWL8Kjklue+K6+hx2W4zz5NvfRdm8NWLKKCazmjso/iUfZFCCFE8aRWqdD2Xn4smVk53EnKwKNKdaNAZJkyZYi+lUh8Qqp0fxZCCCGEeAiTwGJRGWNRFXNAmZQrXTldSzqvV+ori+hZWVqaBBbKlXXmytXrRmlPizJYV8WjEhmZmVy/YRzszE/4oUi+nvUdjg4Oj92109XFhfT0dKJOnyUjM5NZC37Ud491rdHood1ZD0Yew9HBQd8q7MBh427QOqPGTcm1O7EyuKfblrw+LzcqYpRJeYjW/5+yBV9ulMFpn6ZeWFtbmwSkn5YnOTbNvBpRulRJRg35SB9MK+/qQusWzfTHXrl/VTwqYW1tpf/3+X8uGV0Hrg/pjl7YfAxmltZ1Bb9246ayWIE9z30RQgjx9GVjgRozrMjEDLXRn0qtJt8miwYsLCwV/zYnM1stE7UIIYQQQuTDJLBYVJjFn8E86mdlshHzEytQ3b2o//em33fStPErRt2EfZp68dsvmu7H/1z+l05vvq4PLI0ZPhDnMqX14wNeuXqdl6poZpD2aerFe906Y2VpXNF8XAcjj+HoaK8fAw5Ft9X8rFg022isuWZejfRj4+kCk7qWabOmTqDGS1X1ZdEGNXu+7Qfalm2d3nydo8ejCD8USczVWN7r1rlAreLQBnETk5Jo3NCzQNtv2C068s+TVPFw14+p56Pton70eJRysYdSqRIwUx1RJhsx42/MzK7p/63r+h408Quj4OKsqRP0Y2XG375jdCy6vtUBK0tLDhw+VqDj/CSe5Njoyoau0Yx/qPsbOmaCfkxM3f4Zjrvo90ZbrKw017huHM+8JpZ52sq7umBtbaUP4jZ/tRFlSj8Y6uBRPO99EUII8SyoyMEMa9JwUCcY/dmThNkjjrsohBBCCCEenUlgsciMsQiYR3yD2alVymTQBhXND801StNNcNGw3sv6br0/L/6O/QePEH4okh4fDOL4qb+ZP2MKN84f4+O+/kwMmqUfH1A3HlvYikX8vPg7fWu+ggjXjoeX16y4a9ZvJmDydKNtu3krPs9JOJR+2/YHH/f11y/b6c3XCZg8nTXrNxt99o3zx2jc0JPz/1wyWj4xKYmSTiW4cf4Y82dM4fipv/Wtt3p8MIjEpCR9t9EbD52NWePo8SiqeLjnOVnOrKkT9Osa+nE/loWuYc36zcyYu4j5PyylR5eO+lZ1u/cffKyWZOaqI3kGF81VUZib7VYm0/LNHkbXgO546T6/5Zs9jI5F6xbNGDpmAuGHIgt0nB/G8PrK7fg+ybFp/mojrK2tTCbRUQYT/zdlBo4ODvp9/zfmqn6MxTXrN/PDslD959/IZablvOR3/RfEmvWb2fbHXn2Ly77+PfTb9qieZF+EEEIUD+ZkYkkmqSo7klQljP6ScSBHnde80EIIIYQQorCocHJ/Jq9zTx34nXZdeimTC0Rd+iXUlZqitimNKvU2qpiDqO4VPKDzXzdm+ED6+vcwCqK+WEqSo/YAHFCr/5+9O4+Pqr73P/76npnsCUE22VVE3LWACCigVFQWF0TTVr11q1qspdzSFq9a6ZUW29pbeq31YrW3lW7+rtG6VLFabStuKCCK4oILIiirCGSdzJzz/f0xk8mcM4kEyDKTeT/7OCXzOd9ZcpwkZz7n+/18anGcjRi2BQdJM+bOnsn550zlOzf+cI8zT0VERK669EI2bNzE4nvvD+7aK88suY8rZ13H7qqq4K5WCxOj0NZRa0rx2L8k4lUXnseKZc8kb/fr348lz6/xjRGR5g0eMYmS/kfy2sDLgruy2nEf/56ajW+yYdXfg7tERLLakw/+keNPnhwM77O0GYuZUmMxldnxHs5rfyT00i9xVv9JSUUJ2IljXsMxzxNyVimp2EqNy/1bs5x9by1dUpmcKdi47U+zIRERkSDXOlgMxqq5ioiIiEhnSUssikjXlZrwu//3d1JVXd3q5fh7Y8LUirTGKROmVgSHiYiI7LOQ8XBwKaGWUlvl20psTbyBi4iIiIi0q7TEYibVWJS2cettd3LU6NO66DJo2RvBhJ+SfSIikq0sDlHyaSCPGGHf5hIGs3/Lo0VERERkz9ISiyIiIiIimc7Fod4UtbAVoPmKbcPJKyKUX9IlNyevOPjtioiIyF5Ka97SWF+xrWct7k/zFhERERHpfJ3dvMXgEbIurglhMDg2FhySYIgRavWsRTVvaVn/Y07h2G47g+EuYW20L+uWPxEMy15S8xYRkezS1s1blFgUERERkVbp7MSiY12KqaWWYhxjKbY1wSEAeDh71S1aicWW9T/mFHoMHsYrg2cGd2W1ozbdh/vJq0ostgElFkVEsktbJxbTlkKrxqKIiIiIZCLPhKg2ZXgmRIwwu015s1u1KWt1UlFERERE9l1aYlFERERERNpG5eJFbF67ks1rV1K5eFEyvnRJZTK+cME8331EREREskVaYvGycyckl0N3Vfkhh77lRQztV8bRg8o5amB3hhxYRq+ywtaW4hERERGRThQmRqmtwgm0aWkp3hkqFy/iwN696DtsJH2HjaTi0muScYC+w0ay8I67mTzpFCqmTwvcW0RERCTzpSUWu7KQY+jbvZAjBx/AkAE9GNyvDwP69WNA/wMZ3L83QwccwFGDutOjtADHUYZRREREJNM0Jg6LbC3GupRQTamtSm5FthaL6fS0YsX0aQw95GBuv+seX3zcmFEMHjiAR594GoBbb7uT7Z/uYOyokb5xIiIiItkgLbHYVWss5odDDOxZwsBe3Rg7ZgzfuHYWC39xG/f8/g/872/v4cc//imXXnYFxx19NAN7FtOnvJBQSMlFERERkUxicYgRxiUExiFm4/UWG7coBdSZImwn11g85KBBVFVXc8Ocb7J57Uo2rHmJubNn0q9vH/Lz8li3fkNy7JZt2xk0sJ/v/iIiIiLZIC2x2BWFQw4Hdi/kgJI8zpsxg2u/OYtJp59O3379cByH/Px8DhkyhPNmzODb3/kuE089ld7dCjmgOL+TT0lFREREJJWLQ70popZiqimjjmLqTVHKVoBHKHi3Dte3Tx+GDR3CP599kb7DRlL50GNceP65DDt0SHDoXjnisKHc9L3ZvtiAfn350fe/54uVd+vGT2++3hczxjRbz/EXt7Qu1pV11DH82fwbKSwo8MV+/IPr6NOrly/2n//xbQ495CBf7D++/Q2OP+YoX+xbX7+ccWNG+WJXXnIhk0871Re78PxzueDcqb7Y2ZMncdlFFb7YFyeczDe+dokvNmrE8Xx31td9sebeh11dRxxDvQ/jdAzjdAzjdAxbjrV0DB2nY1N9ac+WjTUWw8QosTUY2/yil5KCMN1L8jn77HO5+OJ/o3fv3sEhSYMHD+bSyy7nxBNOoE95oZZEi4iIiGQiY7DG8HlXgQtsHWFiwXCH2bR5K3/56+MAvLh8JQDdy7sFRu2dDR9/wuo1b/liH2/azKuvr/HFdu3ezarX/DFrLStWrfbFAFa++nowxIpV6bGurKOO4SuvvUF9JOKLrVq9hq3bt/tir73xFhs2bvLF3njzHT7a+LEv9uY77/LhRxt9sXfefZ8PPvzIF3v3g3W898F6X+yDDz/inXc/8MXWrf+It9993xf7aMMnrHlrrS/W3Puwq2vrY7jxk01px1Dvwzgdwzgdw7jWHsO31r6nY5g4hp7n+WLtzVA+2JeNa0wqtvVy6NUvPMHp0y8OhttECI88GyViCtLq6YQcw8CeJRx3xBB+/NOf0SuQ/W7Js88u5Y7bf8mbH2xi6+764O52NW7MKG6/dT7vrfswWeR77uyZzLr6cvLywmzavJVZc+fx3LLlkOgqOGxo/Or3nysfZs6N832PJyIiItIWrrr0QjZs3MTie+8P7torzyy5jytnXcfuqqrgrjZVRB1R8ogRDu7yuerC81ix7Jnk7X79+7Hkef/J/96aO3sm558zle/c+EOeW7aciunTuGHON7n/4SWcM/V0HnhkCbfedickzuVWrHo9I8/h+h9zCj0GD+OVwTODu7LaUZvuw/3kVdYtfyK4S/bS4BGTKOl/JK8NvCy4K6sd9/Hvqdn4JhtW/T24S0Qkqz354B85/uTJwfA+S5uxmI01FuNLYtKTigCOYygpCPGFL4ygpKQkuLtFQ4YcSr9+/elekh/c1e5mnD2Ffn37JG9XTJ/GZRdVcPtdv6PvsJFUVVcz+5orQF0FRURERDLSCy+tJD8vjxlnTwHgS+edRVV1NQt+fjsfbfyYs848DRIJyF49eyRnNIqIiIhkk7TEYjZq7A7oNJNadIwhL+QwaPAgCgJrzz9P7169KO9eTmF+x9boGTdmFCcMP5bX33w7GRs7aiTbP92RvKr96BNPM3jgAK654qvqKigiIiKSgZ5btpxbFv6Kc6ZOYvPalQw95GBumH8rALct+i1lpaVsXruSWVdfzj1/rqTyoceCDyEiIiKS8dISi9lYY9EjRD1FeOl5RUy8BA8FBQV7VcAyLz+fcDiMYz6ncE87mH3NFWzZtp2du3YnY4MG9mPLtqY6A+vWbyA/L48hBw9WV0ERERGRDFX50GMMHT6BvsNGMnzClGQZm+eWLWf4hCn0HTaSQUePTl48FhEREck2rc+0ZTAPQ8yE4xnEAGstnoVdu3YRi7W+eHdNTQ319fXEOrDo5dzZMxk8cAC3LfptcFe7OPqIYfz3j3/giw0a0J9FC2/xxcq7deN/b/+ZL+Y4DosXLfTFAH5/5y+CIe75n59TkO9fUn73L39K7549fbFf/eyHad2efjb/Rr5w7NG+2M3Xz2HCSaN9sbmzZzLtjC/6Yt/42iV8ecbZvtilF17AlZdc6IvNOHsK/37N13yx0yeO5/vf/ZYvNnrkcG6Zd50vpmMYp2MY1x7H8MbvzPLFdAzjdAzjdAzjutIxDHb866hjKCIiIiKyL0IUlv9nauDVd9bz6jv+Djlt4ZqvfZU//L+/BMNtIkyMYltDzORjA60BHQNlhXmUl5VywqhRrV4Ove6DD3j66afY8Ml2dtY2BHe3uYrp0/jG1y7hp7ct4m9P/YsvnXcWJK50p35N4oPH+LEn8sGHHzHk4ME8++LLvPn2u5Co35M69vNs2/4pkYYoH37UNONxd1UVkUjE1zkpEokQiTTw/rqm94W1lkikgfc++DAZi4+N8u4H63yx+voG3nnP300pEmnwLfcGqI808Mpr/k5HkUgDL61c5YvV10dYtXoN0ZREcV19PW++/S61dXXJWE1tLe+vW+8rDF9VXc1HGz5hx2c7k7Gdu3azZet2tqbMCv10x0527trFJ5u2JGNbt31KbW0tGz7+JBnrasdwzdtrqatralakYxjXqcdw924dQx1D0DFM6vLHMNLg62jYHscwEommdTlsrZFfOJbdu6t57Y03g7v2yuUXV/DI408RaWjfc6yQjWFNCG8P19JHHnskn2xsOp5lZWW8u2Gbb0yuKutzMEXlPdlUfkJwV1brXb0GW7WZnZ/s28+CNCnvN4T8st5s6faF4K6sdmDVa0R3b2P3Zn+nWBGRbPfVr8zgzt/+MRjeZ2ldodtLe3aFdrA41iVGKG3WojFwYHkhhw3uy9y51zHqxBN9+5sTiUR44P5K/t//+3+8/dF2dtdFg0PaXOXiRYwfm/7a1r73AStWvc4Jw49lwtQKSOkyeM+fKrns4oqs6SooIiIi2S0Tu0IbDFgXx1g8wlhr47Vw9kJ7dIXuKtQVWvZEXaFFRLJLu3eFzs4ai5+3FBp218bY9uln3PXrO/lwnf+qfXNWLF/OksceZdvOamrq2z+pCFBx6TX0HTYyuT374ss8++LLTJhawYvLV9KrZw/mzo6f0J115ml8tPFjFv32D+oqKCIiIjkrz0Yptbsoo4oC6rHWo9DUUUD7zoQUERERkbi0xGJXVBeNsW13Pes/+ojv33g9r736anBI0lNPPcXPbv0pGzdtZcvOOtwOmc/5+Sofeoy/PfUMc669is1r40nDikuvAXUVFBERkRzlWI9C6omZPOopAsAYg0uIsG3AkAEncSKSk0IFpYQKSrrgVhr8VkVEusZS6Nbq1a2QvuVFlHcrZcyYMYwZexIDBw0iGm3g/ffe59mlz7Dq1VXURqJ8sqOWqrrWN3sRERER6eoyaSl0mBiFto5aU4qDSz4R6ijBsS6F1FJnSvFauSZaS6FbpqXQsidaCp3u9JOH49iOawLaUaKhIv7x7LJgWESyTFsvhc6pxCJAaVGYA0oKGNTnAOrrapPXsvPy8thZXUd1fYzPqiLURd3APUVERERyW6YlFotsLXWUgLHJxGI+EcI2Sq0pSWvq1xIlFlumxKLsiRKL6U4/eThPHvVLoqHi4K6sVRjdwalrb1JiUaQLaOvEYtpS6EyusehgCdtYvHBiK+LNqa6L8fGntRx0yJB4UjFxlyGHHspH22v4ZEetkooiIiIiGc4ljyh5FNkqimwtYetSandTYCNETUGrk4oiIiIisu/SEosZydp48pAYhdQRMvHbjVuYKIXU4bTy/NGzlpLixNWjxH3Kux9AfYMSiiIiIiLZwGKpp4g6p4SYyaOBPKIUUG1KaCAvOFxERERE2kFaYvGeh5dyz8NLg+FOFTbxK9CFthYHjxJbRandndwKbR0eIbw9T1gUERERka7CQIw86iii3hRRbwrwCAVHiYiIiEg7SUssZqKYDVFtulFLMS4haiil2nRLblWmG7WmGEwrpyyKiIiISNZzrItJLD9xsBTYeH3F1pTHEREREZH9l5ZYzMgai8bgYYiZPGpMKa4J4RGPeRjV0BERERHJMQ6WYmoJ2wgGKLI15BOhmDoKiQSHi4iIiEg7SEssZgODwSTqLjZuxtpkIxYRERER6doc4rWxXZOHsS4GSy0l1JlCQkTj54YiIiIi0q7SEouZWGMxVT4RyuwuymiqsVhqd1NCNY7RCaSIiIhIrmk8B7TGwbUhjDGqkCMiIiLSAdISi5kshEuBjdBAPlWU+eos1lCKZ3UGKSIiIpILPBtPHjrWJWwb8IyDxRAyHtZalVkUERER6QBpicWMrLGYYLBYDA2mAGscf51FY1CpRREREZHcYE2YqA1TTA35xIiSD9ZSQASPMJi001wRERERaWNZdcbl2fiVaF2CFhEREcltFku9KaLKdKPKdCNKHtYY6iiingKsim+LiIiItLu0xGIm11iMT0qMdwAstHWBLd4RUERERERyh8X4UoguIaxmK4qIiIh0iKw66zJ4ia8sYWK+LURMMxlFAqw9EM+OJGbPJep9E9dOwtqewWEiIiJZycFSaOsosVWUpmwltkZdoUVEREQ6QFpiMZNrLMYIU23Kmt1qTEm8zqJIDrP2ADx7HDFvKlHvamK2AteOxdpBAHj2CFw7WclFERHJesZ6FNsawjaKZ/yXnF3C8aUuIiIiItKu0hKLIpI9rC3Bs0cQ8yYRdS8nZi/GtROwDAHyg8MBsBxAzE7G0ju4S0REJGuEjAfWo9YpjddVNKlbgSosioiIiHSAtMRiJtdYDBOjm93V7FZqq3B0CildXgHWHopnTyFm/42YvTy+vJkjwJQEBwNg2Ilj3scx76REDyDmTcZaJRdFRCR7WWNUCUdERESkE6UlFjOZR4hain1bPUV4hIiZPDydWEqXY7B2MJ49iZj9MlHvKmJ2Cq49Fmu7BwfHmSoMH+GYVwiZf+KYVRg+wvAJjnk7ZWA5rp2CtQemxERERLKDSxhrQuQTxcH6NmMtut4sIiIi0v7SEouZXGPRwxAzeb6tweRTb4oI4aqUjnQJlr549gRi3nlE3ZnE7Dm4dsTnzC6sxZiNOOZ1QuZfhFiBY97HsCs4EMMmHN5K3rZ0w2UyFiUXRUQku4SIEbZRCqin1O72bSVU4xhlFkVERETaW1piMVsZ66G8omQja3vi2eNxvWnE7FXEvAtw7RgsA8CEgsOBCMZswjFrCJlnCZmXcHgXw3ZaMz3DmM04JiW5aMviMxfp5xsnIiKSyWI2RLXp1uxWQyme1ZmhiIiISHtLSyxmco3FEB6Fts63FVFHka3Bw9FSaMkK1pbheUfi2jOI2UuJ2Qtx7Xg8DsHaguBwMFGM2YrD24TMC4TMCzi8jWErEAuObhXDZv/MRVtKzJ2Mtf1940RERDKWMXg0v1lj0BVnERERkfaXlljMZAaPMDHfFrIxouRRRzFaCy2ZyNpCPHsorj2VmHcRMXspLqfh2WFYWxYcDrgYduCYdwmZlwjxHA5rMGYTEAkO3mfGbMbhzZRACTE7Gc8OSB0mIiKSuawljyhF1FJiqym0dYRwg6NEREREpJ2kJRYzucZijDDVpixtqzdF8SvTIhkhhOUgPHsyMa+CmL0S107Bs8dg6REcnPAZjvmAkLOCkFmKY17DsBGoDQ5sU8ZswTFrUiLFuHYyVslFERHJcAYoppYiW4exFo8QYVyKvWrybdtdiBMRERGRlqUlFrOCtYTwCNsYxnqtKSsn0q4s/fDsicTsufHOzd7ZuHZ4y01RzG6MWY/DKkLmn4TMqxjWg60Kjmx3hq045o2USFGiW/SglJiIiEhmCREjhEuNKaHWlFBniqg2pdSbYvJoiHeGFhEREZF2lZZYzOQaiwB5toEydlNiqyimhjKqKKWaEF5wqEi7iTdc+QIxbypR72vEvPNx7YmJZFw4OBxDTaJz8+p4IpGVOHyAMTuDQzuFYRshszp521KIyxQsg33jREREMonFYAOns/HbRhVyRERERDpAWmIxkznWo8BGaKCAKlPOblNOtSnDxaHQ1qpGt7Qba7vh2aOJeZOIeZckGq6MwzIEKAoOx1CH4ZNE5+alOOblROfmT4NDM8inOOb15C1r84l5k7Ec7BslIiKSCTzrgIU8G8FgwcYb/RVQD4mko4iIiIi0r7TEYibXWHSMBwaipiC5+tnDIUq8k67RmmhpI5ZCPHsYrj2FmP0KMXsJrp2I5Qgs3YLD/Z2beQHHLMMx7yQ6N2dPEXnDdpyUmYuQT8w7E88elBITERHpfJ5xiDiF5NNAmd1NN3ZRYqswWOpNsc4KRURERDpAWmIx0xksJrDs2SEKWFRKR/aVtSE8ezCePYmYN4OYdyWuPRPPHou1vYLDwboYsx3HrE3v3Gyyu2C84VMc81pKJC/efIZDUmIiIiKdL0oe1aacKrpRbbrF/6UUN/tOcUVERESyUtpZVybXWHQJ4xKmxNZQYqspoo5SW0WBjRAlX52hZa94Xj88ewKuPYeY/RquPQvXjsDSPzg0vqDK7MDwAY6znJCzFIfXMXzc7p2bO4NhB455NSUSxvOmYO2QlJiIiEjns1isMXiY+LmgTgdFREREOkxaYjGTWaDOlFBrivFMCGshRh61TikNJr4cWqQlll549nhcO5moezku5+PaMXh2MJAfHI4htXPzv3B4Dcesx9jq4NAuyfAZjlmVvG1xiHlnYu2hvnEiIiKdJWxdSmwNpbYquRXaurTVLSIiIiLSPtISi5lcY5HEVekYYeooot4UUW8KcQkFh4lgKcfzjsT1TiNm/42Y9xVcOx7PDgVTEhyOoQpjNiQ6N/8Lx2RW5+bOYNiJQ1NyERMiZifjKbkoIiKdzLEehbYGEueGscTKljwTo8jWoRo5IiIiIu0vLbGYqQyWUODqs8HgWFcrXiTOFuHZQ3HteGL2y8S8r+JyGh5HYm334GigBsckOjc7z+KYFTi8l+jcrA8jjYzZiWNeSY3Eay7aw1JiIiIiHSve1M9QS3HiYnMRdaaIOopx8HAy6ARx4YJ5vLdqKRXTpyVjS5dUsnntSjavXcnCBfN840VERESyRVpiMRNrLIaJUkY1+QSbYlgKTT0ltiot6Sg5wIawHIRrRxPzziPqXZ5IeB2Ptb2Do4EIhs045i1CPE/IvIwh0bnZxoKDJYVhF45Z6YvFm9sM88VEREQ6ik1cWjaBGtvGelhMxlwiHDdmFBPHj/XFKhcvAqDvsJEsvONuJk86xZd0FBEREckWaYnFTGOspdBGiNoQ9RT59lmgzhZhMeR79VrykgOs7YfrjcD1phHjCmLe2Xh2FJYBYAJvZxPFsBVDonOzeQHHvIVhM5gG/1jZI8NuQmaFbzana8/A43DfOBERkY5gcbBAEbXk2ShhGyWfKPnU4xmHkI0RtlFCNobpxPUtM86ewvYdO6iqqoFEonHwwAE8+sTTANx6251s/3QHY0eNDNxTREREJPOlJRYzrcaigwdYIhQ0e+XZGocGU0DIuBm15EXahrU98eyxuPYMYvZSYvZ8PE7C4xCsDTbscTF8isN7OM4KQjyHY9bgmK7ZublzVBFyVoJtmiHseqdjOcI3SkREpL05uITwCNkYRdRSTC2FtpYQHnk2SnEiVmAinVbipGL6NCaOH8uT/3g2GevXtw/5eXmsW78hGduybTuDBvZL3hYRERHJFmmJxUxjjCW+wqXlrGHjUhjJfpZuWA7HtacS8y4iZi/Etafg2WFYWxYcDnyGwwc45hVCZimOWY0xGzC2KjhQ2oqtwgm9AinlB2LeJDzvSN8wERGR9hQjzG5TvsetlpJOSivCrKsv45/PvsiHHzUlEdtC3z7pJV8G9OsbDDF44IBgiIMHDwqGOOSg1sW6uo44hgcNGhgMMbB/elK534F9giF69+wZDFHerVswRHGRf5UXQMhpvtllQX5+MES3svRz7p49DgiGmn0fdmV7cwy7smx4H+pnOU7HUMewo6QlFjOtxqJHCGvjdRabYzDk2Wiilo4SjNnKs8OIeRcQ8y4h5p2OZ4/B0iM4DMxuHPMRDq8RMv8kZF7FmPUYdgVHSjsytgrHrPAlF11Ow7NH+caJiIi0p+ASZ9NMrLNULl7Elm3bmXPj/OCu/TJuzCh+vuAmX+zYo47gf37+I1/soEED+e0dP/PFupd340933+aLhZwQ//e7//HFAO79319RUlwcDHdZHXUMf3/nL9I+JN912084fOihvthtP/1PThzxBV/sJ//5H0w6dZwvdvP132bG2VN8sf/49je47KIKX+zb117Jt75+uS929WUXMXf2Nb7YV2acw/e/N8sXm3r6F1lw0/d8sebeh13d3hzDz5sUk+3a+n349csv5nvfmumL7c/7sLU/ywd0L2/zn+W7f/nTVv8sn3bKyb6YjmGcjmHbHMOWkqftxVA+uEMu4q5+4QlOn35xMNwq+TZCga3Hc8K4tikXaoAQLg4edaaIKHm++32eKysms3LFy8nbJ44Zy6/vfcw3RjpOzF6CtelXGAw1YD7D8BnG7FSTlQxjKcXzRoBp+sUVMv/EMWt840REpGu46tIL2bBxE4vvvT+4a688s+Q+rpx1Hbur9n2FgQEKbS1RU4BLmALqyLcRLFBvivfqvPCqC89jxbJnkrf79e/Hkuf3/W9ZXjiPt5Y/TWlJiS8ejcZ4eMmTjBpxPA88soRbb7sTEh2iV6x6vc2TkG2h/zGn0GPwMF4Z7P/Ale2O2nQf7ievsm75E8FdspcGj5hESf8jeW3gZcFdWe24j39PzcY32bDq78Fde3T6ycN58qhfEg11neR8YXQHp669iX88uyy4S0SyzJMP/pHjT54cDO+ztBmLmVZjEaDBFFDnlGIxhIkltxAxXEJUU7pXJ4+SeQwfJv6tw/AJDm8S4nkc8zIO72LYrqRiBjJUx2sumqb/Nq6diGeP8Y0TERFpa8a6hI2LTXydR5Q6iomRT76NdOp8oWgsytDhE+g7bCR9h41k1tx5bNq8lTk3zueb37uJjzZ+zFlnngbA3Nkz6dWzBy8uXxl8GBEREZGMl5ZYzFQxQtRSTLUp8211pggv2A1Ysk7ILCVs7sMxy3DMOxizRZ2bs0YNIV7BpJQrcO2pePZY3ygREZG25BiLtfHu0I7xsBZcEyZKvEaS6bTKint226LfUlZayua1K5l19eXc8+dKKh/SyhkRERHJPmkZuUyrsZhLFi6Yx+a1K9m8diXvrVpKxfRpyX1zZ89kw5qX2Lx2JauWPs64MaOS+5YuqUzeb+GCecm4SMepwTGrwJdcPAXPHucbJSIi0h4c6yXqbQMm+VXGqHzoMYZPmJJMHj63bDnDJ0yh77CRDDp6dHJJtIiIiEi2SUssSuepqa3lgktm0nfYSFatXsOsq+N1SiqmT+Oyiyq4/a7f0XfYSKqqq5l9zRWQKAwO0HfYSBbecTeTJ53iS0iKdJwaQmYlmNTk4gQ8e7xvlIiISFtwbQiLocRWUUg9LmGsjTf184yjpn4iIiIiHSAtsZiJNRZzxU0L/ovnli0HYPkrr1FQUMC4MaMYO2ok2z/dkbya/egTTzN44ACuueKrDB44gEefeBqAW2+7k+2f7mDsqJG+xxXpOHU4rAQiyYhrx+Ph7+IlIiKyv6wx1FJMg8mnnkIiphCwWANR8jNszqKIiIhI15SWWJTMMGrE8Xy08WOeW7acQQP7sWXb9uS+des3kJ+Xx5CDB5Ofl8e69RuS+7Zs286ggf2St0U6mqEOh1eA+mTM9cbh2RG+cSIiIvvLGocIhTSYRCLRGOopUlM/ERERkQ6SlljMtBqLBo+wjRG20T1sMbDZfW163JhRrFr6OJvXxrsCVlx6TXBIm+rTqxff+NolvlhRYSGzZ8aXWaf6zjevDob43rdmBkPNxr476+vBEHOuvYqQE/LFvnL+ORQVFfpiE04eTffybr7Y2BNHcmCf3r7YyC8cy+CBA3yx444+ksMOPcQXO2LYUI4+cpgvdshBgxh+nL+L8YD+fTlxpH+WXa+ePTh5zAm+WFlpKaecPMYXy8/P54sTTvbFAE6fOD4Y4owvps8Obi7W3H0nnToOx/H/CE8cf1JGHENj6unf92MKC9xkzLUnUV4+kSv+7cvJGC28D4uLijrtfTjr6sso7+Y/Xl+//GIG9Ovri112UQWHDz3UF/vSeWcx4nj/e+nsyZOYcNJoX+y0U05m8mmn+mJjThjBjLOn+GLHHnUEF1ec54sNOXiwjqGOYZKOYVxbH8Mvzzi72WM4fuyJvlhXOobZzGAw1iOEi8GgqYoiIiIiHSctsZhpHGspoI5C6imkniJqKaI25XYdxdRSQH3WV9JJLeQNpDVpaWvWWmwzydi2jjXHWosNnPk3d9/4awxGW8eS/v3tzffcGs3dr7kYLcRbG2tJa8Z21jEMhxo4+vAaoC4Z2/7Z0bz6RrFvHM3ct7XPsTex5thm34e+m4lY+utpLtac5sZZ2/xrbG2sOcFxzT1vYzyotbHm6BjuXaw5OoZ7F2tOWx/D4O2WdKVjmK3ybJRSu4syqiigHms9Ck0dBTQEh4qIiIhIOzCUD/adcTbWV2zrWYurX3iC06dfHAzvFWM9ik0d9bYA14ST8XxbTxiXWorBtC69eGXFZFaueDl5+8QxY/n1vfFOfZlg3JhR/HzBTTzwyBL69unDCcOPZcLUCkh0iD7/nKnc86dKLru4ggceWZKsv7h0SSUrVr3OnBvnBx4x81nbB4t/Fp10BQW49gtAU0IxZJbhmBW+USIikvmuuvRCNmzcxOJ77w/u2ivPLLmPK2ddx+6qquCuVnOsRwk1xEwY14YImyh1lBCmgXzbQK0paXUDl6suPI8Vy55J3u7Xvx9Lnl/jG5Or+h9zCj0GD+OVwemzX7PZUZvuw/3kVdYtfyK4S/bS4BGTKOl/JK8NjDee7CqO+/j31Gx8kw2r/h7ctUennzycJ4/6JdFQ+gX1bFUY3cGpa2/iH88uC+4SkSzz5IN/5PiTJwfD+yyrEothG6PARKil2Hei6FiXYlNHLSV4rTyBzLTE4rgxozjztFO4acF/AbBwwTwmjh/LrLnz6Ne3DzdfP4d7/lzJrbfdydIllWzZtp2KS6+hcvEiDuzdiwlTK5g7eyaXXVTBD368kMqHOu972VdKLHZhtgCXYHLxZRzT9DMoIiKZL5MSi2FiFNo6ak0pDi75RKijBMe6FFJLnSlt9XmhEostU2Ix3bhTJlLg1gTDWc918vjX0ueD4T1SYjGdEosiksnaPbHYXtoksUiMIltLvSkiRj42kV6Mz1iMUkspNotnLC5dUsmwoUMAqK6p4fqbf5pMEC5cMI+LKs4FYO17HyRnL44bM4rbb51Pv759iEZj3H7X75KzF7ONEotdXT6e/QKWkmTEMS8TUnJRRCRrZFpiscjWUkcJGJtMLOYTIWyjmrHYRpRYTDdx3FiWHn4zHk0rqLqC09/+Dk8+vyoY3iMlFtMpsSgimaytE4sZX2MxlUseUfIosrWU2Z10s7sos7sooIEoBa1OKmaqCVMr6DtsJH2HjWTo8Am+WYdzbpyf3NeYVCRQl3HQ0aOzNqkouaAB47yKoelDpGdPxLX+hhIiIiKt0XReWEWRrSVsXUrtbgpshKgpaHVSUWRfRfLKu8zmhdRJXURE9k1aYvGycyckl0NnGoul3hRRZbpRnbJVmW40mPzgcBHJMMbGk4uY3cmYZ0fhWn9nbRERkT2x2HgbP6eEmMmjgTyiFFBtSmhASRIRERGRjpCWWMwGFoOXsnXIWm4RaRPGxgjxWiC5eAKePck3TkREZI8MxMijjiLqTRH1pgCPUHCUiIiIiLSTtMTiPQ8vbfPGLW3JwVJo6yixVZSmbCW2BmOVYhTJDjFCvIqhKbno2hFKLoqISKs4eIRtlDBu2oJnB0uBjei8UERERKQDpCUWM5mxHsW2hrCN4pkwMZo2lzBkeY1Fkdzi4jivYcyupogdgeud7BslIiKSKp8opbaaIuootjUU22qM9ZouPnu7yKMheDcRERERaQdpicVMrrEYMh5Yj1qnNGXJS9PSF12XFskyNobDagw7kyGP4bh2nG+YiIgIidmIebaeegqoMt2oMqWAoYQaSrxdhIlRb0qoMd2yvqmfiIiISDZISyxmOmsMWtki0pXEcMxrwGfJiGe/gGsz8wKHiIh0IuthgBjh+E0cooQxBupNKdWUETV5WF1uFhEREekQaYnFTK6x6BLGmhD5RHGwvs1Yi84hRbKVh2NWY3zJxeOUXBQRkVZxcYiZMGkFF0VERESkXaUlFjNZiBhhG6WAekrtbt9WQjWOUWZRJFsZPBzzGoYdyVg8uXiKb5yIiIiIiIiIZIa0xGIm11iM2RDVpluzWw2leFaXqUWym03MXPw0GfHssbj2VN8oERHJXQZLsa2h1FZRaqsoIELYupQkbpfaKkpsjbpCi4iIiHSAtMRiRjMGj+Y3a4yWv4h0CRbHvI6x25MRzx6D633RN0pERHKQMUTJJ2byiBEmRpgoeTTQdDtGGJcwqHmLiIiISLtLSyxmco1FiOcO82mg0NYFtojyiiJdhsVxXseYbcmIx1G4VslFEZFc5uFQbwqpN0V72ApUeltERESkAxjKB3fIedfqF57g9OkXB8N7pXHpSwgPm0gyehgcLC4OtZTEZy62wpUVk1m54uXk7RPHjOXX9z7mGyMdy9o+WHoHw5LjPI7B2qb3hWPeJmSe8o0REZGOcdWlF7Jh4yYW33t/cNdeeWbJfVw56zp2V1UFd3WKqy48jxXLnkne7te/H0ueX+Mbk6v6H3MKPQYP45XBM4O7stpRm+7D/eRV1i1/IrhrjyaOG8vSw2+mLq9ncFfWyvNqOXPNt3jy+VXBXXs0eMQkSvofyWsDLwvuymrHffx7aja+yYZVfw/u2qPTTx7Ok0f9kmioOLgraxVGd3Dq2pv4x7PLgrv2qMfIGfQtrA+Gu4SNO2PsXvNkMLxHPQ8dFQx1Ca617PxgRTAsGebJB//I8SdPDob3WVpisbG+YlvPWmyLxGKYGEW2jlpTAtZSQD11poQQLvk2Qi1FrV72osRi5lFiUVri2WN87w3D24QdJRdFRDqaEou5R4nFdEos+imxmE6JRb8hJ04m1O84avN6BHdltQNqP+DTje+yafU/g7v2aMrYo9heelQwnPWK6rey9Nm2zSVJ28v5xGK+rafOlGKsSwER6k0xxroUmzpqKcFr5YJoJRYzjxKL8nk8jsbaPsnbjllLyOz91UEREdl3SizmHiUW0ymx6KfEYjolFv0aE4tr+n05uCurjfjo1/uVWHzkuMVYk1adLmuV1n/CmPd/psRiFmjrxGLauzijayxaQwiLsS5gCOESIkYIF9T5T6RLc1iDw5bkbc8Ow7Vn+saIiIiIiIiISMdJSyxmshgODeRjjYM1IWKEKbY1FFFHlHCrZyuKSHYy5k0Mm5O3PXsYrp2cqLgqIiJdXci6lNgaQtYlTIwSW4PRxWUREZGsVjDgeLofdFyX3ML9jw9+u11OWmLxsnMnJJdDZxxjiJgCLAaLpZ4iquhGlelGxBQFR4tIF+SYtzBmU/K2Z4cS8yaDTft1JiIiXY0xOLgUmAj5NoKDSyF1FNrgFtElJxERkSwxeGB/jhx6UJfcepSXBr/dLieraiy2JdVYzDyqsSh7w7OHY+mfvG34gJB5AmNc3zgREWk7nV1j0WDIsxHyacDggfXACaVVxLE41FKMbWVTP9VYbJlqLKZTjUU/1VhMpxqLfqqxmE41Fv0OGz2FaP9RrD3w3OCurHbih7fxyfr32frW88FdnSq3ayyKiCQ45h0MnyRvW4bEl0XbkG+ciIh0HRZLg8mn2pRSY8qoM6VU2VKqTZlvqzElrU4qioiIiMi+S0ssiohkC8e8g2NSk4uH4DIFbJ5vnIiIdD0ehpgJgxKIIiIiIp0mLbGY0TUWAVSfW0RSGN7B8HHytmcPjicXyfeNExGRrsdYj0JbR6m3m252N6W2mnzbQNraaBERERFpF2mJxUzmWI8SqnGsF9wlIjnMMWsDycXB8YYuFPrGiYhI12GspZhawsSImgLqKCJGiALqKKQeo/YtIiIiIu0uLbGYyTUWHeNhsFryIiJpHLMWYzYmb1sGE7NnYm2Bb5yIiHQNIVwcY6k1JURMAVGTR70poo4SwsTizV1EREREpF2lJRYzmWedRFJRy1tEJJ3DuxizIXnb2kG4TMFS5BsnIiJdgImveE5b9awL0CIiIiIdJi2xmMk1FuM5RUuxraXQ1gW2iBa8iAgO7wWSiwPxvClgi33jREQku3mEACiiPj5D0Xrk2QYKbS0eDl4w4SgiIiIibS4tsZjJmpa0WMLEfFuIWDOXrEUkFzm8h5OSXPToj8tksKW+cSIikr08DHWmBINHsa2hjCoKbS2uCVFHsWYuioiIiHSAtMRiJtdYjBGm2pQ1u9WYEqxOIEUkwQSTi7Z/ouZiiW+ciIhkLxeHGlPKblPOblNOldOdOop1TigiIiLSQdISi1nBWkJ4hG182YtKLopIcwzvYVifvG3ph2unYG2Zb5yIiIiIiIiI7L20xGIm11gEyLMNlLGbEltFMfFlL6VUE1LnPxFphmM+CCQX+8YbuthuvnEiIm2rAGsPwNpBWI7AsyPx7LDgIOnili6pZPPalWxeu5KlSypb3LdwwTzfPhEREZFskZZYzGSO9SiwERoooCqx5KXalOHiUGhr1bxFRJrlmA8w5sPkbWv7JLpFd/eNExHZM4O1pVgOxNpD8exxePYkYt4kYnY6MXsxUe9qot5VxOzFxOy5xLxJuHYsrj0Dzx4RfEDpoiqmT+PNd96l77CR9B02EoDKxYt8//YdNpKFd9zN5EmnUDF9mu/+IiIiItkgLbGYyTUWHeOBgagpSK5+9nCIUgDxU33feBGRRg7rAsnF3rjemaDkoogkFWJtTyyD8eyRePYEXHsKMW8qMftlot7lRL1ridnLiHkVxOwUXDsB147AcgTWDsTaA4D84AMnGXYEQ9JFVT70GDO/fUPy9pZt2wEYN2YUgwcO4NEnngbg1tvuZPunOxg7Kp58FBEREckmaYnFTGewKd2h4xyigFVTaBH5XA7rcEhJLtKbmJ2cSASISNflYG0Zlr549lA8ezyePRnXnkHMO4+o929E7deJelcSsxcS887Btafh2jF49lgsQ7C2N7AXzZ+sC9Rg2IkxWzFmA2HzAMZsDY6U/WQwGOsRwsVgMrb29oG9e7Fh4yb69e1Dfl4e69Y3NRjbsm07gwb2840XERERyQZpicVMrrHoEsYlTImtocRWU0QdpbaKAhshSr46AIrIHhmzDocPkret7ZVo6NLDN05EsoOlIDHL8CA8exSePRHXnoprz0rMMryCqPcNYvZSYt4FuHYKrh2Pa4fj2WFYBsRnLtu84EO3zDSAqcLwKYZN8d8r5h0c53VCZiUh8wIhZykh8zKOWYXDGhzew5hNwUeS/ZRno5TaXZRRRQH1WOtRaOoooCE4tFMtXDCPstJS/vLXx4O79tqxRx3Bgpvm+mIHDx7Ez390ky/W44Du3H7rfF8sL5zHooW3+GIAv/7vHwdDzca6sr05hsbpup85zvjiBL79jSt9sbGjRnLjd2b5Ys29D7u6Sy+8gIsumO6LnX/OVK6+7CJf7IwvToAuXKTrB9f9OycMP84X+963ZjJx/Em+2De+dglnT57ki3V1//3jH9DvwD6+2E/+8z84fOihvtgPrvt33+2uprm/H83F7vivH1FashcXbbNcS39T9ufvcnPH8L9//AMcJy3V16469tn2kwXqTAm1phjPhLAWYuRR65TSYOLLoUVE9sSY9f7kIj1w7WSs7ekbJyKdx9oQ1nbD2v54diie/QKudxKuPRPXO5+Y91Wi3jXEvKsSswzPxrVfxLUn4tlj8OzBiVmGxcGHbpn1gNqUWYYf4fA+Dm8RMq8SMi8Rcp4lxPOEWIFjVuOYt3H4EMMnGLsd2A1Ego8s7cCxHoXUEzN51FMEgDEGlxBh25AxJXKWLqnkhOHHMnzCFJ5btjy4e6+9vfZ9nnl+mS/24Ucb+MfS532xHZ/t5O//fNYXi8aiPPmP9JJHTzydHvvbU88EQ13a3hzDrrxM6vU1b/Piy6/4Ym++8y7Pv7TCF2vufdjVvfLaG7zy2hu+2Kuvr2H5K6t9sdfXvO273dU8++Jy3nrnPV/sxZdX8sab7/hiy1e9xuoufiyCnvrXc2za4l+Z8K9nl/HOe+/7Ys++uP9/CzJZa/+mPPmPpVTX1ATDXVZLf1P25+9yc8fwqX89h+d1bHPjtMRiJtdYJL7gmRhh6iii3hRRbwpxCQWHiYh8LmPW45hAcpEpWNvLN05E2p6lCGt74dnGWYajcb2JuPZsYt5XiHlfI2avIWYvIWZn4NrJuHYcHiPw7GF49MNSDnvz9980AI2zDD/GmA9xzNrELMMVKbMMX0qZZfg+xnyEMZuBz4BasLHgI0sncYyHBSIU4pmmU1rPhgCbEfOFli6pZMWq15kwtSIZ27R5Kw3RKIccNCgZa1wm3RotfQh57Ml/BEM88vjfgyEefPRvwVCzMymbG9fVtfYYduG8Ipu2bGXZCn9icdfu3fzruRd9sZbeh13Z62++zdvv+hNq769bz6rV/mRjPLHUdd8k/1j6PDW1tb7Yc8uWs+3TT32x5a+8xvoNG32xrq6xdm6qvz39r2Ao7SJGV9PavykPL3kyGOrymvub0tyx2Z9j2Nz7sL2lJRYzXR7RZI3FsHUppoZC6jBd+S+8iLQLw3qMb1l090TNxd6+cSLSSjaEpTue1x/PDsOzw3G9cbj2TGLeDGLepcS8byQSh1/BtY2zDEfhcTSePQhLL2xi9lmrWDdlluE2DBswvI/Dm4TMqvgsQ5OYZWgaZxmujTd04uPELMOqxCxDnUtkG4PFsf6r8mETy4iWfnNnzyTS0MCcG/3Lnp5btpyPNn7MWWeelhzXq2cPXly+0jdOREREJBukJRYzucaig6WQesLWxVibTCjmEaOQ+njBbhGRveAYf3IRuidqLvrro4jkPFuMpQ+ePRjPHoNrR+N6pxHzzibmXUjMu5KovYaY92+4zMC1Z+Dak/H4Ap49DEt/LGXY9FOPlpkGDNUYdsSXGpsPMWYtIbOaECsJmRcDswzfwDHv4ZiPMGYLsDM+yxDNMuyKXPKIkkeRraLI1hK2LqV2d7z2tino9DmLffv04dijjmDz2pXJbdXSxxk3ZhS3LfotZaWlbF67kllXX849f66k8qHHgg8hIiIikvH24uy+8znWTdRVDOHgAZZ6U0ydLSJELK1btIhIazhmPQ5NS1ss3XCZjLV9feNEujLP9sezh+N6I+LNTbwpxLzzidlLibrXELVXEPO+hGvPwrWn4tlReByJ5SAsPbEUBh/yc7hAHcbsSnZMNryPYxK1DJ2XCZmlhHgexyzHMa/Fm6OwDoePgU/B7Abqgw8sOcRiqaeIOqeEmMmjgTyiFFBtSmhgL5rxtJM5N86n77CRvq2xzuJzy5YzfMIU+g4byaCjR3PrbXcG7y4iIiKSFdISixldYzFx4dkYg2PiSUSLSWwiIvvOmA04Tkpy0SaSiyi5KF2btb2Ieefi2hm49nQ8TsKzx+NxKJZ+WFsGZm9qGUYxyVqGjbMM38UxrzfNMjRLCZllOLyS7JjsmI8wJGoZ2ppE8lFkD0y8kV9T7e0CvL2pvSkiIiIi+yUtsZjJPOtgDOTZCPm2AY8QnoUQbkbU0tlfc2fPZMOal9i8diUb1rzE3Nkzm93XuIym0dIllcklNgsXzEvGRWTvGLsBx7ybvG1tKTF3Mtb2940T6SoshxOz52BpaiLRMg9DHcbsxLAVYzZi+ABj3kx0TH45UcvwOZxkLcPGWYYbMWzXLEMRERERkS4mLbGYyTUWPeNQbwvIJ4LBI0IBjoE8IriEO72Wzv4acvDg5LKZ2+/6HZddVEHF9GlUTJ/GZRdVcPtdv6PvsJFUVVcz+5orAKhcvAiAvsNGsvCOu5k86RQqpk8LPLKItJZhoy+5iCklZifjeUouStfieicR804HipOxeC3DTfFZhqxNmWW4jJBZimOW4bAKx6zB4d1EGYEtiY7JNaplKB0qTIxudleLW5m3k0Jbn+VnhyIiIiKZLS2xmOmiJp8qU061KcM1ITwMtZQSMXtT2ykzzfz2DcnC3evWbyASaQBg7KiRbP90R7L+zqNPPM3ggQO45oqvMnjggGQ78Vtvu5Ptn+5g7KiRKY8qInsrLblIcaLm4oCUmEh2alz67DGiKWgacMybiVqGb8dnGZqPU2YZ1qljsmQclxAuIaImj2rKqDbdqKYMlzANFBAxxeSbKPk2EryriIiIiLSRtMRiRtdYbIE12b8MOuiQgwbREI2yafNWBg3sx5Zt25P71q3fQH5eHkMOHkx+Xh7r1m9I7tuybTuDBvZL3haRfWPYiGFtSqQ40S16YEpMJLs0t/TZsAOHVzFs8Y0VyXTxUjiWeluIZxw8DJ5xiJgCwsSIkke9zSdkYpq1KCIiItJO0hKLmcbBo9BGcOIVFSm0dS1skS5z0jhuzCguPP9cnl+2gueWLQ/ublMTx58UDDHp1HHBEGd+8ZRgiCmTJgZDTD39i8FQs+PO+GL6cvtRI44Phjjs0EOCIQ45aBD5+fm+2OCBAygtKfHF+vXtwwHdy32xXj170Kd3L1+svFs3BvT3N+goKirk4MH+mmOhUIhDDznIFwM4/LBDgyGOPPywYIijjkiPHXPU4cFQq2PNPV5zr0XHsOVYc4+X+loc8zGOaUouWgpxmYK1gxlzwgiKi4qS+wBGHH8MvXr08MWOOvwwBg3wL6MecvBgDhvi/+/S78A+HHvUEb5YebduaT8XeeE8Th59gi9Ghv0sf3HCycEQE04aHQzpGCZ01DEsKTkzbelzafE2HPMahhrowj/LjTLp92GmvQ+zlbEWEzgBjF9uTsSDO0VERESkTaUlFjOtxqKxlhCx+IkjHmFizW4hYmCzf97i3NkzuWfRz7n3gYeZc+P84O42ddThh3HOlEm+2MD+/Tj/nKm+WHm3bml1G40xfHnGWb4Y0GzsS+edRUHgQ1vF9Gn07tnTF5s4fiy9e/ljxx19ZFpC4ZijDmfwQH/syMOHcsjB/g9tww4dkvbBd+iQgzns0IN9sSEHD+aIwAfQgwcPSvugOnhg/7SkRb++fTj+mCN9sQO6lzP8uKN9saKiQkZ+4VhfDOCE4ccFQ83GRn7hWMLhcFos+MF3+HFH6xi2ENvXY2j4mBO+0PT+tbaAmJ3M0ENPSXs9k04dx+gTvuCLnTpuLCeN9pcnGD/2RCac7E8SjT1xJKed4k8mjRpxHGdM9P8+HnH8MUw78zRfrLmf5UED+nfaz/J5Z52Z9r45e/IkvnCs/7/plNNPbfdjeOLI43P+GFrbi892n8bOqtSfxwaGHVrHiOP9ZUQ662fZGNPsz21zsX39WaYdfh8edugh+/z7sK3fh47jNPueay7W3PswG7nWAeNQYqspopZCW0exraHI1hEjjLWQRxSPUJdb2SIiIiKSKQzlg33nWo1JxbZeDr36hSc4ffrFwXCnubJiMitXvJy8feKYsfz63nh9w84yd/ZMzj9nKt+58Ye+mYoLF8zjhOHHMmFqhW/cPX+q5LKLK3jgkSXJ+otLl1SyYtXr7Z6UbA/W9sHSOxgWyQiW/ng2daZUAyHzBI5ZnxITySyWw4l5J6c3aDHvY6j2jZX255g1wVDWuerSC9mwcROL770/uGuvPLPkPq6cdR27q6qCu/aKgyWPBoz1kjHXhImRj8USwsOzBruHmYtXXXgeK5Y9k7zdr38/ljyf/f+92kL/Y06hx+BhvDJ4ZnBXVjtq0324n7zKuuVPBHft0cRxY1l6+M3U5fkvXmSzPK+WM9d8iyefXxXctUeDR0yipP+RvDbwsuCurHbcx7+nZuObbFj19+CuPTr95OE8edQviYaa/v5mu8LoDk5dexP/eHZZcNceDTlxMqF+x7Gm35eDu7LaiI9+zacb32XT6n8Gd+3RlLFH8chxi7Emba5X1iqt/4Qx7/+Mpc/ufS7psNFTiPYfxdoDzw3uymonfngbn6x/n61vPR/c1amefPCPHH/y5GB4n6W9izO5xmLIxsi3EUwXmJnYnNMnjueBR5akLX9+cflKevXswdzZ8RO6s848jY82fsyi3/6BjzZ+zFmJGQ9zZ8+kV88evLh8pe/+IrL/DJ/g8FZKJB+XKXjWP1tJJFM01/XZMR8llj4rqShdg4chQgH1pii5RcnDJuYoujh7TCqKiIiIyL5LSyxmNGPItxHK2E2JrSZsu8byZxJ1FXv16MGca69i89qVyW3hgnlUPvQYf3vqmeQ+gIpLrwHgtkW/pay0lM1rVzLr6su558+Vyc7SItK2jNnsTy7acKKhy5DUYSKdqtmuz0RweBPD+ykxkS7AgmNdwjYa2LrOOaKIiIhIJktLLGZajcVULiGqnW7UmDJcwhRRSzeqKKKOkHXJ5gI6zy1bzvAJU+g7bKRva1zSPOfG+clY45Lo4P0GHT06uSRaRNqHMZtxTOrMxRAxbzLWpjeKEOlo8a7P5wa6Pn9KyLyGMer6LF2MtRRTSynVFFPr2wqpw9FERREREZF2l5ZYzAYuDvWmkCrKiFBA2GugiFock8WZRRHJGobNGPNmSsAhZs/E85RclM7TtPS5qUu0YT2OWQ2Jrs8iXUkYD8e61FJCDSXEyKPKlFNniuLNW7LzNFdEREQkq6SdcWVyjUWIL3kJ4VJEHd2oIp8IDSafWlOChy5Ni0jHcNgSqLno4DIF10tdfirS/ppf+lyPY9bgmA9SYiJdjLFYY4gRwmKSC1dcGyJsXAxNDV1EREREpH2kJRYzWcjGKGM3xV4VBkstJVSbciKmCC+7vhUR6QLiNRf9XUM9TsK1M9TURTqE5XDc4NJnuz2+9JmtvrEiXZHB4hiLMQaHeDLRYFVeUURERKSDpGXjMrnGIsZQbwqpdrpTSzExE0p2/RMR6QzGbMUxa3xddj3bH9eehWtPxVLuGy/SVhqXPtvUpc/mQxzndaDWN1akK3IJ4RIGwMPB4lBqqyihBs/Eb4uIiIhI+8qqMy7POhjA6jK0iGQQw1YcswpjPoSUpXeePYaYOwPPHu8bL7I/mlv6bExi6TPrfGNFujKLod4UJ5KKUGdKqE1sdbZIF59FREREOkBaYjGTayyGcCkgoiYtIpKBYjisI8QqjNnWFDYluHZ8vFOvbVquKrIv4kufp/uXPpvtOGjps+QeB0uhrcUkLjhbIEaYGGEwqrstIiIi0hHSEosZzZComaOTRRHJUGY3Dm8kGrs0LUe1dhAxey6unQCU+u4i0hpNS58LkzFjPsRBS58lNzm4hIglUooiIiIi0hnSEouZXGPRJYxnQuTZhkQlnabNWKvzShHJGMZsxnFewTEf+eKePY6YPR/PHuOLi7QkvvT5HP/SZ+pxzBta+iw5Ld4JWhebRURERDpTWmIxk4WIEbZRCqin1O72bSVUa4m0iGQUY6MY3o/XX+TTZNzaMlx7Kq49G8/r77uPSCrL4bich2VwMmbMNox5FUPKknuRHORZAxiKTD1hGw1sscZlLiIiIiLSjtISi5lcYzFmQ1Sbbs1uNZQmTjBFRDKLYSeOWY1hLYb6ZNyzB+EyA9c7ybe8VYTUpc+2IBlzWIfDGxjqfGNFclHIeMmLzsXU+rZC6nB0WigiIiLS7tISixnNGDya36wxKr0oIhnNMR/jmFcxfOyLe4zAtRfgeUf64pKbrO1FzPq7PkMtjnk90XlcREg0atltypvdqk0Znk4MRURERNpdWmIxk2ssQrw+d5goRbaOIluHSXQFbOwIKCKS2epwzFocsxrYmYxa2x2X04h5U7Ec6LuH5I740ucZvg7ixmxNdH3e7hsrIiIiIiLS2dISixnNWoqppcirIUwUYzzAUkgdhdRjdGVaRLKE4VNCZhWOeQ9oSMYtQ4i5M3DtGCDPdx/p2pqWPucnY/Glz2swpmkJvYg0MUChjVBqqyi2NRggjEsILzhURERERNpBWmIxk2ssho1LiBh1pow6U5yIGhrIJ0QMo5NIEckyhg2EzCoMm1KCITx7AjHvAjx7eOpw6YJaXvq8WkufRT6HwVJsq8kjgsUBA9ZawraBAurVvEVERESkA6QlFjOdxeCZrHvZIiKfoxbHvB2vocfuZNTSE9eejmvPxNLbdw/pGiyHE7Pn+Zc+sw3HvObrJC4i6ULWxTGWGlNKxMSbHBljiJGPsZ6at4iIiIh0gLQMXSbXWPSsgwEKqMexHliLY10KiODh4OnCtIhkMcN2HPMKDh+AdZNxzx5GzM7Asyc292tbslTj0mdI6fpsPsAxb/i6h4tIC0x8UmL6xESLIS0oIiIiIu0gqz6hesahjiLCNkohdYRxKaEaLNSbIjC6NC0i2c5izHoc5xWM2ZISzsO1JxKzF+B5h6beQbJMfOnz9GaWPr+OYX1KTEQ+j2sdwFBMLWEbw7GWfBuhiFpihOPLo0VERESkXaWdcWVyjUWAmAlTbcqpohvVphtVphs1pgQv/VsREclahmoc3sThTYypTsat7YPLFGLeaVgO8N1HMl986fMMrB2YjBmzjZBZra7PInvJGoc6U4wF8ongEF/FEiWfiCnCataiiIiISLvLymycxWKNwcNg1QlaRLowY7bgmFWJJh5NH5ItR+LaC3C9kb7xkrmalj43dX02Zh0ObwB1vrEi0jouDrWmlN2mPLF1o94UKqUoIiIi0kHSEouZXGMRIGxdSmwNpbYquRXaOnWEFpGuy8ZwWIdjXsGYbU1hW4DHWGLeDDx7sO8ukjms7UXMO8+39NlQg2NW46CuzyL7KmRj5NsIJr3IooiIiIh0kLTEYiZzrEehrQEsMcLECOMSJs/EKLJ1zVXvFhHpMgy7cXgDh7eAmmTc0h/XnoXrTcTabr77SOdKLn1mQDIWn4Wqrs8i+80Y8m2EMnZTYqsJ25jOBUVEREQ6WFpiMZNrLDrGA2OopZh6U0S9KaLOFFFHMQ4ejlZFi0gOMGYzjvMqxmzwxT2Ojjd3scf74tI5XO/k9KXPvI/Dm0DEN1ZE9p5LiGqnGzWmDJcwRdTSjSqKqCNk3dTqESIiIiLSTtISi5mssZ6iCXR/NtbDYnT+KCI5w9gGHN4jZF7FsCNlTzGuHU/MTsfawSlx6SjW9sL1ZuAxPBlLLn02H/nGisj+c3GoN4VUUUaEAsJeA0XU4pjWnxk2ROr9txsaKAyHCJxyioiIiEhAWmIxk2ssWhwsUEQteTZK2EbJJ0o+9XjGIWRjhG2UkI1h1NRFRHLCZzjmNRzzrm8WnLUDidlzcO0pYEt895D207j02aN/MuawBQctfRZpFxZCuBRRRzeqyCdCg8mn1pTgteJcsDAcok95IR9+sDbRHjBu52efMbh3Cf26F1NSEA7cS0REREQapSUWM5mDSwiPkI1RRC3F1FJoawnhkWejFCdiBSbi654qItLVGTYSMq/g8LEv7tljiXEBnj3WF5e253rjml36bMybYLT0WaSthWyMMnZT7FVhsNRSQrUpJ2KK8FpxiltaEGZQrxL6H1DMoIEDuPyKK7n55h+y4Jaf8I1vzOKM007l4P49GNy7hB6lBcG7i4iIiEhzicVMrrEYI8xuU77HrZYSpRVFJAfVY8xaHLMaw85k1NoyXHsKrj0Hz2uaSSdto2np8xeSMWOqcXhNS59F2pMx1JtCqp3u1FJMzISa5hzu4USwMD/EgJ7FlBaFufabs/jpz/6Lii99mdFjxjBi5EimTJvG9Td+n+tvuJGe3bsxsEcRB5Q2XTRoC0uXVLJ57Uo2r13JwgXzgrtFREREskJaYlFERLKb4VMcswqH9zA0JOOeHYzLDFzvZKwt9N1H9k186fP5vqXPhs3xpc8mtfaliLQ1lxBR8n05RMd6FNk6SqhOFNBJ5ziGA8uL6NPzAL77ves4+5xzCIVCvhrexhhCoRCjRp3IT376M/oc2Ic+5YUU54d8j7WvKhcvAqDvsJEsvONuJk86hYrp04LDRERERDJeWmIxk2ssholRaqua3UpsDcY2fwIpIpKLjNmAY1ZhzCZf3GN4vHu0d6QvLnvHtY1Ln/OSMce8j2PegpSEroi0L2Mt+TZCqbebUqoI4RI1eXgtnBYW5YfpfUAJU6ZO5aSTTw7uTjP0sMP4xrXfpPcB5ZQV5aU1Edxb48aMYvDAATz6xNMA3HrbnWz/dAdjR40MDhURERHJeIbywb7TrsakYlsvh179whOcPv3iYHivxGsp+utUOcYSslFck0cdxS1cm053ZcVkVq54OXn7xDFj+fW9j/nGSMeytg+W3sGwiLQBS288BoEt98UNHxAyKzFmiy8uLbO2Fx4T8GzqLMUqjPkg0KFbxM8xa4KhrHPVpReyYeMmFt97f3DXXnlmyX1cOes6dldVBXe1igHCRMmngZCN4VmDNQ7WGOr2UBJncK8SjjviUP59zhyOOaZ19Werq6r4r5/dytP/eo4Pt1UTdb3gkFarmD6NG+Z8k1sW/orKh+Lnno0zGCsuvSYwuvP1P+YUegwexge9Jgd3ZbX+u17G/eRV1i1/IrhrjyaOG8tLQ74bDGe9ce//iCefXxUM79HgEZMo6X8k63ucGtyV1QZ/tpSajW+yYdXfg7v26PSTh/P8od8PhrPemHU/4x/PLguG92jIiZMJ9TuOj8tHB3dltSHbn+DTje+yafU/g7v2aMrYo3jmsB8Gw1nvhHW3sfTZvc8lHTZ6CtH+o9hadnxwV1YbtvVhPln/Plvfej64q1M9+eAfOf7ktvu7npZYbC9tkVhsSZ6Nn1jWms8/kUylxGLmUWJRpL0ZrD0Izx4EJnXCuofDKkJmOZhYSlyC4kufJ4Jt6hJrzCaMeR9jo76xIkFKLDbZ18Sig6XAqyPPxLBAlHyiJh8Xh3wbIWxie0wsHj2onFEnjOSGG75Pt3L/xZaWxGIx/nJ/JXf/5jes3VRFJOoGh7RaWyQWDzloEOvWb/DFDhtyCO9+sM4XO+Kwobz97nu+2FGHH8ab77zrix19xDDWvL3WF2sc1+uYLzKsR/yIOsbBs/6kqmMMXmDVUHMxYwx2X2OJf1Oj8ZhJ6eWdiDd3/xZiH9aW8PHyvyZjrT2Go087h1DU/95t/ti0NpZ+vJqLtfR9tCqW+PfzjqFn8lj2zJMc2Ls3W7ZtSxkJA/v3Y+Mn/hUQje/DA4dP5tCy+OSP5l53899zW8eae970WLPH5nNiH1QVsHnV3wAoLSkhFotRH2ma6BIOhSkpKWbX7t0p94axp56B8fznBZ/3PKmae93Nf89tHWvuef2xqFPMlvde5aON/maB/Q7sw6YtW32xnj0O4NMdnwHQ/4SzObi4ulXvw2S8mWPT2ljwdcdjzX3P+x97d4fDtjfiM9CHHTqEte9/4Bt36CEH8f669b7Y4IEDGDhkmC/W3PfRbCzxb6Yew7pwOQ2fvNni35RURw4byltr479fB40+l0EFu1t43vRYc6+51bHEvx11DN/eGmPH289CC39Tmjs2n/d3OVXqMWzU3PswSInFZoStSwF11JkSvOTb5PMpsZh5lFgU6RjWlGHtYKzt44sbduCYlTjmHV9c4lw7Hs+mXEW1Ho7zPoaNqcNEWqTEYpN9TSyGrEuRrcEx0EAeUfJxCYGh1YnFLxzcg7EnjWXeD27G7MWy5qf+/iT/9bNbefuT3dQ3dF5iceyokXz98ou47BvfScaOOfJwfvAf/+67/6AB/bnzF7cw7UuXJWPl3brxwB/uZNK5FyVjxhj++df/49SzvpSMAfzzr//H1IpLqauvT8ae+MsfuXTmt9m8tSnp9NCffsP3blrgS8j96e5f8ov/+Q0rVq1Oxn793z/m//7yKP9Y2jRr479++H2eW7achx5rmjU4b+5sPvxoI7//fw8kY9/+xpU0NES54zeLk7GvffUr9Ondkx8vvCMZ+9J5ZzH8uKO5/uafJmOTTzuVaWd+kVlzmxrk5OIxnHPtVUQiDTqGGXYMr77sIi6/tnOO4SVf/7YvgdxZx/DKSy6kd68eOoY//D7PvvgyDy95MhnTMYzL9GN40okjuerSzDqG53/167hey+cq7Z5YzOSl0A4Wx/pn0xgD+TSAtdSa0s89kUylxGLmUWJRpGNZ2xfLYCwlvrhj3sNhBcZs98VzlbW9cO0EbEqDFsxuQrwPKd23RfZEicUm+5pYBDCYeNsWGyFko2AcouQDFsd4e0wsHnfwAYwZPYabbppHXn7rOj17nsffHl/CL2+7jbc+3rVfMxbHjRnFzxfcxAOPLOHW2+6ERIfoFateZ86N84PDO8z3rr2cn93xu2BYRFrww//4Jm+/+yF/euDR4K6cNKDfgcz7zjV8/bv/GdwlIi342kUzePallax93z+rtb21dWIxrXlLJnNwKabWtxXZWoy11JvW11cUEREwZjOOeQXDet9iAM8OjTd3sSfStFggN1mOIGYrfElFwyZCrFZSUaSTWCwxwtSaEqqdciKmkDAx8mkgjEe+rcfBv1QrVX3EpWr3LrZtb/3Fk2g0ysYNG2iIuQRWOu2155Yt56ONH3PWmacBMHf2THr17MGLy1cGh3aoZSubZoKIyJ69uOI1XlrxWjCcsz7etIWXV74aDIvI53j1jbf58KNPguGsk5ZYvOfhpW0+W7GtxAiz25SnbdWmFDf9WxERkT2K4ZgPEt2jUz9kh3HtifGkmj00JZ47XDuBmDcJCAFg8HDMuzjmbUD1FEUygcXQQD7VppQqyojYMPk0UGxrcFq45LyrNsrmzZv54P33g7taVFtby6uvrqK2wcX1Wk5attZti35LWWkpm9euZNbVl3PPnyuTy6I7y7PLOjexKZJtljz1LO8Fap3muv+996FgSEQ+x8rVb9IQzf7PFdmdjbPx5TAiIrJ/DLtweD1RX7E2Gbe2DzE7JZFgO8B3n67K2l7EvPPx7HFNQbMbY15TPUWRDGaNQ8QUUUU3ainBaz6vyPbqerZt38Hf//4kW7f6mw00JxaL8dCDD/Le+x+ws7YBt6UH3gvPLVvO8AlT6DtsJIOOHp1cEi0iIiKSbdISi5edOyFZZzFT5NkGwoHZIXm2gTJ2UWZ3UmxrMZ+z5EVERFrH8AkhVmHwX4G3HEHUuwDXG+GLdzWebVz63C8Zix+T1zBa+iySHQx4xokX4m6G51q27qrnxRdf5E9//ANbNm8ODknauXMnDz7wAP/3f/eyqzZKTZ2/1reIiIhIrktLLGYagyWfBkIpLcxDuBRST5QC6inCwaXANvjuJyIi+8g04Jj3CJlXMXyasqMAj5MSs/kOSol3Da6dgGublj7HG0GsTcziVDJBpKuwwI6aCNt31/P443/jttv+m78/+SQbNmwg2tCA53ls376dF194gf+9+y7+8IfF7K6NsmVnHVG3617I/sZlXwmGpBNVTJ/Gnb+4JRjmzl/cQsX0acGwdIIbZ1/FBWdNCoZzVs8DuvPLH/1HMCwin+OiGVM5ZPCAYDjrpCUWM63GorEeJlGku1GejeKaEBFTSIPJJ2IKCRHF7G81bRERSfEZjlmNY9YCkWTU0g/Xno3rfRFry3z3yEbNLX02VOHwKoaPfWNFpGuIuZYtuyNs+qyWl5ev4K5f38n8//wB3/nOt5nz77O56cbruf2Xt/H3p5/m4+272bi9hvr96ASdDdZ91PmlHhYumMfmtSt923urluZkIq3yocc46vDDqFy8qCm2eBGjRw5n0+Y9L+HPFQsXzOu098gH6z/mg/WZ1XShM4/Hp5/t5IMM+D0in68z3yOZqjOPyYZPtrB9R/avijKUD+6QbNzqF57g9OkXB8N7FCZGoa2j1pTiJSoqFtsaYiZEhMJmx7TGlRWTWbni5eTtE8eM5df3dm7R7FxnbR8svYNhEckA1hYCg/EIXlGrJWRW4pjs7Iro2SPw7BexKdfZDJ/gmPeArp1EkI7nmDXBUNa56tIL2bBxE4vvvT+4a688s+Q+rpx1HburqoK7OkWf8kK6F+dTmB/CMYb6qEtVbZRtVREaYvpd0BEqpk/j5uvncM+fK1VzMsXSJZVs2badA3v3AmDC1IrgEBFJSP098sJLK7n91vn069uHZ198mYpLrwkOF8lZTz74R44/eXIwvM/SZixmWo1FzzoYAyEbX4bm2BgOLm7KDEbTQte/bFW5eBGrlj7OuDGjkrG5s2eyYc1LbF67Mm3f0iWVyau6CxfMS8ZFRNqKMfUYsxbHvI4xu1L2FOPa8cS887B2UEo887n2FFw7KSWp6GJoXPqsRIJILtm6q561m3azev1nvPrhDt7+eBcff1arpGIH2/7pDl54Sd2pU02YWqGkosheaPw9MvuaK3hv3YdccMlMDuzdq1Nmo4nkirTEYqaxJkTUhimklmJbQzG1uISSiUWDIUwUz4Ra7P6XLRqTh4MHDvC1HK+YPo3LLqrg9rt+R99hI6mqrmb2NVdAIgkJ0HfYSBbecTeTJ52iX5oi0m4M23F4BcP7mJSmWpYBxOy5uPYUsMW++2Sa+NLnC/DsscmYYTeOeQ3HaOmziEhnqHzoMbZs286Ms6cEd+WMiunTeG/V0rTl4MOGDmHY0CE5vTS8JZ25hDET5frxaPw9cv/v72T4cUdz34OPctLokRQUFKiEQEKuv0eao2Oy/zJ+KTQA1pJHlHyiuMYhYguxiU5/jvUoMTXUU0iUvOA9W5TJS6Hnzp7J+edM5Ts3/pDnli1n4YJ5nDD82ORVysb99/ypkssuruCBR5Ykl4wsXVLJilWvM+fG+YFHzXxaCi2SbUrw7GAsfX1RY6pxWIFj3vDFM4HnHYlrJ4Jpuq7mmE8w5j2wmpkk7UtLoZtk2lJogcu+dC733PdwMNxhKqZP48c/uI7SkhJfvLqmhutv/imVD2XGebpIo29//au88/6HLHnq2eCunFRYUMB/fu8b/MePfhHcJSItOG/Kaby86nU+7uDEd7svhc5IxhA1+dSYEuopSiYVATzjUE0ZMfJ9d+lKBg3sx5Zt25O3163fQH5eHkMOHkx+Xh7r1m9I7tuybTuDBvZL3hYRaT81OOateLLE7E5GrS3FtacS887B2v6+e3Qm156Cy2lNSUXr4pi1GN5RUlFEcl5VTW0w1KEqH3qMocMn0HfYSN82dPgEJRUlI1XX1lHdyT83maQ+EqGmk49HxfRpLF1S6SsbJpLJauvriTQ0rQLLVmmJxUyrsdgaFrBdrM5iR+nTK16zJVW/A/sEQwzo55+RBDBoQHrCoLnYwP7pic7+fQ8MhujVs0cwlHbVGqCoKN60J1V+fnpi2XHS3t4tCoVCwRCFhQXBEMXFRcEQZaWlwRDl3boFQ3QvT48d0L08GGp1rLnn6FaW3qFXx7DlWHPPoWO4d7Hybt0wbMVhFQ7rAC+5zzKYmJ2B651EjwPSf+abe33FRenfWzjUVFN3T/Lz0v8bFBUNIuZV+JY+h0JVOM5rvq7PnXkMg/Q+3LtYc8+RDcewue+ls/4uizzw2N+DIelE48aM4qWnH2Hu7JnJ2NzZM3np6UeUNEnRmUsY7/7D/Sx9MbNqgnbm8QD44S9+HQx1KJVU2LPOfo9kos48Jk/883m27/gsGM46rT9Lli7nxBFf4H8W/sgXO+KwodyzaKEv1u/APvzf7+7wxUqKi3nwT3f5YgAP3/sbQo7/A9X9v78z7cPTn+7+JQcP9jd6+P53ZzGgv/+D0pdnnM3QIQf7YuefM5Vjjz7CFzt78iRGjTjeF5ty+kQmnDzaF/vihJM544v+xPnYE0cy7cwv+mIjjj+Gc6ee4Ysdefhhab9sDh48iIsqzvXF+h7Yh8suvsAXK+/WjasuvcgXy8/P55qvfdUXA/jGlZekfYD9+uUXp32I/9pXv0zPHgf4Yl/9yoxOOYYnjT5Bx7ATj+EhB3X+MTR4GPMhjvMKww7111j0GIEJX8zQIVN98VvnX8+0M/zf883Xz+HC8/3fyw3fuZavX+4vpTF75hV871tNH7YALr/4S9w091u+2PDjvkxN3blYmhKbPbrX8G8XHIyhqQlNJhzDVHofxnXlYzjp1HH8/Ec3+WKjRw7vkL/LD/zh12l/l0UyQbDGYLBhYS7p17cPkUjE18zmhZdWEolE6Nc3/WJDrppz43zNak2R68ejYvo0hh93NBdVnOurU9pZSaNMlOvvkebomOy/7Kix2A5UYzHzqMaiSNfhcSDYg7D4Z4gZPiBkVmBM+9cR8TgV1zsmJeLimPd9sxRFOpJqLDZRjUUJGjdmFD9fcJPvvDZ4Tpxrli6pZMu27VRceg0kZtVMHD+WWXPn5eTxEBGRtpGbNRZz3IvLV9KrZ4/kUoizzjyNjzZ+zKLf/oGPNn7MWWeeBomTr149e/Di8syaki8iucdhC455BYf1iYIVcZYhxGwFrh0DNn25aFuw9I4/R0pS0bCLEP6lzyIi0uSCs04PhjqUZuilu2H+rQw95ODkrKtzpk7iloW/yumk4tzZM9mw5iU2r13JwgXzWLhgHkuXVAaHdYirv3oBE8Z27ozaysWL0rqId+bsvJvmfD0Y6nCZ9B7JBDoe6TLp52byxJPpHVh1k43SEouZVmMxZF1KbA0h6xImRomtwdgOmWSZMSofeoy/PfUMc669is1r4ydbjVcub1v0W8pKS9m8diWzrr6ce/5cqSm8IpIhYhjzAY5ZhTGfpsQNnj2BmP0ynh2WEt9/nj2amFeBtU1Lnw0f45jXwDQtfRYREb+SYn8Zi462afNWykpLfbXRZpw9hbLSUjZ1cLfMTPHcsuUMnzBFjWwSxo0ZxfnnTOX2u37Hsy/GV5795a+PQ2IJbEcrLiqmtJk6vR2lYvo0hh5yMLPmzuP1N99m4R13M2vuPN58+91OeZ8UFhRQ3InHgwx8j3Q2HY90mfZzU1RYSF5+XjCcddISixnHGBxcCkyEfBvBwaWQOgptcIvQ1Cs6u916252MPu0c39XIOTfOT55UNC6JJnDCMejo0cmlIyIimcKwC4fViQ7Mdcm4pQeuPQPXnom1PX332ReuPQXXTmz602aiOOZtHLMWUNdnEZHPs/i+h4OhDvXcsuXcsvBXnDN1kmboSbOam9Xamf77rt+z5B/PBsMdqqq6mk2bt7Jz12769unDps1b6V7erVOSRvWRCNcvuC0Y7lCZ9h7pbDoezcukn5sHH3+aT7rAxbO0xOI9Dy/lnoeXBsOdxiNEhEIc6xHCBesRNvHZi6lbiBjk2ExGEZFsYvgYh1cwZqMv7tnDiNkv4dl9W05k6ZO4f1PXZ/gssfR5U0pMREQyWeVDjzF0+ATN0EvIpOV6maDxvRCc1Zq6L5ekHo/7HnyUc6ZO4v7fxyeZ5OLxQO+RNDoe6fRz0z6yqnmLg8WxLjFCYPZvfmImN2/JVWreIpI7LD2wDMLaHr64MdsIsQJj3vfFW+LZoxKzFJv+JhizEYf3fLUdRTKBmrc0UfMWkc9XMX0aN8z5Jrcs/BVXX3YRf//ns6xbv4GvfnkG51z4teDwnDFuzChuv3V+su7mps1b1cxGfPQe8dPxkOa0e/OWTKuxmMrDEDNhMIb4/6w+N4qIZCHDDhxewzHvAg3JuLW9idkpxLxJQHfffYJceyqu/WIyqWiI4vA2Du8qqSgispemnjY+GGp348aMYtXSx6lcvIiK6dN4b9VSzdBLkUnL9TJFsO7k8AlTOi1BctGMKYw47ohgOKd9++tfDYY6XCa9RzKBjkdmmzBmJN3KSoLhrJOWWMx0IetSaqspszsps7spszspojbnGrqIiHQFho045hUMn/jiliOIel/C9Yb74iSTj1/Gs01dn+EzHOc1jNHSZxGRfXHQoP7BULtr/MBbcek1acugc305tJbrtc64MaNYuqSyU5KthwwayCGDBwbD7WrcmFG89PQjzJ09M7gLEh2AX3r6EcaN2bfyMvujZ3k5Bw8aEAxLJ6qYPo2lSyo75f2QSVq6cJUJF7EG9j+Qnt0/fzJFNkhLLGZajcVUDpYiavFwqDGlVFFGvSkhZD2KqFWNRRGRLGSowzHv4JjXMb7Ozfl4nEzMOx/PHgSNXZ/tl7G2qWyCYQMh8xpYLakUEdlXi+75v2CoQzX3Abgzk0aZYMLUCubcON+XdE1t4pgr5s6eyYY1L6V9+K9cvIj7f38nK1a93inJ1gW33c0Djz4VDLerPTXjeOGllUQikeSy14706a5dzP7+T4LhDrdwwbyMSRp1tsqHHmPLtu2+Gou5qKULV5lwEevPf1nCug0fB8NZJy2xmMmcRFfPOgpxCWGNQ9TkUW8KcfBw9q/sooiIdCLD9nhzFz4AE03GLf1w7dm43sREPcVGDTjmLRyjeooiIl1Rv759KCstDYYlh4wbM4rzz5nK7Xf9jr7DRnLXPX/mu7O+znurlnJg7170HTaSOTfOD95NclTF9GlMnnQKC++4OyOSRp2tYvo0hh93NBdVnKtEq7SrtMRiJtdYxMZ7tgT7thh9oBQR6TIcs54QqzBs9sU9jk5+bfgMx1mdNkZERLLP0iWV3H7rfIYNHcL9v78z+eH39lvnU1VdnZMJAQIz9XI1GRCcoXfrbXcSiUR4ZMlTOTl7s7kuv6lOGj2SgoICNm3eGtyVM7Z/uqPFGZ25pqWZermaaG2U+rt14YJ5LFwwj6VLKoPDZC+kJRYzmUsIzxqKbQ0F1JNHlEJbS6GtJUYYm13fjoiItKgmMRtxDZjdvj3GbMAxr2G09FlEpM1MGHNCMNRhJkytYNbceax97wMuuGSm7wNwLiaPaGamXt9hI3lkyVPcMOebOV8vLdLQwOatnZ84O+uMUxh6SLxUS0e6/a57OGfqJBYumOeLz509k1lXX87zy1Z0WnOOKy6aEQx1KC39lT1J/d367IsvA/CXvz4OiRmeHe2E44+iIC8vGM46aZm4TK6xaI2h1pQQJUzYRimw9YTxiFBEPYVYzVwUEelSDFsJ8SqGdfEGLeYtHLT0WUSkrY0ekdoQq+NVPvQYE6ZWdFpCJNMEZ+qR+PBbVV3dKfXzOlP/fgf6ZrIee9QRzLn2qk6fyXniF45hzIhjg+F21zgL7YThx/qWt1592UXMuXF+py0NH3Bg7075PRJszDF+7Ila+istau53a2c6/ujDOagLND0ylA/ukE9nq194gtOnXxwMd5orKyazckU8Qw1w4pix/Pre3J0OnAms7YOlqSGDiIhIV+KYNcFQ1rnq0gvZsHETi++9P7hrrzyz5D6unHUdu6s081ikJZWLF7Fh46Zkomju7JmcPnF8Rn2mEhHJNkuXVLJi1esMGtiPDRs3AXDC8GNzaob8kw/+keNPnhwM77O0GYsZXWNRRERERES6pMrFi3yzjHJtptGeZl7NufYqDjloUM4cD5G9pe7y0ho3zL+ViePHJn/HThw/lhvm3xocJnshLbEoIiIiIiLSkSqmT2PoIQcza+48Xn/zbRbecTez5s7jzbffzZkmAy01WlDTBZF9l8vd5SumT+PNl55m7uyZjBszilVLH2fz2pVULl4UHJpTnlu2nOETpiR/rw6fMEVlOPZTWmIxk2ssioiIiIhI2xt53FHBUIerqq5m0+at7Ny1m759+rBp81a6l3fTTCPJSOPHjODA3r2C4Zx2wdlnBEMdRt3lm9fYJXv2NVfw3roPueCSmRzYu5d+r6bozFmtRx12aDCUldISiyIiIiIiklvOOuOUYKhDNX7on3H2FO578FHOmTqJ+39/p29fVxdcCt3clktLwzPdWaefwtRJ44LhTtWZCZIhBw3grNM7r6Sausuna+ySff/v72T4cUdz34OPctLokRQUFLBpc+d3Vu9Ic2fPZMOal9J+j1YuXsT9v7+TFate75S/NRPHndglkotpzVsa6yu29azFtmje4mBxrEuMEBizx/jnUfOWzKPmLSIi0pWpeUsTNW8R2bO/P/Qn/v7PZ7n1tniCdeGCeQwa2I+KS68JDs0ZlYsXMX7sib5YdU0N19/8005JCnSWiunT+PEPrqO0pMT3/VdMn8YNc77JLQt/lVPHQ+TzjBszip8vuIkHHlnCrbfdydzZMzn/nKn07NGdTzZtycnEc7s3b8lI1uJgCROjkDpCJn67cQsTpZA6nNblFEVERERERDJWxfRpFOTn88JLK5Oxv/z18Zxewqg6nE1S63Fef/NP+fEPrksu+/3nsy/m3PGghRm/uT7Dt0LNbCBRZzMSiSR/n956251EIhEeWfJUTiYV20NaYjETayyGjUup3U2hrcXBo8RWUWp3J7dCW4dHCM8391JERERERDJVc4mA4JariYFNm7dSVlrKjLOnJGMzzp5CWWlpzi1hTKU6nOkqH3qMVavX8OyLL/Pyyld5cXlTMjpXLFwwjx//4Dquv/mnviXQjUnXhQvmBe+Ss3K5mU2qSEMDm7fm7u/StpaWWMxEMRui2nSjlmJcQtRQSrXpltyqTDdqTXGrl0GLiIiIiEiTIw47JBhqd+qC3LLnli1n1tx5TBw/NplkrZg+jXsfeDhnu5dmWh3OY48cRn5eXjDc7hYumMfmtSvZsOYl5s6emezwW3HpNTy3bDlXX3ZR8C4dZtK4McFQuxs3ZhQnDD+22eXwlQ89xvU3/5QThh/rm7WXC9TMxq9/vwN9x+HYo45gzrVXdfpFrIMG9g+GslJaYvGycyck6yxmDGPwMMRMHjWmFNeE8IjHPAwWJRRFRERERPZFOBTmaxeeFwy3O81Y/HzPLVvO8AlTkknWQUePTtZbzFUTplYw58b5vqR0Zy1lvOLC6Vx+Ucf+3FRMn8bE8WOZNXcec26cz4XnnxufsZmou/nCSyspyM/vlJ+ZYYcezBUXd+zxIDEDj8Qs3+Y0xhvH5Qo1s2mSyRexzj/rdI47clgwnHXSEovZwMEjz8YI22jKFgOrtdAiIiIiInsj5sb43vyFwXC7y+QPeyJ78u15t/LrxfcFw+2ucTl45UOPUVVdzetr3gkO6RRr3/+Qi665Lhhud3tKHO4p8diVVT70GBOmVuTsLOdssPDOxax+a20wnHXSEouZWGOxkcFQaOsotVUUUUMxtclNzVtERERERKSrmDt7JhvWvMTmtStZuGAeCxfMY+mSyuCwLk2zWv0qH3qMFateTy7pjDQ0MHH82OT3n4t1OJ9btpwVq15n4YJ5zJ0907dv7uyZLFwwjxWrXs/Z5Frj0vlc/ZmRjmEoH9wh0/xWv/AEp0+/OBjeK2FiFNla6k0RUZvH/qyAvrJiMitXvJy8feKYsfz6Xl0N7UzW9sHSOxgWERHpEhyzJhjKOlddeiEbNm5i8b33B3ftlWeW3MeVs65jd1VVcJfksLmzZzLr6svJywvz58qHAThh+LE5t2yPRN24ny+4iQceWcKoEcezYeMm/vLXx7ll3lxuv+sezeKUpNSfm+qammZrDeaCiunT+PEPrqO0pCQZy+XjQeKY3Hz9HO75c2XOl1EQvycf/CPHnzw5GN5naTMWM7LGYgqLwSW8X0lFERERERFpMqhf32CoQ40bM4rzz5nK7Xf9jmdfjF/8/8tfH4fEh+Nc069vHyKRCC+8lHsdfrPFgH6ZMSHi1tvuZNDRozOidMCIY48KhjpMc6UVOvt4ZILtn+7Q75EM1rvHAcFQVkpLLGYy1zpYDMa6wV0iIiIiIrIP8sJhrp/9tWC4QymR5teYDJlx9pRkrPHrXEqUZPJS6OuuvZJrL/9KMJyzjj78MK771hXBsHSiyoceY8u27b7fI7kok3+PfO3iGQw/5shgOOtk4VLoGgBsICdqcailGGtaN5VRS6Ezj5ZCi4hIV6al0E20FFqas3RJJStWvc6ggf3YsHET5PBSaBKzOG+/db6v+cSsufNytlaciOyd5paHoyXi/P2hP/H3fz6bXB6+cME8Bg3sl+yungvafSl0JrM4RMknSj4xwr4tvjy6dUlFERERERHJLDfMv5WJ48cyfuyJXFRxLhPHj+WG+bcGh+WM55YtZ/iEKcllncMnTFFSUURarbnl4bm+RLxi+jQK8vN9s+P/8tfHObB3r06ZsdhVpCUWM7nGootDvSlqYSugQ6ZeioiIiIhIm1MizU9doeOzNlctfZzKxYtaXM7YWUsYRST7bNq8lbLS0rQyE7nWTb2tpSUWM5q1ODS/GWtRZlFEREREZO/16F4eDHWocWNG8dLTjzB39sxkbO7smbz09COMGzPKNzYXqJlNXGOyueLSazJu9lV+Xl4wlPMGD+gfDEkn0wUKv+eWLWfW3HlMHD82eXGiYvo07n3g4U65kFVSXBQMZaW0xOI9Dy/lnoeXBsMZIWxcSu3uZrcSqnGMMovZzB4wGHvgUGzPQdjyA6H4ACgoBiccHCoiIiIibaQgP4+FN38vGO5QzTVveeGllUQikWSNwVzS3PHIdRXTp7Fq6eO+xOq4MaNYuqSyU5Ktv/jhdXzrqv3rIbA/KqZP482Xnmbu7JnJmZ2b166kcvGi4NAOcdxRh/GLm78bDEsn0gWK5gVnxw86enSy3mJHmzPzEkYc13nd1NtKWmIxk8VsiGrTzb9RRow8YuSnNXSR7OFO/E9iX/k17ox5uF9agHvRz4hdehuxK+4k9vXfEvv674h97dfELr0d9+L/wv3SLbjn/yfuOdfjTvkO7hnfxPviVXgTLsU76St4o2bgDT8L79jTsUeegh06Fu/gEdhBR2P7HobtfRB07wclPaGwFEL5wZckIiIikhMiDVEum/39YLhDNc44m31NU1fZXF6epq7QLWucddXZrv2PH/HLu/8UDHeo7Z/u4IWXVjL7mit4b92HXHDJzE6rFbf6zXc5/8o5wbB0Il2gyHw/XPhrXln9ZjCcddK6QjfWV2zrWYtt0RW6JWHrUkAttZSqK3SWil76FLbogGC4Y1kL0QbwIphoBKINWDeCiTZArAFi8a9trAHcekysIT4+FsHEohCNYN2G+PhoPXiJr2MRbKzpaxERyU3qCt1EXaGlOcEuyLneuTR4PHK9K3TF9GnMuvoybph/K7fMmwuJhj+3zJvL7Xfdk5Pvk8rFixg/9sTkz8ohBw3i/HOm8p0bf5iz7xPxW7qkkhWrXmfQwH5s2LgJgBOGH8uEqRXBoTlj4YJ5XFRxri+Wa39v2rordJdILOYRpcDWU2tK8VBiMRvZboNwJ9yMV3IgJhSGcBhr8iCcB6EwOF1oNmq0AeNGmhKRsXgSk1j8axtrgGgiWRmLjzNePIlpoxGMm5LQTCYuI/H7u/H7YlUWQEQk0yix2ESJRRHZW6mJxeeWLWfhgnlUTJ/G9k93cMvCX+VMQkBkb+gChV/F9GncfP0c7vlzZactf84E7Z5YbC9tkVgME6PQ1vlixgCeS9QUEDHF2FZ2cFFiMfN43UdjC4cFw3GhUDzJ6MQTjTYUhnAeJhTGhvLidRjD8a9NOAxOXnxMKIwJN36dB04IG87DhPIgHIrfN5R4HCcUfNbs5SZmWSZnVCZuuzFINDuy2HgC0gLJr+ObMTYZs8k4YFLGNMaJb03jPMDEx6Q+bmIc1mLxwJLYn5gt2riZ+D5s479N94v/m9gHmMS/8e8l/nX8fqZpTOK5Gl+btfieI/6tpjx2Yryl6fGMtYmvG/9NeY3xL5pev+diPA9rXfBiGM9ivaav8VwsMYzrxse7MbCJr0WkS1NisYkSi5mnID+fSENDMCySMYKJxcbYDXO+mZOJxeaOR2crLiqits7/eV0kk2Tiz01nyOnEYgiPPJu+lNQ1YaI2nMgyto4Si5nncxOLHSEUiicoQ4lEZDiMcfKw4URSMhTGhsPxpGQojHXyIBxPXsaTnk33NYn7JBOaiSQnITWikRZYi/FiWM+LJzO9GNZ64LoY68YTkp6H8RJf23gCM57IjO/DczG4WNeNP4YbH0fj/ayLTSQ+sTFw4/fBczE2kQx1E1+7LthY4jk8bMrX8fumPAeJx/C8eBI18RhNrzP+Gki8BiVRJVcpsdhEicXMUpCfzx/uuIUvXdW5jRdyfXla8ANv8LZklkU/vYm176/jF3f9Mbirw1QuXsSGjZuYc+P84K4O94VjDmfenJnMuOLbwV3SiXL992pzMunn5gffuYZHn3qGla91bJ3Fdk8sZuNS6H2hxGLm6fTEYkcwTjwZ6SSSlE58uXfj7MpkgjKxBDw+GzMPE47PtGwcY008Fr9vPMFpTPwxCeUFn1Uks3gexiaSoYnEYzIxal2sG4snWl0XiIFnE4nMGNj4TFX/zNOUWaR4YBKzWRtn3CZno6bOeA3MurWJ+e6J+8Wfx/pm6TbePz6btfH+jTNZ/Y+V9nXjbRLjE5uxFpzUGb+Jx0zcNzjrNzku5fmSs26TzxEY2zgLOXVccmz8WAaPRdPX8WPa+Bzxo5Q6Lj5DuHH2cGM8/twps4gbZxhbkxgTmBmcfI6m4x8/9o2xxsdJfe7E82URJRabKLEoQVqepsSi7J2K6dP48Q+uo7SkxBfP9aSRNMnlGb0t0c9NnBKLxD/chIzFWA8XJ94NuvWTFUGJxYyUE4nFjhKOz6iML/luXDoejic2jcFYE1+tTPzf+P8lfoiMScz+TbmdjBNPDDR+nbi/xWBIiRuTGNd4f+NrrGRS7598jsQYA3jxx4rfpen12JTnbLpv4vES4+K/0BpfS+NzNr020/g8ydfX+FCNjxG4v019DSmvNTE2/tw2PsYxWBMCx8EYB+s4YByMMcmvfZtjwIQStxMvVURazyZOYVKSl/HSCIl9lniymcS/KWUc4jnO1ORlPGkZL33QmLyMfx1PlJK+P3WcaUrm+kospIwxn71B+NkfN776rKTEorQXJdHSj0HwtsDc2TOZdfXl5OXFVwHlWjJAZG/od4i0pN0Ti+2lrRKLebaBQup8n8E9QtSZYlxa3+CjucTiXfc+lmVzH7oWJRYlpxmTSDbGk44WBxNKfO0YTCIZmUxWOg42ETNO4gJLMnlpmr5O+deaEMYh/jWh+GM6TjzR2pgMTcSaEqOJ15VIgFonnijFONiQg8GBUOprMYmvQ/GEaupraPxaJIeF//UjnLcfDIazhhKL0p4yaXlaZ2hpJk2qXE6kjRszip8vuIkHHlmSnNW6cME8Jo4fm7PNKFITrX+ufBjU8VcCGrtC5+rvVWleTicWHetRbGuImjwaTCEWcPAosPU4eNSa0j0mBvNDDsUFYUYceRCfffZpYgYCFBUVs2HLDnZUN1AfdXG9PT2StDUlFkVyhGmcrZlIlpp4IhMnkUQllEhWGnDiCdD4bNZEopPETFED1jYz07Tx0lPjrNPkpNKUsY0zUFNmypr4Dv/s1MTX8Rmq8f3x5kaB52x8LanPj0nMaG16rPiYxiFNjxEflhjTeP+U508+d+I+8RnAjftSHy8wW7jx/qmvLbGv8bUkZ90mHzNlTODxGp8/dZz/tcT/jYca75s629j/ehrHNR2XlOePP1Li+0j5Hhofo/HfLJP/vxMgWhMMZw0lFqW9tJRUy+VEmvg1N/tq3JhR3DJvLrffdU/OvUdSE62jRhzPho2b+MtfH8/Z4yHNU41FP/2tiWv3xGImL4Vu7Apda0rxmj51ELYuBdRRZ0p88aDSwjB9ygvpWV7KkEMO4ZBDDqH7AQfgui7bt23jvfffY/1HG/isOsLWXfVEom7wIaQdKbEoIiJ7LSUZGS/LkIgFk5mJrxsTt8kkaWoyMzUR2nj/QOIXEy+RkCzdkPIcTSUh4rd95SYMhN/4SeK1ZC8lFrumTGneIrInwVmtc2fP5PSJ4/f7c+a+6OzmLamJ1tnXXNHpiUU1b8k8ql3bOgsXzGPQwH5UXHpNcFe7+8F3r+HRv6t5S6u1VWKxyNZSa0pwCSXj+baePKLUUuqr45aqtCjMgB7FHFBWwr999RJGjx5Dz549KSouxvM8aqqr2bZ9G089+XcefPABdtZG2bSjlkissTZT5lq6pJJhQ4cA8OfKh7N2mrMSiyIi0pWFNv8hGMo6Six2Xfl5eTREo8GwSMZoaaZRqlybddS4zHXQwH5s2LgJOnkpdGFBAfWRSDAsnaS5Wb6SLhdnPrd1YjGt2NU9Dy9t86RiW3EJ4xKmxNZQYqspoo5SW0WBjRAlv8WkYkFeiH7lxRTnh/n+TT9gxvkXMGjwYIpLSjDGEAqF6FZezqGHDuXKq6/mqqtn0r04j17dCjN+pVXl4kUA9B02koV33M3kSadQMX1acJiIiIiISIsyIalYuXgRm9eu9G3vrVqqc1sBoPKhxxg6fAJ9h41scRs6fELOJAYAbph/KxPHj2X82BO5qOJcJo4fyw3zbw0O6zBKKmaWyoce48OPNnLS6JHBXZLipNEj6dWzRzAseyEtsZjJLFBnSqg1xXgmhLUQI49ap5QGUxAcDokVTqWFYcpLC/nGtd/khFGjcD6neUAoFOLMM89kytRp9C4voiDUNDMy04wbM4rBAwfw6BNPA3DrbXey/dMdjB2lXxwiIiIikj0qpk9j6CEHM2vuPF5/820W3nE3s+bO4823382pRJHI3nhu2XKGT5iSTKwOnzBFM9MkqWL6NE4aPZI5116lCzYJFdOn8d6qpb7jMefaq/jbU8/ob81+SMuwXXbuhORy6ExkscQIU0cR9aaIelPoWxYdFDKG8qI8jjjiCMaPb933VVpWxvgJE+h7YB96disM7s4Y/fr2IT8vj3XrNyRjW7ZtZ9DAfr5xIiIiIiKZrqq6mk2bt7Jz12769unDps1b6V7eLWc/AEu6YFJg1dLHGTdmVHBYl1UxfRpLl1Qybswo39cizWlplm+uzexN1dIxydZycpkiLbGYqQyWEP56hwaDY91EGfbmOY6huCDMMcccS/Hn1OMIOuiggznwwL6UFYWDu0REREREuoyC/HwW//JHwXCHavyQO+PsKdz34KOcM3US9/8+3mwgVz8Ai9+4MaP47qyvc9c9f04mA+594GF+vuCmTkmu3fGTG5l91f71ENhbmzZvhcQEk0xz3FGH8cBvfhEMSyeqmD6NN196mrmzZwZ35ZRMTsjfNGcmI447KhjOOmmJxUyssRgmShnV5BOs2WApNPWU2Kq0pGMjB0M47HBg377k5eUFd7fogO7dKS0rpSAv7RB1GaNHDufhP//GFzty2FD+8cj/88X69z2Q5f/8qy9WWlLCmmVP+WIA76z4F+GQPxn72nNP0OOA7r7Y80/8hUMOGuSLPfm/32REr5WENv8huT3wk7FMHLLWF/vdDcdy7vGf+GK3zTqES8ZX+2LzL+3JrGnGF/vujAJu+EqpL3bVpAZ+enV/X+wrY3aw6DvDfLEpR63nT/85whc7acAbPLrwFF/smG4v8sxd03yxQTzJK/d+yRcrr/oLbz90qS8W2vwH3nv0axRsu9cXe+P+f6N35K++2LLF5zG04F++2N/vOKPNj+E3p8YbDjRuOobxra2P4dWnR3UMdQyTW7Yew7/+XMfw845hqjO+OIHf3+n/ADZ65HAe+lP63+WnH7nXF2uPv8uS2yINDfz7TT8LhjvchKkVzLlxvm9GSWc1oZDM069vHyKRCC+8tDIZe+GllUQikU5JtM2Z9zNuu/tPwXC7em7Zclasep3bb53P7bfOZ9jQIdz/+zszYpnr6jff5d/ndV59R0lX+dBjXD37P7jw/HPZvHZlsj9DrsnkhPzPFy3mldUd2xG6PaR1hW4v+9oV2lhLCTW4ONSbYoIv1liPYmrxrEOdKYoXVUxRGA5xxKByZs/+dyZPmYppZTcW13W5ZcEPef6553j1w8+CuzPCuDGj+PmCm3jgkSXJ9vGNncFaO5W3pLiYmtpaX6y8Wzd27d7ti3Uv78bOXf5YjwO6s+OznXuMHdC9nM927vLFmnuOstJSqqqrfbHioiJq6+p8sbxwHtFY+xcYDzkhXM/1xQry84k0NPhiOoYt0zHcfzqG+0/HcP/pGO6/TD+GraWu0CLSWcaNGcXtt87nn8++mPyss3DBPCaOH8usufNyrragOv7K3qpcvIjxY0/Mue7pJH5XXFRxbjCclGvHpN27QmdajUUHD7BEKEhLKgJY49BgCggZF6eZnKFnLNGYx+bNm4kGTt4/z87PPqO6qppItPmZkJnguWXL+Wjjx5x15mkAzJ09k149e/Di8qareHsS/PACpH14AdI+vABpH1RaijX34aW55wh+AATSPgACHfIBEEj7AEjiin6QjmHLdAz3n47h/tMx3H86hvsv04+hSGcYN2YULz39SIvL9ObOnslLTz+SMUvWpHM9t2w5tyz8FedMnZScnXfO1EncsvBXOZNYy7RlnJJdNmzcBIlVDrffOr/TZrd2hjk3zqfvsJHMmjuPte99wAWXzFTdyTaUlljMNMbYxCTEZrKGCfZz9rmupS4S4403Xm/2ZL0l69evZ/OWzeyq65gPHPvqtkW/pay0lM1rVzLr6su558+V+oEQERERkYzX3NLWVJ25zFUyU7DxQq4lAzJ5SadkpnFjRrFq6eNsXruSE4Yf60um3XXPn/nurK/nVKK68qHHePSJp7n3f3/F5rUrWbhgHgsXzGPpksrgUNkLaYnFTKux6BHC2nidxeYYDHk2isU0m2D0rGVXXZR33n6Hpc88E9zdrKqqKpYufYYtW7byaVWwrmNmeW7ZcoZPmELfYSMZdPTo5JJoEREREZHWyAuHWfTT7wfDIvI5bv/R9Vx7+UXBcLvK5BqLRx9+GPfd/V/BsHSiiunTuOu2n3DvAw83W7M2Fy/ejBszivPPmcrtd/2OZ198GYC//PVxSByvjvYfs65k+LFHBsNZJy2xmGk8DA3kU2DrKaGGQluX3IpsHSW2ijyiNJgWlkpbqK6LsrOmjjsX3cHLL72E66YvR2oUjUZ54vHH+dvjj7NtVx0NsZbHioiIiIhku2gsxoL/vjsYbnepnaCbc9LokRQUFCRnaYksXDDPl0TrzETaLbf/hjt+9+dguN1l6pLONe+8y09u/99gWDpR5UOPcdTo01qcfPTcsuVMmFrRKe+XzrKnmfId7Td/up9Vr78VDGedtMRiptVYBGgwBdQ5pVgMYWLJLUQMlxDVlBKl5Y7PkZjH5s/qqIvEG7I8cH8l69d/SE1NDdZaXNdl165dvPvuWn5z91385jd3sau2gW2767HNZStFRERERLqQjZu2BEMd4va77uGcqZNYuGCeLz539kxmXX05zy9bkTP18+TzVUyfxuRJp7DwjrszIpG2acu2YKhDVT70GBOmVmTUz8crq7M/QdLVVC5elDHJ+EzQ3AWtxq874/fI9h3ptbCzUVpiMVPFCFFLMdWmzLfVmSI8s+dvo7o+xoZPa9i6o4o//OEP/PxnP+PORf/Db//3N/zvb+7mf351O7f+5Mc8+OCDbK9qYNNndTTEMrdxi4iIiIhItmusmXfC8GN9H3yvvuwi5tw4P9n9VwRg+6c7MmamUWeqmD6N91YtVbJIPlfF9GkMPeRgZs2dx+tvvs3CO+5m1tx5vPn2u52SRMsUN8y/lYnjxzJ+7IlcVHEuE8eP5Yb5t/7/9u49PKrq3B/4d81kMgmZACKXhIugYkQ5aDFEggLn4KVWoIBKbMGjQK0QWilHbGMVG2vaaE3beHKoP3LwVIFT0TLInaAWvMQoiQEicqAYIwEDEq5KZhIymcms3x+T2c6sPTO5Z3L5fp4nz0PeteeSvfds9rxrrXepm1Ez6DJyna3GYluqdrhQcb4GpScv4JOSg8jLewvW9X/HxjffxDu73sWnh79EWaUNp76pQa2TU6CJiIiIiDrC5KkpnWIUGnVe1s07cPrsuaBT53uK7Mx0PP/ME3jy2Rf8PjNPPvsCnn/mCd3oX+rZbHY7TlWewbcXqxA3cCBOVZ5B3z69e3QS2nediriERIydfHenGvnbFekSi92ds96Ni9V1OHa2GodOfItPj32DT49dwD9PXkTF+WrUOFyod3P+MxERERH1DBHGCPzxmcfVMFHYqSPzvCOMOsNIvRcz0rBo3v1quF1NTE7CuLFj8OSzL+gS79bNO/Dksy9g3NgxYVnld9TVI7Bu5QtqmMLId9rv+k3bMWPqHdiw1lNvUT1/erKJyUnIz7OG5TryeOo83HB9ghrucnSJxc5YY5GIiIiIiNqHq96F/3ltoxomCjvvVHnfkXnqT7hGt/7Paxvx17917OfGu3pvsAWNvPFwrPJ75MtjvI50QpOnpmDZ8gy/z5K6OnRPkLY0FRWHinSdEdY1K7FhbS72lhwMy3Vkw7Z/4LPDpWq4y9ElFomIiIiIqGf5vKxcDRGF3cTkJJTk79RN783Ps6KydB8qDhUhbWmqX1tHOfR5GVz1LjXcrhpLHDaWeGxv7xYUqSGisJuYnIT7ZkzFilWvIi4hEatWr8MvlyxCWUk+Bg3oj7iExLDV8z1+8ms11CXpEovducYiERERERERdQ3xcQNhs9uxcdtOLWZdsxIAEJeQiBWrXsV9M6aGZepvOBQUFmNvyUFkZ6brEqppS1ORnZmOvSUHWS+uh1NLCKiJ+Z4mPm4gHA6HtvBTVk4uHA4Htubt6pGjN9uDLrFIRERERERE1Nl4V7ldsWo1AODjon1wOBxBR/B1R97V0hfOn8uV1ElnYnISfrlkEVatXoe4hETMfigVtyaP0yWiezpHXR0qz4RnZG93pEssssYiEREREVHPIYTAb3/1MzVMFHbWzTvgqKvDLeMTAQBLFs5HWfmxsNRCU2U9/RgenjNLDXeIQLUnw1Vr0uuq4cOw5r8y1TB1MHV0XkFhMT4q3Iu4gT0n+R7I4PhB2LA2V0vEj7l+FJb9/JGwLwL16II5uP6aq9Vwl6NLLBI1x8TkJBTt3tpuPSD5eVZtuoO34Gq4PvTtITszHfl5VjWsY12zUtsPrWFds1K7eJbk72z2tBHrmpVB32/a0lQU7d7a7OdsS4H2p/qefWv1pC1NxeGi3UiZNc3v/fvub/XxbUl9v9mZ6VqtoPZ83fbkrXkUaOqF7z723ffBNGcfeI+r72tXhrn2UmsE+nuaO43Fd/+19BqSnZkecF/m51mb/X46C+ualUH/H8nOTNfaUmZNw+Gi3SHPn5bu10BSZk1DSf7OgO+rLV+HKBApJba+9b4aJuoUVq1ep43OA4CUeYu1tqWLf4JYiyUsNQW3vPMBtr7DEmJeR49XYOs776lh6iSGDY1XQz1GoES8+hOuxPzugiIc/uJLNdzl6BKLrLFIncnkqSnazcP0u27XLgrh+NB3ddmZ6Rh55QjMfigVcQmJ2P72bq33t6lS5i3W6lB0hkSiak/xPsRaLNoX84nJSRh55QjEWiza+/ROldlTvA9ZObm4frznvArG929uT2lLU/GDO/4Vy5ZnICsnt8Nety15k1je/6BnP5SKKZMmBEyItPW+LygsxtjJdyMuIRHrrFtQWnYUcQmJGDZ6PLJyctXNu4Q6pxPZL72s7c/mTm1qzv4LJD/PiimTJmjXjDkPP4p/ue5adbMuyel0YUKS//VvYnISbk0eB5utGmi4Cb1+/O1d9vwhaq79Bw+rIaJOIdRqtinzFmPs5LvDUlPwo0/24+z5C2q4R3tz+y41RGGgjs6bmzITkybcrP0erIOVOt4/vziqhrokXWKRiLqnYUPjUVZ+TLvx+k3mn7rdF+ZTlWdQ53TiyuHDAMAvcer994SkRNjs9pAJrY6WMmsa5s9Nwep11k71vpojOzMdsRYLnsrI0mIFhcV4LvsvGHnlCN68dDFpS1NhNpuxJC1du2YUFBbjodTH1E27pCqbHbcmj/PrGLllfCIcDgdsdrvftkRERERdRWcenUfdly6xyBqL1Bre6cpqT4h1zUpse+MVbWqf7zTc/Dwr1ua+qK1c5Tv10TvdLj/PioSRV2FuykytPdhr5edZse2NV1BxqCjgSKnOzHcaqTpVOcpsDrj/Qu1bX8X7DyB53E0Bpy+qxyA7Mx3WhmnTvtMfvdPx0pamYsnCBRg+bAg2rM31e84n/mOx7nEdpaCwGF+dOImkm24EAMQNHIiy8mMoKz+mxYYNjcfps+eAJo669J2CGGxaqPd5tr3xinYMFi14IOA5rTKbzXhq2aN4a9cHfole39dVj7F1zUq/9xLomHY0NXHtpSZ7vbz7bPnjS3TTTb2f+6bs+8aoU4rV60uwa09npr7vxj6vvrIz0/2uEcGm+ybddCO+OnFSdzx99b/8soD7Lti1WT2Pg12rOsKZhmuAb+fD9Ltux7GvTiDWYgECTE0O9ncFuzaHOmd921qzH4K9Jyj/n6jnARERERFRW9ElFolaKm1pKu6bMRVzHn4UcQmJ2Jq3C0sWztfavzdmNF5/cwtmP+T5cnXvD+/W2m4Zn4gnn30BS9LS0f/yfrovuZOnpqC07CjWWbdg8tSURl9r6OB4zHn4Ub8aLJ2d94u5tyeprPwYnktP09pD7b9QbV5ZOblYtjwDM6beofuSC59jkP3Sy9qX07iERBTu3Y/pd93ut21WTi5WrHoVxytOYvZDqdoUzcFxg1DrcAR9XEeoOHEKI68cgYnJSRg3dgwqTpxCxYlTGDSgPyYmJ+GKoUNQvP+A+rAmWbY8Qzs+1s07/P4+37/dZrfjV79YFPKc9ho+bAgAYOO2nWqTH+8xXpKWjrE3jMa4sWMQ1zDtd8qkCS1OTLSVQQP6o+LEKTWMgsJiOByOoAWjP/ioEIeOlGqJ35RZ0xBrsWBPsaeOkleofR+K7xTp2Q95RuH5HovGrj3hFGkyaUWl1c9scz6vvjZu24k6p9NvBO+58xd0o5eDHU9fgfZdY9fmplyrOkKtw4GPCvdq+8q7Dz8q2qts6eEdVbxi1au6nv5gf1OwczY7M137/Hqv9UsX/8Tn1Zom1L7Oz7Nib8lB7by/YuiQTnVuU+eU9vMFaoiIQvjdrx/FA7Onq+Eea0j8IKz64zNqmIhCeHjuvUi4erga7nJ0iUXWWKSWihs4UBvBVtlQy8G3tl3h3v3IyslFQWExysqP+RWQ3Zq3C9bNO2DdvAPnzl8ImoTwauy13vtwT8iRNp2N932vWLVai63ftN2vXmCo/ReqzZd3aPyKVa9i4fy5fl80vceg/HgFzp2/gPWbtgMNibqm+rryNHJWvgI0jJA0m80dnvDyJqRGX5eg/e6tvTjh5kREmkwoP16hPKppfEe/qeec799++uw5lHx2CNbNO3Cq8gxsdk/NtkBKy47CZrf7JZED8R7jU5VncP7Ct9j+9m4AQOUZz4jAcDt99lzQ885RV4fKM8GLqhfvP4Arhg7BxOQkTEjyJFrU6Rmh9n1jvKPDNqzNxfBhQ/yuL8299nQk3xqLaq3Iln5e1VG948aOwd6Sg+pmIY+nV6B919i1uanXqo7gW5P1/num4/TZc7jwzbfqZkCIBCxC/E3BztlhQ+ORMPIqbTThpAk3Y9CA/urTNirYvl78kwcRa7FgbsrMoOc9USB79n2mhogohD17D+CTffr/Q3uqk6dOo6iFnfdEPdWn/3cEx776Wg13ObrEIlFzORwOLVHjXTDB+9OexZQ78rXak3dabkfKyslFyWeHtORCd2LdvAM2ux3T77odZrMZpyrPaNNxJ99yc4vrK05MTsKKrAy89+EexCUkIvull9ssofdURhZiLZYuPV3Rd6Sor5RZ09C/X7+QydyPizzJ4Ltu/1fcmjxON6K0Nfs+OzPdbwGS0rLuUSC5NdZv2o5BA/pj0YIHgCCjZYMdz6boKtdm6+YdKCs/hod+fB8GDeivJWcD8S2h0BSNnbMf7vnEbx+pixE0VaB9ffDwEd3CP3EtWPyHep4PC/1HihNRaHm7PsQX5cfVcI/219c3qyEiCmHfZ4eb/L2mM9MlFlljkZrjlvGJWvKm8swZDI4f1CHTrTrytdqTd6qu90u375TB+++Z3uIkWCBrc1/0218tGSHTVZw+ew4jrxqh1YjzjtIaedWIZiUHfMXHDYTZHKmNvEu66UZEmkzqZi1S0LDIydgbRneKeokt4U1O+Y68TJk1Dc8/80TAEYi+CgqL8VHhXnz/tsmostl0o8Jas++HDY2HzW5HQWExUmZNw+D4QeomPY518w446uow/a7bcfrsuYBJv2DHc+vrf/XZSq+rXZuL9x/A98aMBhr2SzDF+w9g7A2jm/x3hTpnK06cwtgbRvvVQ2yJYPu6oKH8QKgp8UREREREbUWXWCRqipRZ01BWko8lCxfgza15KCgsRlZOLrbm7dJqgrVnwfiOfK324F1oAQ11uOAzas3794y8coTfCrutte2tXVg4f672/ABaVYPy46J9iDSZdIu3dAbF+w/AZIrwG/lWceIULDExutFwTWXdvAOHjpRq59wVQ4e0ae+SdfMObM3bhbkpMzvd/myKgoZahgC0c2xFVga25u1q0nm2p3gfLu/XFwcPfa42tWrfr9+0HYPjB6GydB+ef+YJ2GzBp6V3Nr41Ftv6Gnfw0Oe47tqRQUfpBTqezz/zBP737xvVTf10tWtzVk4ujnxRppUWCEb9u9SFUlShztllyzNQ8tkhrMjK0PZRUz7zkybcrG1fkr8THxftC7qv1f9PGnu/REREREQtJdDnCqkG28NnH7+NO2d5pl0RERFR+HgXEGnpFFzquR6ZNwcVJ05hzesb1KZm+SBvPX665AlU2WxqE4XJz+b/GP9v9RtqmIiCeGrpT1H65VfYsP0dtalHuvyyvnjm8VT84uk/qE1EFMTce6diz94DKP/qpNrUrt7Z9DfceOsP1HCLccQiERFRDzIxOQlTJk0IuGgLEfVc5V+dUEPUxrwzfryjiSsOFenKGbRU2tJUHC7ajZRZ02Bds7JTjxbvLsqPf40vjzfvc5OdmY78PKsa1gn3MWzq+/R1/ptvcZTXkXaRtjQVFYeK/GYutKQOdnOlzJqGkvydSJk1ze/f1HYqTp7GuQuBFw/sSnSJRdZYJCIi6p6yM9OxYW0uysqPcTEPIvKz890CNUTtwGarxpK0dMQlJGLY6PG6usItlZWTi+vH3x6yXiy1rdc356Hk4GE13KP956q/qSFqpbSlqVg4fy5WrHpVW5DtvQ/3YPXKPzcpydeSJDF1nA+L9sFm7zqlmoLRJRaJiIioe1q2PANxCYlNqntJREREROEzMTkJc+6bia15u/w6Ibz1mu+/Z7rf9kThokssrt6Sj9Vb8tUwERERERERtTHvFMO1uS9qCy4tWvAASvJ36qY9ZmemB5xKnbY0FUW7t3bI9EhqG95jtu2NV3THEwCizGbtHFAX4Qp2Hqij03x/D/V6E5OTtNeqOFSEa64eoT0HhU983ECgYZFDVcWJUxg0oD8mJiehaPdWv2Pp/T07Mx1zU2YiYeRV2vH2PdaVDQvIqTGOcKTm0iUWiYiIiIioZ5n/o1lqiNpBbGyMtiq8b7IoNjYGI64YiriERJR8dghP//IXeP3NLZj9kCdZcO8P7wZ8Rp7HJSTCunkHpt91u9/zU8d5bNGDmHrHJDXcLIPjBqHW4UBcQiIK9+73O57fGzMar7+5RTsnliycDzQkC2dMvUObUr9i1auYPzelSdNig73ec+lpsNntiEtIxJyHH8XQwfHqQxsVZTbjD08/poapFa4cPgx1TidOVZ5Rm1B55gzMZjPGXD9KbdIsW56BddYtKC07qpVeeC49DWXlx7TryLLlGSgoLMbYyXcjLiERsx9KhdlsbrP6rxTaPXffjiENCeSuTJdYZI1FIiIiIqKexWa3qyFqB741FkeOnazVRLTZqrFi1WqgYSRS+fGvkJWTi4LCYr9j4zuyaG7KTMRaLBylGCb2mkuwV9eo4Wb5uvI0cla+AgAo3n8AZrNZO56Fe/dr01/Xb9qOWIsFKbOmYdjQeGzN26WdO1k5uTh3/gImJCX6PHNggV5v8U8eBADt/CsoLMZ7H+7xe1xT1DocqG7l/iB/5ccrEGkyaSMXVVU2Gw4ePqKGg0qZNQ2xFgvWb9quNmmjYDeszcXwYUMQNzDwa1LbqrlUC0edUw13ObrEIlFTZWem64bso2EVs+zMdL8YEREREXVeb+7YpYaok5mYnIQVWRl478M9iEtIRPZLL6PO2fW/kHZVL//vBuTv0U9R7Wr6XdYXsRaLGm6R373432qIWsE7UjFQ0jjpphvx7cUqNRxSsBGQ2ZnpmDJpAmY/lIq4hESUlh31a6f28/b7H+HchW/UcJejSyyyxiI1h726GnPum8meUiIiIiKidhQfNxBmcyQqz3iSAkk33YhIk0ndjLqJkVeO0L5j3X/PdNjsdlg370DFiVOYMfUObepz2tJU9L+8H/YU70PlmTPof3k/rW3c2DF+zxnIBx8Vwma3awuBTExOwpRJE9TNKAy8o0dTZk3zG8xjXbMSY28YjfWbtqOgsBgOhwNJN90IALhlfCIu79fX51m+83HRPkSaTFi6+Cd+8WFD42Gz21FQWIyUWdMwOH6QXztRY3SJRaLmOHvuPGx2u1b3hYiIiIiIAvOtsehdOKGprJt34NCRUiz7+SOoLN2HK4YO4YjFbqzO6cTrf/0LKkv3YeSVI/BURhbgsyKw9zxasnABVq+zwrp5hzYt2tvWVCtWrcbYG0ajsnQfXv/rX3Di61PqJhQmy5ZnYMWqV7Fk4QLtujHyyhGYv/hxbTr89rd3I3ncTags3Yf5c1Ngs1Vrj99TvA+D4weh4lARbhmfiOey/6Ida+81aP2m7RgcPwiVpfvw/DNP+D2eqCkE+lwhfQPe+optPWrxs4/fxp2zHlDD1IVlZ6Zj3Ngx2P72bsyfm4Jnns+GdfMOWNesRMWJU1i2PEObshEfNxBOpwufHjyEPr1jMXlqivb4yVNT/J5vb8lBTJk0AUvS0rVek2efXIbV66zIyslFfp4VCSOvAgB8uOcTpMxbjLSlqbhvxlScOXsOSTfdCKfThRWrXtXqkhAREVHrPTJvDipOnMKa1zeoTc3yQd56/HTJE6iy2dQmCpPZ0+/Ehu3/UMNEFMTCB+9HaVk53t9TrDb1WL9Ztgi/y+Z0aKKm+sGUW7HvwGGc7eDp0O9s+htuvPUHarjFOGKRWi0rJxeHjpRqK5X5askKYxu37USd04lbxntqSUxISsS58xe0pOLekoPailVXDB2iDQsPtsoZEREREYUW06uXGiKiEHpFR6FXdJQa7rGizGbuD6Jmio6Kgimy65e00CUWWWORWiJn5Su6ZeknJifBbDZj+9u7gWasMFZQWIyvTpzU6kR4RzFOTE5CrMWCuSkzA65YFWiVM9Z+JCIiImrcmvVb1BARhfCfq9Yi790P1XCPVetw4MnMHDVMRCFs2rkbXyuL6XRFusQiUUsUFBbjo8K9mHPfTESZzUBDgelIkwnlxyvUzRu1ftN2DBrQH4sWeKbPb9y2E2ioNZL90suIS0jUfpYtz1AeTURERERERERE7U2XWJw/c7JWZ5GoOZYtz4DNbsfIq0YADQWmQ60wFmrVMuvmHXDU1WH6Xbfj9NlzKCgs1la84hRnIiIiIiIiIqLw0yUWiVpj+9u7YYmJ0X4PtcJYY6uWHTz0Oa67diTWb9quxZ7KyEKsxaKtYlVWkq8lJomIiIioZe6+baIaIqIQ5t57N266YZQa7tEeW/SgGiKiECYnj0PvWIsa7nJ0q0K3F64KTQBgXbMSAJAyb7HapKOuGk1EREThxVWhu6/F83+Elav/roaJKIgnlz6C0i/L8eb2XWpTj3R5nz5I/9ViLH36D2oTEQUx996p2FN8AOUVJ9WmdsVVoanLSpk1DaNHJaB4/wG1Scc7bXpvyUG1iYiIiIjaGJOKRM3zfM7LTCr6OH/xIpOKRM20bmNehycV24Muscgai9SWrGtWatOWV2Rl4K1dHyArJ1fdzE92Zjo2rM1FWfkxLsxCRERERERERNRJ6RKLRG0pZd7iZq/gvGx5BuISEps0XZqIiIiIiIiIiMJDl1hcvSUfq7fkq2EiIiIiIiIiIiIijS6xSERERERERERERNQYXWKRNRaJiMJHQEKoQS8pISDVKBEREREREVFY6BKLREQUHgJANGoQLasBqU8gRgkHolETPPFIRERERERE1IF0iUXWWCQiCi8j6mEUbr+YQbphknV+MSIiIiLqXgQEhJQQ7Eomoi5Cl1gkIqLwEpAwyTq/G0oTnAGnQRvghkm6YJT1uhtQ77RqId2IkC4IZRSkgIBR1sMkXTDAP5Hp2+55bgS8yTUg2HN7X182tOufn4iIiIj8CelCDOwQ0qU2ERF1SrrEImssEhGFmTDAJFwQsh4AYICECXVw+16yJWCWtbBIG6JRjRjYESOrYGx4jHdadYy7ChZZhV6ohgVVMMHpaZcSvaQNMbAjGtUNz/PdNGsh3YiBpz0GdsSiChbYtJtcAYEoeQkWafM8t7wIM74bUWmSDlikzee17TDC896IiIiIegIhJSLggkG64dc/LCWM0oUIKJ2zEjAIz+8G4dnOr026EQFPh6/KtyPZ08GrtAOIgLfD2KdVejuPAYPWoezZQkjp974DxYiIdIlFIiIKL5dnMjRMDYm6COmEhIALkd9tJAAHzLCJ3qgSfWAXsZANIxt9uUQE7Ia+qEJvuBDZMBISkEKgRsTAJvqgSvTBJfRChHTCCE/i0CRcEJCwCwuq0AcOmCHEdzehRjhhghOXRC9UoQ/qDNGIlA4YfJKHbghUi1jt/dXDqLURERERdWdm1MEiL6KXrIYFNliEHQZIGFAPC+yIQTV6yWrEogpR0gEBAYOQiJKXYIAbvaQdEeK7DuNeogYW2NBL2mGRF/3u+SLh+K4zV15ErKxCFC5p7UbUe9qlp8O4l7Rps0kMQno6kt22hvdlhxmXYIQLFthg1N6Dp1M5CrV+94RERLrEImssEhGFl4SAEyZEwAkj6mFCHZwiUj9ZWXj6ow2Q8HQeGyAaerm93DB6OpWFQD0MMMCtTan29E1LGCDhFgZI6Zs4rEc9DJAwAgJwygi4fZ7aIOs9j5cSEfAkPr3P5SWF5/YZ2msRERERdX9G1CNS1sIholCFPrAhFpdkFNwQcMOIamFBFTydw7UwI0LWQch6uCFQg15wwwA7LHAhAgBgQh2M0qU9zoVImOHQys6YpBN1Da9VbejtP6ZRSpjhgAsmVKE3bIiFEIBZ+NfudhoiPe9V9EGtNKMeEXDDgAhttoobRrjghAmSQxaJyIcusUhEROHnggmAQLSsAQA4pcmvXUDAjFpY3N8iRtoQg2pttGFTGCARI6thcV/09FyjBkKfugzKADcM8NyoRqEWkdLB5CFRDyCEgAywan1LcMQLEXVXRtRDwgAnzIDwdLbWC0+SEACk9Ew19nTuRnj6ikMk64yoh1sYG6ZCu+CGAUK6tR+jkJ7nF4AbBrh9XktAwiDr4RQmQAhIYYBTmmBQplTXN3QmezukZcP9aAScEACM0gUJwRkoRKSjSyyyxiIRUfhJAE4RCQPccMEEqXwBF7IeJrcTtYZesInesItYuITPVOlGRMAJIetRbfD0XFfDAim+u1H0Hb0YiFsY4YbBUz1RxGo/3p51IuqeYnr1gr26Wg03m81WjZhe0WqYiKh7kBJuIRpml/gzSs9U6NiGac1R7pqQSUUBT/1Eg3TBjFpEobah9ra6pF5gAtJTr9FH8Ffz54SpITHpgkk4UY8I3T0pEXU9BoMuFdgqbftsRETUZpwwwYEoOAMlDIWAMAAG6bnhNKIexmasHighIITnZtPTC+30m8ZcL4yeFaNRB4N0wwyH302pS0ZAQCJK1EJIN0zSiSh5qUk3uETUdcUNGoCTp06r4WY7eaoSQwbHqWEiou5BCBh9ys/4MsEJKQRsDZ2yNSIm5KwPCc8oxHphgt2nQ7daxKJeGD2TlENNOhEGuKXnnk8LiaYtwOKGgFsYYRae+0Gn8J9BQ0RdkzvkRaP5dInF9qqxWHb0OEZeNUINExFREBICDmGGO8DNphsCtdKMSFxCrLyIaPldge6mcMEEF0yIkXZY3N8iEk6/XnUXIuGEGWZ3DSywQwj41Vh0CwMuIRpGtxOxsCEalxr61ImoOxt1zdU4Ulqmhpvt8JEvMOqaq9UwEVG34IIJUgJmeQkGrQO2FgKAFJ4RjaIh8WiCUzei0NNp7NZWhXYJEyJQj0g4IKQbkbIOZtRCwDO12W0wwCwdMEg3IuGEyac8joQBLkQgUtbCiHpEwIlIWQcXIhrPLYqGut/SCbfwVFkkoq7t2pFXo7SsXA23ii6x2F4+LtqL8Ylj1TARETWQAGoQg0sIPD2wTphRgxjtJtApIrVVne3C04Ptfaz3ueqE2e/xdhGr9Z9fEtGoEn1gM/RFtYhBFb6byiwhUSvMsBn6okr09tR4lNIveehZcdpTeLxK9EatiNLem/peiajrizKbER0dhYtVNrWp2fYU78e4sTeoYSKibsENgUvoBSPcsPh0wEopUScjAQhYpB2x0rPqsm/pWimMqBdGRKNGWxXahQjUwgwz6hALG8yohZTeBfIAB6IhIGGBDSbUod6npI2EhANRkDAgRtoR7a6GEyY4fe4RQ/FMfzbAJU28ryPqBsaP+x72fLJfDbeKLrHYXjUW396djymTJqhhIiLqhIyyHjGoRqSsQyTqEIVLqDdE+NVhJKKe5c4pk7DzH++r4Rb5ZN+nGH1dghomIuo26oURdmHx6YA1a4unVIsYLV6DGNhELNwN91iezuFeqBJ9/GpX1yESNuHp0LWJ3qgTkdrqzPUwaK9VgxjP8/gmF4VATcNr2gx9USuitSShGyJknWwDvktuElHXN2XSLXhrd9vcz3npEovt5eDhIxg44HLEDxqoNhERUSfjFkbUSwMiZS0i3bVwIhK16KXdwBJRzzNr2l34+8ZtarjF3nk3HzPuvlMNExFRMwgIROESomUNTHAiStbAADecrUwECghEwAWzdMAl2blM1B0MiY9D3z69cfjIF2pTq+gSi+1VYxEAcl95DfPmzlbDRETUyUgAtSIadkNv2A3+05yJqOcZc/0omEwRKPnskNrUYqtWr8O8ObwvJCJqDQmJOmmGhBERcEHCiBrEoF60LrEopRtG1HumYYsodi4TdQPz56bgv199TQ23mi6x2J5efW09bpt8C4YPG6o2EREREVEn9YvUBcjKyVXDrfL5F0dx+PMvcM/0H6hNRETUDG5hQK0w4xKiUSvMDatFt5IQcMAMhzCHXLWaiLqGK4cPw6Rbbsaa1zeoTa2mSyy2V41Fr6d/9yc8/aslapiIiIiIOqH775mOc+cvYPcHH6lNrfabzD/h5488hN6xsWoTEREREbWR5Y8vwfLfZanhNqFLLLa3bW/tQtnRY3j0kflqExERERF1Itdfew0emTcHv0j7rdrUJk6fOYfns19CVsaTahMRERERtYElC+fj87KjyHvnPbWpTQj0uSIsxRK2vfEKdr1fgDc2blWbiIiIiCjMhsTHYfXKP2Ph0l+jsLhEbW5TGU89jgH9++G3f3hRbSIiIiKiFpo7exb+bVIyZs75qdrUZjp8xKLXPf++EFO/PwULHrhfbSIiIiKiMLouYSRWr/wzfvWb59o9qQgA6c/9GdU1l/Bc+hNqExERERG1wMMP/hjfv20S7nlgodrUpnQjFr31FdtrZWjVmtxs1NU5kf7cn+F2u9VmIiIiIupAs2dOxaIFD2DRfzyJPZ/sV5vb1a8f+xnunDIJT//+jzh67Cu1mYiIiIgaEWGMQMbyx2EwCCz42S/V5jZnRFQfv6I53xs1HADw6efHfcPtZvP2tzFsyGDk/OEZ1NTU4p+ff6FuQkRERETtbPSoBPz+6V/i8n6XIWXeYnxZ3jH3gr4KCotRefos/uuF3+Kyvn2w79P/g1uy45mIiIioKWbPnIoXn0/Hlh3v4De//5Pa3C50IxbDJW7QADy17FH826RkWDfvQN477+HE16fUzYiIiIiojUQYI/D92ybjnh/ehV7R0cjKycU773bMrJXG/HLJQsybOxu7P/gI29/ajYOHj6ibEBEREfV4QwfHY9pdt+G+GXfj/Q8L8Vz2X3D6zDl1s3bTaRKLXv0u64t//9E9mDn1++h/+WU4UvoljlecxLcXq1BfX69uTkRERETNYImJQXzcQFx7zVXoHWvBP94rwN83bkPx/gPqpp3Cj++bgftm3I1RCVej/HgFjh77CufOX4DT6VI3JSIiIur2jEYj+vbpjeHDhmBUwtU4e+4CNu94G6+t34xvvr2obt7udInFjq6xGIoQAjf+y3UYccUw9LusDyIiItRNiIiIiKiJpJSw2atx8utK/LO0DOfOX1A36dQSRl6Fq6+8AgP794fZHKk2ExEREXV7LpcLF765iPLjX+GzQ0cgZXjHC3bqxCIRERERERERERF1TrrEIhEREREREREREVFjDGqAiIiIiIiIiIiIqDG6xOL8mZO16dBEREREREREREREgegSi0RERERERERERESNYY1FIiIiIiIiIiIiajaOWCQiIiIiIiIiIqJm0yUWWWORiIiIiIiIiIiIGvP/AStYUeC4Yk0zAAAAAElFTkSuQmCC)"
   ]
  },
  {
   "cell_type": "markdown",
   "metadata": {
    "id": "FBVzdkkY8p09"
   },
   "source": [
    "The link for the interactive Power BI dashboard has been provided below, you can visit the github repository and checkout the Dashboard created."
   ]
  },
  {
   "cell_type": "code",
   "execution_count": null,
   "metadata": {
    "id": "6_Gdvy7hgM1P"
   },
   "outputs": [],
   "source": [
    "# URL for the dashboard created for the following project\n",
    "url = \"https://github.com/MohammadWaleed339/internship_collab_file/blob/main/Labmentix_internship_project/Flipkart_report.pbix\"\n"
   ]
  },
  {
   "cell_type": "markdown",
   "metadata": {
    "id": "1eM0tbrO0cls"
   },
   "source": [
    "# **Business Solutions  & Recommendations:**"
   ]
  },
  {
   "cell_type": "markdown",
   "metadata": {
    "id": "4sGPpbxk03Gd"
   },
   "source": [
    "1.**Improve Customer Satisfaction (CSAT) Scores**\n",
    "\n",
    "  **Issue:** Variability in CSAT scores across managers and supervisors.\n",
    "\n",
    "🔹**Solution:**\n",
    "\n",
    "* Implement weekly coaching sessions for agents with lower CSAT scores.\n",
    "* Use CSAT trend analysis to identify common customer pain points and address them.\n",
    "* Reward high-performing agents with incentives to maintain consistency in customer service.\n",
    "\n"
   ]
  },
  {
   "cell_type": "markdown",
   "metadata": {
    "id": "_BZIHvDn02zB"
   },
   "source": [
    "**2️.  Reduce Response Time for Key Queries**\n",
    "\n",
    "**Issue:** High response time for email cancellations, refunds, and shopping-related inquiries.\n",
    "\n",
    "**🔹 Solution:**\n",
    "\n",
    "* Introduce AI-powered chatbots for instant responses to FAQs.\n",
    "* Reallocate resources to high-delay categories (cancellations, refunds) to improve efficiency.\n",
    "* Establish response time SLAs(Service level agreement) for agents and supervisors to ensure timely resolutions."
   ]
  },
  {
   "cell_type": "markdown",
   "metadata": {
    "id": "5mG9csk53zHT"
   },
   "source": [
    "**3 Balance Product Sales & Improve Underperforming Categories**\n",
    "\n",
    "**Issue:** Electronics and Lifestyle dominate, while Furniture & Gift Cards lag.\n",
    "\n",
    "**🔹 Solution:**\n",
    "\n",
    "* Launch personalized promotions and discounts on underperforming categories.\n",
    "* Offer bundled deals (e.g., Furniture + Home Appliances) to increase sales.\n",
    "* Optimize category placement on the website/app to highlight less popular products."
   ]
  },
  {
   "cell_type": "markdown",
   "metadata": {
    "id": "plbpugoG3y5c"
   },
   "source": [
    "**4 Improve Managerial Efficiency & Workload Distribution**\n",
    "\n",
    "**Issue:** Uneven workload among managers affecting supervision quality.\n",
    "\n",
    "**🔹 Solution:**\n",
    "\n",
    "* Redistribute agent assignments to ensure balanced supervision.\n",
    "* Set up monthly performance reviews to track manager effectiveness.\n",
    "* Deploy a real-time monitoring dashboard to track supervisor efficiency."
   ]
  },
  {
   "cell_type": "markdown",
   "metadata": {
    "id": "AVN230ey3yro"
   },
   "source": [
    "**Final Recommendation**\n",
    "\n",
    "By enhancing customer support, optimizing pricing, and improving managerial oversight, Flipkart can boost customer satisfaction, reduce response times, and drive sales growth."
   ]
  }
 ],
 "metadata": {
  "accelerator": "GPU",
  "colab": {
   "gpuType": "T4",
   "include_colab_link": true,
   "provenance": []
  },
  "kernelspec": {
   "display_name": "Python 3 (ipykernel)",
   "language": "python",
   "name": "python3"
  },
  "language_info": {
   "codemirror_mode": {
    "name": "ipython",
    "version": 3
   },
   "file_extension": ".py",
   "mimetype": "text/x-python",
   "name": "python",
   "nbconvert_exporter": "python",
   "pygments_lexer": "ipython3",
   "version": "3.13.5"
  }
 },
 "nbformat": 4,
 "nbformat_minor": 4
}
